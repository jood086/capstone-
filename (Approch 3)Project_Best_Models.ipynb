{
 "cells": [
  {
   "cell_type": "markdown",
   "id": "072b2f7e-3174-44de-bd44-7c14bcfafe0c",
   "metadata": {},
   "source": [
    "## Imports"
   ]
  },
  {
   "cell_type": "code",
   "execution_count": 1,
   "id": "71f34ef6-75b0-477c-81c6-c676e0009472",
   "metadata": {},
   "outputs": [],
   "source": [
    "import os\n",
    "import numpy as np\n",
    "import pandas as pd\n",
    "from tqdm import tqdm\n",
    "import matplotlib.pyplot as plt\n",
    "from sklearn.model_selection import StratifiedKFold\n",
    "from tensorflow.keras.utils import to_categorical\n",
    "from tensorflow.keras.callbacks import ModelCheckpoint, EarlyStopping\n",
    "from tensorflow.keras.models import Model\n",
    "from tensorflow.keras.layers import (Input, Conv1D, MaxPooling1D, Flatten, Dense, Dropout, BatchNormalization,\n",
    "                                     Add, Activation, GlobalAveragePooling1D, LayerNormalization,\n",
    "                                     MultiHeadAttention, Dropout as KDropout,\n",
    "                                     GRU, Bidirectional)\n",
    "from tensorflow.keras.optimizers import Adam\n",
    "import tensorflow as tf"
   ]
  },
  {
   "cell_type": "markdown",
   "id": "83679068-67f2-4c79-8811-34aad53cb3dd",
   "metadata": {
    "jp-MarkdownHeadingCollapsed": true
   },
   "source": [
    "## Data Preparation : Load and Combine Data"
   ]
  },
  {
   "cell_type": "code",
   "execution_count": 3,
   "id": "9d992268-9e6d-4b93-b2d5-64cf8479c789",
   "metadata": {},
   "outputs": [],
   "source": [
    "# Configs\n",
    "DATA_PATH = 'G:/Capstone data/karsl-502'\n",
    "LABELS_PATH = 'G:/Capstone data/KARSL-502_Labels.xlsx'\n",
    "F_AVG = 30\n",
    "NUM_FOLDS = 5\n",
    "BATCH_SIZE = 32\n",
    "EPOCHS = 12"
   ]
  },
  {
   "cell_type": "code",
   "execution_count": 4,
   "id": "55b1e195-0e06-44e6-aadb-bd0e7895a5bc",
   "metadata": {},
   "outputs": [],
   "source": [
    "# Load labels\n",
    "df_labels = pd.read_excel(LABELS_PATH)\n",
    "w2id = dict(zip(df_labels['Sign-Arabic'], df_labels['SignID']))\n",
    "words = list(w2id.keys())\n",
    "label_map = {word: idx for idx, word in enumerate(words)}\n",
    "NUM_CLASSES = len(words)"
   ]
  },
  {
   "cell_type": "code",
   "execution_count": 5,
   "id": "e47b9768-8d21-45fd-aee7-e1d669e32f82",
   "metadata": {},
   "outputs": [],
   "source": [
    "def preprocess_data(data_path, signers, split, f_avg):\n",
    "    sequences = []\n",
    "    labels = []\n",
    "    for word in tqdm(words, desc=f'Loading {split} data for signers {signers}'):\n",
    "        for signer in signers:\n",
    "            word_id = w2id[word]\n",
    "            keypoints_dir = os.path.join(data_path, signer, split, str(word_id).zfill(4))\n",
    "\n",
    "            required_dirs = ['lh_keypoints', 'rh_keypoints', 'pose_keypoints']\n",
    "            if not all(os.path.exists(os.path.join(keypoints_dir, d)) for d in required_dirs):\n",
    "                continue\n",
    "\n",
    "            lh_dir = os.path.join(keypoints_dir, 'lh_keypoints')\n",
    "            for sequence in os.listdir(lh_dir):\n",
    "                try:\n",
    "                    lh = np.load(os.path.join(lh_dir, sequence))\n",
    "                    rh = np.load(os.path.join(keypoints_dir, 'rh_keypoints', sequence))\n",
    "                    pose = np.load(os.path.join(keypoints_dir, 'pose_keypoints', sequence))\n",
    "\n",
    "                    def pad_sequence(seq):\n",
    "                        if len(seq) < f_avg:\n",
    "                            pad = np.tile(seq[-1], (f_avg - len(seq), 1))\n",
    "                            return np.concatenate([seq, pad])\n",
    "                        return seq[:f_avg]\n",
    "\n",
    "                    lh = pad_sequence(lh)\n",
    "                    rh = pad_sequence(rh)\n",
    "                    pose = pad_sequence(pose)\n",
    "\n",
    "                    # Combine pose, lh, rh on last axis (features)\n",
    "                    combined = np.concatenate([pose, lh, rh], axis=-1)  # shape (f_avg, features)\n",
    "                    sequences.append(combined)\n",
    "                    labels.append(label_map[word])\n",
    "                except Exception as e:\n",
    "                    print(f\"Error loading {sequence}: {e}\")\n",
    "\n",
    "    X = np.array(sequences)\n",
    "    y = to_categorical(labels, num_classes=NUM_CLASSES)\n",
    "\n",
    "    return X, y"
   ]
  },
  {
   "cell_type": "code",
   "execution_count": 6,
   "id": "79610831-2d76-4b76-97bf-7aa7a856087c",
   "metadata": {},
   "outputs": [
    {
     "name": "stderr",
     "output_type": "stream",
     "text": [
      "Loading train data for signers ['01', '02', '03']: 100%|█████████████████████████████| 502/502 [22:47<00:00,  2.72s/it]\n",
      "Loading test data for signers ['01', '02', '03']: 100%|██████████████████████████████| 502/502 [04:23<00:00,  1.90it/s]\n"
     ]
    },
    {
     "name": "stdout",
     "output_type": "stream",
     "text": [
      "Shapes:\n",
      "X_train: (58529, 30, 225) y_train: (58529, 502)\n",
      "X_test: (11110, 30, 225) y_test: (11110, 502)\n"
     ]
    }
   ],
   "source": [
    "# Load train and test data\n",
    "X_train, y_train = preprocess_data(DATA_PATH, ['01', '02','03'], 'train', F_AVG)\n",
    "X_test, y_test = preprocess_data(DATA_PATH, ['01', '02','03'], 'test', F_AVG)\n",
    "\n",
    "print(\"Shapes:\")\n",
    "print(\"X_train:\", X_train.shape, \"y_train:\", y_train.shape)\n",
    "print(\"X_test:\", X_test.shape, \"y_test:\", y_test.shape)"
   ]
  },
  {
   "cell_type": "markdown",
   "id": "32eb963e-7470-4014-ac77-e176fe62c7f6",
   "metadata": {
    "jp-MarkdownHeadingCollapsed": true
   },
   "source": [
    "## Data Augmentation "
   ]
  },
  {
   "cell_type": "code",
   "execution_count": 8,
   "id": "6ee93d9d-f69d-42df-9c0b-7187984f044b",
   "metadata": {},
   "outputs": [
    {
     "data": {
      "text/plain": [
       "'\\nExplanation:\\n Data augmentation artificially increases training data diversity by applying random\\n transformations or noise. Here, adding noise helps model learn robustness against slight variations.\\n Since your data are numerical sequences (keypoints), noise injection is an appropriate simple augmentation.\\n More complex augmentations like temporal warping or jittering could be considered for further improvement.\\n'"
      ]
     },
     "execution_count": 8,
     "metadata": {},
     "output_type": "execute_result"
    }
   ],
   "source": [
    "'''\n",
    "Explanation:\n",
    " Data augmentation artificially increases training data diversity by applying random\n",
    " transformations or noise. Here, adding noise helps model learn robustness against slight variations.\n",
    " Since your data are numerical sequences (keypoints), noise injection is an appropriate simple augmentation.\n",
    " More complex augmentations like temporal warping or jittering could be considered for further improvement.\n",
    "'''"
   ]
  },
  {
   "cell_type": "code",
   "execution_count": 9,
   "id": "af433b74-edca-441c-b3ee-e7c82cd66c50",
   "metadata": {},
   "outputs": [],
   "source": [
    "def augment_data(X, noise_level=0.01):\n",
    "    \"\"\"\n",
    "    Adds Gaussian noise to training data to improve model generalization by\n",
    "    simulating small variations and reducing overfitting.\n",
    "    \"\"\"\n",
    "    noise = noise_level * np.random.randn(*X.shape)\n",
    "    return X + noise"
   ]
  },
  {
   "cell_type": "markdown",
   "id": "6f98ed4c-64bf-4ffc-858c-bf64d41de90a",
   "metadata": {},
   "source": [
    "## Models"
   ]
  },
  {
   "cell_type": "markdown",
   "id": "9ab61e69-d882-4ffb-a865-3c6d0c9074f7",
   "metadata": {},
   "source": [
    "### CNN model"
   ]
  },
  {
   "cell_type": "code",
   "execution_count": 12,
   "id": "de3f8276-ed25-4782-a3b7-deba9b2fa841",
   "metadata": {},
   "outputs": [],
   "source": [
    "def build_cnn_model(input_shape, num_classes):\n",
    "    \"\"\"\n",
    "    CNN model for sequence classification:\n",
    "    - Two Conv1D layers with Batch Normalization and ReLU activations.\n",
    "    - MaxPooling layers to reduce temporal dimension.\n",
    "    - Dense layer with BatchNorm and Dropout before final classification.\n",
    "    \"\"\"\n",
    "    inputs = Input(shape=input_shape)\n",
    "    x = Conv1D(64, 3, padding='same')(inputs)\n",
    "    x = BatchNormalization()(x)\n",
    "    x = Activation('relu')(x)\n",
    "    x = MaxPooling1D(2)(x)\n",
    "    \n",
    "    x = Conv1D(128, 3, padding='same')(x)\n",
    "    x = BatchNormalization()(x)\n",
    "    x = Activation('relu')(x)\n",
    "    x = MaxPooling1D(2)(x)\n",
    "    \n",
    "    x = Flatten()(x)\n",
    "    x = Dense(256)(x)\n",
    "    x = BatchNormalization()(x)\n",
    "    x = Activation('relu')(x)\n",
    "    x = Dropout(0.4)(x)  # Slightly increased dropout\n",
    "    \n",
    "    outputs = Dense(num_classes, activation='softmax')(x)\n",
    "    model = Model(inputs, outputs, name='CNN')\n",
    "    model.compile(optimizer=Adam(learning_rate=1e-3), loss='categorical_crossentropy', metrics=['accuracy'])\n",
    "    return model"
   ]
  },
  {
   "cell_type": "markdown",
   "id": "f623fc41-ad03-4042-b347-9f4c3deaedb6",
   "metadata": {},
   "source": [
    "### ViT model"
   ]
  },
  {
   "cell_type": "code",
   "execution_count": 14,
   "id": "178fab10-ea0c-4cbc-b1dc-ed814c3fd1e2",
   "metadata": {},
   "outputs": [],
   "source": [
    "# (Patch embedding + transformer encoder)"
   ]
  },
  {
   "cell_type": "code",
   "execution_count": 15,
   "id": "b72486a6-abff-4627-be0a-c20941f892c3",
   "metadata": {},
   "outputs": [],
   "source": [
    "class TransformerBlock(tf.keras.layers.Layer):\n",
    "    def __init__(self, embed_dim, num_heads, ff_dim, rate=0.1):\n",
    "        super(TransformerBlock, self).__init__()\n",
    "        self.layernorm1 = LayerNormalization(epsilon=1e-6)\n",
    "        self.att = MultiHeadAttention(num_heads=num_heads, key_dim=embed_dim)\n",
    "        self.dropout1 = KDropout(rate)\n",
    "        \n",
    "        self.layernorm2 = LayerNormalization(epsilon=1e-6)\n",
    "        self.ffn = tf.keras.Sequential([\n",
    "            Dense(ff_dim, activation='relu'),\n",
    "            Dense(embed_dim),\n",
    "        ])\n",
    "        self.dropout2 = KDropout(rate)\n",
    "        \n",
    "    def call(self, inputs, training=False):\n",
    "        # PreNorm style\n",
    "        x_norm = self.layernorm1(inputs)\n",
    "        attn_output = self.att(x_norm, x_norm)\n",
    "        attn_output = self.dropout1(attn_output, training=training)\n",
    "        out1 = inputs + attn_output\n",
    "        \n",
    "        out_norm = self.layernorm2(out1)\n",
    "        ffn_output = self.ffn(out_norm)\n",
    "        ffn_output = self.dropout2(ffn_output, training=training)\n",
    "        return out1 + ffn_output\n",
    "\n",
    "class PatchEmbedding(tf.keras.layers.Layer):\n",
    "    def __init__(self, num_patches, embed_dim):\n",
    "        super(PatchEmbedding, self).__init__()\n",
    "        self.projection = Dense(embed_dim)\n",
    "        self.position_embedding = self.add_weight(name=\"pos_embed\", shape=(1, num_patches, embed_dim))\n",
    "    def call(self, patch):\n",
    "        x = self.projection(patch)\n",
    "        return x + self.position_embedding"
   ]
  },
  {
   "cell_type": "code",
   "execution_count": 16,
   "id": "4a2f2c19-3bc9-41b7-a297-38a1f6c11e5f",
   "metadata": {},
   "outputs": [],
   "source": [
    "def build_vit_model(input_shape, num_classes, embed_dim=96, num_heads=6, ff_dim=192, num_layers=3, dropout=0.15):\n",
    "    \"\"\"\n",
    "    (ViT) model for sequence classification:\n",
    "    - Patch embedding with dense projection and learned positional embeddings.\n",
    "    - Multiple Transformer blocks with Multi-Head Attention and Feed-Forward layers.\n",
    "    - Pre-LayerNorm before attention and feed-forward sublayers.\n",
    "    - Global average pooling followed by dropout and final classification layer.\n",
    "    \"\"\"\n",
    "    inputs = Input(shape=input_shape)\n",
    "    x = PatchEmbedding(input_shape[0], embed_dim)(inputs)\n",
    "    for _ in range(num_layers):\n",
    "        x = TransformerBlock(embed_dim, num_heads, ff_dim, dropout)(x)\n",
    "    x = GlobalAveragePooling1D()(x)\n",
    "    x = KDropout(dropout)(x)\n",
    "    outputs = Dense(num_classes, activation='softmax')(x)\n",
    "    model = Model(inputs, outputs, name='ViT_Enhanced')\n",
    "    model.compile(optimizer=Adam(learning_rate=1e-4), loss='categorical_crossentropy', metrics=['accuracy'])\n",
    "    return model"
   ]
  },
  {
   "cell_type": "markdown",
   "id": "69b47af3-ffa4-48f3-afb3-18987f3b70e6",
   "metadata": {},
   "source": [
    "### GRU model"
   ]
  },
  {
   "cell_type": "code",
   "execution_count": 18,
   "id": "adf1160e-3ee8-4b24-a39c-91b1280980c9",
   "metadata": {},
   "outputs": [],
   "source": [
    "def build_gru_model(input_shape, num_classes):\n",
    "    \"\"\"\n",
    "    Three-layer GRU model for sequence classification:\n",
    "    - Three GRU layers with dropout for temporal feature extraction.\n",
    "    - Final Dense softmax layer for classification.\n",
    "    \"\"\"\n",
    "    inputs = Input(shape=input_shape)\n",
    "    x = GRU(128, return_sequences=True)(inputs)\n",
    "    x = Dropout(0.3)(x)\n",
    "    x = GRU(128, return_sequences=True)(x)\n",
    "    x = Dropout(0.3)(x)\n",
    "    x = GRU(128)(x)\n",
    "    x = Dropout(0.4)(x)\n",
    "    outputs = Dense(num_classes, activation='softmax')(x)\n",
    "    model = Model(inputs, outputs, name='GRU_3Layer')\n",
    "    model.compile(optimizer=Adam(learning_rate=1e-3), loss='categorical_crossentropy', metrics=['accuracy'])\n",
    "    return model"
   ]
  },
  {
   "cell_type": "markdown",
   "id": "03c17cc7-6bdb-42f6-b44a-b307c7be491f",
   "metadata": {},
   "source": [
    "## Training and evaluation"
   ]
  },
  {
   "cell_type": "code",
   "execution_count": 20,
   "id": "8e48adcb-d60c-4015-8418-480d5323e4be",
   "metadata": {},
   "outputs": [],
   "source": [
    "def train_and_evaluate_model(model_name, X_train, y_train, X_test, y_test, NUM_FOLDS=5, EPOCHS=10, BATCH_SIZE=32):\n",
    "    builders = {\n",
    "        'CNN': build_cnn_model,\n",
    "        'ViT': build_vit_model,\n",
    "        'GRU': build_gru_model  # Replaced BiT with GRU here\n",
    "    }\n",
    "    build_fn = builders[model_name]\n",
    "\n",
    "    input_shape = X_train.shape[1:]\n",
    "    y_int = np.argmax(y_train, axis=1)\n",
    "\n",
    "    results = {k: [] for k in ['train_acc', 'val_acc', 'test_acc', 'train_loss', 'val_loss', 'test_loss']}\n",
    "    best_test_acc = 0\n",
    "    best_model_path = None\n",
    "\n",
    "    skf = StratifiedKFold(n_splits=NUM_FOLDS, shuffle=True, random_state=42)\n",
    "    fold_num = 1\n",
    "\n",
    "    for train_idx, val_idx in skf.split(X_train, y_int):\n",
    "        print(f\"\\nTraining fold {fold_num} / {NUM_FOLDS} for {model_name}\")\n",
    "        X_tr, X_val = X_train[train_idx], X_train[val_idx]\n",
    "        y_tr, y_val = y_train[train_idx], y_train[val_idx]\n",
    "\n",
    "        # Data augmentation on training only\n",
    "        X_tr_aug = augment_data(X_tr)\n",
    "\n",
    "        model = build_fn(input_shape, y_train.shape[1])\n",
    "        if fold_num == 1:\n",
    "            model.summary()\n",
    "\n",
    "        checkpoint_path = f\"{model_name}_fold{fold_num}.h5\"\n",
    "        checkpoint = ModelCheckpoint(checkpoint_path, monitor='val_accuracy', save_best_only=True, verbose=1)\n",
    "        early_stop = EarlyStopping(monitor='val_accuracy', patience=3, restore_best_weights=True)\n",
    "\n",
    "        history = model.fit(\n",
    "            X_tr_aug, y_tr,\n",
    "            validation_data=(X_val, y_val),\n",
    "            epochs=EPOCHS,\n",
    "            batch_size=BATCH_SIZE,\n",
    "            callbacks=[checkpoint, early_stop],\n",
    "            verbose=2\n",
    "        )\n",
    "\n",
    "        train_loss, train_acc = model.evaluate(X_tr, y_tr, verbose=0)\n",
    "        val_loss, val_acc = model.evaluate(X_val, y_val, verbose=0)\n",
    "        test_loss, test_acc = model.evaluate(X_test, y_test, verbose=0)\n",
    "\n",
    "        print(f\"Fold {fold_num} results: train_acc={train_acc:.4f}, val_acc={val_acc:.4f}, test_acc={test_acc:.4f}\")\n",
    "\n",
    "        results['train_acc'].append(train_acc)\n",
    "        results['val_acc'].append(val_acc)\n",
    "        results['test_acc'].append(test_acc)\n",
    "        results['train_loss'].append(train_loss)\n",
    "        results['val_loss'].append(val_loss)\n",
    "        results['test_loss'].append(test_loss)\n",
    "\n",
    "        if val_acc > best_test_acc:\n",
    "            best_test_acc = test_acc\n",
    "            best_model_path = checkpoint_path\n",
    "\n",
    "        fold_num += 1\n",
    "\n",
    "    print(f\"\\nBest Test accuracy: {best_test_acc:.4f} from model: {best_model_path}\")\n",
    "\n",
    "    return results, best_model_path"
   ]
  },
  {
   "cell_type": "markdown",
   "id": "dcf04b43-5e60-4078-a8c0-71cc3045b9f6",
   "metadata": {},
   "source": [
    "### Train CNN"
   ]
  },
  {
   "cell_type": "code",
   "execution_count": 21,
   "id": "5d471e7b-8573-426d-a556-8703cc239ac7",
   "metadata": {
    "scrolled": true
   },
   "outputs": [
    {
     "name": "stdout",
     "output_type": "stream",
     "text": [
      "\n",
      "Training fold 1 / 5 for CNN\n"
     ]
    },
    {
     "data": {
      "text/html": [
       "<pre style=\"white-space:pre;overflow-x:auto;line-height:normal;font-family:Menlo,'DejaVu Sans Mono',consolas,'Courier New',monospace\"><span style=\"font-weight: bold\">Model: \"CNN\"</span>\n",
       "</pre>\n"
      ],
      "text/plain": [
       "\u001b[1mModel: \"CNN\"\u001b[0m\n"
      ]
     },
     "metadata": {},
     "output_type": "display_data"
    },
    {
     "data": {
      "text/html": [
       "<pre style=\"white-space:pre;overflow-x:auto;line-height:normal;font-family:Menlo,'DejaVu Sans Mono',consolas,'Courier New',monospace\">┏━━━━━━━━━━━━━━━━━━━━━━━━━━━━━━━━━━━━━━┳━━━━━━━━━━━━━━━━━━━━━━━━━━━━━┳━━━━━━━━━━━━━━━━━┓\n",
       "┃<span style=\"font-weight: bold\"> Layer (type)                         </span>┃<span style=\"font-weight: bold\"> Output Shape                </span>┃<span style=\"font-weight: bold\">         Param # </span>┃\n",
       "┡━━━━━━━━━━━━━━━━━━━━━━━━━━━━━━━━━━━━━━╇━━━━━━━━━━━━━━━━━━━━━━━━━━━━━╇━━━━━━━━━━━━━━━━━┩\n",
       "│ input_layer (<span style=\"color: #0087ff; text-decoration-color: #0087ff\">InputLayer</span>)             │ (<span style=\"color: #00d7ff; text-decoration-color: #00d7ff\">None</span>, <span style=\"color: #00af00; text-decoration-color: #00af00\">30</span>, <span style=\"color: #00af00; text-decoration-color: #00af00\">225</span>)             │               <span style=\"color: #00af00; text-decoration-color: #00af00\">0</span> │\n",
       "├──────────────────────────────────────┼─────────────────────────────┼─────────────────┤\n",
       "│ conv1d (<span style=\"color: #0087ff; text-decoration-color: #0087ff\">Conv1D</span>)                      │ (<span style=\"color: #00d7ff; text-decoration-color: #00d7ff\">None</span>, <span style=\"color: #00af00; text-decoration-color: #00af00\">30</span>, <span style=\"color: #00af00; text-decoration-color: #00af00\">64</span>)              │          <span style=\"color: #00af00; text-decoration-color: #00af00\">43,264</span> │\n",
       "├──────────────────────────────────────┼─────────────────────────────┼─────────────────┤\n",
       "│ batch_normalization                  │ (<span style=\"color: #00d7ff; text-decoration-color: #00d7ff\">None</span>, <span style=\"color: #00af00; text-decoration-color: #00af00\">30</span>, <span style=\"color: #00af00; text-decoration-color: #00af00\">64</span>)              │             <span style=\"color: #00af00; text-decoration-color: #00af00\">256</span> │\n",
       "│ (<span style=\"color: #0087ff; text-decoration-color: #0087ff\">BatchNormalization</span>)                 │                             │                 │\n",
       "├──────────────────────────────────────┼─────────────────────────────┼─────────────────┤\n",
       "│ activation (<span style=\"color: #0087ff; text-decoration-color: #0087ff\">Activation</span>)              │ (<span style=\"color: #00d7ff; text-decoration-color: #00d7ff\">None</span>, <span style=\"color: #00af00; text-decoration-color: #00af00\">30</span>, <span style=\"color: #00af00; text-decoration-color: #00af00\">64</span>)              │               <span style=\"color: #00af00; text-decoration-color: #00af00\">0</span> │\n",
       "├──────────────────────────────────────┼─────────────────────────────┼─────────────────┤\n",
       "│ max_pooling1d (<span style=\"color: #0087ff; text-decoration-color: #0087ff\">MaxPooling1D</span>)         │ (<span style=\"color: #00d7ff; text-decoration-color: #00d7ff\">None</span>, <span style=\"color: #00af00; text-decoration-color: #00af00\">15</span>, <span style=\"color: #00af00; text-decoration-color: #00af00\">64</span>)              │               <span style=\"color: #00af00; text-decoration-color: #00af00\">0</span> │\n",
       "├──────────────────────────────────────┼─────────────────────────────┼─────────────────┤\n",
       "│ conv1d_1 (<span style=\"color: #0087ff; text-decoration-color: #0087ff\">Conv1D</span>)                    │ (<span style=\"color: #00d7ff; text-decoration-color: #00d7ff\">None</span>, <span style=\"color: #00af00; text-decoration-color: #00af00\">15</span>, <span style=\"color: #00af00; text-decoration-color: #00af00\">128</span>)             │          <span style=\"color: #00af00; text-decoration-color: #00af00\">24,704</span> │\n",
       "├──────────────────────────────────────┼─────────────────────────────┼─────────────────┤\n",
       "│ batch_normalization_1                │ (<span style=\"color: #00d7ff; text-decoration-color: #00d7ff\">None</span>, <span style=\"color: #00af00; text-decoration-color: #00af00\">15</span>, <span style=\"color: #00af00; text-decoration-color: #00af00\">128</span>)             │             <span style=\"color: #00af00; text-decoration-color: #00af00\">512</span> │\n",
       "│ (<span style=\"color: #0087ff; text-decoration-color: #0087ff\">BatchNormalization</span>)                 │                             │                 │\n",
       "├──────────────────────────────────────┼─────────────────────────────┼─────────────────┤\n",
       "│ activation_1 (<span style=\"color: #0087ff; text-decoration-color: #0087ff\">Activation</span>)            │ (<span style=\"color: #00d7ff; text-decoration-color: #00d7ff\">None</span>, <span style=\"color: #00af00; text-decoration-color: #00af00\">15</span>, <span style=\"color: #00af00; text-decoration-color: #00af00\">128</span>)             │               <span style=\"color: #00af00; text-decoration-color: #00af00\">0</span> │\n",
       "├──────────────────────────────────────┼─────────────────────────────┼─────────────────┤\n",
       "│ max_pooling1d_1 (<span style=\"color: #0087ff; text-decoration-color: #0087ff\">MaxPooling1D</span>)       │ (<span style=\"color: #00d7ff; text-decoration-color: #00d7ff\">None</span>, <span style=\"color: #00af00; text-decoration-color: #00af00\">7</span>, <span style=\"color: #00af00; text-decoration-color: #00af00\">128</span>)              │               <span style=\"color: #00af00; text-decoration-color: #00af00\">0</span> │\n",
       "├──────────────────────────────────────┼─────────────────────────────┼─────────────────┤\n",
       "│ flatten (<span style=\"color: #0087ff; text-decoration-color: #0087ff\">Flatten</span>)                    │ (<span style=\"color: #00d7ff; text-decoration-color: #00d7ff\">None</span>, <span style=\"color: #00af00; text-decoration-color: #00af00\">896</span>)                 │               <span style=\"color: #00af00; text-decoration-color: #00af00\">0</span> │\n",
       "├──────────────────────────────────────┼─────────────────────────────┼─────────────────┤\n",
       "│ dense (<span style=\"color: #0087ff; text-decoration-color: #0087ff\">Dense</span>)                        │ (<span style=\"color: #00d7ff; text-decoration-color: #00d7ff\">None</span>, <span style=\"color: #00af00; text-decoration-color: #00af00\">256</span>)                 │         <span style=\"color: #00af00; text-decoration-color: #00af00\">229,632</span> │\n",
       "├──────────────────────────────────────┼─────────────────────────────┼─────────────────┤\n",
       "│ batch_normalization_2                │ (<span style=\"color: #00d7ff; text-decoration-color: #00d7ff\">None</span>, <span style=\"color: #00af00; text-decoration-color: #00af00\">256</span>)                 │           <span style=\"color: #00af00; text-decoration-color: #00af00\">1,024</span> │\n",
       "│ (<span style=\"color: #0087ff; text-decoration-color: #0087ff\">BatchNormalization</span>)                 │                             │                 │\n",
       "├──────────────────────────────────────┼─────────────────────────────┼─────────────────┤\n",
       "│ activation_2 (<span style=\"color: #0087ff; text-decoration-color: #0087ff\">Activation</span>)            │ (<span style=\"color: #00d7ff; text-decoration-color: #00d7ff\">None</span>, <span style=\"color: #00af00; text-decoration-color: #00af00\">256</span>)                 │               <span style=\"color: #00af00; text-decoration-color: #00af00\">0</span> │\n",
       "├──────────────────────────────────────┼─────────────────────────────┼─────────────────┤\n",
       "│ dropout (<span style=\"color: #0087ff; text-decoration-color: #0087ff\">Dropout</span>)                    │ (<span style=\"color: #00d7ff; text-decoration-color: #00d7ff\">None</span>, <span style=\"color: #00af00; text-decoration-color: #00af00\">256</span>)                 │               <span style=\"color: #00af00; text-decoration-color: #00af00\">0</span> │\n",
       "├──────────────────────────────────────┼─────────────────────────────┼─────────────────┤\n",
       "│ dense_1 (<span style=\"color: #0087ff; text-decoration-color: #0087ff\">Dense</span>)                      │ (<span style=\"color: #00d7ff; text-decoration-color: #00d7ff\">None</span>, <span style=\"color: #00af00; text-decoration-color: #00af00\">502</span>)                 │         <span style=\"color: #00af00; text-decoration-color: #00af00\">129,014</span> │\n",
       "└──────────────────────────────────────┴─────────────────────────────┴─────────────────┘\n",
       "</pre>\n"
      ],
      "text/plain": [
       "┏━━━━━━━━━━━━━━━━━━━━━━━━━━━━━━━━━━━━━━┳━━━━━━━━━━━━━━━━━━━━━━━━━━━━━┳━━━━━━━━━━━━━━━━━┓\n",
       "┃\u001b[1m \u001b[0m\u001b[1mLayer (type)                        \u001b[0m\u001b[1m \u001b[0m┃\u001b[1m \u001b[0m\u001b[1mOutput Shape               \u001b[0m\u001b[1m \u001b[0m┃\u001b[1m \u001b[0m\u001b[1m        Param #\u001b[0m\u001b[1m \u001b[0m┃\n",
       "┡━━━━━━━━━━━━━━━━━━━━━━━━━━━━━━━━━━━━━━╇━━━━━━━━━━━━━━━━━━━━━━━━━━━━━╇━━━━━━━━━━━━━━━━━┩\n",
       "│ input_layer (\u001b[38;5;33mInputLayer\u001b[0m)             │ (\u001b[38;5;45mNone\u001b[0m, \u001b[38;5;34m30\u001b[0m, \u001b[38;5;34m225\u001b[0m)             │               \u001b[38;5;34m0\u001b[0m │\n",
       "├──────────────────────────────────────┼─────────────────────────────┼─────────────────┤\n",
       "│ conv1d (\u001b[38;5;33mConv1D\u001b[0m)                      │ (\u001b[38;5;45mNone\u001b[0m, \u001b[38;5;34m30\u001b[0m, \u001b[38;5;34m64\u001b[0m)              │          \u001b[38;5;34m43,264\u001b[0m │\n",
       "├──────────────────────────────────────┼─────────────────────────────┼─────────────────┤\n",
       "│ batch_normalization                  │ (\u001b[38;5;45mNone\u001b[0m, \u001b[38;5;34m30\u001b[0m, \u001b[38;5;34m64\u001b[0m)              │             \u001b[38;5;34m256\u001b[0m │\n",
       "│ (\u001b[38;5;33mBatchNormalization\u001b[0m)                 │                             │                 │\n",
       "├──────────────────────────────────────┼─────────────────────────────┼─────────────────┤\n",
       "│ activation (\u001b[38;5;33mActivation\u001b[0m)              │ (\u001b[38;5;45mNone\u001b[0m, \u001b[38;5;34m30\u001b[0m, \u001b[38;5;34m64\u001b[0m)              │               \u001b[38;5;34m0\u001b[0m │\n",
       "├──────────────────────────────────────┼─────────────────────────────┼─────────────────┤\n",
       "│ max_pooling1d (\u001b[38;5;33mMaxPooling1D\u001b[0m)         │ (\u001b[38;5;45mNone\u001b[0m, \u001b[38;5;34m15\u001b[0m, \u001b[38;5;34m64\u001b[0m)              │               \u001b[38;5;34m0\u001b[0m │\n",
       "├──────────────────────────────────────┼─────────────────────────────┼─────────────────┤\n",
       "│ conv1d_1 (\u001b[38;5;33mConv1D\u001b[0m)                    │ (\u001b[38;5;45mNone\u001b[0m, \u001b[38;5;34m15\u001b[0m, \u001b[38;5;34m128\u001b[0m)             │          \u001b[38;5;34m24,704\u001b[0m │\n",
       "├──────────────────────────────────────┼─────────────────────────────┼─────────────────┤\n",
       "│ batch_normalization_1                │ (\u001b[38;5;45mNone\u001b[0m, \u001b[38;5;34m15\u001b[0m, \u001b[38;5;34m128\u001b[0m)             │             \u001b[38;5;34m512\u001b[0m │\n",
       "│ (\u001b[38;5;33mBatchNormalization\u001b[0m)                 │                             │                 │\n",
       "├──────────────────────────────────────┼─────────────────────────────┼─────────────────┤\n",
       "│ activation_1 (\u001b[38;5;33mActivation\u001b[0m)            │ (\u001b[38;5;45mNone\u001b[0m, \u001b[38;5;34m15\u001b[0m, \u001b[38;5;34m128\u001b[0m)             │               \u001b[38;5;34m0\u001b[0m │\n",
       "├──────────────────────────────────────┼─────────────────────────────┼─────────────────┤\n",
       "│ max_pooling1d_1 (\u001b[38;5;33mMaxPooling1D\u001b[0m)       │ (\u001b[38;5;45mNone\u001b[0m, \u001b[38;5;34m7\u001b[0m, \u001b[38;5;34m128\u001b[0m)              │               \u001b[38;5;34m0\u001b[0m │\n",
       "├──────────────────────────────────────┼─────────────────────────────┼─────────────────┤\n",
       "│ flatten (\u001b[38;5;33mFlatten\u001b[0m)                    │ (\u001b[38;5;45mNone\u001b[0m, \u001b[38;5;34m896\u001b[0m)                 │               \u001b[38;5;34m0\u001b[0m │\n",
       "├──────────────────────────────────────┼─────────────────────────────┼─────────────────┤\n",
       "│ dense (\u001b[38;5;33mDense\u001b[0m)                        │ (\u001b[38;5;45mNone\u001b[0m, \u001b[38;5;34m256\u001b[0m)                 │         \u001b[38;5;34m229,632\u001b[0m │\n",
       "├──────────────────────────────────────┼─────────────────────────────┼─────────────────┤\n",
       "│ batch_normalization_2                │ (\u001b[38;5;45mNone\u001b[0m, \u001b[38;5;34m256\u001b[0m)                 │           \u001b[38;5;34m1,024\u001b[0m │\n",
       "│ (\u001b[38;5;33mBatchNormalization\u001b[0m)                 │                             │                 │\n",
       "├──────────────────────────────────────┼─────────────────────────────┼─────────────────┤\n",
       "│ activation_2 (\u001b[38;5;33mActivation\u001b[0m)            │ (\u001b[38;5;45mNone\u001b[0m, \u001b[38;5;34m256\u001b[0m)                 │               \u001b[38;5;34m0\u001b[0m │\n",
       "├──────────────────────────────────────┼─────────────────────────────┼─────────────────┤\n",
       "│ dropout (\u001b[38;5;33mDropout\u001b[0m)                    │ (\u001b[38;5;45mNone\u001b[0m, \u001b[38;5;34m256\u001b[0m)                 │               \u001b[38;5;34m0\u001b[0m │\n",
       "├──────────────────────────────────────┼─────────────────────────────┼─────────────────┤\n",
       "│ dense_1 (\u001b[38;5;33mDense\u001b[0m)                      │ (\u001b[38;5;45mNone\u001b[0m, \u001b[38;5;34m502\u001b[0m)                 │         \u001b[38;5;34m129,014\u001b[0m │\n",
       "└──────────────────────────────────────┴─────────────────────────────┴─────────────────┘\n"
      ]
     },
     "metadata": {},
     "output_type": "display_data"
    },
    {
     "data": {
      "text/html": [
       "<pre style=\"white-space:pre;overflow-x:auto;line-height:normal;font-family:Menlo,'DejaVu Sans Mono',consolas,'Courier New',monospace\"><span style=\"font-weight: bold\"> Total params: </span><span style=\"color: #00af00; text-decoration-color: #00af00\">428,406</span> (1.63 MB)\n",
       "</pre>\n"
      ],
      "text/plain": [
       "\u001b[1m Total params: \u001b[0m\u001b[38;5;34m428,406\u001b[0m (1.63 MB)\n"
      ]
     },
     "metadata": {},
     "output_type": "display_data"
    },
    {
     "data": {
      "text/html": [
       "<pre style=\"white-space:pre;overflow-x:auto;line-height:normal;font-family:Menlo,'DejaVu Sans Mono',consolas,'Courier New',monospace\"><span style=\"font-weight: bold\"> Trainable params: </span><span style=\"color: #00af00; text-decoration-color: #00af00\">427,510</span> (1.63 MB)\n",
       "</pre>\n"
      ],
      "text/plain": [
       "\u001b[1m Trainable params: \u001b[0m\u001b[38;5;34m427,510\u001b[0m (1.63 MB)\n"
      ]
     },
     "metadata": {},
     "output_type": "display_data"
    },
    {
     "data": {
      "text/html": [
       "<pre style=\"white-space:pre;overflow-x:auto;line-height:normal;font-family:Menlo,'DejaVu Sans Mono',consolas,'Courier New',monospace\"><span style=\"font-weight: bold\"> Non-trainable params: </span><span style=\"color: #00af00; text-decoration-color: #00af00\">896</span> (3.50 KB)\n",
       "</pre>\n"
      ],
      "text/plain": [
       "\u001b[1m Non-trainable params: \u001b[0m\u001b[38;5;34m896\u001b[0m (3.50 KB)\n"
      ]
     },
     "metadata": {},
     "output_type": "display_data"
    },
    {
     "name": "stdout",
     "output_type": "stream",
     "text": [
      "Epoch 1/12\n",
      "\n",
      "Epoch 1: val_accuracy improved from -inf to 0.79874, saving model to CNN_fold1.h5\n"
     ]
    },
    {
     "name": "stderr",
     "output_type": "stream",
     "text": [
      "WARNING:absl:You are saving your model as an HDF5 file via `model.save()` or `keras.saving.save_model(model)`. This file format is considered legacy. We recommend using instead the native Keras format, e.g. `model.save('my_model.keras')` or `keras.saving.save_model(model, 'my_model.keras')`. \n"
     ]
    },
    {
     "name": "stdout",
     "output_type": "stream",
     "text": [
      "1464/1464 - 12s - 8ms/step - accuracy: 0.5551 - loss: 1.9710 - val_accuracy: 0.7987 - val_loss: 0.7024\n",
      "Epoch 2/12\n",
      "\n",
      "Epoch 2: val_accuracy improved from 0.79874 to 0.86545, saving model to CNN_fold1.h5\n"
     ]
    },
    {
     "name": "stderr",
     "output_type": "stream",
     "text": [
      "WARNING:absl:You are saving your model as an HDF5 file via `model.save()` or `keras.saving.save_model(model)`. This file format is considered legacy. We recommend using instead the native Keras format, e.g. `model.save('my_model.keras')` or `keras.saving.save_model(model, 'my_model.keras')`. \n"
     ]
    },
    {
     "name": "stdout",
     "output_type": "stream",
     "text": [
      "1464/1464 - 9s - 6ms/step - accuracy: 0.8434 - loss: 0.5320 - val_accuracy: 0.8655 - val_loss: 0.4327\n",
      "Epoch 3/12\n",
      "\n",
      "Epoch 3: val_accuracy improved from 0.86545 to 0.91526, saving model to CNN_fold1.h5\n"
     ]
    },
    {
     "name": "stderr",
     "output_type": "stream",
     "text": [
      "WARNING:absl:You are saving your model as an HDF5 file via `model.save()` or `keras.saving.save_model(model)`. This file format is considered legacy. We recommend using instead the native Keras format, e.g. `model.save('my_model.keras')` or `keras.saving.save_model(model, 'my_model.keras')`. \n"
     ]
    },
    {
     "name": "stdout",
     "output_type": "stream",
     "text": [
      "1464/1464 - 9s - 6ms/step - accuracy: 0.8913 - loss: 0.3565 - val_accuracy: 0.9153 - val_loss: 0.2780\n",
      "Epoch 4/12\n",
      "\n",
      "Epoch 4: val_accuracy did not improve from 0.91526\n",
      "1464/1464 - 9s - 6ms/step - accuracy: 0.9115 - loss: 0.2777 - val_accuracy: 0.8383 - val_loss: 0.5556\n",
      "Epoch 5/12\n",
      "\n",
      "Epoch 5: val_accuracy did not improve from 0.91526\n",
      "1464/1464 - 9s - 6ms/step - accuracy: 0.9245 - loss: 0.2348 - val_accuracy: 0.9081 - val_loss: 0.2886\n",
      "Epoch 6/12\n",
      "\n",
      "Epoch 6: val_accuracy did not improve from 0.91526\n",
      "1464/1464 - 9s - 6ms/step - accuracy: 0.9354 - loss: 0.1966 - val_accuracy: 0.9066 - val_loss: 0.3085\n",
      "Fold 1 results: train_acc=0.9315, val_acc=0.9153, test_acc=0.9179\n",
      "\n",
      "Training fold 2 / 5 for CNN\n",
      "Epoch 1/12\n",
      "\n",
      "Epoch 1: val_accuracy improved from -inf to 0.73894, saving model to CNN_fold2.h5\n"
     ]
    },
    {
     "name": "stderr",
     "output_type": "stream",
     "text": [
      "WARNING:absl:You are saving your model as an HDF5 file via `model.save()` or `keras.saving.save_model(model)`. This file format is considered legacy. We recommend using instead the native Keras format, e.g. `model.save('my_model.keras')` or `keras.saving.save_model(model, 'my_model.keras')`. \n"
     ]
    },
    {
     "name": "stdout",
     "output_type": "stream",
     "text": [
      "1464/1464 - 12s - 8ms/step - accuracy: 0.5483 - loss: 1.9976 - val_accuracy: 0.7389 - val_loss: 0.9521\n",
      "Epoch 2/12\n",
      "\n",
      "Epoch 2: val_accuracy improved from 0.73894 to 0.80728, saving model to CNN_fold2.h5\n"
     ]
    },
    {
     "name": "stderr",
     "output_type": "stream",
     "text": [
      "WARNING:absl:You are saving your model as an HDF5 file via `model.save()` or `keras.saving.save_model(model)`. This file format is considered legacy. We recommend using instead the native Keras format, e.g. `model.save('my_model.keras')` or `keras.saving.save_model(model, 'my_model.keras')`. \n"
     ]
    },
    {
     "name": "stdout",
     "output_type": "stream",
     "text": [
      "1464/1464 - 9s - 6ms/step - accuracy: 0.8420 - loss: 0.5378 - val_accuracy: 0.8073 - val_loss: 0.6421\n",
      "Epoch 3/12\n",
      "\n",
      "Epoch 3: val_accuracy improved from 0.80728 to 0.84435, saving model to CNN_fold2.h5\n"
     ]
    },
    {
     "name": "stderr",
     "output_type": "stream",
     "text": [
      "WARNING:absl:You are saving your model as an HDF5 file via `model.save()` or `keras.saving.save_model(model)`. This file format is considered legacy. We recommend using instead the native Keras format, e.g. `model.save('my_model.keras')` or `keras.saving.save_model(model, 'my_model.keras')`. \n"
     ]
    },
    {
     "name": "stdout",
     "output_type": "stream",
     "text": [
      "1464/1464 - 9s - 6ms/step - accuracy: 0.8906 - loss: 0.3546 - val_accuracy: 0.8444 - val_loss: 0.5033\n",
      "Epoch 4/12\n",
      "\n",
      "Epoch 4: val_accuracy improved from 0.84435 to 0.87280, saving model to CNN_fold2.h5\n"
     ]
    },
    {
     "name": "stderr",
     "output_type": "stream",
     "text": [
      "WARNING:absl:You are saving your model as an HDF5 file via `model.save()` or `keras.saving.save_model(model)`. This file format is considered legacy. We recommend using instead the native Keras format, e.g. `model.save('my_model.keras')` or `keras.saving.save_model(model, 'my_model.keras')`. \n"
     ]
    },
    {
     "name": "stdout",
     "output_type": "stream",
     "text": [
      "1464/1464 - 9s - 6ms/step - accuracy: 0.9121 - loss: 0.2784 - val_accuracy: 0.8728 - val_loss: 0.4227\n",
      "Epoch 5/12\n",
      "\n",
      "Epoch 5: val_accuracy improved from 0.87280 to 0.94755, saving model to CNN_fold2.h5\n"
     ]
    },
    {
     "name": "stderr",
     "output_type": "stream",
     "text": [
      "WARNING:absl:You are saving your model as an HDF5 file via `model.save()` or `keras.saving.save_model(model)`. This file format is considered legacy. We recommend using instead the native Keras format, e.g. `model.save('my_model.keras')` or `keras.saving.save_model(model, 'my_model.keras')`. \n"
     ]
    },
    {
     "name": "stdout",
     "output_type": "stream",
     "text": [
      "1464/1464 - 9s - 6ms/step - accuracy: 0.9262 - loss: 0.2335 - val_accuracy: 0.9475 - val_loss: 0.1636\n",
      "Epoch 6/12\n",
      "\n",
      "Epoch 6: val_accuracy did not improve from 0.94755\n",
      "1464/1464 - 9s - 6ms/step - accuracy: 0.9346 - loss: 0.2021 - val_accuracy: 0.9318 - val_loss: 0.2252\n",
      "Epoch 7/12\n",
      "\n",
      "Epoch 7: val_accuracy did not improve from 0.94755\n",
      "1464/1464 - 9s - 6ms/step - accuracy: 0.9420 - loss: 0.1800 - val_accuracy: 0.9166 - val_loss: 0.2679\n",
      "Epoch 8/12\n",
      "\n",
      "Epoch 8: val_accuracy improved from 0.94755 to 0.95276, saving model to CNN_fold2.h5\n"
     ]
    },
    {
     "name": "stderr",
     "output_type": "stream",
     "text": [
      "WARNING:absl:You are saving your model as an HDF5 file via `model.save()` or `keras.saving.save_model(model)`. This file format is considered legacy. We recommend using instead the native Keras format, e.g. `model.save('my_model.keras')` or `keras.saving.save_model(model, 'my_model.keras')`. \n"
     ]
    },
    {
     "name": "stdout",
     "output_type": "stream",
     "text": [
      "1464/1464 - 9s - 6ms/step - accuracy: 0.9455 - loss: 0.1652 - val_accuracy: 0.9528 - val_loss: 0.1634\n",
      "Epoch 9/12\n",
      "\n",
      "Epoch 9: val_accuracy did not improve from 0.95276\n",
      "1464/1464 - 9s - 6ms/step - accuracy: 0.9527 - loss: 0.1465 - val_accuracy: 0.9426 - val_loss: 0.1895\n",
      "Epoch 10/12\n",
      "\n",
      "Epoch 10: val_accuracy improved from 0.95276 to 0.95686, saving model to CNN_fold2.h5\n"
     ]
    },
    {
     "name": "stderr",
     "output_type": "stream",
     "text": [
      "WARNING:absl:You are saving your model as an HDF5 file via `model.save()` or `keras.saving.save_model(model)`. This file format is considered legacy. We recommend using instead the native Keras format, e.g. `model.save('my_model.keras')` or `keras.saving.save_model(model, 'my_model.keras')`. \n"
     ]
    },
    {
     "name": "stdout",
     "output_type": "stream",
     "text": [
      "1464/1464 - 9s - 6ms/step - accuracy: 0.9549 - loss: 0.1353 - val_accuracy: 0.9569 - val_loss: 0.1419\n",
      "Epoch 11/12\n",
      "\n",
      "Epoch 11: val_accuracy did not improve from 0.95686\n",
      "1464/1464 - 9s - 6ms/step - accuracy: 0.9566 - loss: 0.1308 - val_accuracy: 0.9527 - val_loss: 0.1655\n",
      "Epoch 12/12\n",
      "\n",
      "Epoch 12: val_accuracy did not improve from 0.95686\n",
      "1464/1464 - 9s - 6ms/step - accuracy: 0.9610 - loss: 0.1180 - val_accuracy: 0.9249 - val_loss: 0.2426\n",
      "Fold 2 results: train_acc=0.9695, val_acc=0.9569, test_acc=0.9545\n",
      "\n",
      "Training fold 3 / 5 for CNN\n",
      "Epoch 1/12\n",
      "\n",
      "Epoch 1: val_accuracy improved from -inf to 0.79925, saving model to CNN_fold3.h5\n"
     ]
    },
    {
     "name": "stderr",
     "output_type": "stream",
     "text": [
      "WARNING:absl:You are saving your model as an HDF5 file via `model.save()` or `keras.saving.save_model(model)`. This file format is considered legacy. We recommend using instead the native Keras format, e.g. `model.save('my_model.keras')` or `keras.saving.save_model(model, 'my_model.keras')`. \n"
     ]
    },
    {
     "name": "stdout",
     "output_type": "stream",
     "text": [
      "1464/1464 - 12s - 8ms/step - accuracy: 0.5558 - loss: 1.9886 - val_accuracy: 0.7992 - val_loss: 0.7193\n",
      "Epoch 2/12\n",
      "\n",
      "Epoch 2: val_accuracy improved from 0.79925 to 0.90014, saving model to CNN_fold3.h5\n"
     ]
    },
    {
     "name": "stderr",
     "output_type": "stream",
     "text": [
      "WARNING:absl:You are saving your model as an HDF5 file via `model.save()` or `keras.saving.save_model(model)`. This file format is considered legacy. We recommend using instead the native Keras format, e.g. `model.save('my_model.keras')` or `keras.saving.save_model(model, 'my_model.keras')`. \n"
     ]
    },
    {
     "name": "stdout",
     "output_type": "stream",
     "text": [
      "1464/1464 - 9s - 6ms/step - accuracy: 0.8433 - loss: 0.5329 - val_accuracy: 0.9001 - val_loss: 0.3431\n",
      "Epoch 3/12\n",
      "\n",
      "Epoch 3: val_accuracy did not improve from 0.90014\n",
      "1464/1464 - 9s - 6ms/step - accuracy: 0.8926 - loss: 0.3508 - val_accuracy: 0.8951 - val_loss: 0.3457\n",
      "Epoch 4/12\n",
      "\n",
      "Epoch 4: val_accuracy improved from 0.90014 to 0.91722, saving model to CNN_fold3.h5\n"
     ]
    },
    {
     "name": "stderr",
     "output_type": "stream",
     "text": [
      "WARNING:absl:You are saving your model as an HDF5 file via `model.save()` or `keras.saving.save_model(model)`. This file format is considered legacy. We recommend using instead the native Keras format, e.g. `model.save('my_model.keras')` or `keras.saving.save_model(model, 'my_model.keras')`. \n"
     ]
    },
    {
     "name": "stdout",
     "output_type": "stream",
     "text": [
      "1464/1464 - 9s - 6ms/step - accuracy: 0.9120 - loss: 0.2807 - val_accuracy: 0.9172 - val_loss: 0.2685\n",
      "Epoch 5/12\n",
      "\n",
      "Epoch 5: val_accuracy did not improve from 0.91722\n",
      "1464/1464 - 9s - 6ms/step - accuracy: 0.9269 - loss: 0.2287 - val_accuracy: 0.7734 - val_loss: 0.8606\n",
      "Epoch 6/12\n",
      "\n",
      "Epoch 6: val_accuracy did not improve from 0.91722\n",
      "1464/1464 - 9s - 6ms/step - accuracy: 0.9321 - loss: 0.2058 - val_accuracy: 0.8889 - val_loss: 0.3769\n",
      "Epoch 7/12\n",
      "\n",
      "Epoch 7: val_accuracy did not improve from 0.91722\n",
      "1464/1464 - 9s - 6ms/step - accuracy: 0.9419 - loss: 0.1776 - val_accuracy: 0.9143 - val_loss: 0.2711\n",
      "Fold 3 results: train_acc=0.9289, val_acc=0.9172, test_acc=0.9123\n",
      "\n",
      "Training fold 4 / 5 for CNN\n",
      "Epoch 1/12\n",
      "\n",
      "Epoch 1: val_accuracy improved from -inf to 0.78225, saving model to CNN_fold4.h5\n"
     ]
    },
    {
     "name": "stderr",
     "output_type": "stream",
     "text": [
      "WARNING:absl:You are saving your model as an HDF5 file via `model.save()` or `keras.saving.save_model(model)`. This file format is considered legacy. We recommend using instead the native Keras format, e.g. `model.save('my_model.keras')` or `keras.saving.save_model(model, 'my_model.keras')`. \n"
     ]
    },
    {
     "name": "stdout",
     "output_type": "stream",
     "text": [
      "1464/1464 - 12s - 9ms/step - accuracy: 0.5457 - loss: 2.0010 - val_accuracy: 0.7822 - val_loss: 0.7573\n",
      "Epoch 2/12\n",
      "\n",
      "Epoch 2: val_accuracy improved from 0.78225 to 0.86349, saving model to CNN_fold4.h5\n"
     ]
    },
    {
     "name": "stderr",
     "output_type": "stream",
     "text": [
      "WARNING:absl:You are saving your model as an HDF5 file via `model.save()` or `keras.saving.save_model(model)`. This file format is considered legacy. We recommend using instead the native Keras format, e.g. `model.save('my_model.keras')` or `keras.saving.save_model(model, 'my_model.keras')`. \n"
     ]
    },
    {
     "name": "stdout",
     "output_type": "stream",
     "text": [
      "1464/1464 - 9s - 6ms/step - accuracy: 0.8396 - loss: 0.5395 - val_accuracy: 0.8635 - val_loss: 0.4472\n",
      "Epoch 3/12\n",
      "\n",
      "Epoch 3: val_accuracy improved from 0.86349 to 0.87297, saving model to CNN_fold4.h5\n"
     ]
    },
    {
     "name": "stderr",
     "output_type": "stream",
     "text": [
      "WARNING:absl:You are saving your model as an HDF5 file via `model.save()` or `keras.saving.save_model(model)`. This file format is considered legacy. We recommend using instead the native Keras format, e.g. `model.save('my_model.keras')` or `keras.saving.save_model(model, 'my_model.keras')`. \n"
     ]
    },
    {
     "name": "stdout",
     "output_type": "stream",
     "text": [
      "1464/1464 - 9s - 6ms/step - accuracy: 0.8898 - loss: 0.3563 - val_accuracy: 0.8730 - val_loss: 0.4082\n",
      "Epoch 4/12\n",
      "\n",
      "Epoch 4: val_accuracy improved from 0.87297 to 0.93909, saving model to CNN_fold4.h5\n"
     ]
    },
    {
     "name": "stderr",
     "output_type": "stream",
     "text": [
      "WARNING:absl:You are saving your model as an HDF5 file via `model.save()` or `keras.saving.save_model(model)`. This file format is considered legacy. We recommend using instead the native Keras format, e.g. `model.save('my_model.keras')` or `keras.saving.save_model(model, 'my_model.keras')`. \n"
     ]
    },
    {
     "name": "stdout",
     "output_type": "stream",
     "text": [
      "1464/1464 - 9s - 6ms/step - accuracy: 0.9134 - loss: 0.2769 - val_accuracy: 0.9391 - val_loss: 0.1985\n",
      "Epoch 5/12\n",
      "\n",
      "Epoch 5: val_accuracy did not improve from 0.93909\n",
      "1464/1464 - 9s - 6ms/step - accuracy: 0.9220 - loss: 0.2406 - val_accuracy: 0.9300 - val_loss: 0.2195\n",
      "Epoch 6/12\n",
      "\n",
      "Epoch 6: val_accuracy improved from 0.93909 to 0.94430, saving model to CNN_fold4.h5\n"
     ]
    },
    {
     "name": "stderr",
     "output_type": "stream",
     "text": [
      "WARNING:absl:You are saving your model as an HDF5 file via `model.save()` or `keras.saving.save_model(model)`. This file format is considered legacy. We recommend using instead the native Keras format, e.g. `model.save('my_model.keras')` or `keras.saving.save_model(model, 'my_model.keras')`. \n"
     ]
    },
    {
     "name": "stdout",
     "output_type": "stream",
     "text": [
      "1464/1464 - 9s - 6ms/step - accuracy: 0.9340 - loss: 0.2043 - val_accuracy: 0.9443 - val_loss: 0.1813\n",
      "Epoch 7/12\n",
      "\n",
      "Epoch 7: val_accuracy did not improve from 0.94430\n",
      "1464/1464 - 9s - 6ms/step - accuracy: 0.9402 - loss: 0.1827 - val_accuracy: 0.8548 - val_loss: 0.4984\n",
      "Epoch 8/12\n",
      "\n",
      "Epoch 8: val_accuracy improved from 0.94430 to 0.96241, saving model to CNN_fold4.h5\n"
     ]
    },
    {
     "name": "stderr",
     "output_type": "stream",
     "text": [
      "WARNING:absl:You are saving your model as an HDF5 file via `model.save()` or `keras.saving.save_model(model)`. This file format is considered legacy. We recommend using instead the native Keras format, e.g. `model.save('my_model.keras')` or `keras.saving.save_model(model, 'my_model.keras')`. \n"
     ]
    },
    {
     "name": "stdout",
     "output_type": "stream",
     "text": [
      "1464/1464 - 9s - 6ms/step - accuracy: 0.9444 - loss: 0.1678 - val_accuracy: 0.9624 - val_loss: 0.1189\n",
      "Epoch 9/12\n",
      "\n",
      "Epoch 9: val_accuracy did not improve from 0.96241\n",
      "1464/1464 - 9s - 6ms/step - accuracy: 0.9506 - loss: 0.1501 - val_accuracy: 0.9379 - val_loss: 0.1971\n",
      "Epoch 10/12\n",
      "\n",
      "Epoch 10: val_accuracy improved from 0.96241 to 0.96745, saving model to CNN_fold4.h5\n"
     ]
    },
    {
     "name": "stderr",
     "output_type": "stream",
     "text": [
      "WARNING:absl:You are saving your model as an HDF5 file via `model.save()` or `keras.saving.save_model(model)`. This file format is considered legacy. We recommend using instead the native Keras format, e.g. `model.save('my_model.keras')` or `keras.saving.save_model(model, 'my_model.keras')`. \n"
     ]
    },
    {
     "name": "stdout",
     "output_type": "stream",
     "text": [
      "1464/1464 - 9s - 6ms/step - accuracy: 0.9531 - loss: 0.1399 - val_accuracy: 0.9675 - val_loss: 0.1060\n",
      "Epoch 11/12\n",
      "\n",
      "Epoch 11: val_accuracy did not improve from 0.96745\n",
      "1464/1464 - 9s - 6ms/step - accuracy: 0.9575 - loss: 0.1245 - val_accuracy: 0.9477 - val_loss: 0.1809\n",
      "Epoch 12/12\n",
      "\n",
      "Epoch 12: val_accuracy did not improve from 0.96745\n",
      "1464/1464 - 9s - 6ms/step - accuracy: 0.9591 - loss: 0.1211 - val_accuracy: 0.9631 - val_loss: 0.1240\n",
      "Fold 4 results: train_acc=0.9804, val_acc=0.9675, test_acc=0.9680\n",
      "\n",
      "Training fold 5 / 5 for CNN\n",
      "Epoch 1/12\n",
      "\n",
      "Epoch 1: val_accuracy improved from -inf to 0.77394, saving model to CNN_fold5.h5\n"
     ]
    },
    {
     "name": "stderr",
     "output_type": "stream",
     "text": [
      "WARNING:absl:You are saving your model as an HDF5 file via `model.save()` or `keras.saving.save_model(model)`. This file format is considered legacy. We recommend using instead the native Keras format, e.g. `model.save('my_model.keras')` or `keras.saving.save_model(model, 'my_model.keras')`. \n"
     ]
    },
    {
     "name": "stdout",
     "output_type": "stream",
     "text": [
      "1464/1464 - 11s - 8ms/step - accuracy: 0.5546 - loss: 1.9828 - val_accuracy: 0.7739 - val_loss: 0.7949\n",
      "Epoch 2/12\n",
      "\n",
      "Epoch 2: val_accuracy improved from 0.77394 to 0.85493, saving model to CNN_fold5.h5\n"
     ]
    },
    {
     "name": "stderr",
     "output_type": "stream",
     "text": [
      "WARNING:absl:You are saving your model as an HDF5 file via `model.save()` or `keras.saving.save_model(model)`. This file format is considered legacy. We recommend using instead the native Keras format, e.g. `model.save('my_model.keras')` or `keras.saving.save_model(model, 'my_model.keras')`. \n"
     ]
    },
    {
     "name": "stdout",
     "output_type": "stream",
     "text": [
      "1464/1464 - 9s - 6ms/step - accuracy: 0.8453 - loss: 0.5249 - val_accuracy: 0.8549 - val_loss: 0.4819\n",
      "Epoch 3/12\n",
      "\n",
      "Epoch 3: val_accuracy improved from 0.85493 to 0.89979, saving model to CNN_fold5.h5\n"
     ]
    },
    {
     "name": "stderr",
     "output_type": "stream",
     "text": [
      "WARNING:absl:You are saving your model as an HDF5 file via `model.save()` or `keras.saving.save_model(model)`. This file format is considered legacy. We recommend using instead the native Keras format, e.g. `model.save('my_model.keras')` or `keras.saving.save_model(model, 'my_model.keras')`. \n"
     ]
    },
    {
     "name": "stdout",
     "output_type": "stream",
     "text": [
      "1464/1464 - 9s - 6ms/step - accuracy: 0.8937 - loss: 0.3423 - val_accuracy: 0.8998 - val_loss: 0.3268\n",
      "Epoch 4/12\n",
      "\n",
      "Epoch 4: val_accuracy improved from 0.89979 to 0.93054, saving model to CNN_fold5.h5\n"
     ]
    },
    {
     "name": "stderr",
     "output_type": "stream",
     "text": [
      "WARNING:absl:You are saving your model as an HDF5 file via `model.save()` or `keras.saving.save_model(model)`. This file format is considered legacy. We recommend using instead the native Keras format, e.g. `model.save('my_model.keras')` or `keras.saving.save_model(model, 'my_model.keras')`. \n"
     ]
    },
    {
     "name": "stdout",
     "output_type": "stream",
     "text": [
      "1464/1464 - 9s - 6ms/step - accuracy: 0.9140 - loss: 0.2739 - val_accuracy: 0.9305 - val_loss: 0.2214\n",
      "Epoch 5/12\n",
      "\n",
      "Epoch 5: val_accuracy did not improve from 0.93054\n",
      "1464/1464 - 9s - 6ms/step - accuracy: 0.9260 - loss: 0.2276 - val_accuracy: 0.9012 - val_loss: 0.3299\n",
      "Epoch 6/12\n",
      "\n",
      "Epoch 6: val_accuracy did not improve from 0.93054\n",
      "1464/1464 - 9s - 6ms/step - accuracy: 0.9338 - loss: 0.2038 - val_accuracy: 0.9090 - val_loss: 0.2970\n",
      "Epoch 7/12\n",
      "\n",
      "Epoch 7: val_accuracy did not improve from 0.93054\n",
      "1464/1464 - 9s - 6ms/step - accuracy: 0.9430 - loss: 0.1747 - val_accuracy: 0.8756 - val_loss: 0.4576\n",
      "Fold 5 results: train_acc=0.9427, val_acc=0.9305, test_acc=0.9269\n",
      "\n",
      "Best Test accuracy: 0.9680 from model: CNN_fold4.h5\n"
     ]
    }
   ],
   "source": [
    "cnn_results, cnn_best_model = train_and_evaluate_model('CNN', X_train, y_train, X_test, y_test, NUM_FOLDS, EPOCHS, BATCH_SIZE)"
   ]
  },
  {
   "cell_type": "markdown",
   "id": "6adbc76c-1ba7-4482-b857-b47461906490",
   "metadata": {},
   "source": [
    "### Train GRU"
   ]
  },
  {
   "cell_type": "code",
   "execution_count": 22,
   "id": "c1d8a461-867d-44f6-95cd-991b765f86c4",
   "metadata": {
    "scrolled": true
   },
   "outputs": [
    {
     "name": "stdout",
     "output_type": "stream",
     "text": [
      "\n",
      "Training fold 1 / 5 for GRU\n"
     ]
    },
    {
     "data": {
      "text/html": [
       "<pre style=\"white-space:pre;overflow-x:auto;line-height:normal;font-family:Menlo,'DejaVu Sans Mono',consolas,'Courier New',monospace\"><span style=\"font-weight: bold\">Model: \"GRU_3Layer\"</span>\n",
       "</pre>\n"
      ],
      "text/plain": [
       "\u001b[1mModel: \"GRU_3Layer\"\u001b[0m\n"
      ]
     },
     "metadata": {},
     "output_type": "display_data"
    },
    {
     "data": {
      "text/html": [
       "<pre style=\"white-space:pre;overflow-x:auto;line-height:normal;font-family:Menlo,'DejaVu Sans Mono',consolas,'Courier New',monospace\">┏━━━━━━━━━━━━━━━━━━━━━━━━━━━━━━━━━━━━━━┳━━━━━━━━━━━━━━━━━━━━━━━━━━━━━┳━━━━━━━━━━━━━━━━━┓\n",
       "┃<span style=\"font-weight: bold\"> Layer (type)                         </span>┃<span style=\"font-weight: bold\"> Output Shape                </span>┃<span style=\"font-weight: bold\">         Param # </span>┃\n",
       "┡━━━━━━━━━━━━━━━━━━━━━━━━━━━━━━━━━━━━━━╇━━━━━━━━━━━━━━━━━━━━━━━━━━━━━╇━━━━━━━━━━━━━━━━━┩\n",
       "│ input_layer_5 (<span style=\"color: #0087ff; text-decoration-color: #0087ff\">InputLayer</span>)           │ (<span style=\"color: #00d7ff; text-decoration-color: #00d7ff\">None</span>, <span style=\"color: #00af00; text-decoration-color: #00af00\">30</span>, <span style=\"color: #00af00; text-decoration-color: #00af00\">225</span>)             │               <span style=\"color: #00af00; text-decoration-color: #00af00\">0</span> │\n",
       "├──────────────────────────────────────┼─────────────────────────────┼─────────────────┤\n",
       "│ gru (<span style=\"color: #0087ff; text-decoration-color: #0087ff\">GRU</span>)                            │ (<span style=\"color: #00d7ff; text-decoration-color: #00d7ff\">None</span>, <span style=\"color: #00af00; text-decoration-color: #00af00\">30</span>, <span style=\"color: #00af00; text-decoration-color: #00af00\">128</span>)             │         <span style=\"color: #00af00; text-decoration-color: #00af00\">136,320</span> │\n",
       "├──────────────────────────────────────┼─────────────────────────────┼─────────────────┤\n",
       "│ dropout_5 (<span style=\"color: #0087ff; text-decoration-color: #0087ff\">Dropout</span>)                  │ (<span style=\"color: #00d7ff; text-decoration-color: #00d7ff\">None</span>, <span style=\"color: #00af00; text-decoration-color: #00af00\">30</span>, <span style=\"color: #00af00; text-decoration-color: #00af00\">128</span>)             │               <span style=\"color: #00af00; text-decoration-color: #00af00\">0</span> │\n",
       "├──────────────────────────────────────┼─────────────────────────────┼─────────────────┤\n",
       "│ gru_1 (<span style=\"color: #0087ff; text-decoration-color: #0087ff\">GRU</span>)                          │ (<span style=\"color: #00d7ff; text-decoration-color: #00d7ff\">None</span>, <span style=\"color: #00af00; text-decoration-color: #00af00\">30</span>, <span style=\"color: #00af00; text-decoration-color: #00af00\">128</span>)             │          <span style=\"color: #00af00; text-decoration-color: #00af00\">99,072</span> │\n",
       "├──────────────────────────────────────┼─────────────────────────────┼─────────────────┤\n",
       "│ dropout_6 (<span style=\"color: #0087ff; text-decoration-color: #0087ff\">Dropout</span>)                  │ (<span style=\"color: #00d7ff; text-decoration-color: #00d7ff\">None</span>, <span style=\"color: #00af00; text-decoration-color: #00af00\">30</span>, <span style=\"color: #00af00; text-decoration-color: #00af00\">128</span>)             │               <span style=\"color: #00af00; text-decoration-color: #00af00\">0</span> │\n",
       "├──────────────────────────────────────┼─────────────────────────────┼─────────────────┤\n",
       "│ gru_2 (<span style=\"color: #0087ff; text-decoration-color: #0087ff\">GRU</span>)                          │ (<span style=\"color: #00d7ff; text-decoration-color: #00d7ff\">None</span>, <span style=\"color: #00af00; text-decoration-color: #00af00\">128</span>)                 │          <span style=\"color: #00af00; text-decoration-color: #00af00\">99,072</span> │\n",
       "├──────────────────────────────────────┼─────────────────────────────┼─────────────────┤\n",
       "│ dropout_7 (<span style=\"color: #0087ff; text-decoration-color: #0087ff\">Dropout</span>)                  │ (<span style=\"color: #00d7ff; text-decoration-color: #00d7ff\">None</span>, <span style=\"color: #00af00; text-decoration-color: #00af00\">128</span>)                 │               <span style=\"color: #00af00; text-decoration-color: #00af00\">0</span> │\n",
       "├──────────────────────────────────────┼─────────────────────────────┼─────────────────┤\n",
       "│ dense_10 (<span style=\"color: #0087ff; text-decoration-color: #0087ff\">Dense</span>)                     │ (<span style=\"color: #00d7ff; text-decoration-color: #00d7ff\">None</span>, <span style=\"color: #00af00; text-decoration-color: #00af00\">502</span>)                 │          <span style=\"color: #00af00; text-decoration-color: #00af00\">64,758</span> │\n",
       "└──────────────────────────────────────┴─────────────────────────────┴─────────────────┘\n",
       "</pre>\n"
      ],
      "text/plain": [
       "┏━━━━━━━━━━━━━━━━━━━━━━━━━━━━━━━━━━━━━━┳━━━━━━━━━━━━━━━━━━━━━━━━━━━━━┳━━━━━━━━━━━━━━━━━┓\n",
       "┃\u001b[1m \u001b[0m\u001b[1mLayer (type)                        \u001b[0m\u001b[1m \u001b[0m┃\u001b[1m \u001b[0m\u001b[1mOutput Shape               \u001b[0m\u001b[1m \u001b[0m┃\u001b[1m \u001b[0m\u001b[1m        Param #\u001b[0m\u001b[1m \u001b[0m┃\n",
       "┡━━━━━━━━━━━━━━━━━━━━━━━━━━━━━━━━━━━━━━╇━━━━━━━━━━━━━━━━━━━━━━━━━━━━━╇━━━━━━━━━━━━━━━━━┩\n",
       "│ input_layer_5 (\u001b[38;5;33mInputLayer\u001b[0m)           │ (\u001b[38;5;45mNone\u001b[0m, \u001b[38;5;34m30\u001b[0m, \u001b[38;5;34m225\u001b[0m)             │               \u001b[38;5;34m0\u001b[0m │\n",
       "├──────────────────────────────────────┼─────────────────────────────┼─────────────────┤\n",
       "│ gru (\u001b[38;5;33mGRU\u001b[0m)                            │ (\u001b[38;5;45mNone\u001b[0m, \u001b[38;5;34m30\u001b[0m, \u001b[38;5;34m128\u001b[0m)             │         \u001b[38;5;34m136,320\u001b[0m │\n",
       "├──────────────────────────────────────┼─────────────────────────────┼─────────────────┤\n",
       "│ dropout_5 (\u001b[38;5;33mDropout\u001b[0m)                  │ (\u001b[38;5;45mNone\u001b[0m, \u001b[38;5;34m30\u001b[0m, \u001b[38;5;34m128\u001b[0m)             │               \u001b[38;5;34m0\u001b[0m │\n",
       "├──────────────────────────────────────┼─────────────────────────────┼─────────────────┤\n",
       "│ gru_1 (\u001b[38;5;33mGRU\u001b[0m)                          │ (\u001b[38;5;45mNone\u001b[0m, \u001b[38;5;34m30\u001b[0m, \u001b[38;5;34m128\u001b[0m)             │          \u001b[38;5;34m99,072\u001b[0m │\n",
       "├──────────────────────────────────────┼─────────────────────────────┼─────────────────┤\n",
       "│ dropout_6 (\u001b[38;5;33mDropout\u001b[0m)                  │ (\u001b[38;5;45mNone\u001b[0m, \u001b[38;5;34m30\u001b[0m, \u001b[38;5;34m128\u001b[0m)             │               \u001b[38;5;34m0\u001b[0m │\n",
       "├──────────────────────────────────────┼─────────────────────────────┼─────────────────┤\n",
       "│ gru_2 (\u001b[38;5;33mGRU\u001b[0m)                          │ (\u001b[38;5;45mNone\u001b[0m, \u001b[38;5;34m128\u001b[0m)                 │          \u001b[38;5;34m99,072\u001b[0m │\n",
       "├──────────────────────────────────────┼─────────────────────────────┼─────────────────┤\n",
       "│ dropout_7 (\u001b[38;5;33mDropout\u001b[0m)                  │ (\u001b[38;5;45mNone\u001b[0m, \u001b[38;5;34m128\u001b[0m)                 │               \u001b[38;5;34m0\u001b[0m │\n",
       "├──────────────────────────────────────┼─────────────────────────────┼─────────────────┤\n",
       "│ dense_10 (\u001b[38;5;33mDense\u001b[0m)                     │ (\u001b[38;5;45mNone\u001b[0m, \u001b[38;5;34m502\u001b[0m)                 │          \u001b[38;5;34m64,758\u001b[0m │\n",
       "└──────────────────────────────────────┴─────────────────────────────┴─────────────────┘\n"
      ]
     },
     "metadata": {},
     "output_type": "display_data"
    },
    {
     "data": {
      "text/html": [
       "<pre style=\"white-space:pre;overflow-x:auto;line-height:normal;font-family:Menlo,'DejaVu Sans Mono',consolas,'Courier New',monospace\"><span style=\"font-weight: bold\"> Total params: </span><span style=\"color: #00af00; text-decoration-color: #00af00\">399,222</span> (1.52 MB)\n",
       "</pre>\n"
      ],
      "text/plain": [
       "\u001b[1m Total params: \u001b[0m\u001b[38;5;34m399,222\u001b[0m (1.52 MB)\n"
      ]
     },
     "metadata": {},
     "output_type": "display_data"
    },
    {
     "data": {
      "text/html": [
       "<pre style=\"white-space:pre;overflow-x:auto;line-height:normal;font-family:Menlo,'DejaVu Sans Mono',consolas,'Courier New',monospace\"><span style=\"font-weight: bold\"> Trainable params: </span><span style=\"color: #00af00; text-decoration-color: #00af00\">399,222</span> (1.52 MB)\n",
       "</pre>\n"
      ],
      "text/plain": [
       "\u001b[1m Trainable params: \u001b[0m\u001b[38;5;34m399,222\u001b[0m (1.52 MB)\n"
      ]
     },
     "metadata": {},
     "output_type": "display_data"
    },
    {
     "data": {
      "text/html": [
       "<pre style=\"white-space:pre;overflow-x:auto;line-height:normal;font-family:Menlo,'DejaVu Sans Mono',consolas,'Courier New',monospace\"><span style=\"font-weight: bold\"> Non-trainable params: </span><span style=\"color: #00af00; text-decoration-color: #00af00\">0</span> (0.00 B)\n",
       "</pre>\n"
      ],
      "text/plain": [
       "\u001b[1m Non-trainable params: \u001b[0m\u001b[38;5;34m0\u001b[0m (0.00 B)\n"
      ]
     },
     "metadata": {},
     "output_type": "display_data"
    },
    {
     "name": "stdout",
     "output_type": "stream",
     "text": [
      "Epoch 1/12\n",
      "\n",
      "Epoch 1: val_accuracy improved from -inf to 0.52264, saving model to GRU_fold1.h5\n"
     ]
    },
    {
     "name": "stderr",
     "output_type": "stream",
     "text": [
      "WARNING:absl:You are saving your model as an HDF5 file via `model.save()` or `keras.saving.save_model(model)`. This file format is considered legacy. We recommend using instead the native Keras format, e.g. `model.save('my_model.keras')` or `keras.saving.save_model(model, 'my_model.keras')`. \n"
     ]
    },
    {
     "name": "stdout",
     "output_type": "stream",
     "text": [
      "1464/1464 - 53s - 36ms/step - accuracy: 0.1972 - loss: 3.8138 - val_accuracy: 0.5226 - val_loss: 2.0114\n",
      "Epoch 2/12\n",
      "\n",
      "Epoch 2: val_accuracy improved from 0.52264 to 0.76995, saving model to GRU_fold1.h5\n"
     ]
    },
    {
     "name": "stderr",
     "output_type": "stream",
     "text": [
      "WARNING:absl:You are saving your model as an HDF5 file via `model.save()` or `keras.saving.save_model(model)`. This file format is considered legacy. We recommend using instead the native Keras format, e.g. `model.save('my_model.keras')` or `keras.saving.save_model(model, 'my_model.keras')`. \n"
     ]
    },
    {
     "name": "stdout",
     "output_type": "stream",
     "text": [
      "1464/1464 - 49s - 33ms/step - accuracy: 0.5717 - loss: 1.6590 - val_accuracy: 0.7699 - val_loss: 0.9428\n",
      "Epoch 3/12\n",
      "\n",
      "Epoch 3: val_accuracy improved from 0.76995 to 0.84444, saving model to GRU_fold1.h5\n"
     ]
    },
    {
     "name": "stderr",
     "output_type": "stream",
     "text": [
      "WARNING:absl:You are saving your model as an HDF5 file via `model.save()` or `keras.saving.save_model(model)`. This file format is considered legacy. We recommend using instead the native Keras format, e.g. `model.save('my_model.keras')` or `keras.saving.save_model(model, 'my_model.keras')`. \n"
     ]
    },
    {
     "name": "stdout",
     "output_type": "stream",
     "text": [
      "1464/1464 - 49s - 33ms/step - accuracy: 0.7306 - loss: 0.9899 - val_accuracy: 0.8444 - val_loss: 0.5620\n",
      "Epoch 4/12\n",
      "\n",
      "Epoch 4: val_accuracy improved from 0.84444 to 0.87682, saving model to GRU_fold1.h5\n"
     ]
    },
    {
     "name": "stderr",
     "output_type": "stream",
     "text": [
      "WARNING:absl:You are saving your model as an HDF5 file via `model.save()` or `keras.saving.save_model(model)`. This file format is considered legacy. We recommend using instead the native Keras format, e.g. `model.save('my_model.keras')` or `keras.saving.save_model(model, 'my_model.keras')`. \n"
     ]
    },
    {
     "name": "stdout",
     "output_type": "stream",
     "text": [
      "1464/1464 - 49s - 33ms/step - accuracy: 0.8017 - loss: 0.7025 - val_accuracy: 0.8768 - val_loss: 0.4318\n",
      "Epoch 5/12\n",
      "\n",
      "Epoch 5: val_accuracy improved from 0.87682 to 0.88647, saving model to GRU_fold1.h5\n"
     ]
    },
    {
     "name": "stderr",
     "output_type": "stream",
     "text": [
      "WARNING:absl:You are saving your model as an HDF5 file via `model.save()` or `keras.saving.save_model(model)`. This file format is considered legacy. We recommend using instead the native Keras format, e.g. `model.save('my_model.keras')` or `keras.saving.save_model(model, 'my_model.keras')`. \n"
     ]
    },
    {
     "name": "stdout",
     "output_type": "stream",
     "text": [
      "1464/1464 - 48s - 33ms/step - accuracy: 0.8406 - loss: 0.5529 - val_accuracy: 0.8865 - val_loss: 0.3855\n",
      "Epoch 6/12\n",
      "\n",
      "Epoch 6: val_accuracy improved from 0.88647 to 0.91543, saving model to GRU_fold1.h5\n"
     ]
    },
    {
     "name": "stderr",
     "output_type": "stream",
     "text": [
      "WARNING:absl:You are saving your model as an HDF5 file via `model.save()` or `keras.saving.save_model(model)`. This file format is considered legacy. We recommend using instead the native Keras format, e.g. `model.save('my_model.keras')` or `keras.saving.save_model(model, 'my_model.keras')`. \n"
     ]
    },
    {
     "name": "stdout",
     "output_type": "stream",
     "text": [
      "1464/1464 - 49s - 33ms/step - accuracy: 0.8652 - loss: 0.4628 - val_accuracy: 0.9154 - val_loss: 0.2889\n",
      "Epoch 7/12\n",
      "\n",
      "Epoch 7: val_accuracy did not improve from 0.91543\n",
      "1464/1464 - 48s - 33ms/step - accuracy: 0.8816 - loss: 0.4026 - val_accuracy: 0.9107 - val_loss: 0.2817\n",
      "Epoch 8/12\n",
      "\n",
      "Epoch 8: val_accuracy improved from 0.91543 to 0.93157, saving model to GRU_fold1.h5\n"
     ]
    },
    {
     "name": "stderr",
     "output_type": "stream",
     "text": [
      "WARNING:absl:You are saving your model as an HDF5 file via `model.save()` or `keras.saving.save_model(model)`. This file format is considered legacy. We recommend using instead the native Keras format, e.g. `model.save('my_model.keras')` or `keras.saving.save_model(model, 'my_model.keras')`. \n"
     ]
    },
    {
     "name": "stdout",
     "output_type": "stream",
     "text": [
      "1464/1464 - 49s - 33ms/step - accuracy: 0.8913 - loss: 0.3582 - val_accuracy: 0.9316 - val_loss: 0.2228\n",
      "Epoch 9/12\n",
      "\n",
      "Epoch 9: val_accuracy improved from 0.93157 to 0.94106, saving model to GRU_fold1.h5\n"
     ]
    },
    {
     "name": "stderr",
     "output_type": "stream",
     "text": [
      "WARNING:absl:You are saving your model as an HDF5 file via `model.save()` or `keras.saving.save_model(model)`. This file format is considered legacy. We recommend using instead the native Keras format, e.g. `model.save('my_model.keras')` or `keras.saving.save_model(model, 'my_model.keras')`. \n"
     ]
    },
    {
     "name": "stdout",
     "output_type": "stream",
     "text": [
      "1464/1464 - 50s - 34ms/step - accuracy: 0.8984 - loss: 0.3311 - val_accuracy: 0.9411 - val_loss: 0.2084\n",
      "Epoch 10/12\n",
      "\n",
      "Epoch 10: val_accuracy improved from 0.94106 to 0.94430, saving model to GRU_fold1.h5\n"
     ]
    },
    {
     "name": "stderr",
     "output_type": "stream",
     "text": [
      "WARNING:absl:You are saving your model as an HDF5 file via `model.save()` or `keras.saving.save_model(model)`. This file format is considered legacy. We recommend using instead the native Keras format, e.g. `model.save('my_model.keras')` or `keras.saving.save_model(model, 'my_model.keras')`. \n"
     ]
    },
    {
     "name": "stdout",
     "output_type": "stream",
     "text": [
      "1464/1464 - 50s - 34ms/step - accuracy: 0.9077 - loss: 0.3044 - val_accuracy: 0.9443 - val_loss: 0.1806\n",
      "Epoch 11/12\n",
      "\n",
      "Epoch 11: val_accuracy improved from 0.94430 to 0.94516, saving model to GRU_fold1.h5\n"
     ]
    },
    {
     "name": "stderr",
     "output_type": "stream",
     "text": [
      "WARNING:absl:You are saving your model as an HDF5 file via `model.save()` or `keras.saving.save_model(model)`. This file format is considered legacy. We recommend using instead the native Keras format, e.g. `model.save('my_model.keras')` or `keras.saving.save_model(model, 'my_model.keras')`. \n"
     ]
    },
    {
     "name": "stdout",
     "output_type": "stream",
     "text": [
      "1464/1464 - 50s - 34ms/step - accuracy: 0.9133 - loss: 0.2824 - val_accuracy: 0.9452 - val_loss: 0.1899\n",
      "Epoch 12/12\n",
      "\n",
      "Epoch 12: val_accuracy did not improve from 0.94516\n",
      "1464/1464 - 50s - 34ms/step - accuracy: 0.9137 - loss: 0.2753 - val_accuracy: 0.9360 - val_loss: 0.2028\n",
      "Fold 1 results: train_acc=0.9560, val_acc=0.9452, test_acc=0.9404\n",
      "\n",
      "Training fold 2 / 5 for GRU\n",
      "Epoch 1/12\n",
      "\n",
      "Epoch 1: val_accuracy improved from -inf to 0.47813, saving model to GRU_fold2.h5\n"
     ]
    },
    {
     "name": "stderr",
     "output_type": "stream",
     "text": [
      "WARNING:absl:You are saving your model as an HDF5 file via `model.save()` or `keras.saving.save_model(model)`. This file format is considered legacy. We recommend using instead the native Keras format, e.g. `model.save('my_model.keras')` or `keras.saving.save_model(model, 'my_model.keras')`. \n"
     ]
    },
    {
     "name": "stdout",
     "output_type": "stream",
     "text": [
      "1464/1464 - 55s - 37ms/step - accuracy: 0.2007 - loss: 3.7837 - val_accuracy: 0.4781 - val_loss: 2.1334\n",
      "Epoch 2/12\n",
      "\n",
      "Epoch 2: val_accuracy improved from 0.47813 to 0.72681, saving model to GRU_fold2.h5\n"
     ]
    },
    {
     "name": "stderr",
     "output_type": "stream",
     "text": [
      "WARNING:absl:You are saving your model as an HDF5 file via `model.save()` or `keras.saving.save_model(model)`. This file format is considered legacy. We recommend using instead the native Keras format, e.g. `model.save('my_model.keras')` or `keras.saving.save_model(model, 'my_model.keras')`. \n"
     ]
    },
    {
     "name": "stdout",
     "output_type": "stream",
     "text": [
      "1464/1464 - 51s - 35ms/step - accuracy: 0.5565 - loss: 1.7087 - val_accuracy: 0.7268 - val_loss: 1.0375\n",
      "Epoch 3/12\n",
      "\n",
      "Epoch 3: val_accuracy improved from 0.72681 to 0.81437, saving model to GRU_fold2.h5\n"
     ]
    },
    {
     "name": "stderr",
     "output_type": "stream",
     "text": [
      "WARNING:absl:You are saving your model as an HDF5 file via `model.save()` or `keras.saving.save_model(model)`. This file format is considered legacy. We recommend using instead the native Keras format, e.g. `model.save('my_model.keras')` or `keras.saving.save_model(model, 'my_model.keras')`. \n"
     ]
    },
    {
     "name": "stdout",
     "output_type": "stream",
     "text": [
      "1464/1464 - 50s - 34ms/step - accuracy: 0.7120 - loss: 1.0509 - val_accuracy: 0.8144 - val_loss: 0.6626\n",
      "Epoch 4/12\n",
      "\n",
      "Epoch 4: val_accuracy improved from 0.81437 to 0.85640, saving model to GRU_fold2.h5\n"
     ]
    },
    {
     "name": "stderr",
     "output_type": "stream",
     "text": [
      "WARNING:absl:You are saving your model as an HDF5 file via `model.save()` or `keras.saving.save_model(model)`. This file format is considered legacy. We recommend using instead the native Keras format, e.g. `model.save('my_model.keras')` or `keras.saving.save_model(model, 'my_model.keras')`. \n"
     ]
    },
    {
     "name": "stdout",
     "output_type": "stream",
     "text": [
      "1464/1464 - 50s - 34ms/step - accuracy: 0.7874 - loss: 0.7489 - val_accuracy: 0.8564 - val_loss: 0.4806\n",
      "Epoch 5/12\n",
      "\n",
      "Epoch 5: val_accuracy improved from 0.85640 to 0.90193, saving model to GRU_fold2.h5\n"
     ]
    },
    {
     "name": "stderr",
     "output_type": "stream",
     "text": [
      "WARNING:absl:You are saving your model as an HDF5 file via `model.save()` or `keras.saving.save_model(model)`. This file format is considered legacy. We recommend using instead the native Keras format, e.g. `model.save('my_model.keras')` or `keras.saving.save_model(model, 'my_model.keras')`. \n"
     ]
    },
    {
     "name": "stdout",
     "output_type": "stream",
     "text": [
      "1464/1464 - 50s - 34ms/step - accuracy: 0.8252 - loss: 0.5938 - val_accuracy: 0.9019 - val_loss: 0.3332\n",
      "Epoch 6/12\n",
      "\n",
      "Epoch 6: val_accuracy improved from 0.90193 to 0.91133, saving model to GRU_fold2.h5\n"
     ]
    },
    {
     "name": "stderr",
     "output_type": "stream",
     "text": [
      "WARNING:absl:You are saving your model as an HDF5 file via `model.save()` or `keras.saving.save_model(model)`. This file format is considered legacy. We recommend using instead the native Keras format, e.g. `model.save('my_model.keras')` or `keras.saving.save_model(model, 'my_model.keras')`. \n"
     ]
    },
    {
     "name": "stdout",
     "output_type": "stream",
     "text": [
      "1464/1464 - 50s - 34ms/step - accuracy: 0.8515 - loss: 0.5048 - val_accuracy: 0.9113 - val_loss: 0.2892\n",
      "Epoch 7/12\n",
      "\n",
      "Epoch 7: val_accuracy improved from 0.91133 to 0.92209, saving model to GRU_fold2.h5\n"
     ]
    },
    {
     "name": "stderr",
     "output_type": "stream",
     "text": [
      "WARNING:absl:You are saving your model as an HDF5 file via `model.save()` or `keras.saving.save_model(model)`. This file format is considered legacy. We recommend using instead the native Keras format, e.g. `model.save('my_model.keras')` or `keras.saving.save_model(model, 'my_model.keras')`. \n"
     ]
    },
    {
     "name": "stdout",
     "output_type": "stream",
     "text": [
      "1464/1464 - 50s - 34ms/step - accuracy: 0.8744 - loss: 0.4231 - val_accuracy: 0.9221 - val_loss: 0.2540\n",
      "Epoch 8/12\n",
      "\n",
      "Epoch 8: val_accuracy improved from 0.92209 to 0.93183, saving model to GRU_fold2.h5\n"
     ]
    },
    {
     "name": "stderr",
     "output_type": "stream",
     "text": [
      "WARNING:absl:You are saving your model as an HDF5 file via `model.save()` or `keras.saving.save_model(model)`. This file format is considered legacy. We recommend using instead the native Keras format, e.g. `model.save('my_model.keras')` or `keras.saving.save_model(model, 'my_model.keras')`. \n"
     ]
    },
    {
     "name": "stdout",
     "output_type": "stream",
     "text": [
      "1464/1464 - 50s - 34ms/step - accuracy: 0.8878 - loss: 0.3808 - val_accuracy: 0.9318 - val_loss: 0.2208\n",
      "Epoch 9/12\n",
      "\n",
      "Epoch 9: val_accuracy did not improve from 0.93183\n",
      "1464/1464 - 50s - 34ms/step - accuracy: 0.8918 - loss: 0.3557 - val_accuracy: 0.9204 - val_loss: 0.2545\n",
      "Epoch 10/12\n",
      "\n",
      "Epoch 10: val_accuracy did not improve from 0.93183\n",
      "1464/1464 - 50s - 34ms/step - accuracy: 0.9015 - loss: 0.3225 - val_accuracy: 0.9267 - val_loss: 0.2343\n",
      "Epoch 11/12\n",
      "\n",
      "Epoch 11: val_accuracy improved from 0.93183 to 0.94533, saving model to GRU_fold2.h5\n"
     ]
    },
    {
     "name": "stderr",
     "output_type": "stream",
     "text": [
      "WARNING:absl:You are saving your model as an HDF5 file via `model.save()` or `keras.saving.save_model(model)`. This file format is considered legacy. We recommend using instead the native Keras format, e.g. `model.save('my_model.keras')` or `keras.saving.save_model(model, 'my_model.keras')`. \n"
     ]
    },
    {
     "name": "stdout",
     "output_type": "stream",
     "text": [
      "1464/1464 - 50s - 34ms/step - accuracy: 0.9059 - loss: 0.3056 - val_accuracy: 0.9453 - val_loss: 0.1740\n",
      "Epoch 12/12\n",
      "\n",
      "Epoch 12: val_accuracy did not improve from 0.94533\n",
      "1464/1464 - 50s - 34ms/step - accuracy: 0.9116 - loss: 0.2859 - val_accuracy: 0.9392 - val_loss: 0.1834\n",
      "Fold 2 results: train_acc=0.9606, val_acc=0.9453, test_acc=0.9462\n",
      "\n",
      "Training fold 3 / 5 for GRU\n",
      "Epoch 1/12\n",
      "\n",
      "Epoch 1: val_accuracy improved from -inf to 0.50256, saving model to GRU_fold3.h5\n"
     ]
    },
    {
     "name": "stderr",
     "output_type": "stream",
     "text": [
      "WARNING:absl:You are saving your model as an HDF5 file via `model.save()` or `keras.saving.save_model(model)`. This file format is considered legacy. We recommend using instead the native Keras format, e.g. `model.save('my_model.keras')` or `keras.saving.save_model(model, 'my_model.keras')`. \n"
     ]
    },
    {
     "name": "stdout",
     "output_type": "stream",
     "text": [
      "1464/1464 - 54s - 37ms/step - accuracy: 0.1822 - loss: 3.8991 - val_accuracy: 0.5026 - val_loss: 2.0929\n",
      "Epoch 2/12\n",
      "\n",
      "Epoch 2: val_accuracy improved from 0.50256 to 0.74953, saving model to GRU_fold3.h5\n"
     ]
    },
    {
     "name": "stderr",
     "output_type": "stream",
     "text": [
      "WARNING:absl:You are saving your model as an HDF5 file via `model.save()` or `keras.saving.save_model(model)`. This file format is considered legacy. We recommend using instead the native Keras format, e.g. `model.save('my_model.keras')` or `keras.saving.save_model(model, 'my_model.keras')`. \n"
     ]
    },
    {
     "name": "stdout",
     "output_type": "stream",
     "text": [
      "1464/1464 - 50s - 34ms/step - accuracy: 0.5663 - loss: 1.6916 - val_accuracy: 0.7495 - val_loss: 1.0055\n",
      "Epoch 3/12\n",
      "\n",
      "Epoch 3: val_accuracy improved from 0.74953 to 0.83154, saving model to GRU_fold3.h5\n"
     ]
    },
    {
     "name": "stderr",
     "output_type": "stream",
     "text": [
      "WARNING:absl:You are saving your model as an HDF5 file via `model.save()` or `keras.saving.save_model(model)`. This file format is considered legacy. We recommend using instead the native Keras format, e.g. `model.save('my_model.keras')` or `keras.saving.save_model(model, 'my_model.keras')`. \n"
     ]
    },
    {
     "name": "stdout",
     "output_type": "stream",
     "text": [
      "1464/1464 - 50s - 34ms/step - accuracy: 0.7259 - loss: 1.0124 - val_accuracy: 0.8315 - val_loss: 0.6210\n",
      "Epoch 4/12\n",
      "\n",
      "Epoch 4: val_accuracy improved from 0.83154 to 0.87904, saving model to GRU_fold3.h5\n"
     ]
    },
    {
     "name": "stderr",
     "output_type": "stream",
     "text": [
      "WARNING:absl:You are saving your model as an HDF5 file via `model.save()` or `keras.saving.save_model(model)`. This file format is considered legacy. We recommend using instead the native Keras format, e.g. `model.save('my_model.keras')` or `keras.saving.save_model(model, 'my_model.keras')`. \n"
     ]
    },
    {
     "name": "stdout",
     "output_type": "stream",
     "text": [
      "1464/1464 - 50s - 34ms/step - accuracy: 0.7946 - loss: 0.7293 - val_accuracy: 0.8790 - val_loss: 0.4476\n",
      "Epoch 5/12\n",
      "\n",
      "Epoch 5: val_accuracy improved from 0.87904 to 0.88818, saving model to GRU_fold3.h5\n"
     ]
    },
    {
     "name": "stderr",
     "output_type": "stream",
     "text": [
      "WARNING:absl:You are saving your model as an HDF5 file via `model.save()` or `keras.saving.save_model(model)`. This file format is considered legacy. We recommend using instead the native Keras format, e.g. `model.save('my_model.keras')` or `keras.saving.save_model(model, 'my_model.keras')`. \n"
     ]
    },
    {
     "name": "stdout",
     "output_type": "stream",
     "text": [
      "1464/1464 - 50s - 34ms/step - accuracy: 0.8381 - loss: 0.5718 - val_accuracy: 0.8882 - val_loss: 0.3752\n",
      "Epoch 6/12\n",
      "\n",
      "Epoch 6: val_accuracy improved from 0.88818 to 0.91833, saving model to GRU_fold3.h5\n"
     ]
    },
    {
     "name": "stderr",
     "output_type": "stream",
     "text": [
      "WARNING:absl:You are saving your model as an HDF5 file via `model.save()` or `keras.saving.save_model(model)`. This file format is considered legacy. We recommend using instead the native Keras format, e.g. `model.save('my_model.keras')` or `keras.saving.save_model(model, 'my_model.keras')`. \n"
     ]
    },
    {
     "name": "stdout",
     "output_type": "stream",
     "text": [
      "1464/1464 - 50s - 34ms/step - accuracy: 0.8549 - loss: 0.4954 - val_accuracy: 0.9183 - val_loss: 0.2818\n",
      "Epoch 7/12\n",
      "\n",
      "Epoch 7: val_accuracy improved from 0.91833 to 0.92047, saving model to GRU_fold3.h5\n"
     ]
    },
    {
     "name": "stderr",
     "output_type": "stream",
     "text": [
      "WARNING:absl:You are saving your model as an HDF5 file via `model.save()` or `keras.saving.save_model(model)`. This file format is considered legacy. We recommend using instead the native Keras format, e.g. `model.save('my_model.keras')` or `keras.saving.save_model(model, 'my_model.keras')`. \n"
     ]
    },
    {
     "name": "stdout",
     "output_type": "stream",
     "text": [
      "1464/1464 - 50s - 34ms/step - accuracy: 0.8753 - loss: 0.4188 - val_accuracy: 0.9205 - val_loss: 0.2675\n",
      "Epoch 8/12\n",
      "\n",
      "Epoch 8: val_accuracy improved from 0.92047 to 0.93465, saving model to GRU_fold3.h5\n"
     ]
    },
    {
     "name": "stderr",
     "output_type": "stream",
     "text": [
      "WARNING:absl:You are saving your model as an HDF5 file via `model.save()` or `keras.saving.save_model(model)`. This file format is considered legacy. We recommend using instead the native Keras format, e.g. `model.save('my_model.keras')` or `keras.saving.save_model(model, 'my_model.keras')`. \n"
     ]
    },
    {
     "name": "stdout",
     "output_type": "stream",
     "text": [
      "1464/1464 - 50s - 34ms/step - accuracy: 0.8808 - loss: 0.3913 - val_accuracy: 0.9346 - val_loss: 0.2189\n",
      "Epoch 9/12\n",
      "\n",
      "Epoch 9: val_accuracy did not improve from 0.93465\n",
      "1464/1464 - 50s - 34ms/step - accuracy: 0.8954 - loss: 0.3481 - val_accuracy: 0.9293 - val_loss: 0.2300\n",
      "Epoch 10/12\n",
      "\n",
      "Epoch 10: val_accuracy improved from 0.93465 to 0.93636, saving model to GRU_fold3.h5\n"
     ]
    },
    {
     "name": "stderr",
     "output_type": "stream",
     "text": [
      "WARNING:absl:You are saving your model as an HDF5 file via `model.save()` or `keras.saving.save_model(model)`. This file format is considered legacy. We recommend using instead the native Keras format, e.g. `model.save('my_model.keras')` or `keras.saving.save_model(model, 'my_model.keras')`. \n"
     ]
    },
    {
     "name": "stdout",
     "output_type": "stream",
     "text": [
      "1464/1464 - 50s - 34ms/step - accuracy: 0.8978 - loss: 0.3321 - val_accuracy: 0.9364 - val_loss: 0.2013\n",
      "Epoch 11/12\n",
      "\n",
      "Epoch 11: val_accuracy improved from 0.93636 to 0.94242, saving model to GRU_fold3.h5\n"
     ]
    },
    {
     "name": "stderr",
     "output_type": "stream",
     "text": [
      "WARNING:absl:You are saving your model as an HDF5 file via `model.save()` or `keras.saving.save_model(model)`. This file format is considered legacy. We recommend using instead the native Keras format, e.g. `model.save('my_model.keras')` or `keras.saving.save_model(model, 'my_model.keras')`. \n"
     ]
    },
    {
     "name": "stdout",
     "output_type": "stream",
     "text": [
      "1464/1464 - 50s - 34ms/step - accuracy: 0.9074 - loss: 0.3036 - val_accuracy: 0.9424 - val_loss: 0.1864\n",
      "Epoch 12/12\n",
      "\n",
      "Epoch 12: val_accuracy improved from 0.94242 to 0.94456, saving model to GRU_fold3.h5\n"
     ]
    },
    {
     "name": "stderr",
     "output_type": "stream",
     "text": [
      "WARNING:absl:You are saving your model as an HDF5 file via `model.save()` or `keras.saving.save_model(model)`. This file format is considered legacy. We recommend using instead the native Keras format, e.g. `model.save('my_model.keras')` or `keras.saving.save_model(model, 'my_model.keras')`. \n"
     ]
    },
    {
     "name": "stdout",
     "output_type": "stream",
     "text": [
      "1464/1464 - 50s - 34ms/step - accuracy: 0.9126 - loss: 0.2834 - val_accuracy: 0.9446 - val_loss: 0.1747\n",
      "Fold 3 results: train_acc=0.9592, val_acc=0.9446, test_acc=0.9446\n",
      "\n",
      "Training fold 4 / 5 for GRU\n",
      "Epoch 1/12\n",
      "\n",
      "Epoch 1: val_accuracy improved from -inf to 0.48548, saving model to GRU_fold4.h5\n"
     ]
    },
    {
     "name": "stderr",
     "output_type": "stream",
     "text": [
      "WARNING:absl:You are saving your model as an HDF5 file via `model.save()` or `keras.saving.save_model(model)`. This file format is considered legacy. We recommend using instead the native Keras format, e.g. `model.save('my_model.keras')` or `keras.saving.save_model(model, 'my_model.keras')`. \n"
     ]
    },
    {
     "name": "stdout",
     "output_type": "stream",
     "text": [
      "1464/1464 - 54s - 37ms/step - accuracy: 0.1741 - loss: 3.9206 - val_accuracy: 0.4855 - val_loss: 2.1803\n",
      "Epoch 2/12\n",
      "\n",
      "Epoch 2: val_accuracy improved from 0.48548 to 0.72553, saving model to GRU_fold4.h5\n"
     ]
    },
    {
     "name": "stderr",
     "output_type": "stream",
     "text": [
      "WARNING:absl:You are saving your model as an HDF5 file via `model.save()` or `keras.saving.save_model(model)`. This file format is considered legacy. We recommend using instead the native Keras format, e.g. `model.save('my_model.keras')` or `keras.saving.save_model(model, 'my_model.keras')`. \n"
     ]
    },
    {
     "name": "stdout",
     "output_type": "stream",
     "text": [
      "1464/1464 - 51s - 35ms/step - accuracy: 0.5273 - loss: 1.8178 - val_accuracy: 0.7255 - val_loss: 1.0680\n",
      "Epoch 3/12\n",
      "\n",
      "Epoch 3: val_accuracy improved from 0.72553 to 0.81386, saving model to GRU_fold4.h5\n"
     ]
    },
    {
     "name": "stderr",
     "output_type": "stream",
     "text": [
      "WARNING:absl:You are saving your model as an HDF5 file via `model.save()` or `keras.saving.save_model(model)`. This file format is considered legacy. We recommend using instead the native Keras format, e.g. `model.save('my_model.keras')` or `keras.saving.save_model(model, 'my_model.keras')`. \n"
     ]
    },
    {
     "name": "stdout",
     "output_type": "stream",
     "text": [
      "1464/1464 - 51s - 35ms/step - accuracy: 0.6979 - loss: 1.0974 - val_accuracy: 0.8139 - val_loss: 0.6930\n",
      "Epoch 4/12\n",
      "\n",
      "Epoch 4: val_accuracy improved from 0.81386 to 0.88314, saving model to GRU_fold4.h5\n"
     ]
    },
    {
     "name": "stderr",
     "output_type": "stream",
     "text": [
      "WARNING:absl:You are saving your model as an HDF5 file via `model.save()` or `keras.saving.save_model(model)`. This file format is considered legacy. We recommend using instead the native Keras format, e.g. `model.save('my_model.keras')` or `keras.saving.save_model(model, 'my_model.keras')`. \n"
     ]
    },
    {
     "name": "stdout",
     "output_type": "stream",
     "text": [
      "1464/1464 - 51s - 35ms/step - accuracy: 0.7819 - loss: 0.7788 - val_accuracy: 0.8831 - val_loss: 0.4443\n",
      "Epoch 5/12\n",
      "\n",
      "Epoch 5: val_accuracy improved from 0.88314 to 0.89527, saving model to GRU_fold4.h5\n"
     ]
    },
    {
     "name": "stderr",
     "output_type": "stream",
     "text": [
      "WARNING:absl:You are saving your model as an HDF5 file via `model.save()` or `keras.saving.save_model(model)`. This file format is considered legacy. We recommend using instead the native Keras format, e.g. `model.save('my_model.keras')` or `keras.saving.save_model(model, 'my_model.keras')`. \n"
     ]
    },
    {
     "name": "stdout",
     "output_type": "stream",
     "text": [
      "1464/1464 - 50s - 34ms/step - accuracy: 0.8271 - loss: 0.6054 - val_accuracy: 0.8953 - val_loss: 0.3541\n",
      "Epoch 6/12\n",
      "\n",
      "Epoch 6: val_accuracy improved from 0.89527 to 0.91022, saving model to GRU_fold4.h5\n"
     ]
    },
    {
     "name": "stderr",
     "output_type": "stream",
     "text": [
      "WARNING:absl:You are saving your model as an HDF5 file via `model.save()` or `keras.saving.save_model(model)`. This file format is considered legacy. We recommend using instead the native Keras format, e.g. `model.save('my_model.keras')` or `keras.saving.save_model(model, 'my_model.keras')`. \n"
     ]
    },
    {
     "name": "stdout",
     "output_type": "stream",
     "text": [
      "1464/1464 - 50s - 34ms/step - accuracy: 0.8516 - loss: 0.5089 - val_accuracy: 0.9102 - val_loss: 0.2974\n",
      "Epoch 7/12\n",
      "\n",
      "Epoch 7: val_accuracy improved from 0.91022 to 0.93115, saving model to GRU_fold4.h5\n"
     ]
    },
    {
     "name": "stderr",
     "output_type": "stream",
     "text": [
      "WARNING:absl:You are saving your model as an HDF5 file via `model.save()` or `keras.saving.save_model(model)`. This file format is considered legacy. We recommend using instead the native Keras format, e.g. `model.save('my_model.keras')` or `keras.saving.save_model(model, 'my_model.keras')`. \n"
     ]
    },
    {
     "name": "stdout",
     "output_type": "stream",
     "text": [
      "1464/1464 - 52s - 36ms/step - accuracy: 0.8700 - loss: 0.4398 - val_accuracy: 0.9311 - val_loss: 0.2452\n",
      "Epoch 8/12\n",
      "\n",
      "Epoch 8: val_accuracy did not improve from 0.93115\n",
      "1464/1464 - 52s - 35ms/step - accuracy: 0.8800 - loss: 0.4011 - val_accuracy: 0.9244 - val_loss: 0.2477\n",
      "Epoch 9/12\n",
      "\n",
      "Epoch 9: val_accuracy did not improve from 0.93115\n",
      "1464/1464 - 52s - 36ms/step - accuracy: 0.8898 - loss: 0.3670 - val_accuracy: 0.9195 - val_loss: 0.2628\n",
      "Epoch 10/12\n",
      "\n",
      "Epoch 10: val_accuracy improved from 0.93115 to 0.94379, saving model to GRU_fold4.h5\n"
     ]
    },
    {
     "name": "stderr",
     "output_type": "stream",
     "text": [
      "WARNING:absl:You are saving your model as an HDF5 file via `model.save()` or `keras.saving.save_model(model)`. This file format is considered legacy. We recommend using instead the native Keras format, e.g. `model.save('my_model.keras')` or `keras.saving.save_model(model, 'my_model.keras')`. \n"
     ]
    },
    {
     "name": "stdout",
     "output_type": "stream",
     "text": [
      "1464/1464 - 51s - 35ms/step - accuracy: 0.9002 - loss: 0.3307 - val_accuracy: 0.9438 - val_loss: 0.1896\n",
      "Epoch 11/12\n",
      "\n",
      "Epoch 11: val_accuracy improved from 0.94379 to 0.94900, saving model to GRU_fold4.h5\n"
     ]
    },
    {
     "name": "stderr",
     "output_type": "stream",
     "text": [
      "WARNING:absl:You are saving your model as an HDF5 file via `model.save()` or `keras.saving.save_model(model)`. This file format is considered legacy. We recommend using instead the native Keras format, e.g. `model.save('my_model.keras')` or `keras.saving.save_model(model, 'my_model.keras')`. \n"
     ]
    },
    {
     "name": "stdout",
     "output_type": "stream",
     "text": [
      "1464/1464 - 50s - 34ms/step - accuracy: 0.9047 - loss: 0.3106 - val_accuracy: 0.9490 - val_loss: 0.1716\n",
      "Epoch 12/12\n",
      "\n",
      "Epoch 12: val_accuracy did not improve from 0.94900\n",
      "1464/1464 - 50s - 34ms/step - accuracy: 0.9074 - loss: 0.3004 - val_accuracy: 0.9442 - val_loss: 0.1764\n",
      "Fold 4 results: train_acc=0.9560, val_acc=0.9490, test_acc=0.9430\n",
      "\n",
      "Training fold 5 / 5 for GRU\n",
      "Epoch 1/12\n",
      "\n",
      "Epoch 1: val_accuracy improved from -inf to 0.51320, saving model to GRU_fold5.h5\n"
     ]
    },
    {
     "name": "stderr",
     "output_type": "stream",
     "text": [
      "WARNING:absl:You are saving your model as an HDF5 file via `model.save()` or `keras.saving.save_model(model)`. This file format is considered legacy. We recommend using instead the native Keras format, e.g. `model.save('my_model.keras')` or `keras.saving.save_model(model, 'my_model.keras')`. \n"
     ]
    },
    {
     "name": "stdout",
     "output_type": "stream",
     "text": [
      "1464/1464 - 55s - 38ms/step - accuracy: 0.1955 - loss: 3.8406 - val_accuracy: 0.5132 - val_loss: 2.0367\n",
      "Epoch 2/12\n",
      "\n",
      "Epoch 2: val_accuracy improved from 0.51320 to 0.75805, saving model to GRU_fold5.h5\n"
     ]
    },
    {
     "name": "stderr",
     "output_type": "stream",
     "text": [
      "WARNING:absl:You are saving your model as an HDF5 file via `model.save()` or `keras.saving.save_model(model)`. This file format is considered legacy. We recommend using instead the native Keras format, e.g. `model.save('my_model.keras')` or `keras.saving.save_model(model, 'my_model.keras')`. \n"
     ]
    },
    {
     "name": "stdout",
     "output_type": "stream",
     "text": [
      "1464/1464 - 51s - 35ms/step - accuracy: 0.5747 - loss: 1.6435 - val_accuracy: 0.7581 - val_loss: 0.9467\n",
      "Epoch 3/12\n",
      "\n",
      "Epoch 3: val_accuracy improved from 0.75805 to 0.82050, saving model to GRU_fold5.h5\n"
     ]
    },
    {
     "name": "stderr",
     "output_type": "stream",
     "text": [
      "WARNING:absl:You are saving your model as an HDF5 file via `model.save()` or `keras.saving.save_model(model)`. This file format is considered legacy. We recommend using instead the native Keras format, e.g. `model.save('my_model.keras')` or `keras.saving.save_model(model, 'my_model.keras')`. \n"
     ]
    },
    {
     "name": "stdout",
     "output_type": "stream",
     "text": [
      "1464/1464 - 50s - 34ms/step - accuracy: 0.7319 - loss: 0.9781 - val_accuracy: 0.8205 - val_loss: 0.6515\n",
      "Epoch 4/12\n",
      "\n",
      "Epoch 4: val_accuracy improved from 0.82050 to 0.88065, saving model to GRU_fold5.h5\n"
     ]
    },
    {
     "name": "stderr",
     "output_type": "stream",
     "text": [
      "WARNING:absl:You are saving your model as an HDF5 file via `model.save()` or `keras.saving.save_model(model)`. This file format is considered legacy. We recommend using instead the native Keras format, e.g. `model.save('my_model.keras')` or `keras.saving.save_model(model, 'my_model.keras')`. \n"
     ]
    },
    {
     "name": "stdout",
     "output_type": "stream",
     "text": [
      "1464/1464 - 50s - 34ms/step - accuracy: 0.8035 - loss: 0.6985 - val_accuracy: 0.8806 - val_loss: 0.4177\n",
      "Epoch 5/12\n",
      "\n",
      "Epoch 5: val_accuracy improved from 0.88065 to 0.89902, saving model to GRU_fold5.h5\n"
     ]
    },
    {
     "name": "stderr",
     "output_type": "stream",
     "text": [
      "WARNING:absl:You are saving your model as an HDF5 file via `model.save()` or `keras.saving.save_model(model)`. This file format is considered legacy. We recommend using instead the native Keras format, e.g. `model.save('my_model.keras')` or `keras.saving.save_model(model, 'my_model.keras')`. \n"
     ]
    },
    {
     "name": "stdout",
     "output_type": "stream",
     "text": [
      "1464/1464 - 50s - 34ms/step - accuracy: 0.8398 - loss: 0.5511 - val_accuracy: 0.8990 - val_loss: 0.3416\n",
      "Epoch 6/12\n",
      "\n",
      "Epoch 6: val_accuracy improved from 0.89902 to 0.91346, saving model to GRU_fold5.h5\n"
     ]
    },
    {
     "name": "stderr",
     "output_type": "stream",
     "text": [
      "WARNING:absl:You are saving your model as an HDF5 file via `model.save()` or `keras.saving.save_model(model)`. This file format is considered legacy. We recommend using instead the native Keras format, e.g. `model.save('my_model.keras')` or `keras.saving.save_model(model, 'my_model.keras')`. \n"
     ]
    },
    {
     "name": "stdout",
     "output_type": "stream",
     "text": [
      "1464/1464 - 50s - 34ms/step - accuracy: 0.8645 - loss: 0.4649 - val_accuracy: 0.9135 - val_loss: 0.2996\n",
      "Epoch 7/12\n",
      "\n",
      "Epoch 7: val_accuracy improved from 0.91346 to 0.91508, saving model to GRU_fold5.h5\n"
     ]
    },
    {
     "name": "stderr",
     "output_type": "stream",
     "text": [
      "WARNING:absl:You are saving your model as an HDF5 file via `model.save()` or `keras.saving.save_model(model)`. This file format is considered legacy. We recommend using instead the native Keras format, e.g. `model.save('my_model.keras')` or `keras.saving.save_model(model, 'my_model.keras')`. \n"
     ]
    },
    {
     "name": "stdout",
     "output_type": "stream",
     "text": [
      "1464/1464 - 50s - 34ms/step - accuracy: 0.8803 - loss: 0.4043 - val_accuracy: 0.9151 - val_loss: 0.2907\n",
      "Epoch 8/12\n",
      "\n",
      "Epoch 8: val_accuracy improved from 0.91508 to 0.92516, saving model to GRU_fold5.h5\n"
     ]
    },
    {
     "name": "stderr",
     "output_type": "stream",
     "text": [
      "WARNING:absl:You are saving your model as an HDF5 file via `model.save()` or `keras.saving.save_model(model)`. This file format is considered legacy. We recommend using instead the native Keras format, e.g. `model.save('my_model.keras')` or `keras.saving.save_model(model, 'my_model.keras')`. \n"
     ]
    },
    {
     "name": "stdout",
     "output_type": "stream",
     "text": [
      "1464/1464 - 50s - 34ms/step - accuracy: 0.8890 - loss: 0.3687 - val_accuracy: 0.9252 - val_loss: 0.2400\n",
      "Epoch 9/12\n",
      "\n",
      "Epoch 9: val_accuracy did not improve from 0.92516\n",
      "1464/1464 - 50s - 34ms/step - accuracy: 0.8996 - loss: 0.3328 - val_accuracy: 0.9110 - val_loss: 0.2889\n",
      "Epoch 10/12\n",
      "\n",
      "Epoch 10: val_accuracy improved from 0.92516 to 0.94378, saving model to GRU_fold5.h5\n"
     ]
    },
    {
     "name": "stderr",
     "output_type": "stream",
     "text": [
      "WARNING:absl:You are saving your model as an HDF5 file via `model.save()` or `keras.saving.save_model(model)`. This file format is considered legacy. We recommend using instead the native Keras format, e.g. `model.save('my_model.keras')` or `keras.saving.save_model(model, 'my_model.keras')`. \n"
     ]
    },
    {
     "name": "stdout",
     "output_type": "stream",
     "text": [
      "1464/1464 - 50s - 34ms/step - accuracy: 0.9071 - loss: 0.3064 - val_accuracy: 0.9438 - val_loss: 0.1963\n",
      "Epoch 11/12\n",
      "\n",
      "Epoch 11: val_accuracy did not improve from 0.94378\n",
      "1464/1464 - 50s - 34ms/step - accuracy: 0.9114 - loss: 0.2914 - val_accuracy: 0.9416 - val_loss: 0.1802\n",
      "Epoch 12/12\n",
      "\n",
      "Epoch 12: val_accuracy did not improve from 0.94378\n",
      "1464/1464 - 50s - 34ms/step - accuracy: 0.9166 - loss: 0.2670 - val_accuracy: 0.9382 - val_loss: 0.2078\n",
      "Fold 5 results: train_acc=0.9563, val_acc=0.9438, test_acc=0.9423\n",
      "\n",
      "Best Test accuracy: 0.9423 from model: GRU_fold5.h5\n"
     ]
    }
   ],
   "source": [
    "gru_results, gru_best_model = train_and_evaluate_model('GRU', X_train, y_train, X_test, y_test, NUM_FOLDS, EPOCHS, BATCH_SIZE)"
   ]
  },
  {
   "cell_type": "markdown",
   "id": "71ad85a4-a365-4d42-9be3-c596bcd8a770",
   "metadata": {},
   "source": [
    "### Train ViT"
   ]
  },
  {
   "cell_type": "code",
   "execution_count": 23,
   "id": "12b53f75-3888-4257-b8bc-4cbcaca04428",
   "metadata": {
    "scrolled": true
   },
   "outputs": [
    {
     "name": "stdout",
     "output_type": "stream",
     "text": [
      "\n",
      "Training fold 1 / 5 for ViT\n",
      "WARNING:tensorflow:From C:\\Users\\UNKN0VVlV\\AppData\\Local\\Programs\\Python\\Python311\\Lib\\site-packages\\keras\\src\\backend\\tensorflow\\core.py:219: The name tf.placeholder is deprecated. Please use tf.compat.v1.placeholder instead.\n",
      "\n"
     ]
    },
    {
     "name": "stderr",
     "output_type": "stream",
     "text": [
      "WARNING:tensorflow:From C:\\Users\\UNKN0VVlV\\AppData\\Local\\Programs\\Python\\Python311\\Lib\\site-packages\\keras\\src\\backend\\tensorflow\\core.py:219: The name tf.placeholder is deprecated. Please use tf.compat.v1.placeholder instead.\n",
      "\n"
     ]
    },
    {
     "data": {
      "text/html": [
       "<pre style=\"white-space:pre;overflow-x:auto;line-height:normal;font-family:Menlo,'DejaVu Sans Mono',consolas,'Courier New',monospace\"><span style=\"font-weight: bold\">Model: \"ViT_Enhanced\"</span>\n",
       "</pre>\n"
      ],
      "text/plain": [
       "\u001b[1mModel: \"ViT_Enhanced\"\u001b[0m\n"
      ]
     },
     "metadata": {},
     "output_type": "display_data"
    },
    {
     "data": {
      "text/html": [
       "<pre style=\"white-space:pre;overflow-x:auto;line-height:normal;font-family:Menlo,'DejaVu Sans Mono',consolas,'Courier New',monospace\">┏━━━━━━━━━━━━━━━━━━━━━━━━━━━━━━━━━━━━━━┳━━━━━━━━━━━━━━━━━━━━━━━━━━━━━┳━━━━━━━━━━━━━━━━━┓\n",
       "┃<span style=\"font-weight: bold\"> Layer (type)                         </span>┃<span style=\"font-weight: bold\"> Output Shape                </span>┃<span style=\"font-weight: bold\">         Param # </span>┃\n",
       "┡━━━━━━━━━━━━━━━━━━━━━━━━━━━━━━━━━━━━━━╇━━━━━━━━━━━━━━━━━━━━━━━━━━━━━╇━━━━━━━━━━━━━━━━━┩\n",
       "│ input_layer_10 (<span style=\"color: #0087ff; text-decoration-color: #0087ff\">InputLayer</span>)          │ (<span style=\"color: #00d7ff; text-decoration-color: #00d7ff\">None</span>, <span style=\"color: #00af00; text-decoration-color: #00af00\">30</span>, <span style=\"color: #00af00; text-decoration-color: #00af00\">225</span>)             │               <span style=\"color: #00af00; text-decoration-color: #00af00\">0</span> │\n",
       "├──────────────────────────────────────┼─────────────────────────────┼─────────────────┤\n",
       "│ patch_embedding (<span style=\"color: #0087ff; text-decoration-color: #0087ff\">PatchEmbedding</span>)     │ (<span style=\"color: #00d7ff; text-decoration-color: #00d7ff\">None</span>, <span style=\"color: #00af00; text-decoration-color: #00af00\">30</span>, <span style=\"color: #00af00; text-decoration-color: #00af00\">96</span>)              │          <span style=\"color: #00af00; text-decoration-color: #00af00\">24,576</span> │\n",
       "├──────────────────────────────────────┼─────────────────────────────┼─────────────────┤\n",
       "│ transformer_block (<span style=\"color: #0087ff; text-decoration-color: #0087ff\">TransformerBlock</span>) │ (<span style=\"color: #00d7ff; text-decoration-color: #00d7ff\">None</span>, <span style=\"color: #00af00; text-decoration-color: #00af00\">30</span>, <span style=\"color: #00af00; text-decoration-color: #00af00\">96</span>)              │         <span style=\"color: #00af00; text-decoration-color: #00af00\">260,544</span> │\n",
       "├──────────────────────────────────────┼─────────────────────────────┼─────────────────┤\n",
       "│ transformer_block_1                  │ (<span style=\"color: #00d7ff; text-decoration-color: #00d7ff\">None</span>, <span style=\"color: #00af00; text-decoration-color: #00af00\">30</span>, <span style=\"color: #00af00; text-decoration-color: #00af00\">96</span>)              │         <span style=\"color: #00af00; text-decoration-color: #00af00\">260,544</span> │\n",
       "│ (<span style=\"color: #0087ff; text-decoration-color: #0087ff\">TransformerBlock</span>)                   │                             │                 │\n",
       "├──────────────────────────────────────┼─────────────────────────────┼─────────────────┤\n",
       "│ transformer_block_2                  │ (<span style=\"color: #00d7ff; text-decoration-color: #00d7ff\">None</span>, <span style=\"color: #00af00; text-decoration-color: #00af00\">30</span>, <span style=\"color: #00af00; text-decoration-color: #00af00\">96</span>)              │         <span style=\"color: #00af00; text-decoration-color: #00af00\">260,544</span> │\n",
       "│ (<span style=\"color: #0087ff; text-decoration-color: #0087ff\">TransformerBlock</span>)                   │                             │                 │\n",
       "├──────────────────────────────────────┼─────────────────────────────┼─────────────────┤\n",
       "│ global_average_pooling1d             │ (<span style=\"color: #00d7ff; text-decoration-color: #00d7ff\">None</span>, <span style=\"color: #00af00; text-decoration-color: #00af00\">96</span>)                  │               <span style=\"color: #00af00; text-decoration-color: #00af00\">0</span> │\n",
       "│ (<span style=\"color: #0087ff; text-decoration-color: #0087ff\">GlobalAveragePooling1D</span>)             │                             │                 │\n",
       "├──────────────────────────────────────┼─────────────────────────────┼─────────────────┤\n",
       "│ dropout_29 (<span style=\"color: #0087ff; text-decoration-color: #0087ff\">Dropout</span>)                 │ (<span style=\"color: #00d7ff; text-decoration-color: #00d7ff\">None</span>, <span style=\"color: #00af00; text-decoration-color: #00af00\">96</span>)                  │               <span style=\"color: #00af00; text-decoration-color: #00af00\">0</span> │\n",
       "├──────────────────────────────────────┼─────────────────────────────┼─────────────────┤\n",
       "│ dense_22 (<span style=\"color: #0087ff; text-decoration-color: #0087ff\">Dense</span>)                     │ (<span style=\"color: #00d7ff; text-decoration-color: #00d7ff\">None</span>, <span style=\"color: #00af00; text-decoration-color: #00af00\">502</span>)                 │          <span style=\"color: #00af00; text-decoration-color: #00af00\">48,694</span> │\n",
       "└──────────────────────────────────────┴─────────────────────────────┴─────────────────┘\n",
       "</pre>\n"
      ],
      "text/plain": [
       "┏━━━━━━━━━━━━━━━━━━━━━━━━━━━━━━━━━━━━━━┳━━━━━━━━━━━━━━━━━━━━━━━━━━━━━┳━━━━━━━━━━━━━━━━━┓\n",
       "┃\u001b[1m \u001b[0m\u001b[1mLayer (type)                        \u001b[0m\u001b[1m \u001b[0m┃\u001b[1m \u001b[0m\u001b[1mOutput Shape               \u001b[0m\u001b[1m \u001b[0m┃\u001b[1m \u001b[0m\u001b[1m        Param #\u001b[0m\u001b[1m \u001b[0m┃\n",
       "┡━━━━━━━━━━━━━━━━━━━━━━━━━━━━━━━━━━━━━━╇━━━━━━━━━━━━━━━━━━━━━━━━━━━━━╇━━━━━━━━━━━━━━━━━┩\n",
       "│ input_layer_10 (\u001b[38;5;33mInputLayer\u001b[0m)          │ (\u001b[38;5;45mNone\u001b[0m, \u001b[38;5;34m30\u001b[0m, \u001b[38;5;34m225\u001b[0m)             │               \u001b[38;5;34m0\u001b[0m │\n",
       "├──────────────────────────────────────┼─────────────────────────────┼─────────────────┤\n",
       "│ patch_embedding (\u001b[38;5;33mPatchEmbedding\u001b[0m)     │ (\u001b[38;5;45mNone\u001b[0m, \u001b[38;5;34m30\u001b[0m, \u001b[38;5;34m96\u001b[0m)              │          \u001b[38;5;34m24,576\u001b[0m │\n",
       "├──────────────────────────────────────┼─────────────────────────────┼─────────────────┤\n",
       "│ transformer_block (\u001b[38;5;33mTransformerBlock\u001b[0m) │ (\u001b[38;5;45mNone\u001b[0m, \u001b[38;5;34m30\u001b[0m, \u001b[38;5;34m96\u001b[0m)              │         \u001b[38;5;34m260,544\u001b[0m │\n",
       "├──────────────────────────────────────┼─────────────────────────────┼─────────────────┤\n",
       "│ transformer_block_1                  │ (\u001b[38;5;45mNone\u001b[0m, \u001b[38;5;34m30\u001b[0m, \u001b[38;5;34m96\u001b[0m)              │         \u001b[38;5;34m260,544\u001b[0m │\n",
       "│ (\u001b[38;5;33mTransformerBlock\u001b[0m)                   │                             │                 │\n",
       "├──────────────────────────────────────┼─────────────────────────────┼─────────────────┤\n",
       "│ transformer_block_2                  │ (\u001b[38;5;45mNone\u001b[0m, \u001b[38;5;34m30\u001b[0m, \u001b[38;5;34m96\u001b[0m)              │         \u001b[38;5;34m260,544\u001b[0m │\n",
       "│ (\u001b[38;5;33mTransformerBlock\u001b[0m)                   │                             │                 │\n",
       "├──────────────────────────────────────┼─────────────────────────────┼─────────────────┤\n",
       "│ global_average_pooling1d             │ (\u001b[38;5;45mNone\u001b[0m, \u001b[38;5;34m96\u001b[0m)                  │               \u001b[38;5;34m0\u001b[0m │\n",
       "│ (\u001b[38;5;33mGlobalAveragePooling1D\u001b[0m)             │                             │                 │\n",
       "├──────────────────────────────────────┼─────────────────────────────┼─────────────────┤\n",
       "│ dropout_29 (\u001b[38;5;33mDropout\u001b[0m)                 │ (\u001b[38;5;45mNone\u001b[0m, \u001b[38;5;34m96\u001b[0m)                  │               \u001b[38;5;34m0\u001b[0m │\n",
       "├──────────────────────────────────────┼─────────────────────────────┼─────────────────┤\n",
       "│ dense_22 (\u001b[38;5;33mDense\u001b[0m)                     │ (\u001b[38;5;45mNone\u001b[0m, \u001b[38;5;34m502\u001b[0m)                 │          \u001b[38;5;34m48,694\u001b[0m │\n",
       "└──────────────────────────────────────┴─────────────────────────────┴─────────────────┘\n"
      ]
     },
     "metadata": {},
     "output_type": "display_data"
    },
    {
     "data": {
      "text/html": [
       "<pre style=\"white-space:pre;overflow-x:auto;line-height:normal;font-family:Menlo,'DejaVu Sans Mono',consolas,'Courier New',monospace\"><span style=\"font-weight: bold\"> Total params: </span><span style=\"color: #00af00; text-decoration-color: #00af00\">854,902</span> (3.26 MB)\n",
       "</pre>\n"
      ],
      "text/plain": [
       "\u001b[1m Total params: \u001b[0m\u001b[38;5;34m854,902\u001b[0m (3.26 MB)\n"
      ]
     },
     "metadata": {},
     "output_type": "display_data"
    },
    {
     "data": {
      "text/html": [
       "<pre style=\"white-space:pre;overflow-x:auto;line-height:normal;font-family:Menlo,'DejaVu Sans Mono',consolas,'Courier New',monospace\"><span style=\"font-weight: bold\"> Trainable params: </span><span style=\"color: #00af00; text-decoration-color: #00af00\">854,902</span> (3.26 MB)\n",
       "</pre>\n"
      ],
      "text/plain": [
       "\u001b[1m Trainable params: \u001b[0m\u001b[38;5;34m854,902\u001b[0m (3.26 MB)\n"
      ]
     },
     "metadata": {},
     "output_type": "display_data"
    },
    {
     "data": {
      "text/html": [
       "<pre style=\"white-space:pre;overflow-x:auto;line-height:normal;font-family:Menlo,'DejaVu Sans Mono',consolas,'Courier New',monospace\"><span style=\"font-weight: bold\"> Non-trainable params: </span><span style=\"color: #00af00; text-decoration-color: #00af00\">0</span> (0.00 B)\n",
       "</pre>\n"
      ],
      "text/plain": [
       "\u001b[1m Non-trainable params: \u001b[0m\u001b[38;5;34m0\u001b[0m (0.00 B)\n"
      ]
     },
     "metadata": {},
     "output_type": "display_data"
    },
    {
     "name": "stdout",
     "output_type": "stream",
     "text": [
      "Epoch 1/12\n",
      "\n",
      "Epoch 1: val_accuracy improved from -inf to 0.37442, saving model to ViT_fold1.h5\n"
     ]
    },
    {
     "name": "stderr",
     "output_type": "stream",
     "text": [
      "WARNING:absl:You are saving your model as an HDF5 file via `model.save()` or `keras.saving.save_model(model)`. This file format is considered legacy. We recommend using instead the native Keras format, e.g. `model.save('my_model.keras')` or `keras.saving.save_model(model, 'my_model.keras')`. \n"
     ]
    },
    {
     "name": "stdout",
     "output_type": "stream",
     "text": [
      "1464/1464 - 90s - 62ms/step - accuracy: 0.0915 - loss: 4.6846 - val_accuracy: 0.3744 - val_loss: 2.7464\n",
      "Epoch 2/12\n",
      "\n",
      "Epoch 2: val_accuracy improved from 0.37442 to 0.69375, saving model to ViT_fold1.h5\n"
     ]
    },
    {
     "name": "stderr",
     "output_type": "stream",
     "text": [
      "WARNING:absl:You are saving your model as an HDF5 file via `model.save()` or `keras.saving.save_model(model)`. This file format is considered legacy. We recommend using instead the native Keras format, e.g. `model.save('my_model.keras')` or `keras.saving.save_model(model, 'my_model.keras')`. \n"
     ]
    },
    {
     "name": "stdout",
     "output_type": "stream",
     "text": [
      "1464/1464 - 82s - 56ms/step - accuracy: 0.3972 - loss: 2.3264 - val_accuracy: 0.6937 - val_loss: 1.2292\n",
      "Epoch 3/12\n",
      "\n",
      "Epoch 3: val_accuracy improved from 0.69375 to 0.81949, saving model to ViT_fold1.h5\n"
     ]
    },
    {
     "name": "stderr",
     "output_type": "stream",
     "text": [
      "WARNING:absl:You are saving your model as an HDF5 file via `model.save()` or `keras.saving.save_model(model)`. This file format is considered legacy. We recommend using instead the native Keras format, e.g. `model.save('my_model.keras')` or `keras.saving.save_model(model, 'my_model.keras')`. \n"
     ]
    },
    {
     "name": "stdout",
     "output_type": "stream",
     "text": [
      "1464/1464 - 82s - 56ms/step - accuracy: 0.6238 - loss: 1.3236 - val_accuracy: 0.8195 - val_loss: 0.6850\n",
      "Epoch 4/12\n",
      "\n",
      "Epoch 4: val_accuracy improved from 0.81949 to 0.87673, saving model to ViT_fold1.h5\n"
     ]
    },
    {
     "name": "stderr",
     "output_type": "stream",
     "text": [
      "WARNING:absl:You are saving your model as an HDF5 file via `model.save()` or `keras.saving.save_model(model)`. This file format is considered legacy. We recommend using instead the native Keras format, e.g. `model.save('my_model.keras')` or `keras.saving.save_model(model, 'my_model.keras')`. \n"
     ]
    },
    {
     "name": "stdout",
     "output_type": "stream",
     "text": [
      "1464/1464 - 82s - 56ms/step - accuracy: 0.7456 - loss: 0.8678 - val_accuracy: 0.8767 - val_loss: 0.4542\n",
      "Epoch 5/12\n",
      "\n",
      "Epoch 5: val_accuracy improved from 0.87673 to 0.90466, saving model to ViT_fold1.h5\n"
     ]
    },
    {
     "name": "stderr",
     "output_type": "stream",
     "text": [
      "WARNING:absl:You are saving your model as an HDF5 file via `model.save()` or `keras.saving.save_model(model)`. This file format is considered legacy. We recommend using instead the native Keras format, e.g. `model.save('my_model.keras')` or `keras.saving.save_model(model, 'my_model.keras')`. \n"
     ]
    },
    {
     "name": "stdout",
     "output_type": "stream",
     "text": [
      "1464/1464 - 82s - 56ms/step - accuracy: 0.8126 - loss: 0.6274 - val_accuracy: 0.9047 - val_loss: 0.3450\n",
      "Epoch 6/12\n",
      "\n",
      "Epoch 6: val_accuracy improved from 0.90466 to 0.92969, saving model to ViT_fold1.h5\n"
     ]
    },
    {
     "name": "stderr",
     "output_type": "stream",
     "text": [
      "WARNING:absl:You are saving your model as an HDF5 file via `model.save()` or `keras.saving.save_model(model)`. This file format is considered legacy. We recommend using instead the native Keras format, e.g. `model.save('my_model.keras')` or `keras.saving.save_model(model, 'my_model.keras')`. \n"
     ]
    },
    {
     "name": "stdout",
     "output_type": "stream",
     "text": [
      "1464/1464 - 81s - 56ms/step - accuracy: 0.8533 - loss: 0.4867 - val_accuracy: 0.9297 - val_loss: 0.2573\n",
      "Epoch 7/12\n",
      "\n",
      "Epoch 7: val_accuracy improved from 0.92969 to 0.93610, saving model to ViT_fold1.h5\n"
     ]
    },
    {
     "name": "stderr",
     "output_type": "stream",
     "text": [
      "WARNING:absl:You are saving your model as an HDF5 file via `model.save()` or `keras.saving.save_model(model)`. This file format is considered legacy. We recommend using instead the native Keras format, e.g. `model.save('my_model.keras')` or `keras.saving.save_model(model, 'my_model.keras')`. \n"
     ]
    },
    {
     "name": "stdout",
     "output_type": "stream",
     "text": [
      "1464/1464 - 82s - 56ms/step - accuracy: 0.8816 - loss: 0.3897 - val_accuracy: 0.9361 - val_loss: 0.2162\n",
      "Epoch 8/12\n",
      "\n",
      "Epoch 8: val_accuracy improved from 0.93610 to 0.94652, saving model to ViT_fold1.h5\n"
     ]
    },
    {
     "name": "stderr",
     "output_type": "stream",
     "text": [
      "WARNING:absl:You are saving your model as an HDF5 file via `model.save()` or `keras.saving.save_model(model)`. This file format is considered legacy. We recommend using instead the native Keras format, e.g. `model.save('my_model.keras')` or `keras.saving.save_model(model, 'my_model.keras')`. \n"
     ]
    },
    {
     "name": "stdout",
     "output_type": "stream",
     "text": [
      "1464/1464 - 82s - 56ms/step - accuracy: 0.9005 - loss: 0.3276 - val_accuracy: 0.9465 - val_loss: 0.1867\n",
      "Epoch 9/12\n",
      "\n",
      "Epoch 9: val_accuracy improved from 0.94652 to 0.94746, saving model to ViT_fold1.h5\n"
     ]
    },
    {
     "name": "stderr",
     "output_type": "stream",
     "text": [
      "WARNING:absl:You are saving your model as an HDF5 file via `model.save()` or `keras.saving.save_model(model)`. This file format is considered legacy. We recommend using instead the native Keras format, e.g. `model.save('my_model.keras')` or `keras.saving.save_model(model, 'my_model.keras')`. \n"
     ]
    },
    {
     "name": "stdout",
     "output_type": "stream",
     "text": [
      "1464/1464 - 82s - 56ms/step - accuracy: 0.9120 - loss: 0.2788 - val_accuracy: 0.9475 - val_loss: 0.1891\n",
      "Epoch 10/12\n",
      "\n",
      "Epoch 10: val_accuracy improved from 0.94746 to 0.94806, saving model to ViT_fold1.h5\n"
     ]
    },
    {
     "name": "stderr",
     "output_type": "stream",
     "text": [
      "WARNING:absl:You are saving your model as an HDF5 file via `model.save()` or `keras.saving.save_model(model)`. This file format is considered legacy. We recommend using instead the native Keras format, e.g. `model.save('my_model.keras')` or `keras.saving.save_model(model, 'my_model.keras')`. \n"
     ]
    },
    {
     "name": "stdout",
     "output_type": "stream",
     "text": [
      "1464/1464 - 82s - 56ms/step - accuracy: 0.9262 - loss: 0.2401 - val_accuracy: 0.9481 - val_loss: 0.1697\n",
      "Epoch 11/12\n",
      "\n",
      "Epoch 11: val_accuracy improved from 0.94806 to 0.95199, saving model to ViT_fold1.h5\n"
     ]
    },
    {
     "name": "stderr",
     "output_type": "stream",
     "text": [
      "WARNING:absl:You are saving your model as an HDF5 file via `model.save()` or `keras.saving.save_model(model)`. This file format is considered legacy. We recommend using instead the native Keras format, e.g. `model.save('my_model.keras')` or `keras.saving.save_model(model, 'my_model.keras')`. \n"
     ]
    },
    {
     "name": "stdout",
     "output_type": "stream",
     "text": [
      "1464/1464 - 82s - 56ms/step - accuracy: 0.9324 - loss: 0.2145 - val_accuracy: 0.9520 - val_loss: 0.1640\n",
      "Epoch 12/12\n",
      "\n",
      "Epoch 12: val_accuracy improved from 0.95199 to 0.96412, saving model to ViT_fold1.h5\n"
     ]
    },
    {
     "name": "stderr",
     "output_type": "stream",
     "text": [
      "WARNING:absl:You are saving your model as an HDF5 file via `model.save()` or `keras.saving.save_model(model)`. This file format is considered legacy. We recommend using instead the native Keras format, e.g. `model.save('my_model.keras')` or `keras.saving.save_model(model, 'my_model.keras')`. \n"
     ]
    },
    {
     "name": "stdout",
     "output_type": "stream",
     "text": [
      "1464/1464 - 82s - 56ms/step - accuracy: 0.9426 - loss: 0.1842 - val_accuracy: 0.9641 - val_loss: 0.1280\n",
      "Fold 1 results: train_acc=0.9759, val_acc=0.9641, test_acc=0.9629\n",
      "\n",
      "Training fold 2 / 5 for ViT\n",
      "Epoch 1/12\n",
      "\n",
      "Epoch 1: val_accuracy improved from -inf to 0.37246, saving model to ViT_fold2.h5\n"
     ]
    },
    {
     "name": "stderr",
     "output_type": "stream",
     "text": [
      "WARNING:absl:You are saving your model as an HDF5 file via `model.save()` or `keras.saving.save_model(model)`. This file format is considered legacy. We recommend using instead the native Keras format, e.g. `model.save('my_model.keras')` or `keras.saving.save_model(model, 'my_model.keras')`. \n"
     ]
    },
    {
     "name": "stdout",
     "output_type": "stream",
     "text": [
      "1464/1464 - 93s - 64ms/step - accuracy: 0.0910 - loss: 4.7169 - val_accuracy: 0.3725 - val_loss: 2.7186\n",
      "Epoch 2/12\n",
      "\n",
      "Epoch 2: val_accuracy improved from 0.37246 to 0.67837, saving model to ViT_fold2.h5\n"
     ]
    },
    {
     "name": "stderr",
     "output_type": "stream",
     "text": [
      "WARNING:absl:You are saving your model as an HDF5 file via `model.save()` or `keras.saving.save_model(model)`. This file format is considered legacy. We recommend using instead the native Keras format, e.g. `model.save('my_model.keras')` or `keras.saving.save_model(model, 'my_model.keras')`. \n"
     ]
    },
    {
     "name": "stdout",
     "output_type": "stream",
     "text": [
      "1464/1464 - 83s - 57ms/step - accuracy: 0.3942 - loss: 2.3265 - val_accuracy: 0.6784 - val_loss: 1.2899\n",
      "Epoch 3/12\n",
      "\n",
      "Epoch 3: val_accuracy improved from 0.67837 to 0.81018, saving model to ViT_fold2.h5\n"
     ]
    },
    {
     "name": "stderr",
     "output_type": "stream",
     "text": [
      "WARNING:absl:You are saving your model as an HDF5 file via `model.save()` or `keras.saving.save_model(model)`. This file format is considered legacy. We recommend using instead the native Keras format, e.g. `model.save('my_model.keras')` or `keras.saving.save_model(model, 'my_model.keras')`. \n"
     ]
    },
    {
     "name": "stdout",
     "output_type": "stream",
     "text": [
      "1464/1464 - 83s - 57ms/step - accuracy: 0.6150 - loss: 1.3747 - val_accuracy: 0.8102 - val_loss: 0.7296\n",
      "Epoch 4/12\n",
      "\n",
      "Epoch 4: val_accuracy improved from 0.81018 to 0.86178, saving model to ViT_fold2.h5\n"
     ]
    },
    {
     "name": "stderr",
     "output_type": "stream",
     "text": [
      "WARNING:absl:You are saving your model as an HDF5 file via `model.save()` or `keras.saving.save_model(model)`. This file format is considered legacy. We recommend using instead the native Keras format, e.g. `model.save('my_model.keras')` or `keras.saving.save_model(model, 'my_model.keras')`. \n"
     ]
    },
    {
     "name": "stdout",
     "output_type": "stream",
     "text": [
      "1464/1464 - 83s - 57ms/step - accuracy: 0.7331 - loss: 0.9106 - val_accuracy: 0.8618 - val_loss: 0.4975\n",
      "Epoch 5/12\n",
      "\n",
      "Epoch 5: val_accuracy improved from 0.86178 to 0.90278, saving model to ViT_fold2.h5\n"
     ]
    },
    {
     "name": "stderr",
     "output_type": "stream",
     "text": [
      "WARNING:absl:You are saving your model as an HDF5 file via `model.save()` or `keras.saving.save_model(model)`. This file format is considered legacy. We recommend using instead the native Keras format, e.g. `model.save('my_model.keras')` or `keras.saving.save_model(model, 'my_model.keras')`. \n"
     ]
    },
    {
     "name": "stdout",
     "output_type": "stream",
     "text": [
      "1464/1464 - 83s - 57ms/step - accuracy: 0.8027 - loss: 0.6514 - val_accuracy: 0.9028 - val_loss: 0.3458\n",
      "Epoch 6/12\n",
      "\n",
      "Epoch 6: val_accuracy improved from 0.90278 to 0.91970, saving model to ViT_fold2.h5\n"
     ]
    },
    {
     "name": "stderr",
     "output_type": "stream",
     "text": [
      "WARNING:absl:You are saving your model as an HDF5 file via `model.save()` or `keras.saving.save_model(model)`. This file format is considered legacy. We recommend using instead the native Keras format, e.g. `model.save('my_model.keras')` or `keras.saving.save_model(model, 'my_model.keras')`. \n"
     ]
    },
    {
     "name": "stdout",
     "output_type": "stream",
     "text": [
      "1464/1464 - 84s - 57ms/step - accuracy: 0.8485 - loss: 0.4997 - val_accuracy: 0.9197 - val_loss: 0.2768\n",
      "Epoch 7/12\n",
      "\n",
      "Epoch 7: val_accuracy improved from 0.91970 to 0.93063, saving model to ViT_fold2.h5\n"
     ]
    },
    {
     "name": "stderr",
     "output_type": "stream",
     "text": [
      "WARNING:absl:You are saving your model as an HDF5 file via `model.save()` or `keras.saving.save_model(model)`. This file format is considered legacy. We recommend using instead the native Keras format, e.g. `model.save('my_model.keras')` or `keras.saving.save_model(model, 'my_model.keras')`. \n"
     ]
    },
    {
     "name": "stdout",
     "output_type": "stream",
     "text": [
      "1464/1464 - 83s - 57ms/step - accuracy: 0.8766 - loss: 0.3997 - val_accuracy: 0.9306 - val_loss: 0.2421\n",
      "Epoch 8/12\n",
      "\n",
      "Epoch 8: val_accuracy improved from 0.93063 to 0.94114, saving model to ViT_fold2.h5\n"
     ]
    },
    {
     "name": "stderr",
     "output_type": "stream",
     "text": [
      "WARNING:absl:You are saving your model as an HDF5 file via `model.save()` or `keras.saving.save_model(model)`. This file format is considered legacy. We recommend using instead the native Keras format, e.g. `model.save('my_model.keras')` or `keras.saving.save_model(model, 'my_model.keras')`. \n"
     ]
    },
    {
     "name": "stdout",
     "output_type": "stream",
     "text": [
      "1464/1464 - 84s - 57ms/step - accuracy: 0.8957 - loss: 0.3329 - val_accuracy: 0.9411 - val_loss: 0.2078\n",
      "Epoch 9/12\n",
      "\n",
      "Epoch 9: val_accuracy improved from 0.94114 to 0.94909, saving model to ViT_fold2.h5\n"
     ]
    },
    {
     "name": "stderr",
     "output_type": "stream",
     "text": [
      "WARNING:absl:You are saving your model as an HDF5 file via `model.save()` or `keras.saving.save_model(model)`. This file format is considered legacy. We recommend using instead the native Keras format, e.g. `model.save('my_model.keras')` or `keras.saving.save_model(model, 'my_model.keras')`. \n"
     ]
    },
    {
     "name": "stdout",
     "output_type": "stream",
     "text": [
      "1464/1464 - 83s - 57ms/step - accuracy: 0.9144 - loss: 0.2772 - val_accuracy: 0.9491 - val_loss: 0.1677\n",
      "Epoch 10/12\n",
      "\n",
      "Epoch 10: val_accuracy improved from 0.94909 to 0.95541, saving model to ViT_fold2.h5\n"
     ]
    },
    {
     "name": "stderr",
     "output_type": "stream",
     "text": [
      "WARNING:absl:You are saving your model as an HDF5 file via `model.save()` or `keras.saving.save_model(model)`. This file format is considered legacy. We recommend using instead the native Keras format, e.g. `model.save('my_model.keras')` or `keras.saving.save_model(model, 'my_model.keras')`. \n"
     ]
    },
    {
     "name": "stdout",
     "output_type": "stream",
     "text": [
      "1464/1464 - 84s - 57ms/step - accuracy: 0.9247 - loss: 0.2405 - val_accuracy: 0.9554 - val_loss: 0.1526\n",
      "Epoch 11/12\n",
      "\n",
      "Epoch 11: val_accuracy improved from 0.95541 to 0.96241, saving model to ViT_fold2.h5\n"
     ]
    },
    {
     "name": "stderr",
     "output_type": "stream",
     "text": [
      "WARNING:absl:You are saving your model as an HDF5 file via `model.save()` or `keras.saving.save_model(model)`. This file format is considered legacy. We recommend using instead the native Keras format, e.g. `model.save('my_model.keras')` or `keras.saving.save_model(model, 'my_model.keras')`. \n"
     ]
    },
    {
     "name": "stdout",
     "output_type": "stream",
     "text": [
      "1464/1464 - 83s - 57ms/step - accuracy: 0.9319 - loss: 0.2132 - val_accuracy: 0.9624 - val_loss: 0.1305\n",
      "Epoch 12/12\n",
      "\n",
      "Epoch 12: val_accuracy did not improve from 0.96241\n",
      "1464/1464 - 84s - 57ms/step - accuracy: 0.9403 - loss: 0.1916 - val_accuracy: 0.9559 - val_loss: 0.1458\n",
      "Fold 2 results: train_acc=0.9724, val_acc=0.9624, test_acc=0.9573\n",
      "\n",
      "Training fold 3 / 5 for ViT\n",
      "Epoch 1/12\n",
      "\n",
      "Epoch 1: val_accuracy improved from -inf to 0.35315, saving model to ViT_fold3.h5\n"
     ]
    },
    {
     "name": "stderr",
     "output_type": "stream",
     "text": [
      "WARNING:absl:You are saving your model as an HDF5 file via `model.save()` or `keras.saving.save_model(model)`. This file format is considered legacy. We recommend using instead the native Keras format, e.g. `model.save('my_model.keras')` or `keras.saving.save_model(model, 'my_model.keras')`. \n"
     ]
    },
    {
     "name": "stdout",
     "output_type": "stream",
     "text": [
      "1464/1464 - 92s - 63ms/step - accuracy: 0.0917 - loss: 4.6939 - val_accuracy: 0.3532 - val_loss: 2.7621\n",
      "Epoch 2/12\n",
      "\n",
      "Epoch 2: val_accuracy improved from 0.35315 to 0.67743, saving model to ViT_fold3.h5\n"
     ]
    },
    {
     "name": "stderr",
     "output_type": "stream",
     "text": [
      "WARNING:absl:You are saving your model as an HDF5 file via `model.save()` or `keras.saving.save_model(model)`. This file format is considered legacy. We recommend using instead the native Keras format, e.g. `model.save('my_model.keras')` or `keras.saving.save_model(model, 'my_model.keras')`. \n"
     ]
    },
    {
     "name": "stdout",
     "output_type": "stream",
     "text": [
      "1464/1464 - 83s - 57ms/step - accuracy: 0.3823 - loss: 2.3775 - val_accuracy: 0.6774 - val_loss: 1.3017\n",
      "Epoch 3/12\n",
      "\n",
      "Epoch 3: val_accuracy improved from 0.67743 to 0.80719, saving model to ViT_fold3.h5\n"
     ]
    },
    {
     "name": "stderr",
     "output_type": "stream",
     "text": [
      "WARNING:absl:You are saving your model as an HDF5 file via `model.save()` or `keras.saving.save_model(model)`. This file format is considered legacy. We recommend using instead the native Keras format, e.g. `model.save('my_model.keras')` or `keras.saving.save_model(model, 'my_model.keras')`. \n"
     ]
    },
    {
     "name": "stdout",
     "output_type": "stream",
     "text": [
      "1464/1464 - 83s - 57ms/step - accuracy: 0.6042 - loss: 1.3998 - val_accuracy: 0.8072 - val_loss: 0.7326\n",
      "Epoch 4/12\n",
      "\n",
      "Epoch 4: val_accuracy improved from 0.80719 to 0.87417, saving model to ViT_fold3.h5\n"
     ]
    },
    {
     "name": "stderr",
     "output_type": "stream",
     "text": [
      "WARNING:absl:You are saving your model as an HDF5 file via `model.save()` or `keras.saving.save_model(model)`. This file format is considered legacy. We recommend using instead the native Keras format, e.g. `model.save('my_model.keras')` or `keras.saving.save_model(model, 'my_model.keras')`. \n"
     ]
    },
    {
     "name": "stdout",
     "output_type": "stream",
     "text": [
      "1464/1464 - 83s - 57ms/step - accuracy: 0.7326 - loss: 0.9116 - val_accuracy: 0.8742 - val_loss: 0.4773\n",
      "Epoch 5/12\n",
      "\n",
      "Epoch 5: val_accuracy improved from 0.87417 to 0.90219, saving model to ViT_fold3.h5\n"
     ]
    },
    {
     "name": "stderr",
     "output_type": "stream",
     "text": [
      "WARNING:absl:You are saving your model as an HDF5 file via `model.save()` or `keras.saving.save_model(model)`. This file format is considered legacy. We recommend using instead the native Keras format, e.g. `model.save('my_model.keras')` or `keras.saving.save_model(model, 'my_model.keras')`. \n"
     ]
    },
    {
     "name": "stdout",
     "output_type": "stream",
     "text": [
      "1464/1464 - 83s - 57ms/step - accuracy: 0.8065 - loss: 0.6505 - val_accuracy: 0.9022 - val_loss: 0.3487\n",
      "Epoch 6/12\n",
      "\n",
      "Epoch 6: val_accuracy improved from 0.90219 to 0.91534, saving model to ViT_fold3.h5\n"
     ]
    },
    {
     "name": "stderr",
     "output_type": "stream",
     "text": [
      "WARNING:absl:You are saving your model as an HDF5 file via `model.save()` or `keras.saving.save_model(model)`. This file format is considered legacy. We recommend using instead the native Keras format, e.g. `model.save('my_model.keras')` or `keras.saving.save_model(model, 'my_model.keras')`. \n"
     ]
    },
    {
     "name": "stdout",
     "output_type": "stream",
     "text": [
      "1464/1464 - 83s - 57ms/step - accuracy: 0.8455 - loss: 0.5080 - val_accuracy: 0.9153 - val_loss: 0.2864\n",
      "Epoch 7/12\n",
      "\n",
      "Epoch 7: val_accuracy improved from 0.91534 to 0.92679, saving model to ViT_fold3.h5\n"
     ]
    },
    {
     "name": "stderr",
     "output_type": "stream",
     "text": [
      "WARNING:absl:You are saving your model as an HDF5 file via `model.save()` or `keras.saving.save_model(model)`. This file format is considered legacy. We recommend using instead the native Keras format, e.g. `model.save('my_model.keras')` or `keras.saving.save_model(model, 'my_model.keras')`. \n"
     ]
    },
    {
     "name": "stdout",
     "output_type": "stream",
     "text": [
      "1464/1464 - 83s - 57ms/step - accuracy: 0.8772 - loss: 0.4051 - val_accuracy: 0.9268 - val_loss: 0.2544\n",
      "Epoch 8/12\n",
      "\n",
      "Epoch 8: val_accuracy improved from 0.92679 to 0.93995, saving model to ViT_fold3.h5\n"
     ]
    },
    {
     "name": "stderr",
     "output_type": "stream",
     "text": [
      "WARNING:absl:You are saving your model as an HDF5 file via `model.save()` or `keras.saving.save_model(model)`. This file format is considered legacy. We recommend using instead the native Keras format, e.g. `model.save('my_model.keras')` or `keras.saving.save_model(model, 'my_model.keras')`. \n"
     ]
    },
    {
     "name": "stdout",
     "output_type": "stream",
     "text": [
      "1464/1464 - 83s - 57ms/step - accuracy: 0.8982 - loss: 0.3344 - val_accuracy: 0.9399 - val_loss: 0.1994\n",
      "Epoch 9/12\n",
      "\n",
      "Epoch 9: val_accuracy improved from 0.93995 to 0.94789, saving model to ViT_fold3.h5\n"
     ]
    },
    {
     "name": "stderr",
     "output_type": "stream",
     "text": [
      "WARNING:absl:You are saving your model as an HDF5 file via `model.save()` or `keras.saving.save_model(model)`. This file format is considered legacy. We recommend using instead the native Keras format, e.g. `model.save('my_model.keras')` or `keras.saving.save_model(model, 'my_model.keras')`. \n"
     ]
    },
    {
     "name": "stdout",
     "output_type": "stream",
     "text": [
      "1464/1464 - 83s - 57ms/step - accuracy: 0.9100 - loss: 0.2855 - val_accuracy: 0.9479 - val_loss: 0.1789\n",
      "Epoch 10/12\n",
      "\n",
      "Epoch 10: val_accuracy improved from 0.94789 to 0.95353, saving model to ViT_fold3.h5\n"
     ]
    },
    {
     "name": "stderr",
     "output_type": "stream",
     "text": [
      "WARNING:absl:You are saving your model as an HDF5 file via `model.save()` or `keras.saving.save_model(model)`. This file format is considered legacy. We recommend using instead the native Keras format, e.g. `model.save('my_model.keras')` or `keras.saving.save_model(model, 'my_model.keras')`. \n"
     ]
    },
    {
     "name": "stdout",
     "output_type": "stream",
     "text": [
      "1464/1464 - 83s - 57ms/step - accuracy: 0.9234 - loss: 0.2464 - val_accuracy: 0.9535 - val_loss: 0.1557\n",
      "Epoch 11/12\n",
      "\n",
      "Epoch 11: val_accuracy improved from 0.95353 to 0.95831, saving model to ViT_fold3.h5\n"
     ]
    },
    {
     "name": "stderr",
     "output_type": "stream",
     "text": [
      "WARNING:absl:You are saving your model as an HDF5 file via `model.save()` or `keras.saving.save_model(model)`. This file format is considered legacy. We recommend using instead the native Keras format, e.g. `model.save('my_model.keras')` or `keras.saving.save_model(model, 'my_model.keras')`. \n"
     ]
    },
    {
     "name": "stdout",
     "output_type": "stream",
     "text": [
      "1464/1464 - 84s - 57ms/step - accuracy: 0.9326 - loss: 0.2157 - val_accuracy: 0.9583 - val_loss: 0.1406\n",
      "Epoch 12/12\n",
      "\n",
      "Epoch 12: val_accuracy did not improve from 0.95831\n",
      "1464/1464 - 83s - 57ms/step - accuracy: 0.9384 - loss: 0.1962 - val_accuracy: 0.9573 - val_loss: 0.1416\n",
      "Fold 3 results: train_acc=0.9690, val_acc=0.9583, test_acc=0.9566\n",
      "\n",
      "Training fold 4 / 5 for ViT\n",
      "Epoch 1/12\n",
      "\n",
      "Epoch 1: val_accuracy improved from -inf to 0.33274, saving model to ViT_fold4.h5\n"
     ]
    },
    {
     "name": "stderr",
     "output_type": "stream",
     "text": [
      "WARNING:absl:You are saving your model as an HDF5 file via `model.save()` or `keras.saving.save_model(model)`. This file format is considered legacy. We recommend using instead the native Keras format, e.g. `model.save('my_model.keras')` or `keras.saving.save_model(model, 'my_model.keras')`. \n"
     ]
    },
    {
     "name": "stdout",
     "output_type": "stream",
     "text": [
      "1464/1464 - 93s - 63ms/step - accuracy: 0.0814 - loss: 4.7363 - val_accuracy: 0.3327 - val_loss: 2.8734\n",
      "Epoch 2/12\n",
      "\n",
      "Epoch 2: val_accuracy improved from 0.33274 to 0.65607, saving model to ViT_fold4.h5\n"
     ]
    },
    {
     "name": "stderr",
     "output_type": "stream",
     "text": [
      "WARNING:absl:You are saving your model as an HDF5 file via `model.save()` or `keras.saving.save_model(model)`. This file format is considered legacy. We recommend using instead the native Keras format, e.g. `model.save('my_model.keras')` or `keras.saving.save_model(model, 'my_model.keras')`. \n"
     ]
    },
    {
     "name": "stdout",
     "output_type": "stream",
     "text": [
      "1464/1464 - 83s - 57ms/step - accuracy: 0.3743 - loss: 2.4161 - val_accuracy: 0.6561 - val_loss: 1.3577\n",
      "Epoch 3/12\n",
      "\n",
      "Epoch 3: val_accuracy improved from 0.65607 to 0.80044, saving model to ViT_fold4.h5\n"
     ]
    },
    {
     "name": "stderr",
     "output_type": "stream",
     "text": [
      "WARNING:absl:You are saving your model as an HDF5 file via `model.save()` or `keras.saving.save_model(model)`. This file format is considered legacy. We recommend using instead the native Keras format, e.g. `model.save('my_model.keras')` or `keras.saving.save_model(model, 'my_model.keras')`. \n"
     ]
    },
    {
     "name": "stdout",
     "output_type": "stream",
     "text": [
      "1464/1464 - 84s - 57ms/step - accuracy: 0.6035 - loss: 1.3993 - val_accuracy: 0.8004 - val_loss: 0.7538\n",
      "Epoch 4/12\n",
      "\n",
      "Epoch 4: val_accuracy improved from 0.80044 to 0.86981, saving model to ViT_fold4.h5\n"
     ]
    },
    {
     "name": "stderr",
     "output_type": "stream",
     "text": [
      "WARNING:absl:You are saving your model as an HDF5 file via `model.save()` or `keras.saving.save_model(model)`. This file format is considered legacy. We recommend using instead the native Keras format, e.g. `model.save('my_model.keras')` or `keras.saving.save_model(model, 'my_model.keras')`. \n"
     ]
    },
    {
     "name": "stdout",
     "output_type": "stream",
     "text": [
      "1464/1464 - 84s - 57ms/step - accuracy: 0.7295 - loss: 0.9256 - val_accuracy: 0.8698 - val_loss: 0.4860\n",
      "Epoch 5/12\n",
      "\n",
      "Epoch 5: val_accuracy improved from 0.86981 to 0.90210, saving model to ViT_fold4.h5\n"
     ]
    },
    {
     "name": "stderr",
     "output_type": "stream",
     "text": [
      "WARNING:absl:You are saving your model as an HDF5 file via `model.save()` or `keras.saving.save_model(model)`. This file format is considered legacy. We recommend using instead the native Keras format, e.g. `model.save('my_model.keras')` or `keras.saving.save_model(model, 'my_model.keras')`. \n"
     ]
    },
    {
     "name": "stdout",
     "output_type": "stream",
     "text": [
      "1464/1464 - 84s - 57ms/step - accuracy: 0.8026 - loss: 0.6599 - val_accuracy: 0.9021 - val_loss: 0.3430\n",
      "Epoch 6/12\n",
      "\n",
      "Epoch 6: val_accuracy improved from 0.90210 to 0.92098, saving model to ViT_fold4.h5\n"
     ]
    },
    {
     "name": "stderr",
     "output_type": "stream",
     "text": [
      "WARNING:absl:You are saving your model as an HDF5 file via `model.save()` or `keras.saving.save_model(model)`. This file format is considered legacy. We recommend using instead the native Keras format, e.g. `model.save('my_model.keras')` or `keras.saving.save_model(model, 'my_model.keras')`. \n"
     ]
    },
    {
     "name": "stdout",
     "output_type": "stream",
     "text": [
      "1464/1464 - 84s - 57ms/step - accuracy: 0.8494 - loss: 0.4999 - val_accuracy: 0.9210 - val_loss: 0.2714\n",
      "Epoch 7/12\n",
      "\n",
      "Epoch 7: val_accuracy improved from 0.92098 to 0.93713, saving model to ViT_fold4.h5\n"
     ]
    },
    {
     "name": "stderr",
     "output_type": "stream",
     "text": [
      "WARNING:absl:You are saving your model as an HDF5 file via `model.save()` or `keras.saving.save_model(model)`. This file format is considered legacy. We recommend using instead the native Keras format, e.g. `model.save('my_model.keras')` or `keras.saving.save_model(model, 'my_model.keras')`. \n"
     ]
    },
    {
     "name": "stdout",
     "output_type": "stream",
     "text": [
      "1464/1464 - 84s - 58ms/step - accuracy: 0.8762 - loss: 0.3995 - val_accuracy: 0.9371 - val_loss: 0.2170\n",
      "Epoch 8/12\n",
      "\n",
      "Epoch 8: val_accuracy improved from 0.93713 to 0.94191, saving model to ViT_fold4.h5\n"
     ]
    },
    {
     "name": "stderr",
     "output_type": "stream",
     "text": [
      "WARNING:absl:You are saving your model as an HDF5 file via `model.save()` or `keras.saving.save_model(model)`. This file format is considered legacy. We recommend using instead the native Keras format, e.g. `model.save('my_model.keras')` or `keras.saving.save_model(model, 'my_model.keras')`. \n"
     ]
    },
    {
     "name": "stdout",
     "output_type": "stream",
     "text": [
      "1464/1464 - 84s - 57ms/step - accuracy: 0.8981 - loss: 0.3282 - val_accuracy: 0.9419 - val_loss: 0.2073\n",
      "Epoch 9/12\n",
      "\n",
      "Epoch 9: val_accuracy improved from 0.94191 to 0.95583, saving model to ViT_fold4.h5\n"
     ]
    },
    {
     "name": "stderr",
     "output_type": "stream",
     "text": [
      "WARNING:absl:You are saving your model as an HDF5 file via `model.save()` or `keras.saving.save_model(model)`. This file format is considered legacy. We recommend using instead the native Keras format, e.g. `model.save('my_model.keras')` or `keras.saving.save_model(model, 'my_model.keras')`. \n"
     ]
    },
    {
     "name": "stdout",
     "output_type": "stream",
     "text": [
      "1464/1464 - 84s - 58ms/step - accuracy: 0.9119 - loss: 0.2803 - val_accuracy: 0.9558 - val_loss: 0.1545\n",
      "Epoch 10/12\n",
      "\n",
      "Epoch 10: val_accuracy improved from 0.95583 to 0.95677, saving model to ViT_fold4.h5\n"
     ]
    },
    {
     "name": "stderr",
     "output_type": "stream",
     "text": [
      "WARNING:absl:You are saving your model as an HDF5 file via `model.save()` or `keras.saving.save_model(model)`. This file format is considered legacy. We recommend using instead the native Keras format, e.g. `model.save('my_model.keras')` or `keras.saving.save_model(model, 'my_model.keras')`. \n"
     ]
    },
    {
     "name": "stdout",
     "output_type": "stream",
     "text": [
      "1464/1464 - 84s - 58ms/step - accuracy: 0.9240 - loss: 0.2436 - val_accuracy: 0.9568 - val_loss: 0.1440\n",
      "Epoch 11/12\n",
      "\n",
      "Epoch 11: val_accuracy improved from 0.95677 to 0.96036, saving model to ViT_fold4.h5\n"
     ]
    },
    {
     "name": "stderr",
     "output_type": "stream",
     "text": [
      "WARNING:absl:You are saving your model as an HDF5 file via `model.save()` or `keras.saving.save_model(model)`. This file format is considered legacy. We recommend using instead the native Keras format, e.g. `model.save('my_model.keras')` or `keras.saving.save_model(model, 'my_model.keras')`. \n"
     ]
    },
    {
     "name": "stdout",
     "output_type": "stream",
     "text": [
      "1464/1464 - 84s - 57ms/step - accuracy: 0.9323 - loss: 0.2136 - val_accuracy: 0.9604 - val_loss: 0.1348\n",
      "Epoch 12/12\n",
      "\n",
      "Epoch 12: val_accuracy improved from 0.96036 to 0.96480, saving model to ViT_fold4.h5\n"
     ]
    },
    {
     "name": "stderr",
     "output_type": "stream",
     "text": [
      "WARNING:absl:You are saving your model as an HDF5 file via `model.save()` or `keras.saving.save_model(model)`. This file format is considered legacy. We recommend using instead the native Keras format, e.g. `model.save('my_model.keras')` or `keras.saving.save_model(model, 'my_model.keras')`. \n"
     ]
    },
    {
     "name": "stdout",
     "output_type": "stream",
     "text": [
      "1464/1464 - 84s - 58ms/step - accuracy: 0.9401 - loss: 0.1879 - val_accuracy: 0.9648 - val_loss: 0.1177\n",
      "Fold 4 results: train_acc=0.9757, val_acc=0.9648, test_acc=0.9634\n",
      "\n",
      "Training fold 5 / 5 for ViT\n",
      "Epoch 1/12\n",
      "\n",
      "Epoch 1: val_accuracy improved from -inf to 0.31807, saving model to ViT_fold5.h5\n"
     ]
    },
    {
     "name": "stderr",
     "output_type": "stream",
     "text": [
      "WARNING:absl:You are saving your model as an HDF5 file via `model.save()` or `keras.saving.save_model(model)`. This file format is considered legacy. We recommend using instead the native Keras format, e.g. `model.save('my_model.keras')` or `keras.saving.save_model(model, 'my_model.keras')`. \n"
     ]
    },
    {
     "name": "stdout",
     "output_type": "stream",
     "text": [
      "1464/1464 - 97s - 66ms/step - accuracy: 0.0862 - loss: 4.7058 - val_accuracy: 0.3181 - val_loss: 2.8551\n",
      "Epoch 2/12\n",
      "\n",
      "Epoch 2: val_accuracy improved from 0.31807 to 0.64349, saving model to ViT_fold5.h5\n"
     ]
    },
    {
     "name": "stderr",
     "output_type": "stream",
     "text": [
      "WARNING:absl:You are saving your model as an HDF5 file via `model.save()` or `keras.saving.save_model(model)`. This file format is considered legacy. We recommend using instead the native Keras format, e.g. `model.save('my_model.keras')` or `keras.saving.save_model(model, 'my_model.keras')`. \n"
     ]
    },
    {
     "name": "stdout",
     "output_type": "stream",
     "text": [
      "1464/1464 - 88s - 60ms/step - accuracy: 0.3660 - loss: 2.4517 - val_accuracy: 0.6435 - val_loss: 1.3989\n",
      "Epoch 3/12\n",
      "\n",
      "Epoch 3: val_accuracy improved from 0.64349 to 0.79086, saving model to ViT_fold5.h5\n"
     ]
    },
    {
     "name": "stderr",
     "output_type": "stream",
     "text": [
      "WARNING:absl:You are saving your model as an HDF5 file via `model.save()` or `keras.saving.save_model(model)`. This file format is considered legacy. We recommend using instead the native Keras format, e.g. `model.save('my_model.keras')` or `keras.saving.save_model(model, 'my_model.keras')`. \n"
     ]
    },
    {
     "name": "stdout",
     "output_type": "stream",
     "text": [
      "1464/1464 - 87s - 59ms/step - accuracy: 0.5861 - loss: 1.4646 - val_accuracy: 0.7909 - val_loss: 0.7725\n",
      "Epoch 4/12\n",
      "\n",
      "Epoch 4: val_accuracy improved from 0.79086 to 0.86630, saving model to ViT_fold5.h5\n"
     ]
    },
    {
     "name": "stderr",
     "output_type": "stream",
     "text": [
      "WARNING:absl:You are saving your model as an HDF5 file via `model.save()` or `keras.saving.save_model(model)`. This file format is considered legacy. We recommend using instead the native Keras format, e.g. `model.save('my_model.keras')` or `keras.saving.save_model(model, 'my_model.keras')`. \n"
     ]
    },
    {
     "name": "stdout",
     "output_type": "stream",
     "text": [
      "1464/1464 - 87s - 60ms/step - accuracy: 0.7229 - loss: 0.9370 - val_accuracy: 0.8663 - val_loss: 0.4734\n",
      "Epoch 5/12\n",
      "\n",
      "Epoch 5: val_accuracy improved from 0.86630 to 0.89295, saving model to ViT_fold5.h5\n"
     ]
    },
    {
     "name": "stderr",
     "output_type": "stream",
     "text": [
      "WARNING:absl:You are saving your model as an HDF5 file via `model.save()` or `keras.saving.save_model(model)`. This file format is considered legacy. We recommend using instead the native Keras format, e.g. `model.save('my_model.keras')` or `keras.saving.save_model(model, 'my_model.keras')`. \n"
     ]
    },
    {
     "name": "stdout",
     "output_type": "stream",
     "text": [
      "1464/1464 - 88s - 60ms/step - accuracy: 0.8008 - loss: 0.6617 - val_accuracy: 0.8930 - val_loss: 0.3796\n",
      "Epoch 6/12\n",
      "\n",
      "Epoch 6: val_accuracy improved from 0.89295 to 0.91431, saving model to ViT_fold5.h5\n"
     ]
    },
    {
     "name": "stderr",
     "output_type": "stream",
     "text": [
      "WARNING:absl:You are saving your model as an HDF5 file via `model.save()` or `keras.saving.save_model(model)`. This file format is considered legacy. We recommend using instead the native Keras format, e.g. `model.save('my_model.keras')` or `keras.saving.save_model(model, 'my_model.keras')`. \n"
     ]
    },
    {
     "name": "stdout",
     "output_type": "stream",
     "text": [
      "1464/1464 - 87s - 59ms/step - accuracy: 0.8475 - loss: 0.5030 - val_accuracy: 0.9143 - val_loss: 0.3022\n",
      "Epoch 7/12\n",
      "\n",
      "Epoch 7: val_accuracy improved from 0.91431 to 0.93447, saving model to ViT_fold5.h5\n"
     ]
    },
    {
     "name": "stderr",
     "output_type": "stream",
     "text": [
      "WARNING:absl:You are saving your model as an HDF5 file via `model.save()` or `keras.saving.save_model(model)`. This file format is considered legacy. We recommend using instead the native Keras format, e.g. `model.save('my_model.keras')` or `keras.saving.save_model(model, 'my_model.keras')`. \n"
     ]
    },
    {
     "name": "stdout",
     "output_type": "stream",
     "text": [
      "1464/1464 - 87s - 60ms/step - accuracy: 0.8787 - loss: 0.3947 - val_accuracy: 0.9345 - val_loss: 0.2204\n",
      "Epoch 8/12\n",
      "\n",
      "Epoch 8: val_accuracy did not improve from 0.93447\n",
      "1464/1464 - 87s - 59ms/step - accuracy: 0.8986 - loss: 0.3253 - val_accuracy: 0.9317 - val_loss: 0.2277\n",
      "Epoch 9/12\n",
      "\n",
      "Epoch 9: val_accuracy improved from 0.93447 to 0.95199, saving model to ViT_fold5.h5\n"
     ]
    },
    {
     "name": "stderr",
     "output_type": "stream",
     "text": [
      "WARNING:absl:You are saving your model as an HDF5 file via `model.save()` or `keras.saving.save_model(model)`. This file format is considered legacy. We recommend using instead the native Keras format, e.g. `model.save('my_model.keras')` or `keras.saving.save_model(model, 'my_model.keras')`. \n"
     ]
    },
    {
     "name": "stdout",
     "output_type": "stream",
     "text": [
      "1464/1464 - 87s - 59ms/step - accuracy: 0.9144 - loss: 0.2749 - val_accuracy: 0.9520 - val_loss: 0.1719\n",
      "Epoch 10/12\n",
      "\n",
      "Epoch 10: val_accuracy did not improve from 0.95199\n",
      "1464/1464 - 87s - 59ms/step - accuracy: 0.9260 - loss: 0.2351 - val_accuracy: 0.9494 - val_loss: 0.1726\n",
      "Epoch 11/12\n",
      "\n",
      "Epoch 11: val_accuracy improved from 0.95199 to 0.95455, saving model to ViT_fold5.h5\n"
     ]
    },
    {
     "name": "stderr",
     "output_type": "stream",
     "text": [
      "WARNING:absl:You are saving your model as an HDF5 file via `model.save()` or `keras.saving.save_model(model)`. This file format is considered legacy. We recommend using instead the native Keras format, e.g. `model.save('my_model.keras')` or `keras.saving.save_model(model, 'my_model.keras')`. \n"
     ]
    },
    {
     "name": "stdout",
     "output_type": "stream",
     "text": [
      "1464/1464 - 87s - 60ms/step - accuracy: 0.9330 - loss: 0.2104 - val_accuracy: 0.9545 - val_loss: 0.1539\n",
      "Epoch 12/12\n",
      "\n",
      "Epoch 12: val_accuracy improved from 0.95455 to 0.96335, saving model to ViT_fold5.h5\n"
     ]
    },
    {
     "name": "stderr",
     "output_type": "stream",
     "text": [
      "WARNING:absl:You are saving your model as an HDF5 file via `model.save()` or `keras.saving.save_model(model)`. This file format is considered legacy. We recommend using instead the native Keras format, e.g. `model.save('my_model.keras')` or `keras.saving.save_model(model, 'my_model.keras')`. \n"
     ]
    },
    {
     "name": "stdout",
     "output_type": "stream",
     "text": [
      "1464/1464 - 87s - 60ms/step - accuracy: 0.9417 - loss: 0.1854 - val_accuracy: 0.9633 - val_loss: 0.1295\n",
      "Fold 5 results: train_acc=0.9743, val_acc=0.9633, test_acc=0.9603\n",
      "\n",
      "Best Test accuracy: 0.9634 from model: ViT_fold4.h5\n"
     ]
    }
   ],
   "source": [
    "vit_results, vit_best_model = train_and_evaluate_model('ViT', X_train, y_train, X_test, y_test, NUM_FOLDS, EPOCHS, BATCH_SIZE)"
   ]
  },
  {
   "cell_type": "code",
   "execution_count": null,
   "id": "169eb706-964c-4008-ab1b-0dd0a7cf10d6",
   "metadata": {},
   "outputs": [],
   "source": []
  },
  {
   "cell_type": "markdown",
   "id": "f8b72fdf-8284-493f-86b6-46801b4c71b0",
   "metadata": {},
   "source": [
    "## Plotting Results"
   ]
  },
  {
   "cell_type": "code",
   "execution_count": 24,
   "id": "4232a9dd-d4e5-4d8c-aac0-ec2d7558f9d8",
   "metadata": {},
   "outputs": [],
   "source": [
    "all_results = {'CNN': cnn_results, 'ViT': vit_results, 'GRU': gru_results}"
   ]
  },
  {
   "cell_type": "code",
   "execution_count": 26,
   "id": "3c428822-f038-4132-928a-ff84203686db",
   "metadata": {},
   "outputs": [],
   "source": [
    "# Plotting function for results (multiple models)\n",
    "def plot_results(all_results):\n",
    "    metrics = ['acc', 'loss']\n",
    "    sets = ['train', 'val', 'test']\n",
    "    models_list = list(all_results.keys())\n",
    "    model_colors = {'ViT': 'green', 'CNN': 'orange', 'BiT': 'blue'}\n",
    "\n",
    "    fig, axes = plt.subplots(2, 3, figsize=(20, 12))\n",
    "\n",
    "    for i, metric in enumerate(metrics):\n",
    "        for j, set_name in enumerate(sets):\n",
    "            key = f'{set_name}_{metric}'\n",
    "            means = []\n",
    "            stds = []\n",
    "            colors = []\n",
    "\n",
    "            for model in models_list:\n",
    "                means.append(np.mean(all_results[model][key]))\n",
    "                stds.append(np.std(all_results[model][key]))\n",
    "                colors.append(model_colors.get(model, 'black'))\n",
    "\n",
    "            bars = axes[i, j].bar(models_list, means, width=0.3, color=colors)\n",
    "            title_map = {\n",
    "                'train_acc': 'Train Accuracy',\n",
    "                'val_acc': 'Val Accuracy',\n",
    "                'test_acc': 'Test Accuracy',\n",
    "                'train_loss': 'Train Loss',\n",
    "                'val_loss': 'Val Loss',\n",
    "                'test_loss': 'Test Loss'\n",
    "            }\n",
    "            axes[i, j].set_title(title_map[f'{set_name}_{metric}'])\n",
    "            if metric == 'acc':\n",
    "                axes[i, j].set_ylim(0, 1.1)\n",
    "            else:\n",
    "                max_loss = max(means) + max(stds)\n",
    "                axes[i, j].set_ylim(0, max_loss * 1.1)\n",
    "\n",
    "            for k, bar in enumerate(bars):\n",
    "                height = bar.get_height()\n",
    "                offset = 0.02 if height > 0.9 else 0.01\n",
    "                axes[i, j].text(bar.get_x() + bar.get_width() / 2, height + offset, f'{height:.2f}',\n",
    "                                ha='center', va='bottom', fontsize=10)\n",
    "\n",
    "    handles = [plt.Rectangle((0, 0), 1, 1, color=model_colors.get(m, 'black')) for m in models_list]\n",
    "    fig.legend(handles, models_list, loc='upper right', bbox_to_anchor=(1.1, 1), title='Models', fontsize=12)\n",
    "\n",
    "    plt.tight_layout(pad=3.0)\n",
    "    plt.show()"
   ]
  },
  {
   "cell_type": "code",
   "execution_count": 27,
   "id": "0719f492-bea8-4367-a0ca-109adca76b76",
   "metadata": {},
   "outputs": [
    {
     "data": {
      "image/png": "[encoded data removed]",
      "text/plain": [
       "<Figure size 2000x1200 with 6 Axes>"
      ]
     },
     "metadata": {},
     "output_type": "display_data"
    }
   ],
   "source": [
    "plot_results(all_results)"
   ]
  },
  {
   "cell_type": "markdown",
   "id": "0dbf8dc3-0685-4950-927e-9ab0d40afccc",
   "metadata": {},
   "source": [
    "## Final Average of Results"
   ]
  },
  {
   "cell_type": "code",
   "execution_count": 29,
   "id": "91fb5f8e-7f7b-42e1-b8c4-43f9b89b42c5",
   "metadata": {},
   "outputs": [],
   "source": [
    "# Print final average results\n",
    "def print_final_averages(all_results):\n",
    "    print(\"\\n\" + \"=\"*50)\n",
    "    print(\"Final Average Results\")\n",
    "    print(\"=\"*50)\n",
    "    for model in all_results:\n",
    "        print(f\"\\n{model} Model:\")\n",
    "        print(f\"Train Accuracy: {np.mean(all_results[model]['train_acc']):.4f}\")\n",
    "        print(f\"Val Accuracy: {np.mean(all_results[model]['val_acc']):.4f}\")\n",
    "        print(f\"Test Accuracy: {np.mean(all_results[model]['test_acc']):.4f}\")\n",
    "        print(f\"Train Loss: {np.mean(all_results[model]['train_loss']):.4f}\")\n",
    "        print(f\"Val Loss: {np.mean(all_results[model]['val_loss']):.4f}\")\n",
    "        print(f\"Test Loss: {np.mean(all_results[model]['test_loss']):.4f}\")"
   ]
  },
  {
   "cell_type": "code",
   "execution_count": 30,
   "id": "40b6e804-0057-42c6-9f71-7dcc2bb0d619",
   "metadata": {},
   "outputs": [
    {
     "name": "stdout",
     "output_type": "stream",
     "text": [
      "\n",
      "==================================================\n",
      "Final Average Results\n",
      "==================================================\n",
      "\n",
      "CNN Model:\n",
      "Train Accuracy: 0.9506\n",
      "Val Accuracy: 0.9375\n",
      "Test Accuracy: 0.9359\n",
      "Train Loss: 0.1530\n",
      "Val Loss: 0.2032\n",
      "Test Loss: 0.2206\n",
      "\n",
      "ViT Model:\n",
      "Train Accuracy: 0.9735\n",
      "Val Accuracy: 0.9626\n",
      "Test Accuracy: 0.9601\n",
      "Train Loss: 0.0858\n",
      "Val Loss: 0.1293\n",
      "Test Loss: 0.1381\n",
      "\n",
      "GRU Model:\n",
      "Train Accuracy: 0.9576\n",
      "Val Accuracy: 0.9456\n",
      "Test Accuracy: 0.9433\n",
      "Train Loss: 0.1319\n",
      "Val Loss: 0.1813\n",
      "Test Loss: 0.1908\n"
     ]
    }
   ],
   "source": [
    "print_final_averages(all_results)"
   ]
  },
  {
   "cell_type": "code",
   "execution_count": null,
   "id": "f4feb590-cfeb-487c-9e5c-4ded3d3c0bf8",
   "metadata": {},
   "outputs": [],
   "source": []
  },
  {
   "cell_type": "code",
   "execution_count": null,
   "id": "5613e67b-7156-428a-8ea6-017a661565f2",
   "metadata": {},
   "outputs": [],
   "source": []
  }
 ],
 "metadata": {
  "kernelspec": {
   "display_name": "Python 3 (ipykernel)",
   "language": "python",
   "name": "python3"
  },
  "language_info": {
   "codemirror_mode": {
    "name": "ipython",
    "version": 3
   },
   "file_extension": ".py",
   "mimetype": "text/x-python",
   "name": "python",
   "nbconvert_exporter": "python",
   "pygments_lexer": "ipython3",
   "version": "3.11.0"
  }
 },
 "nbformat": 4,
 "nbformat_minor": 5
}

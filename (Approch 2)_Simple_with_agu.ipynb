{
 "cells": [
  {
   "cell_type": "markdown",
   "id": "357fbbdd-4d77-4253-815f-0b2a5e461028",
   "metadata": {
    "jp-MarkdownHeadingCollapsed": true
   },
   "source": [
    "## Imports"
   ]
  },
  {
   "cell_type": "code",
   "execution_count": 1,
   "id": "71f34ef6-75b0-477c-81c6-c676e0009472",
   "metadata": {},
   "outputs": [],
   "source": [
    "import os\n",
    "import numpy as np\n",
    "import pandas as pd\n",
    "from tqdm import tqdm\n",
    "import matplotlib.pyplot as plt\n",
    "from sklearn.model_selection import StratifiedKFold\n",
    "from tensorflow.keras.utils import to_categorical\n",
    "from tensorflow.keras.callbacks import ModelCheckpoint, EarlyStopping\n",
    "from tensorflow.keras.models import Model\n",
    "from tensorflow.keras.layers import (Input, Conv1D, MaxPooling1D, Flatten, Dense, Dropout, BatchNormalization,\n",
    "                                     Add, Activation, GlobalAveragePooling1D, LayerNormalization,\n",
    "                                     MultiHeadAttention, Dropout as KDropout,\n",
    "                                     GRU, Bidirectional)\n",
    "from tensorflow.keras.optimizers import Adam\n",
    "import tensorflow as tf"
   ]
  },
  {
   "cell_type": "markdown",
   "id": "cef17087-890e-47ac-80b7-75d45edf995a",
   "metadata": {
    "jp-MarkdownHeadingCollapsed": true
   },
   "source": [
    "## Data Preparation : Load and Combine Data"
   ]
  },
  {
   "cell_type": "code",
   "execution_count": 3,
   "id": "9d992268-9e6d-4b93-b2d5-64cf8479c789",
   "metadata": {},
   "outputs": [],
   "source": [
    "# Configs\n",
    "DATA_PATH = 'G:/Capstone data/karsl-502'\n",
    "LABELS_PATH = 'G:/Capstone data/KARSL-502_Labels.xlsx'\n",
    "F_AVG = 30\n",
    "NUM_FOLDS = 5\n",
    "BATCH_SIZE = 32\n",
    "EPOCHS = 12"
   ]
  },
  {
   "cell_type": "code",
   "execution_count": 4,
   "id": "55b1e195-0e06-44e6-aadb-bd0e7895a5bc",
   "metadata": {},
   "outputs": [],
   "source": [
    "# Load labels\n",
    "df_labels = pd.read_excel(LABELS_PATH)\n",
    "w2id = dict(zip(df_labels['Sign-Arabic'], df_labels['SignID']))\n",
    "words = list(w2id.keys())\n",
    "label_map = {word: idx for idx, word in enumerate(words)}\n",
    "NUM_CLASSES = len(words)"
   ]
  },
  {
   "cell_type": "code",
   "execution_count": 5,
   "id": "e47b9768-8d21-45fd-aee7-e1d669e32f82",
   "metadata": {},
   "outputs": [],
   "source": [
    "def preprocess_data(data_path, signers, split, f_avg):\n",
    "    sequences = []\n",
    "    labels = []\n",
    "    for word in tqdm(words, desc=f'Loading {split} data for signers {signers}'):\n",
    "        for signer in signers:\n",
    "            word_id = w2id[word]\n",
    "            keypoints_dir = os.path.join(data_path, signer, split, str(word_id).zfill(4))\n",
    "\n",
    "            required_dirs = ['lh_keypoints', 'rh_keypoints', 'pose_keypoints']\n",
    "            if not all(os.path.exists(os.path.join(keypoints_dir, d)) for d in required_dirs):\n",
    "                continue\n",
    "\n",
    "            lh_dir = os.path.join(keypoints_dir, 'lh_keypoints')\n",
    "            for sequence in os.listdir(lh_dir):\n",
    "                try:\n",
    "                    lh = np.load(os.path.join(lh_dir, sequence))\n",
    "                    rh = np.load(os.path.join(keypoints_dir, 'rh_keypoints', sequence))\n",
    "                    pose = np.load(os.path.join(keypoints_dir, 'pose_keypoints', sequence))\n",
    "\n",
    "                    def pad_sequence(seq):\n",
    "                        if len(seq) < f_avg:\n",
    "                            pad = np.tile(seq[-1], (f_avg - len(seq), 1))\n",
    "                            return np.concatenate([seq, pad])\n",
    "                        return seq[:f_avg]\n",
    "\n",
    "                    lh = pad_sequence(lh)\n",
    "                    rh = pad_sequence(rh)\n",
    "                    pose = pad_sequence(pose)\n",
    "\n",
    "                    # Combine pose, lh, rh on last axis (features)\n",
    "                    combined = np.concatenate([pose, lh, rh], axis=-1)  # shape (f_avg, features)\n",
    "                    sequences.append(combined)\n",
    "                    labels.append(label_map[word])\n",
    "                except Exception as e:\n",
    "                    print(f\"Error loading {sequence}: {e}\")\n",
    "\n",
    "    X = np.array(sequences)\n",
    "    y = to_categorical(labels, num_classes=NUM_CLASSES)\n",
    "\n",
    "    return X, y"
   ]
  },
  {
   "cell_type": "code",
   "execution_count": 6,
   "id": "79610831-2d76-4b76-97bf-7aa7a856087c",
   "metadata": {},
   "outputs": [
    {
     "name": "stderr",
     "output_type": "stream",
     "text": [
      "Loading train data for signers ['01', '02', '03']: 100%|█████████████████████████████| 502/502 [24:23<00:00,  2.92s/it]\n",
      "Loading test data for signers ['01', '02', '03']: 100%|██████████████████████████████| 502/502 [04:38<00:00,  1.80it/s]\n"
     ]
    },
    {
     "name": "stdout",
     "output_type": "stream",
     "text": [
      "Shapes:\n",
      "X_train: (58529, 30, 225) y_train: (58529, 502)\n",
      "X_test: (11110, 30, 225) y_test: (11110, 502)\n"
     ]
    }
   ],
   "source": [
    "# Load train and test data\n",
    "X_train, y_train = preprocess_data(DATA_PATH, ['01', '02','03'], 'train', F_AVG)\n",
    "X_test, y_test = preprocess_data(DATA_PATH, ['01', '02','03'], 'test', F_AVG)\n",
    "\n",
    "print(\"Shapes:\")\n",
    "print(\"X_train:\", X_train.shape, \"y_train:\", y_train.shape)\n",
    "print(\"X_test:\", X_test.shape, \"y_test:\", y_test.shape)"
   ]
  },
  {
   "cell_type": "markdown",
   "id": "26b1c2e5-d7cf-4804-9f5d-07bd69b54024",
   "metadata": {
    "jp-MarkdownHeadingCollapsed": true
   },
   "source": [
    "## Augmentation Funtion"
   ]
  },
  {
   "cell_type": "code",
   "execution_count": 7,
   "id": "19824a0f-f7f5-4cae-b6c4-eea30558b257",
   "metadata": {},
   "outputs": [],
   "source": [
    "def augment_data(X, noise_level=0.01):\n",
    "    \"\"\"\n",
    "    Adds Gaussian noise to training data to improve model generalization by\n",
    "    simulating small variations and reducing overfitting.\n",
    "    \"\"\"\n",
    "    noise = noise_level * np.random.randn(*X.shape)\n",
    "    return X + noise"
   ]
  },
  {
   "cell_type": "markdown",
   "id": "ce9fa171-7cbf-4e23-96f2-d135e48627c8",
   "metadata": {},
   "source": [
    "## Models"
   ]
  },
  {
   "cell_type": "markdown",
   "id": "05adc644-7a8e-4fa4-860a-6dd9ae7aa758",
   "metadata": {},
   "source": [
    "### CNN model"
   ]
  },
  {
   "cell_type": "code",
   "execution_count": 10,
   "id": "de3f8276-ed25-4782-a3b7-deba9b2fa841",
   "metadata": {},
   "outputs": [],
   "source": [
    "def build_cnn_model(input_shape, num_classes):\n",
    "    \"\"\"\n",
    "    CNN model for sequence classification:\n",
    "    - One Conv1D layer with BatchNorm and ReLU.\n",
    "    - MaxPooling and Flatten.\n",
    "    - Dense layer with dropout before classification.\n",
    "    \"\"\"\n",
    "    inputs = Input(shape=input_shape)\n",
    "    x = Conv1D(32, 3, padding='same')(inputs)\n",
    "    x = BatchNormalization()(x)\n",
    "    x = Activation('relu')(x)\n",
    "    x = MaxPooling1D(2)(x)\n",
    "    \n",
    "    x = Flatten()(x)\n",
    "    x = Dense(128)(x)\n",
    "    x = Dropout(0.3)(x)\n",
    "    outputs = Dense(num_classes, activation='softmax')(x)\n",
    "    model = Model(inputs, outputs, name='CNN_Simple')\n",
    "    model.compile(optimizer=Adam(learning_rate=1e-3), loss='categorical_crossentropy', metrics=['accuracy'])\n",
    "    return model"
   ]
  },
  {
   "cell_type": "markdown",
   "id": "e566fabf-bc1b-4519-950d-185dd54f7fe9",
   "metadata": {
    "jp-MarkdownHeadingCollapsed": true
   },
   "source": [
    "### ViT model"
   ]
  },
  {
   "cell_type": "code",
   "execution_count": 12,
   "id": "178fab10-ea0c-4cbc-b1dc-ed814c3fd1e2",
   "metadata": {},
   "outputs": [],
   "source": [
    "# (Patch embedding + transformer encoder)"
   ]
  },
  {
   "cell_type": "code",
   "execution_count": 13,
   "id": "b72486a6-abff-4627-be0a-c20941f892c3",
   "metadata": {},
   "outputs": [],
   "source": [
    "class TransformerBlock(tf.keras.layers.Layer):\n",
    "    def __init__(self, embed_dim, num_heads, ff_dim, rate=0.1):\n",
    "        super(TransformerBlock, self).__init__()\n",
    "        self.layernorm1 = LayerNormalization(epsilon=1e-6)\n",
    "        self.att = MultiHeadAttention(num_heads=num_heads, key_dim=embed_dim)\n",
    "        self.dropout1 = KDropout(rate)\n",
    "        \n",
    "        self.layernorm2 = LayerNormalization(epsilon=1e-6)\n",
    "        self.ffn = tf.keras.Sequential([\n",
    "            Dense(ff_dim, activation='relu'),\n",
    "            Dense(embed_dim),\n",
    "        ])\n",
    "        self.dropout2 = KDropout(rate)\n",
    "        \n",
    "    def call(self, inputs, training=False):\n",
    "        # PreNorm style\n",
    "        x_norm = self.layernorm1(inputs)\n",
    "        attn_output = self.att(x_norm, x_norm)\n",
    "        attn_output = self.dropout1(attn_output, training=training)\n",
    "        out1 = inputs + attn_output\n",
    "        \n",
    "        out_norm = self.layernorm2(out1)\n",
    "        ffn_output = self.ffn(out_norm)\n",
    "        ffn_output = self.dropout2(ffn_output, training=training)\n",
    "        return out1 + ffn_output\n",
    "\n",
    "class PatchEmbedding(tf.keras.layers.Layer):\n",
    "    def __init__(self, num_patches, embed_dim):\n",
    "        super(PatchEmbedding, self).__init__()\n",
    "        self.projection = Dense(embed_dim)\n",
    "        self.position_embedding = self.add_weight(name=\"pos_embed\", shape=(1, num_patches, embed_dim))\n",
    "    def call(self, patch):\n",
    "        x = self.projection(patch)\n",
    "        return x + self.position_embedding"
   ]
  },
  {
   "cell_type": "code",
   "execution_count": 14,
   "id": "4a2f2c19-3bc9-41b7-a297-38a1f6c11e5f",
   "metadata": {},
   "outputs": [],
   "source": [
    "\n",
    "def build_vit_model(input_shape, num_classes, embed_dim=32, num_heads=2, ff_dim=64, num_layers=1, dropout=0.1):\n",
    "    \"\"\"\n",
    "     ViT model for sequence classification:\n",
    "    - Patch embedding with smaller embedding size.\n",
    "    - Single Transformer block stating with few number of heads.\n",
    "    - Global average pooling and dropout before classification.\n",
    "    \"\"\"\n",
    "    inputs = Input(shape=input_shape)\n",
    "    x = PatchEmbedding(input_shape[0], embed_dim)(inputs)\n",
    "    for _ in range(num_layers):\n",
    "        x = TransformerBlock(embed_dim, num_heads, ff_dim, dropout)(x)\n",
    "    x = GlobalAveragePooling1D()(x)\n",
    "    x = KDropout(dropout)(x)\n",
    "    outputs = Dense(num_classes, activation='softmax')(x)\n",
    "    model = Model(inputs, outputs, name='ViT_Simple')\n",
    "    model.compile(optimizer=Adam(learning_rate=1e-4), loss='categorical_crossentropy', metrics=['accuracy'])\n",
    "    return model"
   ]
  },
  {
   "cell_type": "markdown",
   "id": "3cfc55fd-5691-4ec9-855e-0480a3d70791",
   "metadata": {
    "jp-MarkdownHeadingCollapsed": true
   },
   "source": [
    "### GRU model"
   ]
  },
  {
   "cell_type": "code",
   "execution_count": 16,
   "id": "adf1160e-3ee8-4b24-a39c-91b1280980c9",
   "metadata": {},
   "outputs": [],
   "source": [
    "def build_gru_model(input_shape, num_classes):\n",
    "    \"\"\"\n",
    "    2-layer GRU model for sequence classification:\n",
    "    - Two GRU layers with dropout.\n",
    "    - Dense softmax output layer.\n",
    "    \"\"\"\n",
    "    inputs = Input(shape=input_shape)\n",
    "    x = GRU(64, return_sequences=True)(inputs)\n",
    "    x = Dropout(0.3)(x)\n",
    "    x = GRU(64)(x)\n",
    "    x = Dropout(0.3)(x)\n",
    "    outputs = Dense(num_classes, activation='softmax')(x)\n",
    "    model = Model(inputs, outputs, name='GRU_Simple')\n",
    "    model.compile(optimizer=Adam(learning_rate=1e-3), loss='categorical_crossentropy', metrics=['accuracy'])\n",
    "    return model"
   ]
  },
  {
   "cell_type": "markdown",
   "id": "c0123b19-6ad2-4884-83ab-2ba25d73930c",
   "metadata": {},
   "source": [
    "## Training and evaluation"
   ]
  },
  {
   "cell_type": "code",
   "execution_count": 19,
   "id": "8e48adcb-d60c-4015-8418-480d5323e4be",
   "metadata": {},
   "outputs": [],
   "source": [
    "def train_and_evaluate_model(model_name, X_train, y_train, X_test, y_test, NUM_FOLDS=5, EPOCHS=10, BATCH_SIZE=32):\n",
    "    builders = {\n",
    "        'CNN': build_cnn_model,\n",
    "        'ViT': build_vit_model,\n",
    "        'GRU': build_gru_model  # Replaced BiT with GRU here\n",
    "    }\n",
    "    build_fn = builders[model_name]\n",
    "\n",
    "    input_shape = X_train.shape[1:]\n",
    "    y_int = np.argmax(y_train, axis=1)\n",
    "\n",
    "    results = {k: [] for k in ['train_acc', 'val_acc', 'test_acc', 'train_loss', 'val_loss', 'test_loss']}\n",
    "    best_test_acc = 0\n",
    "    best_model_path = None\n",
    "\n",
    "    skf = StratifiedKFold(n_splits=NUM_FOLDS, shuffle=True, random_state=42)\n",
    "    fold_num = 1\n",
    "\n",
    "    for train_idx, val_idx in skf.split(X_train, y_int):\n",
    "        print(f\"\\nTraining fold {fold_num} / {NUM_FOLDS} for {model_name}\")\n",
    "        X_tr, X_val = X_train[train_idx], X_train[val_idx]\n",
    "        y_tr, y_val = y_train[train_idx], y_train[val_idx]\n",
    "\n",
    "        # Data augmentation on training only\n",
    "        X_tr_aug = augment_data(X_tr)\n",
    "\n",
    "        model = build_fn(input_shape, y_train.shape[1])\n",
    "        if fold_num == 1:\n",
    "            model.summary()\n",
    "\n",
    "        checkpoint_path = f\"{model_name}_fold{fold_num}.h5\"\n",
    "        checkpoint = ModelCheckpoint(checkpoint_path, monitor='val_accuracy', save_best_only=True, verbose=1)\n",
    "        early_stop = EarlyStopping(monitor='val_accuracy', patience=3, restore_best_weights=True)\n",
    "\n",
    "        history = model.fit(\n",
    "            X_tr_aug, y_tr,\n",
    "            validation_data=(X_val, y_val),\n",
    "            epochs=EPOCHS,\n",
    "            batch_size=BATCH_SIZE,\n",
    "            callbacks=[checkpoint, early_stop],\n",
    "            verbose=2\n",
    "        )\n",
    "\n",
    "        train_loss, train_acc = model.evaluate(X_tr, y_tr, verbose=0)\n",
    "        val_loss, val_acc = model.evaluate(X_val, y_val, verbose=0)\n",
    "        test_loss, test_acc = model.evaluate(X_test, y_test, verbose=0)\n",
    "\n",
    "        print(f\"Fold {fold_num} results: train_acc={train_acc:.4f}, val_acc={val_acc:.4f}, test_acc={test_acc:.4f}\")\n",
    "\n",
    "        results['train_acc'].append(train_acc)\n",
    "        results['val_acc'].append(val_acc)\n",
    "        results['test_acc'].append(test_acc)\n",
    "        results['train_loss'].append(train_loss)\n",
    "        results['val_loss'].append(val_loss)\n",
    "        results['test_loss'].append(test_loss)\n",
    "\n",
    "        if val_acc > best_test_acc:\n",
    "            best_test_acc = test_acc\n",
    "            best_model_path = checkpoint_path\n",
    "\n",
    "        fold_num += 1\n",
    "\n",
    "    print(f\"\\nBest Test accuracy: {best_test_acc:.4f} from model: {best_model_path}\")\n",
    "\n",
    "    return results, best_model_path"
   ]
  },
  {
   "cell_type": "markdown",
   "id": "280b6165-cf4a-4b47-aefc-dacb9b66606f",
   "metadata": {
    "jp-MarkdownHeadingCollapsed": true
   },
   "source": [
    "### Train CNN"
   ]
  },
  {
   "cell_type": "code",
   "execution_count": 20,
   "id": "5d471e7b-8573-426d-a556-8703cc239ac7",
   "metadata": {
    "scrolled": true
   },
   "outputs": [
    {
     "name": "stdout",
     "output_type": "stream",
     "text": [
      "\n",
      "Training fold 1 / 5 for CNN\n"
     ]
    },
    {
     "data": {
      "text/html": [
       "<pre style=\"white-space:pre;overflow-x:auto;line-height:normal;font-family:Menlo,'DejaVu Sans Mono',consolas,'Courier New',monospace\"><span style=\"font-weight: bold\">Model: \"CNN_Simple\"</span>\n",
       "</pre>\n"
      ],
      "text/plain": [
       "\u001b[1mModel: \"CNN_Simple\"\u001b[0m\n"
      ]
     },
     "metadata": {},
     "output_type": "display_data"
    },
    {
     "data": {
      "text/html": [
       "<pre style=\"white-space:pre;overflow-x:auto;line-height:normal;font-family:Menlo,'DejaVu Sans Mono',consolas,'Courier New',monospace\">┏━━━━━━━━━━━━━━━━━━━━━━━━━━━━━━━━━━━━━━┳━━━━━━━━━━━━━━━━━━━━━━━━━━━━━┳━━━━━━━━━━━━━━━━━┓\n",
       "┃<span style=\"font-weight: bold\"> Layer (type)                         </span>┃<span style=\"font-weight: bold\"> Output Shape                </span>┃<span style=\"font-weight: bold\">         Param # </span>┃\n",
       "┡━━━━━━━━━━━━━━━━━━━━━━━━━━━━━━━━━━━━━━╇━━━━━━━━━━━━━━━━━━━━━━━━━━━━━╇━━━━━━━━━━━━━━━━━┩\n",
       "│ input_layer (<span style=\"color: #0087ff; text-decoration-color: #0087ff\">InputLayer</span>)             │ (<span style=\"color: #00d7ff; text-decoration-color: #00d7ff\">None</span>, <span style=\"color: #00af00; text-decoration-color: #00af00\">30</span>, <span style=\"color: #00af00; text-decoration-color: #00af00\">225</span>)             │               <span style=\"color: #00af00; text-decoration-color: #00af00\">0</span> │\n",
       "├──────────────────────────────────────┼─────────────────────────────┼─────────────────┤\n",
       "│ conv1d (<span style=\"color: #0087ff; text-decoration-color: #0087ff\">Conv1D</span>)                      │ (<span style=\"color: #00d7ff; text-decoration-color: #00d7ff\">None</span>, <span style=\"color: #00af00; text-decoration-color: #00af00\">30</span>, <span style=\"color: #00af00; text-decoration-color: #00af00\">32</span>)              │          <span style=\"color: #00af00; text-decoration-color: #00af00\">21,632</span> │\n",
       "├──────────────────────────────────────┼─────────────────────────────┼─────────────────┤\n",
       "│ batch_normalization                  │ (<span style=\"color: #00d7ff; text-decoration-color: #00d7ff\">None</span>, <span style=\"color: #00af00; text-decoration-color: #00af00\">30</span>, <span style=\"color: #00af00; text-decoration-color: #00af00\">32</span>)              │             <span style=\"color: #00af00; text-decoration-color: #00af00\">128</span> │\n",
       "│ (<span style=\"color: #0087ff; text-decoration-color: #0087ff\">BatchNormalization</span>)                 │                             │                 │\n",
       "├──────────────────────────────────────┼─────────────────────────────┼─────────────────┤\n",
       "│ activation (<span style=\"color: #0087ff; text-decoration-color: #0087ff\">Activation</span>)              │ (<span style=\"color: #00d7ff; text-decoration-color: #00d7ff\">None</span>, <span style=\"color: #00af00; text-decoration-color: #00af00\">30</span>, <span style=\"color: #00af00; text-decoration-color: #00af00\">32</span>)              │               <span style=\"color: #00af00; text-decoration-color: #00af00\">0</span> │\n",
       "├──────────────────────────────────────┼─────────────────────────────┼─────────────────┤\n",
       "│ max_pooling1d (<span style=\"color: #0087ff; text-decoration-color: #0087ff\">MaxPooling1D</span>)         │ (<span style=\"color: #00d7ff; text-decoration-color: #00d7ff\">None</span>, <span style=\"color: #00af00; text-decoration-color: #00af00\">15</span>, <span style=\"color: #00af00; text-decoration-color: #00af00\">32</span>)              │               <span style=\"color: #00af00; text-decoration-color: #00af00\">0</span> │\n",
       "├──────────────────────────────────────┼─────────────────────────────┼─────────────────┤\n",
       "│ flatten (<span style=\"color: #0087ff; text-decoration-color: #0087ff\">Flatten</span>)                    │ (<span style=\"color: #00d7ff; text-decoration-color: #00d7ff\">None</span>, <span style=\"color: #00af00; text-decoration-color: #00af00\">480</span>)                 │               <span style=\"color: #00af00; text-decoration-color: #00af00\">0</span> │\n",
       "├──────────────────────────────────────┼─────────────────────────────┼─────────────────┤\n",
       "│ dense (<span style=\"color: #0087ff; text-decoration-color: #0087ff\">Dense</span>)                        │ (<span style=\"color: #00d7ff; text-decoration-color: #00d7ff\">None</span>, <span style=\"color: #00af00; text-decoration-color: #00af00\">128</span>)                 │          <span style=\"color: #00af00; text-decoration-color: #00af00\">61,568</span> │\n",
       "├──────────────────────────────────────┼─────────────────────────────┼─────────────────┤\n",
       "│ dropout (<span style=\"color: #0087ff; text-decoration-color: #0087ff\">Dropout</span>)                    │ (<span style=\"color: #00d7ff; text-decoration-color: #00d7ff\">None</span>, <span style=\"color: #00af00; text-decoration-color: #00af00\">128</span>)                 │               <span style=\"color: #00af00; text-decoration-color: #00af00\">0</span> │\n",
       "├──────────────────────────────────────┼─────────────────────────────┼─────────────────┤\n",
       "│ dense_1 (<span style=\"color: #0087ff; text-decoration-color: #0087ff\">Dense</span>)                      │ (<span style=\"color: #00d7ff; text-decoration-color: #00d7ff\">None</span>, <span style=\"color: #00af00; text-decoration-color: #00af00\">502</span>)                 │          <span style=\"color: #00af00; text-decoration-color: #00af00\">64,758</span> │\n",
       "└──────────────────────────────────────┴─────────────────────────────┴─────────────────┘\n",
       "</pre>\n"
      ],
      "text/plain": [
       "┏━━━━━━━━━━━━━━━━━━━━━━━━━━━━━━━━━━━━━━┳━━━━━━━━━━━━━━━━━━━━━━━━━━━━━┳━━━━━━━━━━━━━━━━━┓\n",
       "┃\u001b[1m \u001b[0m\u001b[1mLayer (type)                        \u001b[0m\u001b[1m \u001b[0m┃\u001b[1m \u001b[0m\u001b[1mOutput Shape               \u001b[0m\u001b[1m \u001b[0m┃\u001b[1m \u001b[0m\u001b[1m        Param #\u001b[0m\u001b[1m \u001b[0m┃\n",
       "┡━━━━━━━━━━━━━━━━━━━━━━━━━━━━━━━━━━━━━━╇━━━━━━━━━━━━━━━━━━━━━━━━━━━━━╇━━━━━━━━━━━━━━━━━┩\n",
       "│ input_layer (\u001b[38;5;33mInputLayer\u001b[0m)             │ (\u001b[38;5;45mNone\u001b[0m, \u001b[38;5;34m30\u001b[0m, \u001b[38;5;34m225\u001b[0m)             │               \u001b[38;5;34m0\u001b[0m │\n",
       "├──────────────────────────────────────┼─────────────────────────────┼─────────────────┤\n",
       "│ conv1d (\u001b[38;5;33mConv1D\u001b[0m)                      │ (\u001b[38;5;45mNone\u001b[0m, \u001b[38;5;34m30\u001b[0m, \u001b[38;5;34m32\u001b[0m)              │          \u001b[38;5;34m21,632\u001b[0m │\n",
       "├──────────────────────────────────────┼─────────────────────────────┼─────────────────┤\n",
       "│ batch_normalization                  │ (\u001b[38;5;45mNone\u001b[0m, \u001b[38;5;34m30\u001b[0m, \u001b[38;5;34m32\u001b[0m)              │             \u001b[38;5;34m128\u001b[0m │\n",
       "│ (\u001b[38;5;33mBatchNormalization\u001b[0m)                 │                             │                 │\n",
       "├──────────────────────────────────────┼─────────────────────────────┼─────────────────┤\n",
       "│ activation (\u001b[38;5;33mActivation\u001b[0m)              │ (\u001b[38;5;45mNone\u001b[0m, \u001b[38;5;34m30\u001b[0m, \u001b[38;5;34m32\u001b[0m)              │               \u001b[38;5;34m0\u001b[0m │\n",
       "├──────────────────────────────────────┼─────────────────────────────┼─────────────────┤\n",
       "│ max_pooling1d (\u001b[38;5;33mMaxPooling1D\u001b[0m)         │ (\u001b[38;5;45mNone\u001b[0m, \u001b[38;5;34m15\u001b[0m, \u001b[38;5;34m32\u001b[0m)              │               \u001b[38;5;34m0\u001b[0m │\n",
       "├──────────────────────────────────────┼─────────────────────────────┼─────────────────┤\n",
       "│ flatten (\u001b[38;5;33mFlatten\u001b[0m)                    │ (\u001b[38;5;45mNone\u001b[0m, \u001b[38;5;34m480\u001b[0m)                 │               \u001b[38;5;34m0\u001b[0m │\n",
       "├──────────────────────────────────────┼─────────────────────────────┼─────────────────┤\n",
       "│ dense (\u001b[38;5;33mDense\u001b[0m)                        │ (\u001b[38;5;45mNone\u001b[0m, \u001b[38;5;34m128\u001b[0m)                 │          \u001b[38;5;34m61,568\u001b[0m │\n",
       "├──────────────────────────────────────┼─────────────────────────────┼─────────────────┤\n",
       "│ dropout (\u001b[38;5;33mDropout\u001b[0m)                    │ (\u001b[38;5;45mNone\u001b[0m, \u001b[38;5;34m128\u001b[0m)                 │               \u001b[38;5;34m0\u001b[0m │\n",
       "├──────────────────────────────────────┼─────────────────────────────┼─────────────────┤\n",
       "│ dense_1 (\u001b[38;5;33mDense\u001b[0m)                      │ (\u001b[38;5;45mNone\u001b[0m, \u001b[38;5;34m502\u001b[0m)                 │          \u001b[38;5;34m64,758\u001b[0m │\n",
       "└──────────────────────────────────────┴─────────────────────────────┴─────────────────┘\n"
      ]
     },
     "metadata": {},
     "output_type": "display_data"
    },
    {
     "data": {
      "text/html": [
       "<pre style=\"white-space:pre;overflow-x:auto;line-height:normal;font-family:Menlo,'DejaVu Sans Mono',consolas,'Courier New',monospace\"><span style=\"font-weight: bold\"> Total params: </span><span style=\"color: #00af00; text-decoration-color: #00af00\">148,086</span> (578.46 KB)\n",
       "</pre>\n"
      ],
      "text/plain": [
       "\u001b[1m Total params: \u001b[0m\u001b[38;5;34m148,086\u001b[0m (578.46 KB)\n"
      ]
     },
     "metadata": {},
     "output_type": "display_data"
    },
    {
     "data": {
      "text/html": [
       "<pre style=\"white-space:pre;overflow-x:auto;line-height:normal;font-family:Menlo,'DejaVu Sans Mono',consolas,'Courier New',monospace\"><span style=\"font-weight: bold\"> Trainable params: </span><span style=\"color: #00af00; text-decoration-color: #00af00\">148,022</span> (578.21 KB)\n",
       "</pre>\n"
      ],
      "text/plain": [
       "\u001b[1m Trainable params: \u001b[0m\u001b[38;5;34m148,022\u001b[0m (578.21 KB)\n"
      ]
     },
     "metadata": {},
     "output_type": "display_data"
    },
    {
     "data": {
      "text/html": [
       "<pre style=\"white-space:pre;overflow-x:auto;line-height:normal;font-family:Menlo,'DejaVu Sans Mono',consolas,'Courier New',monospace\"><span style=\"font-weight: bold\"> Non-trainable params: </span><span style=\"color: #00af00; text-decoration-color: #00af00\">64</span> (256.00 B)\n",
       "</pre>\n"
      ],
      "text/plain": [
       "\u001b[1m Non-trainable params: \u001b[0m\u001b[38;5;34m64\u001b[0m (256.00 B)\n"
      ]
     },
     "metadata": {},
     "output_type": "display_data"
    },
    {
     "name": "stdout",
     "output_type": "stream",
     "text": [
      "Epoch 1/12\n",
      "\n",
      "Epoch 1: val_accuracy improved from -inf to 0.62635, saving model to CNN_fold1.h5\n"
     ]
    },
    {
     "name": "stderr",
     "output_type": "stream",
     "text": [
      "WARNING:absl:You are saving your model as an HDF5 file via `model.save()` or `keras.saving.save_model(model)`. This file format is considered legacy. We recommend using instead the native Keras format, e.g. `model.save('my_model.keras')` or `keras.saving.save_model(model, 'my_model.keras')`. \n"
     ]
    },
    {
     "name": "stdout",
     "output_type": "stream",
     "text": [
      "1464/1464 - 7s - 5ms/step - accuracy: 0.4781 - loss: 2.2549 - val_accuracy: 0.6263 - val_loss: 1.3907\n",
      "Epoch 2/12\n",
      "\n",
      "Epoch 2: val_accuracy improved from 0.62635 to 0.80711, saving model to CNN_fold1.h5\n"
     ]
    },
    {
     "name": "stderr",
     "output_type": "stream",
     "text": [
      "WARNING:absl:You are saving your model as an HDF5 file via `model.save()` or `keras.saving.save_model(model)`. This file format is considered legacy. We recommend using instead the native Keras format, e.g. `model.save('my_model.keras')` or `keras.saving.save_model(model, 'my_model.keras')`. \n"
     ]
    },
    {
     "name": "stdout",
     "output_type": "stream",
     "text": [
      "1464/1464 - 5s - 4ms/step - accuracy: 0.7945 - loss: 0.7000 - val_accuracy: 0.8071 - val_loss: 0.6391\n",
      "Epoch 3/12\n",
      "\n",
      "Epoch 3: val_accuracy did not improve from 0.80711\n",
      "1464/1464 - 5s - 3ms/step - accuracy: 0.8546 - loss: 0.4704 - val_accuracy: 0.7606 - val_loss: 0.9145\n",
      "Epoch 4/12\n",
      "\n",
      "Epoch 4: val_accuracy improved from 0.80711 to 0.84205, saving model to CNN_fold1.h5\n"
     ]
    },
    {
     "name": "stderr",
     "output_type": "stream",
     "text": [
      "WARNING:absl:You are saving your model as an HDF5 file via `model.save()` or `keras.saving.save_model(model)`. This file format is considered legacy. We recommend using instead the native Keras format, e.g. `model.save('my_model.keras')` or `keras.saving.save_model(model, 'my_model.keras')`. \n"
     ]
    },
    {
     "name": "stdout",
     "output_type": "stream",
     "text": [
      "1464/1464 - 5s - 3ms/step - accuracy: 0.8802 - loss: 0.3854 - val_accuracy: 0.8420 - val_loss: 0.5053\n",
      "Epoch 5/12\n",
      "\n",
      "Epoch 5: val_accuracy improved from 0.84205 to 0.90424, saving model to CNN_fold1.h5\n"
     ]
    },
    {
     "name": "stderr",
     "output_type": "stream",
     "text": [
      "WARNING:absl:You are saving your model as an HDF5 file via `model.save()` or `keras.saving.save_model(model)`. This file format is considered legacy. We recommend using instead the native Keras format, e.g. `model.save('my_model.keras')` or `keras.saving.save_model(model, 'my_model.keras')`. \n"
     ]
    },
    {
     "name": "stdout",
     "output_type": "stream",
     "text": [
      "1464/1464 - 5s - 3ms/step - accuracy: 0.8940 - loss: 0.3418 - val_accuracy: 0.9042 - val_loss: 0.3234\n",
      "Epoch 6/12\n",
      "\n",
      "Epoch 6: val_accuracy did not improve from 0.90424\n",
      "1464/1464 - 5s - 3ms/step - accuracy: 0.9017 - loss: 0.3164 - val_accuracy: 0.7649 - val_loss: 0.9553\n",
      "Epoch 7/12\n",
      "\n",
      "Epoch 7: val_accuracy did not improve from 0.90424\n",
      "1464/1464 - 5s - 3ms/step - accuracy: 0.9113 - loss: 0.2855 - val_accuracy: 0.8908 - val_loss: 0.3761\n",
      "Epoch 8/12\n",
      "\n",
      "Epoch 8: val_accuracy did not improve from 0.90424\n",
      "1464/1464 - 5s - 3ms/step - accuracy: 0.9180 - loss: 0.2657 - val_accuracy: 0.8104 - val_loss: 0.7420\n",
      "Fold 1 results: train_acc=0.9147, val_acc=0.9042, test_acc=0.8986\n",
      "\n",
      "Training fold 2 / 5 for CNN\n",
      "Epoch 1/12\n",
      "\n",
      "Epoch 1: val_accuracy improved from -inf to 0.70050, saving model to CNN_fold2.h5\n"
     ]
    },
    {
     "name": "stderr",
     "output_type": "stream",
     "text": [
      "WARNING:absl:You are saving your model as an HDF5 file via `model.save()` or `keras.saving.save_model(model)`. This file format is considered legacy. We recommend using instead the native Keras format, e.g. `model.save('my_model.keras')` or `keras.saving.save_model(model, 'my_model.keras')`. \n"
     ]
    },
    {
     "name": "stdout",
     "output_type": "stream",
     "text": [
      "1464/1464 - 7s - 5ms/step - accuracy: 0.4788 - loss: 2.2560 - val_accuracy: 0.7005 - val_loss: 1.0642\n",
      "Epoch 2/12\n",
      "\n",
      "Epoch 2: val_accuracy improved from 0.70050 to 0.83487, saving model to CNN_fold2.h5\n"
     ]
    },
    {
     "name": "stderr",
     "output_type": "stream",
     "text": [
      "WARNING:absl:You are saving your model as an HDF5 file via `model.save()` or `keras.saving.save_model(model)`. This file format is considered legacy. We recommend using instead the native Keras format, e.g. `model.save('my_model.keras')` or `keras.saving.save_model(model, 'my_model.keras')`. \n"
     ]
    },
    {
     "name": "stdout",
     "output_type": "stream",
     "text": [
      "1464/1464 - 5s - 3ms/step - accuracy: 0.7895 - loss: 0.7193 - val_accuracy: 0.8349 - val_loss: 0.5300\n",
      "Epoch 3/12\n",
      "\n",
      "Epoch 3: val_accuracy did not improve from 0.83487\n",
      "1464/1464 - 5s - 3ms/step - accuracy: 0.8480 - loss: 0.5032 - val_accuracy: 0.7745 - val_loss: 0.8046\n",
      "Epoch 4/12\n",
      "\n",
      "Epoch 4: val_accuracy did not improve from 0.83487\n",
      "1464/1464 - 5s - 3ms/step - accuracy: 0.8794 - loss: 0.3989 - val_accuracy: 0.8061 - val_loss: 0.6043\n",
      "Epoch 5/12\n",
      "\n",
      "Epoch 5: val_accuracy improved from 0.83487 to 0.88245, saving model to CNN_fold2.h5\n"
     ]
    },
    {
     "name": "stderr",
     "output_type": "stream",
     "text": [
      "WARNING:absl:You are saving your model as an HDF5 file via `model.save()` or `keras.saving.save_model(model)`. This file format is considered legacy. We recommend using instead the native Keras format, e.g. `model.save('my_model.keras')` or `keras.saving.save_model(model, 'my_model.keras')`. \n"
     ]
    },
    {
     "name": "stdout",
     "output_type": "stream",
     "text": [
      "1464/1464 - 5s - 3ms/step - accuracy: 0.8918 - loss: 0.3511 - val_accuracy: 0.8825 - val_loss: 0.3834\n",
      "Epoch 6/12\n",
      "\n",
      "Epoch 6: val_accuracy improved from 0.88245 to 0.89245, saving model to CNN_fold2.h5\n"
     ]
    },
    {
     "name": "stderr",
     "output_type": "stream",
     "text": [
      "WARNING:absl:You are saving your model as an HDF5 file via `model.save()` or `keras.saving.save_model(model)`. This file format is considered legacy. We recommend using instead the native Keras format, e.g. `model.save('my_model.keras')` or `keras.saving.save_model(model, 'my_model.keras')`. \n"
     ]
    },
    {
     "name": "stdout",
     "output_type": "stream",
     "text": [
      "1464/1464 - 5s - 3ms/step - accuracy: 0.8999 - loss: 0.3211 - val_accuracy: 0.8924 - val_loss: 0.3431\n",
      "Epoch 7/12\n",
      "\n",
      "Epoch 7: val_accuracy did not improve from 0.89245\n",
      "1464/1464 - 5s - 3ms/step - accuracy: 0.9098 - loss: 0.2886 - val_accuracy: 0.8523 - val_loss: 0.5030\n",
      "Epoch 8/12\n",
      "\n",
      "Epoch 8: val_accuracy improved from 0.89245 to 0.91141, saving model to CNN_fold2.h5\n"
     ]
    },
    {
     "name": "stderr",
     "output_type": "stream",
     "text": [
      "WARNING:absl:You are saving your model as an HDF5 file via `model.save()` or `keras.saving.save_model(model)`. This file format is considered legacy. We recommend using instead the native Keras format, e.g. `model.save('my_model.keras')` or `keras.saving.save_model(model, 'my_model.keras')`. \n"
     ]
    },
    {
     "name": "stdout",
     "output_type": "stream",
     "text": [
      "1464/1464 - 5s - 3ms/step - accuracy: 0.9168 - loss: 0.2648 - val_accuracy: 0.9114 - val_loss: 0.2896\n",
      "Epoch 9/12\n",
      "\n",
      "Epoch 9: val_accuracy did not improve from 0.91141\n",
      "1464/1464 - 5s - 3ms/step - accuracy: 0.9237 - loss: 0.2484 - val_accuracy: 0.8904 - val_loss: 0.3845\n",
      "Epoch 10/12\n",
      "\n",
      "Epoch 10: val_accuracy improved from 0.91141 to 0.91816, saving model to CNN_fold2.h5\n"
     ]
    },
    {
     "name": "stderr",
     "output_type": "stream",
     "text": [
      "WARNING:absl:You are saving your model as an HDF5 file via `model.save()` or `keras.saving.save_model(model)`. This file format is considered legacy. We recommend using instead the native Keras format, e.g. `model.save('my_model.keras')` or `keras.saving.save_model(model, 'my_model.keras')`. \n"
     ]
    },
    {
     "name": "stdout",
     "output_type": "stream",
     "text": [
      "1464/1464 - 5s - 3ms/step - accuracy: 0.9251 - loss: 0.2350 - val_accuracy: 0.9182 - val_loss: 0.2839\n",
      "Epoch 11/12\n",
      "\n",
      "Epoch 11: val_accuracy did not improve from 0.91816\n",
      "1464/1464 - 5s - 3ms/step - accuracy: 0.9290 - loss: 0.2209 - val_accuracy: 0.9065 - val_loss: 0.3265\n",
      "Epoch 12/12\n",
      "\n",
      "Epoch 12: val_accuracy improved from 0.91816 to 0.93362, saving model to CNN_fold2.h5\n"
     ]
    },
    {
     "name": "stderr",
     "output_type": "stream",
     "text": [
      "WARNING:absl:You are saving your model as an HDF5 file via `model.save()` or `keras.saving.save_model(model)`. This file format is considered legacy. We recommend using instead the native Keras format, e.g. `model.save('my_model.keras')` or `keras.saving.save_model(model, 'my_model.keras')`. \n"
     ]
    },
    {
     "name": "stdout",
     "output_type": "stream",
     "text": [
      "1464/1464 - 5s - 3ms/step - accuracy: 0.9351 - loss: 0.2086 - val_accuracy: 0.9336 - val_loss: 0.2205\n",
      "Fold 2 results: train_acc=0.9487, val_acc=0.9336, test_acc=0.9328\n",
      "\n",
      "Training fold 3 / 5 for CNN\n",
      "Epoch 1/12\n",
      "\n",
      "Epoch 1: val_accuracy improved from -inf to 0.68674, saving model to CNN_fold3.h5\n"
     ]
    },
    {
     "name": "stderr",
     "output_type": "stream",
     "text": [
      "WARNING:absl:You are saving your model as an HDF5 file via `model.save()` or `keras.saving.save_model(model)`. This file format is considered legacy. We recommend using instead the native Keras format, e.g. `model.save('my_model.keras')` or `keras.saving.save_model(model, 'my_model.keras')`. \n"
     ]
    },
    {
     "name": "stdout",
     "output_type": "stream",
     "text": [
      "1464/1464 - 7s - 5ms/step - accuracy: 0.4821 - loss: 2.2424 - val_accuracy: 0.6867 - val_loss: 1.0764\n",
      "Epoch 2/12\n",
      "\n",
      "Epoch 2: val_accuracy improved from 0.68674 to 0.82556, saving model to CNN_fold3.h5\n"
     ]
    },
    {
     "name": "stderr",
     "output_type": "stream",
     "text": [
      "WARNING:absl:You are saving your model as an HDF5 file via `model.save()` or `keras.saving.save_model(model)`. This file format is considered legacy. We recommend using instead the native Keras format, e.g. `model.save('my_model.keras')` or `keras.saving.save_model(model, 'my_model.keras')`. \n"
     ]
    },
    {
     "name": "stdout",
     "output_type": "stream",
     "text": [
      "1464/1464 - 5s - 4ms/step - accuracy: 0.7978 - loss: 0.6852 - val_accuracy: 0.8256 - val_loss: 0.5852\n",
      "Epoch 3/12\n",
      "\n",
      "Epoch 3: val_accuracy improved from 0.82556 to 0.82838, saving model to CNN_fold3.h5\n"
     ]
    },
    {
     "name": "stderr",
     "output_type": "stream",
     "text": [
      "WARNING:absl:You are saving your model as an HDF5 file via `model.save()` or `keras.saving.save_model(model)`. This file format is considered legacy. We recommend using instead the native Keras format, e.g. `model.save('my_model.keras')` or `keras.saving.save_model(model, 'my_model.keras')`. \n"
     ]
    },
    {
     "name": "stdout",
     "output_type": "stream",
     "text": [
      "1464/1464 - 5s - 4ms/step - accuracy: 0.8538 - loss: 0.4797 - val_accuracy: 0.8284 - val_loss: 0.5750\n",
      "Epoch 4/12\n",
      "\n",
      "Epoch 4: val_accuracy improved from 0.82838 to 0.85298, saving model to CNN_fold3.h5\n"
     ]
    },
    {
     "name": "stderr",
     "output_type": "stream",
     "text": [
      "WARNING:absl:You are saving your model as an HDF5 file via `model.save()` or `keras.saving.save_model(model)`. This file format is considered legacy. We recommend using instead the native Keras format, e.g. `model.save('my_model.keras')` or `keras.saving.save_model(model, 'my_model.keras')`. \n"
     ]
    },
    {
     "name": "stdout",
     "output_type": "stream",
     "text": [
      "1464/1464 - 5s - 3ms/step - accuracy: 0.8794 - loss: 0.3916 - val_accuracy: 0.8530 - val_loss: 0.5034\n",
      "Epoch 5/12\n",
      "\n",
      "Epoch 5: val_accuracy improved from 0.85298 to 0.88297, saving model to CNN_fold3.h5\n"
     ]
    },
    {
     "name": "stderr",
     "output_type": "stream",
     "text": [
      "WARNING:absl:You are saving your model as an HDF5 file via `model.save()` or `keras.saving.save_model(model)`. This file format is considered legacy. We recommend using instead the native Keras format, e.g. `model.save('my_model.keras')` or `keras.saving.save_model(model, 'my_model.keras')`. \n"
     ]
    },
    {
     "name": "stdout",
     "output_type": "stream",
     "text": [
      "1464/1464 - 5s - 3ms/step - accuracy: 0.8929 - loss: 0.3456 - val_accuracy: 0.8830 - val_loss: 0.4039\n",
      "Epoch 6/12\n",
      "\n",
      "Epoch 6: val_accuracy did not improve from 0.88297\n",
      "1464/1464 - 5s - 3ms/step - accuracy: 0.9052 - loss: 0.3058 - val_accuracy: 0.8787 - val_loss: 0.4037\n",
      "Epoch 7/12\n",
      "\n",
      "Epoch 7: val_accuracy improved from 0.88297 to 0.89715, saving model to CNN_fold3.h5\n"
     ]
    },
    {
     "name": "stderr",
     "output_type": "stream",
     "text": [
      "WARNING:absl:You are saving your model as an HDF5 file via `model.save()` or `keras.saving.save_model(model)`. This file format is considered legacy. We recommend using instead the native Keras format, e.g. `model.save('my_model.keras')` or `keras.saving.save_model(model, 'my_model.keras')`. \n"
     ]
    },
    {
     "name": "stdout",
     "output_type": "stream",
     "text": [
      "1464/1464 - 5s - 3ms/step - accuracy: 0.9113 - loss: 0.2816 - val_accuracy: 0.8971 - val_loss: 0.3406\n",
      "Epoch 8/12\n",
      "\n",
      "Epoch 8: val_accuracy improved from 0.89715 to 0.90048, saving model to CNN_fold3.h5\n"
     ]
    },
    {
     "name": "stderr",
     "output_type": "stream",
     "text": [
      "WARNING:absl:You are saving your model as an HDF5 file via `model.save()` or `keras.saving.save_model(model)`. This file format is considered legacy. We recommend using instead the native Keras format, e.g. `model.save('my_model.keras')` or `keras.saving.save_model(model, 'my_model.keras')`. \n"
     ]
    },
    {
     "name": "stdout",
     "output_type": "stream",
     "text": [
      "1464/1464 - 5s - 3ms/step - accuracy: 0.9178 - loss: 0.2636 - val_accuracy: 0.9005 - val_loss: 0.3539\n",
      "Epoch 9/12\n",
      "\n",
      "Epoch 9: val_accuracy did not improve from 0.90048\n",
      "1464/1464 - 5s - 3ms/step - accuracy: 0.9233 - loss: 0.2449 - val_accuracy: 0.8848 - val_loss: 0.3947\n",
      "Epoch 10/12\n",
      "\n",
      "Epoch 10: val_accuracy improved from 0.90048 to 0.90458, saving model to CNN_fold3.h5\n"
     ]
    },
    {
     "name": "stderr",
     "output_type": "stream",
     "text": [
      "WARNING:absl:You are saving your model as an HDF5 file via `model.save()` or `keras.saving.save_model(model)`. This file format is considered legacy. We recommend using instead the native Keras format, e.g. `model.save('my_model.keras')` or `keras.saving.save_model(model, 'my_model.keras')`. \n"
     ]
    },
    {
     "name": "stdout",
     "output_type": "stream",
     "text": [
      "1464/1464 - 5s - 3ms/step - accuracy: 0.9275 - loss: 0.2334 - val_accuracy: 0.9046 - val_loss: 0.3515\n",
      "Epoch 11/12\n",
      "\n",
      "Epoch 11: val_accuracy did not improve from 0.90458\n",
      "1464/1464 - 5s - 3ms/step - accuracy: 0.9326 - loss: 0.2141 - val_accuracy: 0.9044 - val_loss: 0.3467\n",
      "Epoch 12/12\n",
      "\n",
      "Epoch 12: val_accuracy did not improve from 0.90458\n",
      "1464/1464 - 5s - 3ms/step - accuracy: 0.9369 - loss: 0.2036 - val_accuracy: 0.8907 - val_loss: 0.4147\n",
      "Fold 3 results: train_acc=0.9164, val_acc=0.9046, test_acc=0.9021\n",
      "\n",
      "Training fold 4 / 5 for CNN\n",
      "Epoch 1/12\n",
      "\n",
      "Epoch 1: val_accuracy improved from -inf to 0.70639, saving model to CNN_fold4.h5\n"
     ]
    },
    {
     "name": "stderr",
     "output_type": "stream",
     "text": [
      "WARNING:absl:You are saving your model as an HDF5 file via `model.save()` or `keras.saving.save_model(model)`. This file format is considered legacy. We recommend using instead the native Keras format, e.g. `model.save('my_model.keras')` or `keras.saving.save_model(model, 'my_model.keras')`. \n"
     ]
    },
    {
     "name": "stdout",
     "output_type": "stream",
     "text": [
      "1464/1464 - 7s - 5ms/step - accuracy: 0.4788 - loss: 2.2572 - val_accuracy: 0.7064 - val_loss: 1.0118\n",
      "Epoch 2/12\n",
      "\n",
      "Epoch 2: val_accuracy improved from 0.70639 to 0.76269, saving model to CNN_fold4.h5\n"
     ]
    },
    {
     "name": "stderr",
     "output_type": "stream",
     "text": [
      "WARNING:absl:You are saving your model as an HDF5 file via `model.save()` or `keras.saving.save_model(model)`. This file format is considered legacy. We recommend using instead the native Keras format, e.g. `model.save('my_model.keras')` or `keras.saving.save_model(model, 'my_model.keras')`. \n"
     ]
    },
    {
     "name": "stdout",
     "output_type": "stream",
     "text": [
      "1464/1464 - 5s - 4ms/step - accuracy: 0.7978 - loss: 0.6902 - val_accuracy: 0.7627 - val_loss: 0.8211\n",
      "Epoch 3/12\n",
      "\n",
      "Epoch 3: val_accuracy improved from 0.76269 to 0.81087, saving model to CNN_fold4.h5\n"
     ]
    },
    {
     "name": "stderr",
     "output_type": "stream",
     "text": [
      "WARNING:absl:You are saving your model as an HDF5 file via `model.save()` or `keras.saving.save_model(model)`. This file format is considered legacy. We recommend using instead the native Keras format, e.g. `model.save('my_model.keras')` or `keras.saving.save_model(model, 'my_model.keras')`. \n"
     ]
    },
    {
     "name": "stdout",
     "output_type": "stream",
     "text": [
      "1464/1464 - 5s - 3ms/step - accuracy: 0.8512 - loss: 0.4874 - val_accuracy: 0.8109 - val_loss: 0.6271\n",
      "Epoch 4/12\n",
      "\n",
      "Epoch 4: val_accuracy improved from 0.81087 to 0.90236, saving model to CNN_fold4.h5\n"
     ]
    },
    {
     "name": "stderr",
     "output_type": "stream",
     "text": [
      "WARNING:absl:You are saving your model as an HDF5 file via `model.save()` or `keras.saving.save_model(model)`. This file format is considered legacy. We recommend using instead the native Keras format, e.g. `model.save('my_model.keras')` or `keras.saving.save_model(model, 'my_model.keras')`. \n"
     ]
    },
    {
     "name": "stdout",
     "output_type": "stream",
     "text": [
      "1464/1464 - 5s - 4ms/step - accuracy: 0.8784 - loss: 0.3947 - val_accuracy: 0.9024 - val_loss: 0.3197\n",
      "Epoch 5/12\n",
      "\n",
      "Epoch 5: val_accuracy did not improve from 0.90236\n",
      "1464/1464 - 5s - 3ms/step - accuracy: 0.8970 - loss: 0.3383 - val_accuracy: 0.7957 - val_loss: 0.7765\n",
      "Epoch 6/12\n",
      "\n",
      "Epoch 6: val_accuracy did not improve from 0.90236\n",
      "1464/1464 - 5s - 3ms/step - accuracy: 0.9043 - loss: 0.3067 - val_accuracy: 0.6945 - val_loss: 1.4097\n",
      "Epoch 7/12\n",
      "\n",
      "Epoch 7: val_accuracy did not improve from 0.90236\n",
      "1464/1464 - 5s - 3ms/step - accuracy: 0.9126 - loss: 0.2778 - val_accuracy: 0.7968 - val_loss: 0.7906\n",
      "Fold 4 results: train_acc=0.9134, val_acc=0.9024, test_acc=0.8960\n",
      "\n",
      "Training fold 5 / 5 for CNN\n",
      "Epoch 1/12\n",
      "\n",
      "Epoch 1: val_accuracy improved from -inf to 0.69654, saving model to CNN_fold5.h5\n"
     ]
    },
    {
     "name": "stderr",
     "output_type": "stream",
     "text": [
      "WARNING:absl:You are saving your model as an HDF5 file via `model.save()` or `keras.saving.save_model(model)`. This file format is considered legacy. We recommend using instead the native Keras format, e.g. `model.save('my_model.keras')` or `keras.saving.save_model(model, 'my_model.keras')`. \n"
     ]
    },
    {
     "name": "stdout",
     "output_type": "stream",
     "text": [
      "1464/1464 - 7s - 5ms/step - accuracy: 0.4835 - loss: 2.2499 - val_accuracy: 0.6965 - val_loss: 1.0689\n",
      "Epoch 2/12\n",
      "\n",
      "Epoch 2: val_accuracy improved from 0.69654 to 0.76121, saving model to CNN_fold5.h5\n"
     ]
    },
    {
     "name": "stderr",
     "output_type": "stream",
     "text": [
      "WARNING:absl:You are saving your model as an HDF5 file via `model.save()` or `keras.saving.save_model(model)`. This file format is considered legacy. We recommend using instead the native Keras format, e.g. `model.save('my_model.keras')` or `keras.saving.save_model(model, 'my_model.keras')`. \n"
     ]
    },
    {
     "name": "stdout",
     "output_type": "stream",
     "text": [
      "1464/1464 - 5s - 3ms/step - accuracy: 0.7940 - loss: 0.6961 - val_accuracy: 0.7612 - val_loss: 0.8186\n",
      "Epoch 3/12\n",
      "\n",
      "Epoch 3: val_accuracy improved from 0.76121 to 0.84887, saving model to CNN_fold5.h5\n"
     ]
    },
    {
     "name": "stderr",
     "output_type": "stream",
     "text": [
      "WARNING:absl:You are saving your model as an HDF5 file via `model.save()` or `keras.saving.save_model(model)`. This file format is considered legacy. We recommend using instead the native Keras format, e.g. `model.save('my_model.keras')` or `keras.saving.save_model(model, 'my_model.keras')`. \n"
     ]
    },
    {
     "name": "stdout",
     "output_type": "stream",
     "text": [
      "1464/1464 - 5s - 3ms/step - accuracy: 0.8549 - loss: 0.4783 - val_accuracy: 0.8489 - val_loss: 0.5026\n",
      "Epoch 4/12\n",
      "\n",
      "Epoch 4: val_accuracy did not improve from 0.84887\n",
      "1464/1464 - 5s - 3ms/step - accuracy: 0.8770 - loss: 0.3970 - val_accuracy: 0.8178 - val_loss: 0.6502\n",
      "Epoch 5/12\n",
      "\n",
      "Epoch 5: val_accuracy did not improve from 0.84887\n",
      "1464/1464 - 5s - 3ms/step - accuracy: 0.8947 - loss: 0.3469 - val_accuracy: 0.7988 - val_loss: 0.8067\n",
      "Epoch 6/12\n",
      "\n",
      "Epoch 6: val_accuracy improved from 0.84887 to 0.90184, saving model to CNN_fold5.h5\n"
     ]
    },
    {
     "name": "stderr",
     "output_type": "stream",
     "text": [
      "WARNING:absl:You are saving your model as an HDF5 file via `model.save()` or `keras.saving.save_model(model)`. This file format is considered legacy. We recommend using instead the native Keras format, e.g. `model.save('my_model.keras')` or `keras.saving.save_model(model, 'my_model.keras')`. \n"
     ]
    },
    {
     "name": "stdout",
     "output_type": "stream",
     "text": [
      "1464/1464 - 5s - 3ms/step - accuracy: 0.9028 - loss: 0.3101 - val_accuracy: 0.9018 - val_loss: 0.3231\n",
      "Epoch 7/12\n",
      "\n",
      "Epoch 7: val_accuracy did not improve from 0.90184\n",
      "1464/1464 - 5s - 3ms/step - accuracy: 0.9091 - loss: 0.2887 - val_accuracy: 0.8826 - val_loss: 0.4015\n",
      "Epoch 8/12\n",
      "\n",
      "Epoch 8: val_accuracy did not improve from 0.90184\n",
      "1464/1464 - 4s - 3ms/step - accuracy: 0.9162 - loss: 0.2686 - val_accuracy: 0.8240 - val_loss: 0.6675\n",
      "Epoch 9/12\n",
      "\n",
      "Epoch 9: val_accuracy did not improve from 0.90184\n",
      "1464/1464 - 5s - 3ms/step - accuracy: 0.9199 - loss: 0.2515 - val_accuracy: 0.8884 - val_loss: 0.4126\n",
      "Fold 5 results: train_acc=0.9180, val_acc=0.9018, test_acc=0.9037\n",
      "\n",
      "Best Test accuracy: 0.9328 from model: CNN_fold2.h5\n"
     ]
    }
   ],
   "source": [
    "cnn_results, cnn_best_model = train_and_evaluate_model('CNN', X_train, y_train, X_test, y_test, NUM_FOLDS, EPOCHS, BATCH_SIZE)"
   ]
  },
  {
   "cell_type": "markdown",
   "id": "bf270b75-5f9e-473e-a458-078d3d46b898",
   "metadata": {
    "jp-MarkdownHeadingCollapsed": true
   },
   "source": [
    "### Train GRU"
   ]
  },
  {
   "cell_type": "code",
   "execution_count": 22,
   "id": "c1d8a461-867d-44f6-95cd-991b765f86c4",
   "metadata": {
    "scrolled": true
   },
   "outputs": [
    {
     "name": "stdout",
     "output_type": "stream",
     "text": [
      "\n",
      "Training fold 1 / 5 for GRU\n"
     ]
    },
    {
     "data": {
      "text/html": [
       "<pre style=\"white-space:pre;overflow-x:auto;line-height:normal;font-family:Menlo,'DejaVu Sans Mono',consolas,'Courier New',monospace\"><span style=\"font-weight: bold\">Model: \"GRU_Simple\"</span>\n",
       "</pre>\n"
      ],
      "text/plain": [
       "\u001b[1mModel: \"GRU_Simple\"\u001b[0m\n"
      ]
     },
     "metadata": {},
     "output_type": "display_data"
    },
    {
     "data": {
      "text/html": [
       "<pre style=\"white-space:pre;overflow-x:auto;line-height:normal;font-family:Menlo,'DejaVu Sans Mono',consolas,'Courier New',monospace\">┏━━━━━━━━━━━━━━━━━━━━━━━━━━━━━━━━━━━━━━┳━━━━━━━━━━━━━━━━━━━━━━━━━━━━━┳━━━━━━━━━━━━━━━━━┓\n",
       "┃<span style=\"font-weight: bold\"> Layer (type)                         </span>┃<span style=\"font-weight: bold\"> Output Shape                </span>┃<span style=\"font-weight: bold\">         Param # </span>┃\n",
       "┡━━━━━━━━━━━━━━━━━━━━━━━━━━━━━━━━━━━━━━╇━━━━━━━━━━━━━━━━━━━━━━━━━━━━━╇━━━━━━━━━━━━━━━━━┩\n",
       "│ input_layer_15 (<span style=\"color: #0087ff; text-decoration-color: #0087ff\">InputLayer</span>)          │ (<span style=\"color: #00d7ff; text-decoration-color: #00d7ff\">None</span>, <span style=\"color: #00af00; text-decoration-color: #00af00\">30</span>, <span style=\"color: #00af00; text-decoration-color: #00af00\">225</span>)             │               <span style=\"color: #00af00; text-decoration-color: #00af00\">0</span> │\n",
       "├──────────────────────────────────────┼─────────────────────────────┼─────────────────┤\n",
       "│ gru (<span style=\"color: #0087ff; text-decoration-color: #0087ff\">GRU</span>)                            │ (<span style=\"color: #00d7ff; text-decoration-color: #00d7ff\">None</span>, <span style=\"color: #00af00; text-decoration-color: #00af00\">30</span>, <span style=\"color: #00af00; text-decoration-color: #00af00\">64</span>)              │          <span style=\"color: #00af00; text-decoration-color: #00af00\">55,872</span> │\n",
       "├──────────────────────────────────────┼─────────────────────────────┼─────────────────┤\n",
       "│ dropout_25 (<span style=\"color: #0087ff; text-decoration-color: #0087ff\">Dropout</span>)                 │ (<span style=\"color: #00d7ff; text-decoration-color: #00d7ff\">None</span>, <span style=\"color: #00af00; text-decoration-color: #00af00\">30</span>, <span style=\"color: #00af00; text-decoration-color: #00af00\">64</span>)              │               <span style=\"color: #00af00; text-decoration-color: #00af00\">0</span> │\n",
       "├──────────────────────────────────────┼─────────────────────────────┼─────────────────┤\n",
       "│ gru_1 (<span style=\"color: #0087ff; text-decoration-color: #0087ff\">GRU</span>)                          │ (<span style=\"color: #00d7ff; text-decoration-color: #00d7ff\">None</span>, <span style=\"color: #00af00; text-decoration-color: #00af00\">64</span>)                  │          <span style=\"color: #00af00; text-decoration-color: #00af00\">24,960</span> │\n",
       "├──────────────────────────────────────┼─────────────────────────────┼─────────────────┤\n",
       "│ dropout_26 (<span style=\"color: #0087ff; text-decoration-color: #0087ff\">Dropout</span>)                 │ (<span style=\"color: #00d7ff; text-decoration-color: #00d7ff\">None</span>, <span style=\"color: #00af00; text-decoration-color: #00af00\">64</span>)                  │               <span style=\"color: #00af00; text-decoration-color: #00af00\">0</span> │\n",
       "├──────────────────────────────────────┼─────────────────────────────┼─────────────────┤\n",
       "│ dense_30 (<span style=\"color: #0087ff; text-decoration-color: #0087ff\">Dense</span>)                     │ (<span style=\"color: #00d7ff; text-decoration-color: #00d7ff\">None</span>, <span style=\"color: #00af00; text-decoration-color: #00af00\">502</span>)                 │          <span style=\"color: #00af00; text-decoration-color: #00af00\">32,630</span> │\n",
       "└──────────────────────────────────────┴─────────────────────────────┴─────────────────┘\n",
       "</pre>\n"
      ],
      "text/plain": [
       "┏━━━━━━━━━━━━━━━━━━━━━━━━━━━━━━━━━━━━━━┳━━━━━━━━━━━━━━━━━━━━━━━━━━━━━┳━━━━━━━━━━━━━━━━━┓\n",
       "┃\u001b[1m \u001b[0m\u001b[1mLayer (type)                        \u001b[0m\u001b[1m \u001b[0m┃\u001b[1m \u001b[0m\u001b[1mOutput Shape               \u001b[0m\u001b[1m \u001b[0m┃\u001b[1m \u001b[0m\u001b[1m        Param #\u001b[0m\u001b[1m \u001b[0m┃\n",
       "┡━━━━━━━━━━━━━━━━━━━━━━━━━━━━━━━━━━━━━━╇━━━━━━━━━━━━━━━━━━━━━━━━━━━━━╇━━━━━━━━━━━━━━━━━┩\n",
       "│ input_layer_15 (\u001b[38;5;33mInputLayer\u001b[0m)          │ (\u001b[38;5;45mNone\u001b[0m, \u001b[38;5;34m30\u001b[0m, \u001b[38;5;34m225\u001b[0m)             │               \u001b[38;5;34m0\u001b[0m │\n",
       "├──────────────────────────────────────┼─────────────────────────────┼─────────────────┤\n",
       "│ gru (\u001b[38;5;33mGRU\u001b[0m)                            │ (\u001b[38;5;45mNone\u001b[0m, \u001b[38;5;34m30\u001b[0m, \u001b[38;5;34m64\u001b[0m)              │          \u001b[38;5;34m55,872\u001b[0m │\n",
       "├──────────────────────────────────────┼─────────────────────────────┼─────────────────┤\n",
       "│ dropout_25 (\u001b[38;5;33mDropout\u001b[0m)                 │ (\u001b[38;5;45mNone\u001b[0m, \u001b[38;5;34m30\u001b[0m, \u001b[38;5;34m64\u001b[0m)              │               \u001b[38;5;34m0\u001b[0m │\n",
       "├──────────────────────────────────────┼─────────────────────────────┼─────────────────┤\n",
       "│ gru_1 (\u001b[38;5;33mGRU\u001b[0m)                          │ (\u001b[38;5;45mNone\u001b[0m, \u001b[38;5;34m64\u001b[0m)                  │          \u001b[38;5;34m24,960\u001b[0m │\n",
       "├──────────────────────────────────────┼─────────────────────────────┼─────────────────┤\n",
       "│ dropout_26 (\u001b[38;5;33mDropout\u001b[0m)                 │ (\u001b[38;5;45mNone\u001b[0m, \u001b[38;5;34m64\u001b[0m)                  │               \u001b[38;5;34m0\u001b[0m │\n",
       "├──────────────────────────────────────┼─────────────────────────────┼─────────────────┤\n",
       "│ dense_30 (\u001b[38;5;33mDense\u001b[0m)                     │ (\u001b[38;5;45mNone\u001b[0m, \u001b[38;5;34m502\u001b[0m)                 │          \u001b[38;5;34m32,630\u001b[0m │\n",
       "└──────────────────────────────────────┴─────────────────────────────┴─────────────────┘\n"
      ]
     },
     "metadata": {},
     "output_type": "display_data"
    },
    {
     "data": {
      "text/html": [
       "<pre style=\"white-space:pre;overflow-x:auto;line-height:normal;font-family:Menlo,'DejaVu Sans Mono',consolas,'Courier New',monospace\"><span style=\"font-weight: bold\"> Total params: </span><span style=\"color: #00af00; text-decoration-color: #00af00\">113,462</span> (443.21 KB)\n",
       "</pre>\n"
      ],
      "text/plain": [
       "\u001b[1m Total params: \u001b[0m\u001b[38;5;34m113,462\u001b[0m (443.21 KB)\n"
      ]
     },
     "metadata": {},
     "output_type": "display_data"
    },
    {
     "data": {
      "text/html": [
       "<pre style=\"white-space:pre;overflow-x:auto;line-height:normal;font-family:Menlo,'DejaVu Sans Mono',consolas,'Courier New',monospace\"><span style=\"font-weight: bold\"> Trainable params: </span><span style=\"color: #00af00; text-decoration-color: #00af00\">113,462</span> (443.21 KB)\n",
       "</pre>\n"
      ],
      "text/plain": [
       "\u001b[1m Trainable params: \u001b[0m\u001b[38;5;34m113,462\u001b[0m (443.21 KB)\n"
      ]
     },
     "metadata": {},
     "output_type": "display_data"
    },
    {
     "data": {
      "text/html": [
       "<pre style=\"white-space:pre;overflow-x:auto;line-height:normal;font-family:Menlo,'DejaVu Sans Mono',consolas,'Courier New',monospace\"><span style=\"font-weight: bold\"> Non-trainable params: </span><span style=\"color: #00af00; text-decoration-color: #00af00\">0</span> (0.00 B)\n",
       "</pre>\n"
      ],
      "text/plain": [
       "\u001b[1m Non-trainable params: \u001b[0m\u001b[38;5;34m0\u001b[0m (0.00 B)\n"
      ]
     },
     "metadata": {},
     "output_type": "display_data"
    },
    {
     "name": "stdout",
     "output_type": "stream",
     "text": [
      "Epoch 1/12\n",
      "\n",
      "Epoch 1: val_accuracy improved from -inf to 0.27541, saving model to GRU_fold1.h5\n"
     ]
    },
    {
     "name": "stderr",
     "output_type": "stream",
     "text": [
      "WARNING:absl:You are saving your model as an HDF5 file via `model.save()` or `keras.saving.save_model(model)`. This file format is considered legacy. We recommend using instead the native Keras format, e.g. `model.save('my_model.keras')` or `keras.saving.save_model(model, 'my_model.keras')`. \n"
     ]
    },
    {
     "name": "stdout",
     "output_type": "stream",
     "text": [
      "1464/1464 - 23s - 16ms/step - accuracy: 0.0889 - loss: 4.6354 - val_accuracy: 0.2754 - val_loss: 3.3393\n",
      "Epoch 2/12\n",
      "\n",
      "Epoch 2: val_accuracy improved from 0.27541 to 0.52580, saving model to GRU_fold1.h5\n"
     ]
    },
    {
     "name": "stderr",
     "output_type": "stream",
     "text": [
      "WARNING:absl:You are saving your model as an HDF5 file via `model.save()` or `keras.saving.save_model(model)`. This file format is considered legacy. We recommend using instead the native Keras format, e.g. `model.save('my_model.keras')` or `keras.saving.save_model(model, 'my_model.keras')`. \n"
     ]
    },
    {
     "name": "stdout",
     "output_type": "stream",
     "text": [
      "1464/1464 - 20s - 14ms/step - accuracy: 0.3447 - loss: 2.8107 - val_accuracy: 0.5258 - val_loss: 2.0771\n",
      "Epoch 3/12\n",
      "\n",
      "Epoch 3: val_accuracy improved from 0.52580 to 0.64514, saving model to GRU_fold1.h5\n"
     ]
    },
    {
     "name": "stderr",
     "output_type": "stream",
     "text": [
      "WARNING:absl:You are saving your model as an HDF5 file via `model.save()` or `keras.saving.save_model(model)`. This file format is considered legacy. We recommend using instead the native Keras format, e.g. `model.save('my_model.keras')` or `keras.saving.save_model(model, 'my_model.keras')`. \n"
     ]
    },
    {
     "name": "stdout",
     "output_type": "stream",
     "text": [
      "1464/1464 - 22s - 15ms/step - accuracy: 0.5045 - loss: 1.9864 - val_accuracy: 0.6451 - val_loss: 1.4758\n",
      "Epoch 4/12\n",
      "\n",
      "Epoch 4: val_accuracy improved from 0.64514 to 0.69563, saving model to GRU_fold1.h5\n"
     ]
    },
    {
     "name": "stderr",
     "output_type": "stream",
     "text": [
      "WARNING:absl:You are saving your model as an HDF5 file via `model.save()` or `keras.saving.save_model(model)`. This file format is considered legacy. We recommend using instead the native Keras format, e.g. `model.save('my_model.keras')` or `keras.saving.save_model(model, 'my_model.keras')`. \n"
     ]
    },
    {
     "name": "stdout",
     "output_type": "stream",
     "text": [
      "1464/1464 - 21s - 14ms/step - accuracy: 0.5949 - loss: 1.5549 - val_accuracy: 0.6956 - val_loss: 1.1735\n",
      "Epoch 5/12\n",
      "\n",
      "Epoch 5: val_accuracy improved from 0.69563 to 0.76345, saving model to GRU_fold1.h5\n"
     ]
    },
    {
     "name": "stderr",
     "output_type": "stream",
     "text": [
      "WARNING:absl:You are saving your model as an HDF5 file via `model.save()` or `keras.saving.save_model(model)`. This file format is considered legacy. We recommend using instead the native Keras format, e.g. `model.save('my_model.keras')` or `keras.saving.save_model(model, 'my_model.keras')`. \n"
     ]
    },
    {
     "name": "stdout",
     "output_type": "stream",
     "text": [
      "1464/1464 - 21s - 14ms/step - accuracy: 0.6561 - loss: 1.2804 - val_accuracy: 0.7635 - val_loss: 0.9103\n",
      "Epoch 6/12\n",
      "\n",
      "Epoch 6: val_accuracy improved from 0.76345 to 0.76858, saving model to GRU_fold1.h5\n"
     ]
    },
    {
     "name": "stderr",
     "output_type": "stream",
     "text": [
      "WARNING:absl:You are saving your model as an HDF5 file via `model.save()` or `keras.saving.save_model(model)`. This file format is considered legacy. We recommend using instead the native Keras format, e.g. `model.save('my_model.keras')` or `keras.saving.save_model(model, 'my_model.keras')`. \n"
     ]
    },
    {
     "name": "stdout",
     "output_type": "stream",
     "text": [
      "1464/1464 - 21s - 14ms/step - accuracy: 0.6999 - loss: 1.0961 - val_accuracy: 0.7686 - val_loss: 0.8461\n",
      "Epoch 7/12\n",
      "\n",
      "Epoch 7: val_accuracy improved from 0.76858 to 0.81813, saving model to GRU_fold1.h5\n"
     ]
    },
    {
     "name": "stderr",
     "output_type": "stream",
     "text": [
      "WARNING:absl:You are saving your model as an HDF5 file via `model.save()` or `keras.saving.save_model(model)`. This file format is considered legacy. We recommend using instead the native Keras format, e.g. `model.save('my_model.keras')` or `keras.saving.save_model(model, 'my_model.keras')`. \n"
     ]
    },
    {
     "name": "stdout",
     "output_type": "stream",
     "text": [
      "1464/1464 - 21s - 14ms/step - accuracy: 0.7303 - loss: 0.9612 - val_accuracy: 0.8181 - val_loss: 0.6797\n",
      "Epoch 8/12\n",
      "\n",
      "Epoch 8: val_accuracy improved from 0.81813 to 0.84333, saving model to GRU_fold1.h5\n"
     ]
    },
    {
     "name": "stderr",
     "output_type": "stream",
     "text": [
      "WARNING:absl:You are saving your model as an HDF5 file via `model.save()` or `keras.saving.save_model(model)`. This file format is considered legacy. We recommend using instead the native Keras format, e.g. `model.save('my_model.keras')` or `keras.saving.save_model(model, 'my_model.keras')`. \n"
     ]
    },
    {
     "name": "stdout",
     "output_type": "stream",
     "text": [
      "1464/1464 - 21s - 14ms/step - accuracy: 0.7566 - loss: 0.8487 - val_accuracy: 0.8433 - val_loss: 0.5726\n",
      "Epoch 9/12\n",
      "\n",
      "Epoch 9: val_accuracy improved from 0.84333 to 0.85930, saving model to GRU_fold1.h5\n"
     ]
    },
    {
     "name": "stderr",
     "output_type": "stream",
     "text": [
      "WARNING:absl:You are saving your model as an HDF5 file via `model.save()` or `keras.saving.save_model(model)`. This file format is considered legacy. We recommend using instead the native Keras format, e.g. `model.save('my_model.keras')` or `keras.saving.save_model(model, 'my_model.keras')`. \n"
     ]
    },
    {
     "name": "stdout",
     "output_type": "stream",
     "text": [
      "1464/1464 - 21s - 14ms/step - accuracy: 0.7744 - loss: 0.7813 - val_accuracy: 0.8593 - val_loss: 0.5069\n",
      "Epoch 10/12\n",
      "\n",
      "Epoch 10: val_accuracy improved from 0.85930 to 0.87946, saving model to GRU_fold1.h5\n"
     ]
    },
    {
     "name": "stderr",
     "output_type": "stream",
     "text": [
      "WARNING:absl:You are saving your model as an HDF5 file via `model.save()` or `keras.saving.save_model(model)`. This file format is considered legacy. We recommend using instead the native Keras format, e.g. `model.save('my_model.keras')` or `keras.saving.save_model(model, 'my_model.keras')`. \n"
     ]
    },
    {
     "name": "stdout",
     "output_type": "stream",
     "text": [
      "1464/1464 - 21s - 14ms/step - accuracy: 0.7953 - loss: 0.7013 - val_accuracy: 0.8795 - val_loss: 0.4367\n",
      "Epoch 11/12\n",
      "\n",
      "Epoch 11: val_accuracy did not improve from 0.87946\n",
      "1464/1464 - 21s - 14ms/step - accuracy: 0.8093 - loss: 0.6466 - val_accuracy: 0.8756 - val_loss: 0.4234\n",
      "Epoch 12/12\n",
      "\n",
      "Epoch 12: val_accuracy improved from 0.87946 to 0.89091, saving model to GRU_fold1.h5\n"
     ]
    },
    {
     "name": "stderr",
     "output_type": "stream",
     "text": [
      "WARNING:absl:You are saving your model as an HDF5 file via `model.save()` or `keras.saving.save_model(model)`. This file format is considered legacy. We recommend using instead the native Keras format, e.g. `model.save('my_model.keras')` or `keras.saving.save_model(model, 'my_model.keras')`. \n"
     ]
    },
    {
     "name": "stdout",
     "output_type": "stream",
     "text": [
      "1464/1464 - 21s - 15ms/step - accuracy: 0.8234 - loss: 0.5980 - val_accuracy: 0.8909 - val_loss: 0.3847\n",
      "Fold 1 results: train_acc=0.9045, val_acc=0.8909, test_acc=0.8906\n",
      "\n",
      "Training fold 2 / 5 for GRU\n",
      "Epoch 1/12\n",
      "\n",
      "Epoch 1: val_accuracy improved from -inf to 0.29831, saving model to GRU_fold2.h5\n"
     ]
    },
    {
     "name": "stderr",
     "output_type": "stream",
     "text": [
      "WARNING:absl:You are saving your model as an HDF5 file via `model.save()` or `keras.saving.save_model(model)`. This file format is considered legacy. We recommend using instead the native Keras format, e.g. `model.save('my_model.keras')` or `keras.saving.save_model(model, 'my_model.keras')`. \n"
     ]
    },
    {
     "name": "stdout",
     "output_type": "stream",
     "text": [
      "1464/1464 - 26s - 18ms/step - accuracy: 0.0944 - loss: 4.5695 - val_accuracy: 0.2983 - val_loss: 3.2108\n",
      "Epoch 2/12\n",
      "\n",
      "Epoch 2: val_accuracy improved from 0.29831 to 0.51179, saving model to GRU_fold2.h5\n"
     ]
    },
    {
     "name": "stderr",
     "output_type": "stream",
     "text": [
      "WARNING:absl:You are saving your model as an HDF5 file via `model.save()` or `keras.saving.save_model(model)`. This file format is considered legacy. We recommend using instead the native Keras format, e.g. `model.save('my_model.keras')` or `keras.saving.save_model(model, 'my_model.keras')`. \n"
     ]
    },
    {
     "name": "stdout",
     "output_type": "stream",
     "text": [
      "1464/1464 - 21s - 14ms/step - accuracy: 0.3451 - loss: 2.7569 - val_accuracy: 0.5118 - val_loss: 2.0663\n",
      "Epoch 3/12\n",
      "\n",
      "Epoch 3: val_accuracy improved from 0.51179 to 0.62848, saving model to GRU_fold2.h5\n"
     ]
    },
    {
     "name": "stderr",
     "output_type": "stream",
     "text": [
      "WARNING:absl:You are saving your model as an HDF5 file via `model.save()` or `keras.saving.save_model(model)`. This file format is considered legacy. We recommend using instead the native Keras format, e.g. `model.save('my_model.keras')` or `keras.saving.save_model(model, 'my_model.keras')`. \n"
     ]
    },
    {
     "name": "stdout",
     "output_type": "stream",
     "text": [
      "1464/1464 - 21s - 14ms/step - accuracy: 0.5025 - loss: 1.9736 - val_accuracy: 0.6285 - val_loss: 1.4807\n",
      "Epoch 4/12\n",
      "\n",
      "Epoch 4: val_accuracy improved from 0.62848 to 0.72535, saving model to GRU_fold2.h5\n"
     ]
    },
    {
     "name": "stderr",
     "output_type": "stream",
     "text": [
      "WARNING:absl:You are saving your model as an HDF5 file via `model.save()` or `keras.saving.save_model(model)`. This file format is considered legacy. We recommend using instead the native Keras format, e.g. `model.save('my_model.keras')` or `keras.saving.save_model(model, 'my_model.keras')`. \n"
     ]
    },
    {
     "name": "stdout",
     "output_type": "stream",
     "text": [
      "1464/1464 - 21s - 14ms/step - accuracy: 0.5967 - loss: 1.5502 - val_accuracy: 0.7254 - val_loss: 1.1096\n",
      "Epoch 5/12\n",
      "\n",
      "Epoch 5: val_accuracy improved from 0.72535 to 0.76166, saving model to GRU_fold2.h5\n"
     ]
    },
    {
     "name": "stderr",
     "output_type": "stream",
     "text": [
      "WARNING:absl:You are saving your model as an HDF5 file via `model.save()` or `keras.saving.save_model(model)`. This file format is considered legacy. We recommend using instead the native Keras format, e.g. `model.save('my_model.keras')` or `keras.saving.save_model(model, 'my_model.keras')`. \n"
     ]
    },
    {
     "name": "stdout",
     "output_type": "stream",
     "text": [
      "1464/1464 - 21s - 14ms/step - accuracy: 0.6589 - loss: 1.2726 - val_accuracy: 0.7617 - val_loss: 0.9153\n",
      "Epoch 6/12\n",
      "\n",
      "Epoch 6: val_accuracy improved from 0.76166 to 0.79156, saving model to GRU_fold2.h5\n"
     ]
    },
    {
     "name": "stderr",
     "output_type": "stream",
     "text": [
      "WARNING:absl:You are saving your model as an HDF5 file via `model.save()` or `keras.saving.save_model(model)`. This file format is considered legacy. We recommend using instead the native Keras format, e.g. `model.save('my_model.keras')` or `keras.saving.save_model(model, 'my_model.keras')`. \n"
     ]
    },
    {
     "name": "stdout",
     "output_type": "stream",
     "text": [
      "1464/1464 - 21s - 14ms/step - accuracy: 0.6965 - loss: 1.0967 - val_accuracy: 0.7916 - val_loss: 0.7718\n",
      "Epoch 7/12\n",
      "\n",
      "Epoch 7: val_accuracy improved from 0.79156 to 0.81257, saving model to GRU_fold2.h5\n"
     ]
    },
    {
     "name": "stderr",
     "output_type": "stream",
     "text": [
      "WARNING:absl:You are saving your model as an HDF5 file via `model.save()` or `keras.saving.save_model(model)`. This file format is considered legacy. We recommend using instead the native Keras format, e.g. `model.save('my_model.keras')` or `keras.saving.save_model(model, 'my_model.keras')`. \n"
     ]
    },
    {
     "name": "stdout",
     "output_type": "stream",
     "text": [
      "1464/1464 - 21s - 14ms/step - accuracy: 0.7297 - loss: 0.9686 - val_accuracy: 0.8126 - val_loss: 0.6799\n",
      "Epoch 8/12\n",
      "\n",
      "Epoch 8: val_accuracy improved from 0.81257 to 0.84145, saving model to GRU_fold2.h5\n"
     ]
    },
    {
     "name": "stderr",
     "output_type": "stream",
     "text": [
      "WARNING:absl:You are saving your model as an HDF5 file via `model.save()` or `keras.saving.save_model(model)`. This file format is considered legacy. We recommend using instead the native Keras format, e.g. `model.save('my_model.keras')` or `keras.saving.save_model(model, 'my_model.keras')`. \n"
     ]
    },
    {
     "name": "stdout",
     "output_type": "stream",
     "text": [
      "1464/1464 - 21s - 14ms/step - accuracy: 0.7554 - loss: 0.8583 - val_accuracy: 0.8414 - val_loss: 0.5808\n",
      "Epoch 9/12\n",
      "\n",
      "Epoch 9: val_accuracy did not improve from 0.84145\n",
      "1464/1464 - 21s - 14ms/step - accuracy: 0.7758 - loss: 0.7777 - val_accuracy: 0.8394 - val_loss: 0.5559\n",
      "Epoch 10/12\n",
      "\n",
      "Epoch 10: val_accuracy improved from 0.84145 to 0.86955, saving model to GRU_fold2.h5\n"
     ]
    },
    {
     "name": "stderr",
     "output_type": "stream",
     "text": [
      "WARNING:absl:You are saving your model as an HDF5 file via `model.save()` or `keras.saving.save_model(model)`. This file format is considered legacy. We recommend using instead the native Keras format, e.g. `model.save('my_model.keras')` or `keras.saving.save_model(model, 'my_model.keras')`. \n"
     ]
    },
    {
     "name": "stdout",
     "output_type": "stream",
     "text": [
      "1464/1464 - 21s - 15ms/step - accuracy: 0.7847 - loss: 0.7391 - val_accuracy: 0.8696 - val_loss: 0.4668\n",
      "Epoch 11/12\n",
      "\n",
      "Epoch 11: val_accuracy improved from 0.86955 to 0.87750, saving model to GRU_fold2.h5\n"
     ]
    },
    {
     "name": "stderr",
     "output_type": "stream",
     "text": [
      "WARNING:absl:You are saving your model as an HDF5 file via `model.save()` or `keras.saving.save_model(model)`. This file format is considered legacy. We recommend using instead the native Keras format, e.g. `model.save('my_model.keras')` or `keras.saving.save_model(model, 'my_model.keras')`. \n"
     ]
    },
    {
     "name": "stdout",
     "output_type": "stream",
     "text": [
      "1464/1464 - 21s - 14ms/step - accuracy: 0.8086 - loss: 0.6536 - val_accuracy: 0.8775 - val_loss: 0.4267\n",
      "Epoch 12/12\n",
      "\n",
      "Epoch 12: val_accuracy improved from 0.87750 to 0.88544, saving model to GRU_fold2.h5\n"
     ]
    },
    {
     "name": "stderr",
     "output_type": "stream",
     "text": [
      "WARNING:absl:You are saving your model as an HDF5 file via `model.save()` or `keras.saving.save_model(model)`. This file format is considered legacy. We recommend using instead the native Keras format, e.g. `model.save('my_model.keras')` or `keras.saving.save_model(model, 'my_model.keras')`. \n"
     ]
    },
    {
     "name": "stdout",
     "output_type": "stream",
     "text": [
      "1464/1464 - 21s - 14ms/step - accuracy: 0.7922 - loss: 0.7282 - val_accuracy: 0.8854 - val_loss: 0.3925\n",
      "Fold 2 results: train_acc=0.9041, val_acc=0.8854, test_acc=0.8867\n",
      "\n",
      "Training fold 3 / 5 for GRU\n",
      "Epoch 1/12\n",
      "\n",
      "Epoch 1: val_accuracy improved from -inf to 0.28473, saving model to GRU_fold3.h5\n"
     ]
    },
    {
     "name": "stderr",
     "output_type": "stream",
     "text": [
      "WARNING:absl:You are saving your model as an HDF5 file via `model.save()` or `keras.saving.save_model(model)`. This file format is considered legacy. We recommend using instead the native Keras format, e.g. `model.save('my_model.keras')` or `keras.saving.save_model(model, 'my_model.keras')`. \n"
     ]
    },
    {
     "name": "stdout",
     "output_type": "stream",
     "text": [
      "1464/1464 - 28s - 19ms/step - accuracy: 0.0933 - loss: 4.5542 - val_accuracy: 0.2847 - val_loss: 3.2595\n",
      "Epoch 2/12\n",
      "\n",
      "Epoch 2: val_accuracy improved from 0.28473 to 0.52964, saving model to GRU_fold3.h5\n"
     ]
    },
    {
     "name": "stderr",
     "output_type": "stream",
     "text": [
      "WARNING:absl:You are saving your model as an HDF5 file via `model.save()` or `keras.saving.save_model(model)`. This file format is considered legacy. We recommend using instead the native Keras format, e.g. `model.save('my_model.keras')` or `keras.saving.save_model(model, 'my_model.keras')`. \n"
     ]
    },
    {
     "name": "stdout",
     "output_type": "stream",
     "text": [
      "1464/1464 - 22s - 15ms/step - accuracy: 0.3483 - loss: 2.7893 - val_accuracy: 0.5296 - val_loss: 2.0645\n",
      "Epoch 3/12\n",
      "\n",
      "Epoch 3: val_accuracy improved from 0.52964 to 0.63361, saving model to GRU_fold3.h5\n"
     ]
    },
    {
     "name": "stderr",
     "output_type": "stream",
     "text": [
      "WARNING:absl:You are saving your model as an HDF5 file via `model.save()` or `keras.saving.save_model(model)`. This file format is considered legacy. We recommend using instead the native Keras format, e.g. `model.save('my_model.keras')` or `keras.saving.save_model(model, 'my_model.keras')`. \n"
     ]
    },
    {
     "name": "stdout",
     "output_type": "stream",
     "text": [
      "1464/1464 - 21s - 15ms/step - accuracy: 0.5138 - loss: 1.9592 - val_accuracy: 0.6336 - val_loss: 1.4986\n",
      "Epoch 4/12\n",
      "\n",
      "Epoch 4: val_accuracy improved from 0.63361 to 0.73612, saving model to GRU_fold3.h5\n"
     ]
    },
    {
     "name": "stderr",
     "output_type": "stream",
     "text": [
      "WARNING:absl:You are saving your model as an HDF5 file via `model.save()` or `keras.saving.save_model(model)`. This file format is considered legacy. We recommend using instead the native Keras format, e.g. `model.save('my_model.keras')` or `keras.saving.save_model(model, 'my_model.keras')`. \n"
     ]
    },
    {
     "name": "stdout",
     "output_type": "stream",
     "text": [
      "1464/1464 - 21s - 15ms/step - accuracy: 0.6053 - loss: 1.5151 - val_accuracy: 0.7361 - val_loss: 1.0855\n",
      "Epoch 5/12\n",
      "\n",
      "Epoch 5: val_accuracy improved from 0.73612 to 0.76269, saving model to GRU_fold3.h5\n"
     ]
    },
    {
     "name": "stderr",
     "output_type": "stream",
     "text": [
      "WARNING:absl:You are saving your model as an HDF5 file via `model.save()` or `keras.saving.save_model(model)`. This file format is considered legacy. We recommend using instead the native Keras format, e.g. `model.save('my_model.keras')` or `keras.saving.save_model(model, 'my_model.keras')`. \n"
     ]
    },
    {
     "name": "stdout",
     "output_type": "stream",
     "text": [
      "1464/1464 - 21s - 15ms/step - accuracy: 0.6685 - loss: 1.2329 - val_accuracy: 0.7627 - val_loss: 0.9013\n",
      "Epoch 6/12\n",
      "\n",
      "Epoch 6: val_accuracy improved from 0.76269 to 0.81155, saving model to GRU_fold3.h5\n"
     ]
    },
    {
     "name": "stderr",
     "output_type": "stream",
     "text": [
      "WARNING:absl:You are saving your model as an HDF5 file via `model.save()` or `keras.saving.save_model(model)`. This file format is considered legacy. We recommend using instead the native Keras format, e.g. `model.save('my_model.keras')` or `keras.saving.save_model(model, 'my_model.keras')`. \n"
     ]
    },
    {
     "name": "stdout",
     "output_type": "stream",
     "text": [
      "1464/1464 - 21s - 15ms/step - accuracy: 0.7122 - loss: 1.0415 - val_accuracy: 0.8115 - val_loss: 0.7235\n",
      "Epoch 7/12\n",
      "\n",
      "Epoch 7: val_accuracy improved from 0.81155 to 0.82385, saving model to GRU_fold3.h5\n"
     ]
    },
    {
     "name": "stderr",
     "output_type": "stream",
     "text": [
      "WARNING:absl:You are saving your model as an HDF5 file via `model.save()` or `keras.saving.save_model(model)`. This file format is considered legacy. We recommend using instead the native Keras format, e.g. `model.save('my_model.keras')` or `keras.saving.save_model(model, 'my_model.keras')`. \n"
     ]
    },
    {
     "name": "stdout",
     "output_type": "stream",
     "text": [
      "1464/1464 - 21s - 14ms/step - accuracy: 0.7445 - loss: 0.9104 - val_accuracy: 0.8239 - val_loss: 0.6380\n",
      "Epoch 8/12\n",
      "\n",
      "Epoch 8: val_accuracy improved from 0.82385 to 0.84982, saving model to GRU_fold3.h5\n"
     ]
    },
    {
     "name": "stderr",
     "output_type": "stream",
     "text": [
      "WARNING:absl:You are saving your model as an HDF5 file via `model.save()` or `keras.saving.save_model(model)`. This file format is considered legacy. We recommend using instead the native Keras format, e.g. `model.save('my_model.keras')` or `keras.saving.save_model(model, 'my_model.keras')`. \n"
     ]
    },
    {
     "name": "stdout",
     "output_type": "stream",
     "text": [
      "1464/1464 - 21s - 15ms/step - accuracy: 0.7663 - loss: 0.8178 - val_accuracy: 0.8498 - val_loss: 0.5386\n",
      "Epoch 9/12\n",
      "\n",
      "Epoch 9: val_accuracy improved from 0.84982 to 0.86810, saving model to GRU_fold3.h5\n"
     ]
    },
    {
     "name": "stderr",
     "output_type": "stream",
     "text": [
      "WARNING:absl:You are saving your model as an HDF5 file via `model.save()` or `keras.saving.save_model(model)`. This file format is considered legacy. We recommend using instead the native Keras format, e.g. `model.save('my_model.keras')` or `keras.saving.save_model(model, 'my_model.keras')`. \n"
     ]
    },
    {
     "name": "stdout",
     "output_type": "stream",
     "text": [
      "1464/1464 - 21s - 14ms/step - accuracy: 0.7858 - loss: 0.7420 - val_accuracy: 0.8681 - val_loss: 0.4748\n",
      "Epoch 10/12\n",
      "\n",
      "Epoch 10: val_accuracy improved from 0.86810 to 0.87775, saving model to GRU_fold3.h5\n"
     ]
    },
    {
     "name": "stderr",
     "output_type": "stream",
     "text": [
      "WARNING:absl:You are saving your model as an HDF5 file via `model.save()` or `keras.saving.save_model(model)`. This file format is considered legacy. We recommend using instead the native Keras format, e.g. `model.save('my_model.keras')` or `keras.saving.save_model(model, 'my_model.keras')`. \n"
     ]
    },
    {
     "name": "stdout",
     "output_type": "stream",
     "text": [
      "1464/1464 - 22s - 15ms/step - accuracy: 0.7948 - loss: 0.7016 - val_accuracy: 0.8778 - val_loss: 0.4216\n",
      "Epoch 11/12\n",
      "\n",
      "Epoch 11: val_accuracy improved from 0.87775 to 0.88168, saving model to GRU_fold3.h5\n"
     ]
    },
    {
     "name": "stderr",
     "output_type": "stream",
     "text": [
      "WARNING:absl:You are saving your model as an HDF5 file via `model.save()` or `keras.saving.save_model(model)`. This file format is considered legacy. We recommend using instead the native Keras format, e.g. `model.save('my_model.keras')` or `keras.saving.save_model(model, 'my_model.keras')`. \n"
     ]
    },
    {
     "name": "stdout",
     "output_type": "stream",
     "text": [
      "1464/1464 - 22s - 15ms/step - accuracy: 0.8130 - loss: 0.6374 - val_accuracy: 0.8817 - val_loss: 0.4119\n",
      "Epoch 12/12\n",
      "\n",
      "Epoch 12: val_accuracy improved from 0.88168 to 0.89100, saving model to GRU_fold3.h5\n"
     ]
    },
    {
     "name": "stderr",
     "output_type": "stream",
     "text": [
      "WARNING:absl:You are saving your model as an HDF5 file via `model.save()` or `keras.saving.save_model(model)`. This file format is considered legacy. We recommend using instead the native Keras format, e.g. `model.save('my_model.keras')` or `keras.saving.save_model(model, 'my_model.keras')`. \n"
     ]
    },
    {
     "name": "stdout",
     "output_type": "stream",
     "text": [
      "1464/1464 - 22s - 15ms/step - accuracy: 0.8271 - loss: 0.5831 - val_accuracy: 0.8910 - val_loss: 0.3725\n",
      "Fold 3 results: train_acc=0.9109, val_acc=0.8910, test_acc=0.8947\n",
      "\n",
      "Training fold 4 / 5 for GRU\n",
      "Epoch 1/12\n",
      "\n",
      "Epoch 1: val_accuracy improved from -inf to 0.24654, saving model to GRU_fold4.h5\n"
     ]
    },
    {
     "name": "stderr",
     "output_type": "stream",
     "text": [
      "WARNING:absl:You are saving your model as an HDF5 file via `model.save()` or `keras.saving.save_model(model)`. This file format is considered legacy. We recommend using instead the native Keras format, e.g. `model.save('my_model.keras')` or `keras.saving.save_model(model, 'my_model.keras')`. \n"
     ]
    },
    {
     "name": "stdout",
     "output_type": "stream",
     "text": [
      "1464/1464 - 25s - 17ms/step - accuracy: 0.0793 - loss: 4.6344 - val_accuracy: 0.2465 - val_loss: 3.4299\n",
      "Epoch 2/12\n",
      "\n",
      "Epoch 2: val_accuracy improved from 0.24654 to 0.46984, saving model to GRU_fold4.h5\n"
     ]
    },
    {
     "name": "stderr",
     "output_type": "stream",
     "text": [
      "WARNING:absl:You are saving your model as an HDF5 file via `model.save()` or `keras.saving.save_model(model)`. This file format is considered legacy. We recommend using instead the native Keras format, e.g. `model.save('my_model.keras')` or `keras.saving.save_model(model, 'my_model.keras')`. \n"
     ]
    },
    {
     "name": "stdout",
     "output_type": "stream",
     "text": [
      "1464/1464 - 21s - 14ms/step - accuracy: 0.3060 - loss: 2.9677 - val_accuracy: 0.4698 - val_loss: 2.2592\n",
      "Epoch 3/12\n",
      "\n",
      "Epoch 3: val_accuracy improved from 0.46984 to 0.61379, saving model to GRU_fold4.h5\n"
     ]
    },
    {
     "name": "stderr",
     "output_type": "stream",
     "text": [
      "WARNING:absl:You are saving your model as an HDF5 file via `model.save()` or `keras.saving.save_model(model)`. This file format is considered legacy. We recommend using instead the native Keras format, e.g. `model.save('my_model.keras')` or `keras.saving.save_model(model, 'my_model.keras')`. \n"
     ]
    },
    {
     "name": "stdout",
     "output_type": "stream",
     "text": [
      "1464/1464 - 21s - 14ms/step - accuracy: 0.4688 - loss: 2.1211 - val_accuracy: 0.6138 - val_loss: 1.6132\n",
      "Epoch 4/12\n",
      "\n",
      "Epoch 4: val_accuracy improved from 0.61379 to 0.67025, saving model to GRU_fold4.h5\n"
     ]
    },
    {
     "name": "stderr",
     "output_type": "stream",
     "text": [
      "WARNING:absl:You are saving your model as an HDF5 file via `model.save()` or `keras.saving.save_model(model)`. This file format is considered legacy. We recommend using instead the native Keras format, e.g. `model.save('my_model.keras')` or `keras.saving.save_model(model, 'my_model.keras')`. \n"
     ]
    },
    {
     "name": "stdout",
     "output_type": "stream",
     "text": [
      "1464/1464 - 21s - 14ms/step - accuracy: 0.5616 - loss: 1.6655 - val_accuracy: 0.6703 - val_loss: 1.3230\n",
      "Epoch 5/12\n",
      "\n",
      "Epoch 5: val_accuracy improved from 0.67025 to 0.74782, saving model to GRU_fold4.h5\n"
     ]
    },
    {
     "name": "stderr",
     "output_type": "stream",
     "text": [
      "WARNING:absl:You are saving your model as an HDF5 file via `model.save()` or `keras.saving.save_model(model)`. This file format is considered legacy. We recommend using instead the native Keras format, e.g. `model.save('my_model.keras')` or `keras.saving.save_model(model, 'my_model.keras')`. \n"
     ]
    },
    {
     "name": "stdout",
     "output_type": "stream",
     "text": [
      "1464/1464 - 21s - 14ms/step - accuracy: 0.6300 - loss: 1.3716 - val_accuracy: 0.7478 - val_loss: 0.9833\n",
      "Epoch 6/12\n",
      "\n",
      "Epoch 6: val_accuracy improved from 0.74782 to 0.78772, saving model to GRU_fold4.h5\n"
     ]
    },
    {
     "name": "stderr",
     "output_type": "stream",
     "text": [
      "WARNING:absl:You are saving your model as an HDF5 file via `model.save()` or `keras.saving.save_model(model)`. This file format is considered legacy. We recommend using instead the native Keras format, e.g. `model.save('my_model.keras')` or `keras.saving.save_model(model, 'my_model.keras')`. \n"
     ]
    },
    {
     "name": "stdout",
     "output_type": "stream",
     "text": [
      "1464/1464 - 21s - 14ms/step - accuracy: 0.6770 - loss: 1.1732 - val_accuracy: 0.7877 - val_loss: 0.8150\n",
      "Epoch 7/12\n",
      "\n",
      "Epoch 7: val_accuracy improved from 0.78772 to 0.80617, saving model to GRU_fold4.h5\n"
     ]
    },
    {
     "name": "stderr",
     "output_type": "stream",
     "text": [
      "WARNING:absl:You are saving your model as an HDF5 file via `model.save()` or `keras.saving.save_model(model)`. This file format is considered legacy. We recommend using instead the native Keras format, e.g. `model.save('my_model.keras')` or `keras.saving.save_model(model, 'my_model.keras')`. \n"
     ]
    },
    {
     "name": "stdout",
     "output_type": "stream",
     "text": [
      "1464/1464 - 21s - 14ms/step - accuracy: 0.7156 - loss: 1.0198 - val_accuracy: 0.8062 - val_loss: 0.7330\n",
      "Epoch 8/12\n",
      "\n",
      "Epoch 8: val_accuracy improved from 0.80617 to 0.84461, saving model to GRU_fold4.h5\n"
     ]
    },
    {
     "name": "stderr",
     "output_type": "stream",
     "text": [
      "WARNING:absl:You are saving your model as an HDF5 file via `model.save()` or `keras.saving.save_model(model)`. This file format is considered legacy. We recommend using instead the native Keras format, e.g. `model.save('my_model.keras')` or `keras.saving.save_model(model, 'my_model.keras')`. \n"
     ]
    },
    {
     "name": "stdout",
     "output_type": "stream",
     "text": [
      "1464/1464 - 21s - 14ms/step - accuracy: 0.7424 - loss: 0.9027 - val_accuracy: 0.8446 - val_loss: 0.5944\n",
      "Epoch 9/12\n",
      "\n",
      "Epoch 9: val_accuracy improved from 0.84461 to 0.85537, saving model to GRU_fold4.h5\n"
     ]
    },
    {
     "name": "stderr",
     "output_type": "stream",
     "text": [
      "WARNING:absl:You are saving your model as an HDF5 file via `model.save()` or `keras.saving.save_model(model)`. This file format is considered legacy. We recommend using instead the native Keras format, e.g. `model.save('my_model.keras')` or `keras.saving.save_model(model, 'my_model.keras')`. \n"
     ]
    },
    {
     "name": "stdout",
     "output_type": "stream",
     "text": [
      "1464/1464 - 21s - 14ms/step - accuracy: 0.7700 - loss: 0.8011 - val_accuracy: 0.8554 - val_loss: 0.5362\n",
      "Epoch 10/12\n",
      "\n",
      "Epoch 10: val_accuracy improved from 0.85537 to 0.85777, saving model to GRU_fold4.h5\n"
     ]
    },
    {
     "name": "stderr",
     "output_type": "stream",
     "text": [
      "WARNING:absl:You are saving your model as an HDF5 file via `model.save()` or `keras.saving.save_model(model)`. This file format is considered legacy. We recommend using instead the native Keras format, e.g. `model.save('my_model.keras')` or `keras.saving.save_model(model, 'my_model.keras')`. \n"
     ]
    },
    {
     "name": "stdout",
     "output_type": "stream",
     "text": [
      "1464/1464 - 21s - 14ms/step - accuracy: 0.7854 - loss: 0.7390 - val_accuracy: 0.8578 - val_loss: 0.4948\n",
      "Epoch 11/12\n",
      "\n",
      "Epoch 11: val_accuracy improved from 0.85777 to 0.86870, saving model to GRU_fold4.h5\n"
     ]
    },
    {
     "name": "stderr",
     "output_type": "stream",
     "text": [
      "WARNING:absl:You are saving your model as an HDF5 file via `model.save()` or `keras.saving.save_model(model)`. This file format is considered legacy. We recommend using instead the native Keras format, e.g. `model.save('my_model.keras')` or `keras.saving.save_model(model, 'my_model.keras')`. \n"
     ]
    },
    {
     "name": "stdout",
     "output_type": "stream",
     "text": [
      "1464/1464 - 21s - 14ms/step - accuracy: 0.8005 - loss: 0.6802 - val_accuracy: 0.8687 - val_loss: 0.4571\n",
      "Epoch 12/12\n",
      "\n",
      "Epoch 12: val_accuracy improved from 0.86870 to 0.88912, saving model to GRU_fold4.h5\n"
     ]
    },
    {
     "name": "stderr",
     "output_type": "stream",
     "text": [
      "WARNING:absl:You are saving your model as an HDF5 file via `model.save()` or `keras.saving.save_model(model)`. This file format is considered legacy. We recommend using instead the native Keras format, e.g. `model.save('my_model.keras')` or `keras.saving.save_model(model, 'my_model.keras')`. \n"
     ]
    },
    {
     "name": "stdout",
     "output_type": "stream",
     "text": [
      "1464/1464 - 21s - 14ms/step - accuracy: 0.8163 - loss: 0.6308 - val_accuracy: 0.8891 - val_loss: 0.3879\n",
      "Fold 4 results: train_acc=0.9061, val_acc=0.8891, test_acc=0.8926\n",
      "\n",
      "Training fold 5 / 5 for GRU\n",
      "Epoch 1/12\n",
      "\n",
      "Epoch 1: val_accuracy improved from -inf to 0.25989, saving model to GRU_fold5.h5\n"
     ]
    },
    {
     "name": "stderr",
     "output_type": "stream",
     "text": [
      "WARNING:absl:You are saving your model as an HDF5 file via `model.save()` or `keras.saving.save_model(model)`. This file format is considered legacy. We recommend using instead the native Keras format, e.g. `model.save('my_model.keras')` or `keras.saving.save_model(model, 'my_model.keras')`. \n"
     ]
    },
    {
     "name": "stdout",
     "output_type": "stream",
     "text": [
      "1464/1464 - 27s - 18ms/step - accuracy: 0.0917 - loss: 4.5173 - val_accuracy: 0.2599 - val_loss: 3.3148\n",
      "Epoch 2/12\n",
      "\n",
      "Epoch 2: val_accuracy improved from 0.25989 to 0.50243, saving model to GRU_fold5.h5\n"
     ]
    },
    {
     "name": "stderr",
     "output_type": "stream",
     "text": [
      "WARNING:absl:You are saving your model as an HDF5 file via `model.save()` or `keras.saving.save_model(model)`. This file format is considered legacy. We recommend using instead the native Keras format, e.g. `model.save('my_model.keras')` or `keras.saving.save_model(model, 'my_model.keras')`. \n"
     ]
    },
    {
     "name": "stdout",
     "output_type": "stream",
     "text": [
      "1464/1464 - 21s - 15ms/step - accuracy: 0.3292 - loss: 2.8358 - val_accuracy: 0.5024 - val_loss: 2.1799\n",
      "Epoch 3/12\n",
      "\n",
      "Epoch 3: val_accuracy improved from 0.50243 to 0.65468, saving model to GRU_fold5.h5\n"
     ]
    },
    {
     "name": "stderr",
     "output_type": "stream",
     "text": [
      "WARNING:absl:You are saving your model as an HDF5 file via `model.save()` or `keras.saving.save_model(model)`. This file format is considered legacy. We recommend using instead the native Keras format, e.g. `model.save('my_model.keras')` or `keras.saving.save_model(model, 'my_model.keras')`. \n"
     ]
    },
    {
     "name": "stdout",
     "output_type": "stream",
     "text": [
      "1464/1464 - 22s - 15ms/step - accuracy: 0.4932 - loss: 2.0366 - val_accuracy: 0.6547 - val_loss: 1.4928\n",
      "Epoch 4/12\n",
      "\n",
      "Epoch 4: val_accuracy improved from 0.65468 to 0.70807, saving model to GRU_fold5.h5\n"
     ]
    },
    {
     "name": "stderr",
     "output_type": "stream",
     "text": [
      "WARNING:absl:You are saving your model as an HDF5 file via `model.save()` or `keras.saving.save_model(model)`. This file format is considered legacy. We recommend using instead the native Keras format, e.g. `model.save('my_model.keras')` or `keras.saving.save_model(model, 'my_model.keras')`. \n"
     ]
    },
    {
     "name": "stdout",
     "output_type": "stream",
     "text": [
      "1464/1464 - 22s - 15ms/step - accuracy: 0.5892 - loss: 1.5786 - val_accuracy: 0.7081 - val_loss: 1.1615\n",
      "Epoch 5/12\n",
      "\n",
      "Epoch 5: val_accuracy improved from 0.70807 to 0.72918, saving model to GRU_fold5.h5\n"
     ]
    },
    {
     "name": "stderr",
     "output_type": "stream",
     "text": [
      "WARNING:absl:You are saving your model as an HDF5 file via `model.save()` or `keras.saving.save_model(model)`. This file format is considered legacy. We recommend using instead the native Keras format, e.g. `model.save('my_model.keras')` or `keras.saving.save_model(model, 'my_model.keras')`. \n"
     ]
    },
    {
     "name": "stdout",
     "output_type": "stream",
     "text": [
      "1464/1464 - 22s - 15ms/step - accuracy: 0.6508 - loss: 1.2957 - val_accuracy: 0.7292 - val_loss: 1.0363\n",
      "Epoch 6/12\n",
      "\n",
      "Epoch 6: val_accuracy improved from 0.72918 to 0.79863, saving model to GRU_fold5.h5\n"
     ]
    },
    {
     "name": "stderr",
     "output_type": "stream",
     "text": [
      "WARNING:absl:You are saving your model as an HDF5 file via `model.save()` or `keras.saving.save_model(model)`. This file format is considered legacy. We recommend using instead the native Keras format, e.g. `model.save('my_model.keras')` or `keras.saving.save_model(model, 'my_model.keras')`. \n"
     ]
    },
    {
     "name": "stdout",
     "output_type": "stream",
     "text": [
      "1464/1464 - 21s - 15ms/step - accuracy: 0.6898 - loss: 1.1251 - val_accuracy: 0.7986 - val_loss: 0.7467\n",
      "Epoch 7/12\n",
      "\n",
      "Epoch 7: val_accuracy improved from 0.79863 to 0.82512, saving model to GRU_fold5.h5\n"
     ]
    },
    {
     "name": "stderr",
     "output_type": "stream",
     "text": [
      "WARNING:absl:You are saving your model as an HDF5 file via `model.save()` or `keras.saving.save_model(model)`. This file format is considered legacy. We recommend using instead the native Keras format, e.g. `model.save('my_model.keras')` or `keras.saving.save_model(model, 'my_model.keras')`. \n"
     ]
    },
    {
     "name": "stdout",
     "output_type": "stream",
     "text": [
      "1464/1464 - 21s - 15ms/step - accuracy: 0.7311 - loss: 0.9578 - val_accuracy: 0.8251 - val_loss: 0.6354\n",
      "Epoch 8/12\n",
      "\n",
      "Epoch 8: val_accuracy improved from 0.82512 to 0.84169, saving model to GRU_fold5.h5\n"
     ]
    },
    {
     "name": "stderr",
     "output_type": "stream",
     "text": [
      "WARNING:absl:You are saving your model as an HDF5 file via `model.save()` or `keras.saving.save_model(model)`. This file format is considered legacy. We recommend using instead the native Keras format, e.g. `model.save('my_model.keras')` or `keras.saving.save_model(model, 'my_model.keras')`. \n"
     ]
    },
    {
     "name": "stdout",
     "output_type": "stream",
     "text": [
      "1464/1464 - 22s - 15ms/step - accuracy: 0.7522 - loss: 0.8632 - val_accuracy: 0.8417 - val_loss: 0.5742\n",
      "Epoch 9/12\n",
      "\n",
      "Epoch 9: val_accuracy improved from 0.84169 to 0.85587, saving model to GRU_fold5.h5\n"
     ]
    },
    {
     "name": "stderr",
     "output_type": "stream",
     "text": [
      "WARNING:absl:You are saving your model as an HDF5 file via `model.save()` or `keras.saving.save_model(model)`. This file format is considered legacy. We recommend using instead the native Keras format, e.g. `model.save('my_model.keras')` or `keras.saving.save_model(model, 'my_model.keras')`. \n"
     ]
    },
    {
     "name": "stdout",
     "output_type": "stream",
     "text": [
      "1464/1464 - 23s - 16ms/step - accuracy: 0.7752 - loss: 0.7748 - val_accuracy: 0.8559 - val_loss: 0.5111\n",
      "Epoch 10/12\n",
      "\n",
      "Epoch 10: val_accuracy improved from 0.85587 to 0.86946, saving model to GRU_fold5.h5\n"
     ]
    },
    {
     "name": "stderr",
     "output_type": "stream",
     "text": [
      "WARNING:absl:You are saving your model as an HDF5 file via `model.save()` or `keras.saving.save_model(model)`. This file format is considered legacy. We recommend using instead the native Keras format, e.g. `model.save('my_model.keras')` or `keras.saving.save_model(model, 'my_model.keras')`. \n"
     ]
    },
    {
     "name": "stdout",
     "output_type": "stream",
     "text": [
      "1464/1464 - 23s - 16ms/step - accuracy: 0.7881 - loss: 0.7216 - val_accuracy: 0.8695 - val_loss: 0.4560\n",
      "Epoch 11/12\n",
      "\n",
      "Epoch 11: val_accuracy improved from 0.86946 to 0.88176, saving model to GRU_fold5.h5\n"
     ]
    },
    {
     "name": "stderr",
     "output_type": "stream",
     "text": [
      "WARNING:absl:You are saving your model as an HDF5 file via `model.save()` or `keras.saving.save_model(model)`. This file format is considered legacy. We recommend using instead the native Keras format, e.g. `model.save('my_model.keras')` or `keras.saving.save_model(model, 'my_model.keras')`. \n"
     ]
    },
    {
     "name": "stdout",
     "output_type": "stream",
     "text": [
      "1464/1464 - 22s - 15ms/step - accuracy: 0.8020 - loss: 0.6746 - val_accuracy: 0.8818 - val_loss: 0.4190\n",
      "Epoch 12/12\n",
      "\n",
      "Epoch 12: val_accuracy improved from 0.88176 to 0.88347, saving model to GRU_fold5.h5\n"
     ]
    },
    {
     "name": "stderr",
     "output_type": "stream",
     "text": [
      "WARNING:absl:You are saving your model as an HDF5 file via `model.save()` or `keras.saving.save_model(model)`. This file format is considered legacy. We recommend using instead the native Keras format, e.g. `model.save('my_model.keras')` or `keras.saving.save_model(model, 'my_model.keras')`. \n"
     ]
    },
    {
     "name": "stdout",
     "output_type": "stream",
     "text": [
      "1464/1464 - 21s - 15ms/step - accuracy: 0.8189 - loss: 0.6052 - val_accuracy: 0.8835 - val_loss: 0.4034\n",
      "Fold 5 results: train_acc=0.8989, val_acc=0.8835, test_acc=0.8814\n",
      "\n",
      "Best Test accuracy: 0.8947 from model: GRU_fold3.h5\n"
     ]
    }
   ],
   "source": [
    "gru_results, gru_best_model = train_and_evaluate_model('GRU', X_train, y_train, X_test, y_test, NUM_FOLDS, EPOCHS, BATCH_SIZE)"
   ]
  },
  {
   "cell_type": "markdown",
   "id": "36a0ec3a-7303-4376-bbeb-8c9d2e578993",
   "metadata": {
    "jp-MarkdownHeadingCollapsed": true
   },
   "source": [
    "### Train ViT"
   ]
  },
  {
   "cell_type": "code",
   "execution_count": 21,
   "id": "12b53f75-3888-4257-b8bc-4cbcaca04428",
   "metadata": {
    "scrolled": true
   },
   "outputs": [
    {
     "name": "stdout",
     "output_type": "stream",
     "text": [
      "\n",
      "Training fold 1 / 5 for ViT\n",
      "WARNING:tensorflow:From C:\\Users\\UNKN0VVlV\\AppData\\Local\\Programs\\Python\\Python311\\Lib\\site-packages\\keras\\src\\backend\\tensorflow\\core.py:219: The name tf.placeholder is deprecated. Please use tf.compat.v1.placeholder instead.\n",
      "\n"
     ]
    },
    {
     "name": "stderr",
     "output_type": "stream",
     "text": [
      "WARNING:tensorflow:From C:\\Users\\UNKN0VVlV\\AppData\\Local\\Programs\\Python\\Python311\\Lib\\site-packages\\keras\\src\\backend\\tensorflow\\core.py:219: The name tf.placeholder is deprecated. Please use tf.compat.v1.placeholder instead.\n",
      "\n"
     ]
    },
    {
     "data": {
      "text/html": [
       "<pre style=\"white-space:pre;overflow-x:auto;line-height:normal;font-family:Menlo,'DejaVu Sans Mono',consolas,'Courier New',monospace\"><span style=\"font-weight: bold\">Model: \"ViT_Simple\"</span>\n",
       "</pre>\n"
      ],
      "text/plain": [
       "\u001b[1mModel: \"ViT_Simple\"\u001b[0m\n"
      ]
     },
     "metadata": {},
     "output_type": "display_data"
    },
    {
     "data": {
      "text/html": [
       "<pre style=\"white-space:pre;overflow-x:auto;line-height:normal;font-family:Menlo,'DejaVu Sans Mono',consolas,'Courier New',monospace\">┏━━━━━━━━━━━━━━━━━━━━━━━━━━━━━━━━━━━━━━┳━━━━━━━━━━━━━━━━━━━━━━━━━━━━━┳━━━━━━━━━━━━━━━━━┓\n",
       "┃<span style=\"font-weight: bold\"> Layer (type)                         </span>┃<span style=\"font-weight: bold\"> Output Shape                </span>┃<span style=\"font-weight: bold\">         Param # </span>┃\n",
       "┡━━━━━━━━━━━━━━━━━━━━━━━━━━━━━━━━━━━━━━╇━━━━━━━━━━━━━━━━━━━━━━━━━━━━━╇━━━━━━━━━━━━━━━━━┩\n",
       "│ input_layer_5 (<span style=\"color: #0087ff; text-decoration-color: #0087ff\">InputLayer</span>)           │ (<span style=\"color: #00d7ff; text-decoration-color: #00d7ff\">None</span>, <span style=\"color: #00af00; text-decoration-color: #00af00\">30</span>, <span style=\"color: #00af00; text-decoration-color: #00af00\">225</span>)             │               <span style=\"color: #00af00; text-decoration-color: #00af00\">0</span> │\n",
       "├──────────────────────────────────────┼─────────────────────────────┼─────────────────┤\n",
       "│ patch_embedding (<span style=\"color: #0087ff; text-decoration-color: #0087ff\">PatchEmbedding</span>)     │ (<span style=\"color: #00d7ff; text-decoration-color: #00d7ff\">None</span>, <span style=\"color: #00af00; text-decoration-color: #00af00\">30</span>, <span style=\"color: #00af00; text-decoration-color: #00af00\">32</span>)              │           <span style=\"color: #00af00; text-decoration-color: #00af00\">8,192</span> │\n",
       "├──────────────────────────────────────┼─────────────────────────────┼─────────────────┤\n",
       "│ transformer_block (<span style=\"color: #0087ff; text-decoration-color: #0087ff\">TransformerBlock</span>) │ (<span style=\"color: #00d7ff; text-decoration-color: #00d7ff\">None</span>, <span style=\"color: #00af00; text-decoration-color: #00af00\">30</span>, <span style=\"color: #00af00; text-decoration-color: #00af00\">32</span>)              │          <span style=\"color: #00af00; text-decoration-color: #00af00\">12,736</span> │\n",
       "├──────────────────────────────────────┼─────────────────────────────┼─────────────────┤\n",
       "│ global_average_pooling1d             │ (<span style=\"color: #00d7ff; text-decoration-color: #00d7ff\">None</span>, <span style=\"color: #00af00; text-decoration-color: #00af00\">32</span>)                  │               <span style=\"color: #00af00; text-decoration-color: #00af00\">0</span> │\n",
       "│ (<span style=\"color: #0087ff; text-decoration-color: #0087ff\">GlobalAveragePooling1D</span>)             │                             │                 │\n",
       "├──────────────────────────────────────┼─────────────────────────────┼─────────────────┤\n",
       "│ dropout_8 (<span style=\"color: #0087ff; text-decoration-color: #0087ff\">Dropout</span>)                  │ (<span style=\"color: #00d7ff; text-decoration-color: #00d7ff\">None</span>, <span style=\"color: #00af00; text-decoration-color: #00af00\">32</span>)                  │               <span style=\"color: #00af00; text-decoration-color: #00af00\">0</span> │\n",
       "├──────────────────────────────────────┼─────────────────────────────┼─────────────────┤\n",
       "│ dense_13 (<span style=\"color: #0087ff; text-decoration-color: #0087ff\">Dense</span>)                     │ (<span style=\"color: #00d7ff; text-decoration-color: #00d7ff\">None</span>, <span style=\"color: #00af00; text-decoration-color: #00af00\">502</span>)                 │          <span style=\"color: #00af00; text-decoration-color: #00af00\">16,566</span> │\n",
       "└──────────────────────────────────────┴─────────────────────────────┴─────────────────┘\n",
       "</pre>\n"
      ],
      "text/plain": [
       "┏━━━━━━━━━━━━━━━━━━━━━━━━━━━━━━━━━━━━━━┳━━━━━━━━━━━━━━━━━━━━━━━━━━━━━┳━━━━━━━━━━━━━━━━━┓\n",
       "┃\u001b[1m \u001b[0m\u001b[1mLayer (type)                        \u001b[0m\u001b[1m \u001b[0m┃\u001b[1m \u001b[0m\u001b[1mOutput Shape               \u001b[0m\u001b[1m \u001b[0m┃\u001b[1m \u001b[0m\u001b[1m        Param #\u001b[0m\u001b[1m \u001b[0m┃\n",
       "┡━━━━━━━━━━━━━━━━━━━━━━━━━━━━━━━━━━━━━━╇━━━━━━━━━━━━━━━━━━━━━━━━━━━━━╇━━━━━━━━━━━━━━━━━┩\n",
       "│ input_layer_5 (\u001b[38;5;33mInputLayer\u001b[0m)           │ (\u001b[38;5;45mNone\u001b[0m, \u001b[38;5;34m30\u001b[0m, \u001b[38;5;34m225\u001b[0m)             │               \u001b[38;5;34m0\u001b[0m │\n",
       "├──────────────────────────────────────┼─────────────────────────────┼─────────────────┤\n",
       "│ patch_embedding (\u001b[38;5;33mPatchEmbedding\u001b[0m)     │ (\u001b[38;5;45mNone\u001b[0m, \u001b[38;5;34m30\u001b[0m, \u001b[38;5;34m32\u001b[0m)              │           \u001b[38;5;34m8,192\u001b[0m │\n",
       "├──────────────────────────────────────┼─────────────────────────────┼─────────────────┤\n",
       "│ transformer_block (\u001b[38;5;33mTransformerBlock\u001b[0m) │ (\u001b[38;5;45mNone\u001b[0m, \u001b[38;5;34m30\u001b[0m, \u001b[38;5;34m32\u001b[0m)              │          \u001b[38;5;34m12,736\u001b[0m │\n",
       "├──────────────────────────────────────┼─────────────────────────────┼─────────────────┤\n",
       "│ global_average_pooling1d             │ (\u001b[38;5;45mNone\u001b[0m, \u001b[38;5;34m32\u001b[0m)                  │               \u001b[38;5;34m0\u001b[0m │\n",
       "│ (\u001b[38;5;33mGlobalAveragePooling1D\u001b[0m)             │                             │                 │\n",
       "├──────────────────────────────────────┼─────────────────────────────┼─────────────────┤\n",
       "│ dropout_8 (\u001b[38;5;33mDropout\u001b[0m)                  │ (\u001b[38;5;45mNone\u001b[0m, \u001b[38;5;34m32\u001b[0m)                  │               \u001b[38;5;34m0\u001b[0m │\n",
       "├──────────────────────────────────────┼─────────────────────────────┼─────────────────┤\n",
       "│ dense_13 (\u001b[38;5;33mDense\u001b[0m)                     │ (\u001b[38;5;45mNone\u001b[0m, \u001b[38;5;34m502\u001b[0m)                 │          \u001b[38;5;34m16,566\u001b[0m │\n",
       "└──────────────────────────────────────┴─────────────────────────────┴─────────────────┘\n"
      ]
     },
     "metadata": {},
     "output_type": "display_data"
    },
    {
     "data": {
      "text/html": [
       "<pre style=\"white-space:pre;overflow-x:auto;line-height:normal;font-family:Menlo,'DejaVu Sans Mono',consolas,'Courier New',monospace\"><span style=\"font-weight: bold\"> Total params: </span><span style=\"color: #00af00; text-decoration-color: #00af00\">37,494</span> (146.46 KB)\n",
       "</pre>\n"
      ],
      "text/plain": [
       "\u001b[1m Total params: \u001b[0m\u001b[38;5;34m37,494\u001b[0m (146.46 KB)\n"
      ]
     },
     "metadata": {},
     "output_type": "display_data"
    },
    {
     "data": {
      "text/html": [
       "<pre style=\"white-space:pre;overflow-x:auto;line-height:normal;font-family:Menlo,'DejaVu Sans Mono',consolas,'Courier New',monospace\"><span style=\"font-weight: bold\"> Trainable params: </span><span style=\"color: #00af00; text-decoration-color: #00af00\">37,494</span> (146.46 KB)\n",
       "</pre>\n"
      ],
      "text/plain": [
       "\u001b[1m Trainable params: \u001b[0m\u001b[38;5;34m37,494\u001b[0m (146.46 KB)\n"
      ]
     },
     "metadata": {},
     "output_type": "display_data"
    },
    {
     "data": {
      "text/html": [
       "<pre style=\"white-space:pre;overflow-x:auto;line-height:normal;font-family:Menlo,'DejaVu Sans Mono',consolas,'Courier New',monospace\"><span style=\"font-weight: bold\"> Non-trainable params: </span><span style=\"color: #00af00; text-decoration-color: #00af00\">0</span> (0.00 B)\n",
       "</pre>\n"
      ],
      "text/plain": [
       "\u001b[1m Non-trainable params: \u001b[0m\u001b[38;5;34m0\u001b[0m (0.00 B)\n"
      ]
     },
     "metadata": {},
     "output_type": "display_data"
    },
    {
     "name": "stdout",
     "output_type": "stream",
     "text": [
      "Epoch 1/12\n",
      "\n",
      "Epoch 1: val_accuracy improved from -inf to 0.03631, saving model to ViT_fold1.h5\n"
     ]
    },
    {
     "name": "stderr",
     "output_type": "stream",
     "text": [
      "WARNING:absl:You are saving your model as an HDF5 file via `model.save()` or `keras.saving.save_model(model)`. This file format is considered legacy. We recommend using instead the native Keras format, e.g. `model.save('my_model.keras')` or `keras.saving.save_model(model, 'my_model.keras')`. \n"
     ]
    },
    {
     "name": "stdout",
     "output_type": "stream",
     "text": [
      "1464/1464 - 12s - 8ms/step - accuracy: 0.0097 - loss: 5.8175 - val_accuracy: 0.0363 - val_loss: 5.1744\n",
      "Epoch 2/12\n",
      "\n",
      "Epoch 2: val_accuracy improved from 0.03631 to 0.11763, saving model to ViT_fold1.h5\n"
     ]
    },
    {
     "name": "stderr",
     "output_type": "stream",
     "text": [
      "WARNING:absl:You are saving your model as an HDF5 file via `model.save()` or `keras.saving.save_model(model)`. This file format is considered legacy. We recommend using instead the native Keras format, e.g. `model.save('my_model.keras')` or `keras.saving.save_model(model, 'my_model.keras')`. \n"
     ]
    },
    {
     "name": "stdout",
     "output_type": "stream",
     "text": [
      "1464/1464 - 8s - 5ms/step - accuracy: 0.0480 - loss: 4.7509 - val_accuracy: 0.1176 - val_loss: 4.1685\n",
      "Epoch 3/12\n",
      "\n",
      "Epoch 3: val_accuracy improved from 0.11763 to 0.23586, saving model to ViT_fold1.h5\n"
     ]
    },
    {
     "name": "stderr",
     "output_type": "stream",
     "text": [
      "WARNING:absl:You are saving your model as an HDF5 file via `model.save()` or `keras.saving.save_model(model)`. This file format is considered legacy. We recommend using instead the native Keras format, e.g. `model.save('my_model.keras')` or `keras.saving.save_model(model, 'my_model.keras')`. \n"
     ]
    },
    {
     "name": "stdout",
     "output_type": "stream",
     "text": [
      "1464/1464 - 8s - 5ms/step - accuracy: 0.1142 - loss: 3.9888 - val_accuracy: 0.2359 - val_loss: 3.4497\n",
      "Epoch 4/12\n",
      "\n",
      "Epoch 4: val_accuracy improved from 0.23586 to 0.31727, saving model to ViT_fold1.h5\n"
     ]
    },
    {
     "name": "stderr",
     "output_type": "stream",
     "text": [
      "WARNING:absl:You are saving your model as an HDF5 file via `model.save()` or `keras.saving.save_model(model)`. This file format is considered legacy. We recommend using instead the native Keras format, e.g. `model.save('my_model.keras')` or `keras.saving.save_model(model, 'my_model.keras')`. \n"
     ]
    },
    {
     "name": "stdout",
     "output_type": "stream",
     "text": [
      "1464/1464 - 8s - 5ms/step - accuracy: 0.1779 - loss: 3.4448 - val_accuracy: 0.3173 - val_loss: 2.9441\n",
      "Epoch 5/12\n",
      "\n",
      "Epoch 5: val_accuracy improved from 0.31727 to 0.39604, saving model to ViT_fold1.h5\n"
     ]
    },
    {
     "name": "stderr",
     "output_type": "stream",
     "text": [
      "WARNING:absl:You are saving your model as an HDF5 file via `model.save()` or `keras.saving.save_model(model)`. This file format is considered legacy. We recommend using instead the native Keras format, e.g. `model.save('my_model.keras')` or `keras.saving.save_model(model, 'my_model.keras')`. \n"
     ]
    },
    {
     "name": "stdout",
     "output_type": "stream",
     "text": [
      "1464/1464 - 8s - 5ms/step - accuracy: 0.2391 - loss: 3.0442 - val_accuracy: 0.3960 - val_loss: 2.5628\n",
      "Epoch 6/12\n",
      "\n",
      "Epoch 6: val_accuracy improved from 0.39604 to 0.44584, saving model to ViT_fold1.h5\n"
     ]
    },
    {
     "name": "stderr",
     "output_type": "stream",
     "text": [
      "WARNING:absl:You are saving your model as an HDF5 file via `model.save()` or `keras.saving.save_model(model)`. This file format is considered legacy. We recommend using instead the native Keras format, e.g. `model.save('my_model.keras')` or `keras.saving.save_model(model, 'my_model.keras')`. \n"
     ]
    },
    {
     "name": "stdout",
     "output_type": "stream",
     "text": [
      "1464/1464 - 8s - 5ms/step - accuracy: 0.2945 - loss: 2.7293 - val_accuracy: 0.4458 - val_loss: 2.2809\n",
      "Epoch 7/12\n",
      "\n",
      "Epoch 7: val_accuracy improved from 0.44584 to 0.50026, saving model to ViT_fold1.h5\n"
     ]
    },
    {
     "name": "stderr",
     "output_type": "stream",
     "text": [
      "WARNING:absl:You are saving your model as an HDF5 file via `model.save()` or `keras.saving.save_model(model)`. This file format is considered legacy. We recommend using instead the native Keras format, e.g. `model.save('my_model.keras')` or `keras.saving.save_model(model, 'my_model.keras')`. \n"
     ]
    },
    {
     "name": "stdout",
     "output_type": "stream",
     "text": [
      "1464/1464 - 8s - 5ms/step - accuracy: 0.3454 - loss: 2.4758 - val_accuracy: 0.5003 - val_loss: 2.0451\n",
      "Epoch 8/12\n",
      "\n",
      "Epoch 8: val_accuracy improved from 0.50026 to 0.53656, saving model to ViT_fold1.h5\n"
     ]
    },
    {
     "name": "stderr",
     "output_type": "stream",
     "text": [
      "WARNING:absl:You are saving your model as an HDF5 file via `model.save()` or `keras.saving.save_model(model)`. This file format is considered legacy. We recommend using instead the native Keras format, e.g. `model.save('my_model.keras')` or `keras.saving.save_model(model, 'my_model.keras')`. \n"
     ]
    },
    {
     "name": "stdout",
     "output_type": "stream",
     "text": [
      "1464/1464 - 8s - 5ms/step - accuracy: 0.3901 - loss: 2.2734 - val_accuracy: 0.5366 - val_loss: 1.8605\n",
      "Epoch 9/12\n",
      "\n",
      "Epoch 9: val_accuracy improved from 0.53656 to 0.57167, saving model to ViT_fold1.h5\n"
     ]
    },
    {
     "name": "stderr",
     "output_type": "stream",
     "text": [
      "WARNING:absl:You are saving your model as an HDF5 file via `model.save()` or `keras.saving.save_model(model)`. This file format is considered legacy. We recommend using instead the native Keras format, e.g. `model.save('my_model.keras')` or `keras.saving.save_model(model, 'my_model.keras')`. \n"
     ]
    },
    {
     "name": "stdout",
     "output_type": "stream",
     "text": [
      "1464/1464 - 8s - 5ms/step - accuracy: 0.4257 - loss: 2.1147 - val_accuracy: 0.5717 - val_loss: 1.7110\n",
      "Epoch 10/12\n",
      "\n",
      "Epoch 10: val_accuracy improved from 0.57167 to 0.59747, saving model to ViT_fold1.h5\n"
     ]
    },
    {
     "name": "stderr",
     "output_type": "stream",
     "text": [
      "WARNING:absl:You are saving your model as an HDF5 file via `model.save()` or `keras.saving.save_model(model)`. This file format is considered legacy. We recommend using instead the native Keras format, e.g. `model.save('my_model.keras')` or `keras.saving.save_model(model, 'my_model.keras')`. \n"
     ]
    },
    {
     "name": "stdout",
     "output_type": "stream",
     "text": [
      "1464/1464 - 8s - 5ms/step - accuracy: 0.4582 - loss: 1.9686 - val_accuracy: 0.5975 - val_loss: 1.5926\n",
      "Epoch 11/12\n",
      "\n",
      "Epoch 11: val_accuracy improved from 0.59747 to 0.61746, saving model to ViT_fold1.h5\n"
     ]
    },
    {
     "name": "stderr",
     "output_type": "stream",
     "text": [
      "WARNING:absl:You are saving your model as an HDF5 file via `model.save()` or `keras.saving.save_model(model)`. This file format is considered legacy. We recommend using instead the native Keras format, e.g. `model.save('my_model.keras')` or `keras.saving.save_model(model, 'my_model.keras')`. \n"
     ]
    },
    {
     "name": "stdout",
     "output_type": "stream",
     "text": [
      "1464/1464 - 8s - 5ms/step - accuracy: 0.4864 - loss: 1.8454 - val_accuracy: 0.6175 - val_loss: 1.4840\n",
      "Epoch 12/12\n",
      "\n",
      "Epoch 12: val_accuracy improved from 0.61746 to 0.64138, saving model to ViT_fold1.h5\n"
     ]
    },
    {
     "name": "stderr",
     "output_type": "stream",
     "text": [
      "WARNING:absl:You are saving your model as an HDF5 file via `model.save()` or `keras.saving.save_model(model)`. This file format is considered legacy. We recommend using instead the native Keras format, e.g. `model.save('my_model.keras')` or `keras.saving.save_model(model, 'my_model.keras')`. \n"
     ]
    },
    {
     "name": "stdout",
     "output_type": "stream",
     "text": [
      "1464/1464 - 8s - 5ms/step - accuracy: 0.5151 - loss: 1.7280 - val_accuracy: 0.6414 - val_loss: 1.3916\n",
      "Fold 1 results: train_acc=0.6531, val_acc=0.6414, test_acc=0.6419\n",
      "\n",
      "Training fold 2 / 5 for ViT\n",
      "Epoch 1/12\n",
      "\n",
      "Epoch 1: val_accuracy improved from -inf to 0.03673, saving model to ViT_fold2.h5\n"
     ]
    },
    {
     "name": "stderr",
     "output_type": "stream",
     "text": [
      "WARNING:absl:You are saving your model as an HDF5 file via `model.save()` or `keras.saving.save_model(model)`. This file format is considered legacy. We recommend using instead the native Keras format, e.g. `model.save('my_model.keras')` or `keras.saving.save_model(model, 'my_model.keras')`. \n"
     ]
    },
    {
     "name": "stdout",
     "output_type": "stream",
     "text": [
      "1464/1464 - 13s - 9ms/step - accuracy: 0.0102 - loss: 5.8406 - val_accuracy: 0.0367 - val_loss: 5.2326\n",
      "Epoch 2/12\n",
      "\n",
      "Epoch 2: val_accuracy improved from 0.03673 to 0.13438, saving model to ViT_fold2.h5\n"
     ]
    },
    {
     "name": "stderr",
     "output_type": "stream",
     "text": [
      "WARNING:absl:You are saving your model as an HDF5 file via `model.save()` or `keras.saving.save_model(model)`. This file format is considered legacy. We recommend using instead the native Keras format, e.g. `model.save('my_model.keras')` or `keras.saving.save_model(model, 'my_model.keras')`. \n"
     ]
    },
    {
     "name": "stdout",
     "output_type": "stream",
     "text": [
      "1464/1464 - 8s - 5ms/step - accuracy: 0.0563 - loss: 4.7332 - val_accuracy: 0.1344 - val_loss: 4.1307\n",
      "Epoch 3/12\n",
      "\n",
      "Epoch 3: val_accuracy improved from 0.13438 to 0.24500, saving model to ViT_fold2.h5\n"
     ]
    },
    {
     "name": "stderr",
     "output_type": "stream",
     "text": [
      "WARNING:absl:You are saving your model as an HDF5 file via `model.save()` or `keras.saving.save_model(model)`. This file format is considered legacy. We recommend using instead the native Keras format, e.g. `model.save('my_model.keras')` or `keras.saving.save_model(model, 'my_model.keras')`. \n"
     ]
    },
    {
     "name": "stdout",
     "output_type": "stream",
     "text": [
      "1464/1464 - 8s - 5ms/step - accuracy: 0.1256 - loss: 3.8915 - val_accuracy: 0.2450 - val_loss: 3.3598\n",
      "Epoch 4/12\n",
      "\n",
      "Epoch 4: val_accuracy improved from 0.24500 to 0.33325, saving model to ViT_fold2.h5\n"
     ]
    },
    {
     "name": "stderr",
     "output_type": "stream",
     "text": [
      "WARNING:absl:You are saving your model as an HDF5 file via `model.save()` or `keras.saving.save_model(model)`. This file format is considered legacy. We recommend using instead the native Keras format, e.g. `model.save('my_model.keras')` or `keras.saving.save_model(model, 'my_model.keras')`. \n"
     ]
    },
    {
     "name": "stdout",
     "output_type": "stream",
     "text": [
      "1464/1464 - 8s - 5ms/step - accuracy: 0.1984 - loss: 3.3411 - val_accuracy: 0.3332 - val_loss: 2.8530\n",
      "Epoch 5/12\n",
      "\n",
      "Epoch 5: val_accuracy improved from 0.33325 to 0.39757, saving model to ViT_fold2.h5\n"
     ]
    },
    {
     "name": "stderr",
     "output_type": "stream",
     "text": [
      "WARNING:absl:You are saving your model as an HDF5 file via `model.save()` or `keras.saving.save_model(model)`. This file format is considered legacy. We recommend using instead the native Keras format, e.g. `model.save('my_model.keras')` or `keras.saving.save_model(model, 'my_model.keras')`. \n"
     ]
    },
    {
     "name": "stdout",
     "output_type": "stream",
     "text": [
      "1464/1464 - 8s - 5ms/step - accuracy: 0.2562 - loss: 2.9653 - val_accuracy: 0.3976 - val_loss: 2.5067\n",
      "Epoch 6/12\n",
      "\n",
      "Epoch 6: val_accuracy improved from 0.39757 to 0.44336, saving model to ViT_fold2.h5\n"
     ]
    },
    {
     "name": "stderr",
     "output_type": "stream",
     "text": [
      "WARNING:absl:You are saving your model as an HDF5 file via `model.save()` or `keras.saving.save_model(model)`. This file format is considered legacy. We recommend using instead the native Keras format, e.g. `model.save('my_model.keras')` or `keras.saving.save_model(model, 'my_model.keras')`. \n"
     ]
    },
    {
     "name": "stdout",
     "output_type": "stream",
     "text": [
      "1464/1464 - 8s - 5ms/step - accuracy: 0.3088 - loss: 2.6710 - val_accuracy: 0.4434 - val_loss: 2.2430\n",
      "Epoch 7/12\n",
      "\n",
      "Epoch 7: val_accuracy improved from 0.44336 to 0.50786, saving model to ViT_fold2.h5\n"
     ]
    },
    {
     "name": "stderr",
     "output_type": "stream",
     "text": [
      "WARNING:absl:You are saving your model as an HDF5 file via `model.save()` or `keras.saving.save_model(model)`. This file format is considered legacy. We recommend using instead the native Keras format, e.g. `model.save('my_model.keras')` or `keras.saving.save_model(model, 'my_model.keras')`. \n"
     ]
    },
    {
     "name": "stdout",
     "output_type": "stream",
     "text": [
      "1464/1464 - 8s - 5ms/step - accuracy: 0.3530 - loss: 2.4416 - val_accuracy: 0.5079 - val_loss: 2.0185\n",
      "Epoch 8/12\n",
      "\n",
      "Epoch 8: val_accuracy improved from 0.50786 to 0.53596, saving model to ViT_fold2.h5\n"
     ]
    },
    {
     "name": "stderr",
     "output_type": "stream",
     "text": [
      "WARNING:absl:You are saving your model as an HDF5 file via `model.save()` or `keras.saving.save_model(model)`. This file format is considered legacy. We recommend using instead the native Keras format, e.g. `model.save('my_model.keras')` or `keras.saving.save_model(model, 'my_model.keras')`. \n"
     ]
    },
    {
     "name": "stdout",
     "output_type": "stream",
     "text": [
      "1464/1464 - 8s - 5ms/step - accuracy: 0.3965 - loss: 2.2328 - val_accuracy: 0.5360 - val_loss: 1.8383\n",
      "Epoch 9/12\n",
      "\n",
      "Epoch 9: val_accuracy improved from 0.53596 to 0.58414, saving model to ViT_fold2.h5\n"
     ]
    },
    {
     "name": "stderr",
     "output_type": "stream",
     "text": [
      "WARNING:absl:You are saving your model as an HDF5 file via `model.save()` or `keras.saving.save_model(model)`. This file format is considered legacy. We recommend using instead the native Keras format, e.g. `model.save('my_model.keras')` or `keras.saving.save_model(model, 'my_model.keras')`. \n"
     ]
    },
    {
     "name": "stdout",
     "output_type": "stream",
     "text": [
      "1464/1464 - 8s - 5ms/step - accuracy: 0.4391 - loss: 2.0504 - val_accuracy: 0.5841 - val_loss: 1.6661\n",
      "Epoch 10/12\n",
      "\n",
      "Epoch 10: val_accuracy improved from 0.58414 to 0.61755, saving model to ViT_fold2.h5\n"
     ]
    },
    {
     "name": "stderr",
     "output_type": "stream",
     "text": [
      "WARNING:absl:You are saving your model as an HDF5 file via `model.save()` or `keras.saving.save_model(model)`. This file format is considered legacy. We recommend using instead the native Keras format, e.g. `model.save('my_model.keras')` or `keras.saving.save_model(model, 'my_model.keras')`. \n"
     ]
    },
    {
     "name": "stdout",
     "output_type": "stream",
     "text": [
      "1464/1464 - 8s - 5ms/step - accuracy: 0.4826 - loss: 1.8802 - val_accuracy: 0.6175 - val_loss: 1.5146\n",
      "Epoch 11/12\n",
      "\n",
      "Epoch 11: val_accuracy improved from 0.61755 to 0.64411, saving model to ViT_fold2.h5\n"
     ]
    },
    {
     "name": "stderr",
     "output_type": "stream",
     "text": [
      "WARNING:absl:You are saving your model as an HDF5 file via `model.save()` or `keras.saving.save_model(model)`. This file format is considered legacy. We recommend using instead the native Keras format, e.g. `model.save('my_model.keras')` or `keras.saving.save_model(model, 'my_model.keras')`. \n"
     ]
    },
    {
     "name": "stdout",
     "output_type": "stream",
     "text": [
      "1464/1464 - 8s - 5ms/step - accuracy: 0.5198 - loss: 1.7347 - val_accuracy: 0.6441 - val_loss: 1.3833\n",
      "Epoch 12/12\n",
      "\n",
      "Epoch 12: val_accuracy improved from 0.64411 to 0.67589, saving model to ViT_fold2.h5\n"
     ]
    },
    {
     "name": "stderr",
     "output_type": "stream",
     "text": [
      "WARNING:absl:You are saving your model as an HDF5 file via `model.save()` or `keras.saving.save_model(model)`. This file format is considered legacy. We recommend using instead the native Keras format, e.g. `model.save('my_model.keras')` or `keras.saving.save_model(model, 'my_model.keras')`. \n"
     ]
    },
    {
     "name": "stdout",
     "output_type": "stream",
     "text": [
      "1464/1464 - 8s - 5ms/step - accuracy: 0.5512 - loss: 1.5989 - val_accuracy: 0.6759 - val_loss: 1.2623\n",
      "Fold 2 results: train_acc=0.6984, val_acc=0.6759, test_acc=0.6921\n",
      "\n",
      "Training fold 3 / 5 for ViT\n",
      "Epoch 1/12\n",
      "\n",
      "Epoch 1: val_accuracy improved from -inf to 0.03152, saving model to ViT_fold3.h5\n"
     ]
    },
    {
     "name": "stderr",
     "output_type": "stream",
     "text": [
      "WARNING:absl:You are saving your model as an HDF5 file via `model.save()` or `keras.saving.save_model(model)`. This file format is considered legacy. We recommend using instead the native Keras format, e.g. `model.save('my_model.keras')` or `keras.saving.save_model(model, 'my_model.keras')`. \n"
     ]
    },
    {
     "name": "stdout",
     "output_type": "stream",
     "text": [
      "1464/1464 - 12s - 8ms/step - accuracy: 0.0094 - loss: 5.7957 - val_accuracy: 0.0315 - val_loss: 5.1292\n",
      "Epoch 2/12\n",
      "\n",
      "Epoch 2: val_accuracy improved from 0.03152 to 0.13805, saving model to ViT_fold3.h5\n"
     ]
    },
    {
     "name": "stderr",
     "output_type": "stream",
     "text": [
      "WARNING:absl:You are saving your model as an HDF5 file via `model.save()` or `keras.saving.save_model(model)`. This file format is considered legacy. We recommend using instead the native Keras format, e.g. `model.save('my_model.keras')` or `keras.saving.save_model(model, 'my_model.keras')`. \n"
     ]
    },
    {
     "name": "stdout",
     "output_type": "stream",
     "text": [
      "1464/1464 - 8s - 5ms/step - accuracy: 0.0579 - loss: 4.6590 - val_accuracy: 0.1380 - val_loss: 4.0358\n",
      "Epoch 3/12\n",
      "\n",
      "Epoch 3: val_accuracy improved from 0.13805 to 0.24415, saving model to ViT_fold3.h5\n"
     ]
    },
    {
     "name": "stderr",
     "output_type": "stream",
     "text": [
      "WARNING:absl:You are saving your model as an HDF5 file via `model.save()` or `keras.saving.save_model(model)`. This file format is considered legacy. We recommend using instead the native Keras format, e.g. `model.save('my_model.keras')` or `keras.saving.save_model(model, 'my_model.keras')`. \n"
     ]
    },
    {
     "name": "stdout",
     "output_type": "stream",
     "text": [
      "1464/1464 - 8s - 5ms/step - accuracy: 0.1213 - loss: 3.8824 - val_accuracy: 0.2441 - val_loss: 3.3486\n",
      "Epoch 4/12\n",
      "\n",
      "Epoch 4: val_accuracy improved from 0.24415 to 0.32906, saving model to ViT_fold3.h5\n"
     ]
    },
    {
     "name": "stderr",
     "output_type": "stream",
     "text": [
      "WARNING:absl:You are saving your model as an HDF5 file via `model.save()` or `keras.saving.save_model(model)`. This file format is considered legacy. We recommend using instead the native Keras format, e.g. `model.save('my_model.keras')` or `keras.saving.save_model(model, 'my_model.keras')`. \n"
     ]
    },
    {
     "name": "stdout",
     "output_type": "stream",
     "text": [
      "1464/1464 - 8s - 5ms/step - accuracy: 0.1918 - loss: 3.3644 - val_accuracy: 0.3291 - val_loss: 2.8683\n",
      "Epoch 5/12\n",
      "\n",
      "Epoch 5: val_accuracy improved from 0.32906 to 0.39757, saving model to ViT_fold3.h5\n"
     ]
    },
    {
     "name": "stderr",
     "output_type": "stream",
     "text": [
      "WARNING:absl:You are saving your model as an HDF5 file via `model.save()` or `keras.saving.save_model(model)`. This file format is considered legacy. We recommend using instead the native Keras format, e.g. `model.save('my_model.keras')` or `keras.saving.save_model(model, 'my_model.keras')`. \n"
     ]
    },
    {
     "name": "stdout",
     "output_type": "stream",
     "text": [
      "1464/1464 - 8s - 5ms/step - accuracy: 0.2458 - loss: 3.0013 - val_accuracy: 0.3976 - val_loss: 2.5219\n",
      "Epoch 6/12\n",
      "\n",
      "Epoch 6: val_accuracy improved from 0.39757 to 0.45797, saving model to ViT_fold3.h5\n"
     ]
    },
    {
     "name": "stderr",
     "output_type": "stream",
     "text": [
      "WARNING:absl:You are saving your model as an HDF5 file via `model.save()` or `keras.saving.save_model(model)`. This file format is considered legacy. We recommend using instead the native Keras format, e.g. `model.save('my_model.keras')` or `keras.saving.save_model(model, 'my_model.keras')`. \n"
     ]
    },
    {
     "name": "stdout",
     "output_type": "stream",
     "text": [
      "1464/1464 - 8s - 5ms/step - accuracy: 0.3010 - loss: 2.7149 - val_accuracy: 0.4580 - val_loss: 2.2455\n",
      "Epoch 7/12\n",
      "\n",
      "Epoch 7: val_accuracy improved from 0.45797 to 0.49094, saving model to ViT_fold3.h5\n"
     ]
    },
    {
     "name": "stderr",
     "output_type": "stream",
     "text": [
      "WARNING:absl:You are saving your model as an HDF5 file via `model.save()` or `keras.saving.save_model(model)`. This file format is considered legacy. We recommend using instead the native Keras format, e.g. `model.save('my_model.keras')` or `keras.saving.save_model(model, 'my_model.keras')`. \n"
     ]
    },
    {
     "name": "stdout",
     "output_type": "stream",
     "text": [
      "1464/1464 - 8s - 5ms/step - accuracy: 0.3450 - loss: 2.4813 - val_accuracy: 0.4909 - val_loss: 2.0369\n",
      "Epoch 8/12\n",
      "\n",
      "Epoch 8: val_accuracy improved from 0.49094 to 0.53229, saving model to ViT_fold3.h5\n"
     ]
    },
    {
     "name": "stderr",
     "output_type": "stream",
     "text": [
      "WARNING:absl:You are saving your model as an HDF5 file via `model.save()` or `keras.saving.save_model(model)`. This file format is considered legacy. We recommend using instead the native Keras format, e.g. `model.save('my_model.keras')` or `keras.saving.save_model(model, 'my_model.keras')`. \n"
     ]
    },
    {
     "name": "stdout",
     "output_type": "stream",
     "text": [
      "1464/1464 - 8s - 5ms/step - accuracy: 0.3860 - loss: 2.2761 - val_accuracy: 0.5323 - val_loss: 1.8500\n",
      "Epoch 9/12\n",
      "\n",
      "Epoch 9: val_accuracy improved from 0.53229 to 0.55595, saving model to ViT_fold3.h5\n"
     ]
    },
    {
     "name": "stderr",
     "output_type": "stream",
     "text": [
      "WARNING:absl:You are saving your model as an HDF5 file via `model.save()` or `keras.saving.save_model(model)`. This file format is considered legacy. We recommend using instead the native Keras format, e.g. `model.save('my_model.keras')` or `keras.saving.save_model(model, 'my_model.keras')`. \n"
     ]
    },
    {
     "name": "stdout",
     "output_type": "stream",
     "text": [
      "1464/1464 - 8s - 5ms/step - accuracy: 0.4298 - loss: 2.0917 - val_accuracy: 0.5560 - val_loss: 1.7021\n",
      "Epoch 10/12\n",
      "\n",
      "Epoch 10: val_accuracy improved from 0.55595 to 0.60012, saving model to ViT_fold3.h5\n"
     ]
    },
    {
     "name": "stderr",
     "output_type": "stream",
     "text": [
      "WARNING:absl:You are saving your model as an HDF5 file via `model.save()` or `keras.saving.save_model(model)`. This file format is considered legacy. We recommend using instead the native Keras format, e.g. `model.save('my_model.keras')` or `keras.saving.save_model(model, 'my_model.keras')`. \n"
     ]
    },
    {
     "name": "stdout",
     "output_type": "stream",
     "text": [
      "1464/1464 - 8s - 5ms/step - accuracy: 0.4673 - loss: 1.9336 - val_accuracy: 0.6001 - val_loss: 1.5430\n",
      "Epoch 11/12\n",
      "\n",
      "Epoch 11: val_accuracy improved from 0.60012 to 0.62566, saving model to ViT_fold3.h5\n"
     ]
    },
    {
     "name": "stderr",
     "output_type": "stream",
     "text": [
      "WARNING:absl:You are saving your model as an HDF5 file via `model.save()` or `keras.saving.save_model(model)`. This file format is considered legacy. We recommend using instead the native Keras format, e.g. `model.save('my_model.keras')` or `keras.saving.save_model(model, 'my_model.keras')`. \n"
     ]
    },
    {
     "name": "stdout",
     "output_type": "stream",
     "text": [
      "1464/1464 - 8s - 5ms/step - accuracy: 0.5019 - loss: 1.7891 - val_accuracy: 0.6257 - val_loss: 1.4195\n",
      "Epoch 12/12\n",
      "\n",
      "Epoch 12: val_accuracy improved from 0.62566 to 0.64915, saving model to ViT_fold3.h5\n"
     ]
    },
    {
     "name": "stderr",
     "output_type": "stream",
     "text": [
      "WARNING:absl:You are saving your model as an HDF5 file via `model.save()` or `keras.saving.save_model(model)`. This file format is considered legacy. We recommend using instead the native Keras format, e.g. `model.save('my_model.keras')` or `keras.saving.save_model(model, 'my_model.keras')`. \n"
     ]
    },
    {
     "name": "stdout",
     "output_type": "stream",
     "text": [
      "1464/1464 - 8s - 5ms/step - accuracy: 0.5328 - loss: 1.6614 - val_accuracy: 0.6492 - val_loss: 1.3150\n",
      "Fold 3 results: train_acc=0.6727, val_acc=0.6492, test_acc=0.6600\n",
      "\n",
      "Training fold 4 / 5 for ViT\n",
      "Epoch 1/12\n",
      "\n",
      "Epoch 1: val_accuracy improved from -inf to 0.03639, saving model to ViT_fold4.h5\n"
     ]
    },
    {
     "name": "stderr",
     "output_type": "stream",
     "text": [
      "WARNING:absl:You are saving your model as an HDF5 file via `model.save()` or `keras.saving.save_model(model)`. This file format is considered legacy. We recommend using instead the native Keras format, e.g. `model.save('my_model.keras')` or `keras.saving.save_model(model, 'my_model.keras')`. \n"
     ]
    },
    {
     "name": "stdout",
     "output_type": "stream",
     "text": [
      "1464/1464 - 14s - 9ms/step - accuracy: 0.0113 - loss: 5.8479 - val_accuracy: 0.0364 - val_loss: 5.1535\n",
      "Epoch 2/12\n",
      "\n",
      "Epoch 2: val_accuracy improved from 0.03639 to 0.13796, saving model to ViT_fold4.h5\n"
     ]
    },
    {
     "name": "stderr",
     "output_type": "stream",
     "text": [
      "WARNING:absl:You are saving your model as an HDF5 file via `model.save()` or `keras.saving.save_model(model)`. This file format is considered legacy. We recommend using instead the native Keras format, e.g. `model.save('my_model.keras')` or `keras.saving.save_model(model, 'my_model.keras')`. \n"
     ]
    },
    {
     "name": "stdout",
     "output_type": "stream",
     "text": [
      "1464/1464 - 9s - 6ms/step - accuracy: 0.0635 - loss: 4.6405 - val_accuracy: 0.1380 - val_loss: 4.0065\n",
      "Epoch 3/12\n",
      "\n",
      "Epoch 3: val_accuracy improved from 0.13796 to 0.25397, saving model to ViT_fold4.h5\n"
     ]
    },
    {
     "name": "stderr",
     "output_type": "stream",
     "text": [
      "WARNING:absl:You are saving your model as an HDF5 file via `model.save()` or `keras.saving.save_model(model)`. This file format is considered legacy. We recommend using instead the native Keras format, e.g. `model.save('my_model.keras')` or `keras.saving.save_model(model, 'my_model.keras')`. \n"
     ]
    },
    {
     "name": "stdout",
     "output_type": "stream",
     "text": [
      "1464/1464 - 8s - 5ms/step - accuracy: 0.1339 - loss: 3.8351 - val_accuracy: 0.2540 - val_loss: 3.2987\n",
      "Epoch 4/12\n",
      "\n",
      "Epoch 4: val_accuracy improved from 0.25397 to 0.34153, saving model to ViT_fold4.h5\n"
     ]
    },
    {
     "name": "stderr",
     "output_type": "stream",
     "text": [
      "WARNING:absl:You are saving your model as an HDF5 file via `model.save()` or `keras.saving.save_model(model)`. This file format is considered legacy. We recommend using instead the native Keras format, e.g. `model.save('my_model.keras')` or `keras.saving.save_model(model, 'my_model.keras')`. \n"
     ]
    },
    {
     "name": "stdout",
     "output_type": "stream",
     "text": [
      "1464/1464 - 8s - 5ms/step - accuracy: 0.2043 - loss: 3.2911 - val_accuracy: 0.3415 - val_loss: 2.7845\n",
      "Epoch 5/12\n",
      "\n",
      "Epoch 5: val_accuracy improved from 0.34153 to 0.43080, saving model to ViT_fold4.h5\n"
     ]
    },
    {
     "name": "stderr",
     "output_type": "stream",
     "text": [
      "WARNING:absl:You are saving your model as an HDF5 file via `model.save()` or `keras.saving.save_model(model)`. This file format is considered legacy. We recommend using instead the native Keras format, e.g. `model.save('my_model.keras')` or `keras.saving.save_model(model, 'my_model.keras')`. \n"
     ]
    },
    {
     "name": "stdout",
     "output_type": "stream",
     "text": [
      "1464/1464 - 8s - 5ms/step - accuracy: 0.2743 - loss: 2.8849 - val_accuracy: 0.4308 - val_loss: 2.3996\n",
      "Epoch 6/12\n",
      "\n",
      "Epoch 6: val_accuracy improved from 0.43080 to 0.48633, saving model to ViT_fold4.h5\n"
     ]
    },
    {
     "name": "stderr",
     "output_type": "stream",
     "text": [
      "WARNING:absl:You are saving your model as an HDF5 file via `model.save()` or `keras.saving.save_model(model)`. This file format is considered legacy. We recommend using instead the native Keras format, e.g. `model.save('my_model.keras')` or `keras.saving.save_model(model, 'my_model.keras')`. \n"
     ]
    },
    {
     "name": "stdout",
     "output_type": "stream",
     "text": [
      "1464/1464 - 8s - 5ms/step - accuracy: 0.3296 - loss: 2.5724 - val_accuracy: 0.4863 - val_loss: 2.1060\n",
      "Epoch 7/12\n",
      "\n",
      "Epoch 7: val_accuracy improved from 0.48633 to 0.53801, saving model to ViT_fold4.h5\n"
     ]
    },
    {
     "name": "stderr",
     "output_type": "stream",
     "text": [
      "WARNING:absl:You are saving your model as an HDF5 file via `model.save()` or `keras.saving.save_model(model)`. This file format is considered legacy. We recommend using instead the native Keras format, e.g. `model.save('my_model.keras')` or `keras.saving.save_model(model, 'my_model.keras')`. \n"
     ]
    },
    {
     "name": "stdout",
     "output_type": "stream",
     "text": [
      "1464/1464 - 8s - 5ms/step - accuracy: 0.3840 - loss: 2.3143 - val_accuracy: 0.5380 - val_loss: 1.8724\n",
      "Epoch 8/12\n",
      "\n",
      "Epoch 8: val_accuracy improved from 0.53801 to 0.57586, saving model to ViT_fold4.h5\n"
     ]
    },
    {
     "name": "stderr",
     "output_type": "stream",
     "text": [
      "WARNING:absl:You are saving your model as an HDF5 file via `model.save()` or `keras.saving.save_model(model)`. This file format is considered legacy. We recommend using instead the native Keras format, e.g. `model.save('my_model.keras')` or `keras.saving.save_model(model, 'my_model.keras')`. \n"
     ]
    },
    {
     "name": "stdout",
     "output_type": "stream",
     "text": [
      "1464/1464 - 8s - 5ms/step - accuracy: 0.4269 - loss: 2.1142 - val_accuracy: 0.5759 - val_loss: 1.6792\n",
      "Epoch 9/12\n",
      "\n",
      "Epoch 9: val_accuracy improved from 0.57586 to 0.60755, saving model to ViT_fold4.h5\n"
     ]
    },
    {
     "name": "stderr",
     "output_type": "stream",
     "text": [
      "WARNING:absl:You are saving your model as an HDF5 file via `model.save()` or `keras.saving.save_model(model)`. This file format is considered legacy. We recommend using instead the native Keras format, e.g. `model.save('my_model.keras')` or `keras.saving.save_model(model, 'my_model.keras')`. \n"
     ]
    },
    {
     "name": "stdout",
     "output_type": "stream",
     "text": [
      "1464/1464 - 8s - 5ms/step - accuracy: 0.4657 - loss: 1.9441 - val_accuracy: 0.6076 - val_loss: 1.5393\n",
      "Epoch 10/12\n",
      "\n",
      "Epoch 10: val_accuracy improved from 0.60755 to 0.63258, saving model to ViT_fold4.h5\n"
     ]
    },
    {
     "name": "stderr",
     "output_type": "stream",
     "text": [
      "WARNING:absl:You are saving your model as an HDF5 file via `model.save()` or `keras.saving.save_model(model)`. This file format is considered legacy. We recommend using instead the native Keras format, e.g. `model.save('my_model.keras')` or `keras.saving.save_model(model, 'my_model.keras')`. \n"
     ]
    },
    {
     "name": "stdout",
     "output_type": "stream",
     "text": [
      "1464/1464 - 8s - 5ms/step - accuracy: 0.4971 - loss: 1.7950 - val_accuracy: 0.6326 - val_loss: 1.4206\n",
      "Epoch 11/12\n",
      "\n",
      "Epoch 11: val_accuracy improved from 0.63258 to 0.65659, saving model to ViT_fold4.h5\n"
     ]
    },
    {
     "name": "stderr",
     "output_type": "stream",
     "text": [
      "WARNING:absl:You are saving your model as an HDF5 file via `model.save()` or `keras.saving.save_model(model)`. This file format is considered legacy. We recommend using instead the native Keras format, e.g. `model.save('my_model.keras')` or `keras.saving.save_model(model, 'my_model.keras')`. \n"
     ]
    },
    {
     "name": "stdout",
     "output_type": "stream",
     "text": [
      "1464/1464 - 8s - 5ms/step - accuracy: 0.5266 - loss: 1.6710 - val_accuracy: 0.6566 - val_loss: 1.3050\n",
      "Epoch 12/12\n",
      "\n",
      "Epoch 12: val_accuracy improved from 0.65659 to 0.68281, saving model to ViT_fold4.h5\n"
     ]
    },
    {
     "name": "stderr",
     "output_type": "stream",
     "text": [
      "WARNING:absl:You are saving your model as an HDF5 file via `model.save()` or `keras.saving.save_model(model)`. This file format is considered legacy. We recommend using instead the native Keras format, e.g. `model.save('my_model.keras')` or `keras.saving.save_model(model, 'my_model.keras')`. \n"
     ]
    },
    {
     "name": "stdout",
     "output_type": "stream",
     "text": [
      "1464/1464 - 8s - 5ms/step - accuracy: 0.5555 - loss: 1.5607 - val_accuracy: 0.6828 - val_loss: 1.2036\n",
      "Fold 4 results: train_acc=0.6887, val_acc=0.6828, test_acc=0.6789\n",
      "\n",
      "Training fold 5 / 5 for ViT\n",
      "Epoch 1/12\n",
      "\n",
      "Epoch 1: val_accuracy improved from -inf to 0.03392, saving model to ViT_fold5.h5\n"
     ]
    },
    {
     "name": "stderr",
     "output_type": "stream",
     "text": [
      "WARNING:absl:You are saving your model as an HDF5 file via `model.save()` or `keras.saving.save_model(model)`. This file format is considered legacy. We recommend using instead the native Keras format, e.g. `model.save('my_model.keras')` or `keras.saving.save_model(model, 'my_model.keras')`. \n"
     ]
    },
    {
     "name": "stdout",
     "output_type": "stream",
     "text": [
      "1464/1464 - 13s - 9ms/step - accuracy: 0.0112 - loss: 5.7428 - val_accuracy: 0.0339 - val_loss: 5.0750\n",
      "Epoch 2/12\n",
      "\n",
      "Epoch 2: val_accuracy improved from 0.03392 to 0.13422, saving model to ViT_fold5.h5\n"
     ]
    },
    {
     "name": "stderr",
     "output_type": "stream",
     "text": [
      "WARNING:absl:You are saving your model as an HDF5 file via `model.save()` or `keras.saving.save_model(model)`. This file format is considered legacy. We recommend using instead the native Keras format, e.g. `model.save('my_model.keras')` or `keras.saving.save_model(model, 'my_model.keras')`. \n"
     ]
    },
    {
     "name": "stdout",
     "output_type": "stream",
     "text": [
      "1464/1464 - 8s - 5ms/step - accuracy: 0.0557 - loss: 4.6592 - val_accuracy: 0.1342 - val_loss: 4.0640\n",
      "Epoch 3/12\n",
      "\n",
      "Epoch 3: val_accuracy improved from 0.13422 to 0.24545, saving model to ViT_fold5.h5\n"
     ]
    },
    {
     "name": "stderr",
     "output_type": "stream",
     "text": [
      "WARNING:absl:You are saving your model as an HDF5 file via `model.save()` or `keras.saving.save_model(model)`. This file format is considered legacy. We recommend using instead the native Keras format, e.g. `model.save('my_model.keras')` or `keras.saving.save_model(model, 'my_model.keras')`. \n"
     ]
    },
    {
     "name": "stdout",
     "output_type": "stream",
     "text": [
      "1464/1464 - 8s - 5ms/step - accuracy: 0.1227 - loss: 3.8617 - val_accuracy: 0.2455 - val_loss: 3.3288\n",
      "Epoch 4/12\n",
      "\n",
      "Epoch 4: val_accuracy improved from 0.24545 to 0.33558, saving model to ViT_fold5.h5\n"
     ]
    },
    {
     "name": "stderr",
     "output_type": "stream",
     "text": [
      "WARNING:absl:You are saving your model as an HDF5 file via `model.save()` or `keras.saving.save_model(model)`. This file format is considered legacy. We recommend using instead the native Keras format, e.g. `model.save('my_model.keras')` or `keras.saving.save_model(model, 'my_model.keras')`. \n"
     ]
    },
    {
     "name": "stdout",
     "output_type": "stream",
     "text": [
      "1464/1464 - 8s - 5ms/step - accuracy: 0.1899 - loss: 3.3353 - val_accuracy: 0.3356 - val_loss: 2.8521\n",
      "Epoch 5/12\n",
      "\n",
      "Epoch 5: val_accuracy improved from 0.33558 to 0.40009, saving model to ViT_fold5.h5\n"
     ]
    },
    {
     "name": "stderr",
     "output_type": "stream",
     "text": [
      "WARNING:absl:You are saving your model as an HDF5 file via `model.save()` or `keras.saving.save_model(model)`. This file format is considered legacy. We recommend using instead the native Keras format, e.g. `model.save('my_model.keras')` or `keras.saving.save_model(model, 'my_model.keras')`. \n"
     ]
    },
    {
     "name": "stdout",
     "output_type": "stream",
     "text": [
      "1464/1464 - 8s - 5ms/step - accuracy: 0.2487 - loss: 2.9693 - val_accuracy: 0.4001 - val_loss: 2.4954\n",
      "Epoch 6/12\n",
      "\n",
      "Epoch 6: val_accuracy improved from 0.40009 to 0.46160, saving model to ViT_fold5.h5\n"
     ]
    },
    {
     "name": "stderr",
     "output_type": "stream",
     "text": [
      "WARNING:absl:You are saving your model as an HDF5 file via `model.save()` or `keras.saving.save_model(model)`. This file format is considered legacy. We recommend using instead the native Keras format, e.g. `model.save('my_model.keras')` or `keras.saving.save_model(model, 'my_model.keras')`. \n"
     ]
    },
    {
     "name": "stdout",
     "output_type": "stream",
     "text": [
      "1464/1464 - 8s - 5ms/step - accuracy: 0.3057 - loss: 2.6647 - val_accuracy: 0.4616 - val_loss: 2.2065\n",
      "Epoch 7/12\n",
      "\n",
      "Epoch 7: val_accuracy improved from 0.46160 to 0.50611, saving model to ViT_fold5.h5\n"
     ]
    },
    {
     "name": "stderr",
     "output_type": "stream",
     "text": [
      "WARNING:absl:You are saving your model as an HDF5 file via `model.save()` or `keras.saving.save_model(model)`. This file format is considered legacy. We recommend using instead the native Keras format, e.g. `model.save('my_model.keras')` or `keras.saving.save_model(model, 'my_model.keras')`. \n"
     ]
    },
    {
     "name": "stdout",
     "output_type": "stream",
     "text": [
      "1464/1464 - 8s - 5ms/step - accuracy: 0.3570 - loss: 2.4129 - val_accuracy: 0.5061 - val_loss: 1.9773\n",
      "Epoch 8/12\n",
      "\n",
      "Epoch 8: val_accuracy improved from 0.50611 to 0.55258, saving model to ViT_fold5.h5\n"
     ]
    },
    {
     "name": "stderr",
     "output_type": "stream",
     "text": [
      "WARNING:absl:You are saving your model as an HDF5 file via `model.save()` or `keras.saving.save_model(model)`. This file format is considered legacy. We recommend using instead the native Keras format, e.g. `model.save('my_model.keras')` or `keras.saving.save_model(model, 'my_model.keras')`. \n"
     ]
    },
    {
     "name": "stdout",
     "output_type": "stream",
     "text": [
      "1464/1464 - 8s - 5ms/step - accuracy: 0.4046 - loss: 2.1920 - val_accuracy: 0.5526 - val_loss: 1.7735\n",
      "Epoch 9/12\n",
      "\n",
      "Epoch 9: val_accuracy improved from 0.55258 to 0.59069, saving model to ViT_fold5.h5\n"
     ]
    },
    {
     "name": "stderr",
     "output_type": "stream",
     "text": [
      "WARNING:absl:You are saving your model as an HDF5 file via `model.save()` or `keras.saving.save_model(model)`. This file format is considered legacy. We recommend using instead the native Keras format, e.g. `model.save('my_model.keras')` or `keras.saving.save_model(model, 'my_model.keras')`. \n"
     ]
    },
    {
     "name": "stdout",
     "output_type": "stream",
     "text": [
      "1464/1464 - 8s - 5ms/step - accuracy: 0.4486 - loss: 2.0050 - val_accuracy: 0.5907 - val_loss: 1.5960\n",
      "Epoch 10/12\n",
      "\n",
      "Epoch 10: val_accuracy improved from 0.59069 to 0.62486, saving model to ViT_fold5.h5\n"
     ]
    },
    {
     "name": "stderr",
     "output_type": "stream",
     "text": [
      "WARNING:absl:You are saving your model as an HDF5 file via `model.save()` or `keras.saving.save_model(model)`. This file format is considered legacy. We recommend using instead the native Keras format, e.g. `model.save('my_model.keras')` or `keras.saving.save_model(model, 'my_model.keras')`. \n"
     ]
    },
    {
     "name": "stdout",
     "output_type": "stream",
     "text": [
      "1464/1464 - 8s - 5ms/step - accuracy: 0.4863 - loss: 1.8451 - val_accuracy: 0.6249 - val_loss: 1.4629\n",
      "Epoch 11/12\n",
      "\n",
      "Epoch 11: val_accuracy improved from 0.62486 to 0.64904, saving model to ViT_fold5.h5\n"
     ]
    },
    {
     "name": "stderr",
     "output_type": "stream",
     "text": [
      "WARNING:absl:You are saving your model as an HDF5 file via `model.save()` or `keras.saving.save_model(model)`. This file format is considered legacy. We recommend using instead the native Keras format, e.g. `model.save('my_model.keras')` or `keras.saving.save_model(model, 'my_model.keras')`. \n"
     ]
    },
    {
     "name": "stdout",
     "output_type": "stream",
     "text": [
      "1464/1464 - 8s - 5ms/step - accuracy: 0.5216 - loss: 1.7007 - val_accuracy: 0.6490 - val_loss: 1.3332\n",
      "Epoch 12/12\n",
      "\n",
      "Epoch 12: val_accuracy improved from 0.64904 to 0.67723, saving model to ViT_fold5.h5\n"
     ]
    },
    {
     "name": "stderr",
     "output_type": "stream",
     "text": [
      "WARNING:absl:You are saving your model as an HDF5 file via `model.save()` or `keras.saving.save_model(model)`. This file format is considered legacy. We recommend using instead the native Keras format, e.g. `model.save('my_model.keras')` or `keras.saving.save_model(model, 'my_model.keras')`. \n"
     ]
    },
    {
     "name": "stdout",
     "output_type": "stream",
     "text": [
      "1464/1464 - 8s - 5ms/step - accuracy: 0.5522 - loss: 1.5705 - val_accuracy: 0.6772 - val_loss: 1.2264\n",
      "Fold 5 results: train_acc=0.6948, val_acc=0.6772, test_acc=0.6876\n",
      "\n",
      "Best Test accuracy: 0.6921 from model: ViT_fold2.h5\n"
     ]
    }
   ],
   "source": [
    "vit_results, vit_best_model = train_and_evaluate_model('ViT', X_train, y_train, X_test, y_test, NUM_FOLDS, EPOCHS, BATCH_SIZE)"
   ]
  },
  {
   "cell_type": "code",
   "execution_count": null,
   "id": "169eb706-964c-4008-ab1b-0dd0a7cf10d6",
   "metadata": {},
   "outputs": [],
   "source": []
  },
  {
   "cell_type": "markdown",
   "id": "da101659-7d01-44d6-80a3-2bf2d065fae7",
   "metadata": {
    "jp-MarkdownHeadingCollapsed": true
   },
   "source": [
    "## Plotting Results"
   ]
  },
  {
   "cell_type": "code",
   "execution_count": 23,
   "id": "4232a9dd-d4e5-4d8c-aac0-ec2d7558f9d8",
   "metadata": {},
   "outputs": [],
   "source": [
    "all_results = {'CNN': cnn_results, 'ViT': vit_results, 'GRU': gru_results}"
   ]
  },
  {
   "cell_type": "code",
   "execution_count": 25,
   "id": "3c428822-f038-4132-928a-ff84203686db",
   "metadata": {},
   "outputs": [],
   "source": [
    "# Plotting function for results (multiple models)\n",
    "def plot_results(all_results):\n",
    "    metrics = ['acc', 'loss']\n",
    "    sets = ['train', 'val', 'test']\n",
    "    models_list = list(all_results.keys())\n",
    "    model_colors = {'ViT': 'green', 'CNN': 'orange', 'BiT': 'blue'}\n",
    "\n",
    "    fig, axes = plt.subplots(2, 3, figsize=(20, 12))\n",
    "\n",
    "    for i, metric in enumerate(metrics):\n",
    "        for j, set_name in enumerate(sets):\n",
    "            key = f'{set_name}_{metric}'\n",
    "            means = []\n",
    "            stds = []\n",
    "            colors = []\n",
    "\n",
    "            for model in models_list:\n",
    "                means.append(np.mean(all_results[model][key]))\n",
    "                stds.append(np.std(all_results[model][key]))\n",
    "                colors.append(model_colors.get(model, 'black'))\n",
    "\n",
    "            bars = axes[i, j].bar(models_list, means, width=0.3, color=colors)\n",
    "            title_map = {\n",
    "                'train_acc': 'Train Accuracy',\n",
    "                'val_acc': 'Val Accuracy',\n",
    "                'test_acc': 'Test Accuracy',\n",
    "                'train_loss': 'Train Loss',\n",
    "                'val_loss': 'Val Loss',\n",
    "                'test_loss': 'Test Loss'\n",
    "            }\n",
    "            axes[i, j].set_title(title_map[f'{set_name}_{metric}'])\n",
    "            if metric == 'acc':\n",
    "                axes[i, j].set_ylim(0, 1.1)\n",
    "            else:\n",
    "                max_loss = max(means) + max(stds)\n",
    "                axes[i, j].set_ylim(0, max_loss * 1.1)\n",
    "\n",
    "            for k, bar in enumerate(bars):\n",
    "                height = bar.get_height()\n",
    "                offset = 0.02 if height > 0.9 else 0.01\n",
    "                axes[i, j].text(bar.get_x() + bar.get_width() / 2, height + offset, f'{height:.2f}',\n",
    "                                ha='center', va='bottom', fontsize=10)\n",
    "\n",
    "    handles = [plt.Rectangle((0, 0), 1, 1, color=model_colors.get(m, 'black')) for m in models_list]\n",
    "    fig.legend(handles, models_list, loc='upper right', bbox_to_anchor=(1.1, 1), title='Models', fontsize=12)\n",
    "\n",
    "    plt.tight_layout(pad=3.0)\n",
    "    plt.show()"
   ]
  },
  {
   "cell_type": "code",
   "execution_count": 26,
   "id": "0719f492-bea8-4367-a0ca-109adca76b76",
   "metadata": {},
   "outputs": [
    {
     "data": {
      "image/png": "[encoded data removed]",
      "text/plain": [
       "<Figure size 2000x1200 with 6 Axes>"
      ]
     },
     "metadata": {},
     "output_type": "display_data"
    }
   ],
   "source": [
    "plot_results(all_results)"
   ]
  },
  {
   "cell_type": "markdown",
   "id": "212ba22a-8b5f-4c27-8f09-8f85381948ea",
   "metadata": {
    "jp-MarkdownHeadingCollapsed": true
   },
   "source": [
    "## Final Average of Results"
   ]
  },
  {
   "cell_type": "code",
   "execution_count": 28,
   "id": "91fb5f8e-7f7b-42e1-b8c4-43f9b89b42c5",
   "metadata": {},
   "outputs": [],
   "source": [
    "# Print final average results\n",
    "def print_final_averages(all_results):\n",
    "    print(\"\\n\" + \"=\"*50)\n",
    "    print(\"Final Average Results\")\n",
    "    print(\"=\"*50)\n",
    "    for model in all_results:\n",
    "        print(f\"\\n{model} Model:\")\n",
    "        print(f\"Train Accuracy: {np.mean(all_results[model]['train_acc']):.4f}\")\n",
    "        print(f\"Val Accuracy: {np.mean(all_results[model]['val_acc']):.4f}\")\n",
    "        print(f\"Test Accuracy: {np.mean(all_results[model]['test_acc']):.4f}\")\n",
    "        print(f\"Train Loss: {np.mean(all_results[model]['train_loss']):.4f}\")\n",
    "        print(f\"Val Loss: {np.mean(all_results[model]['val_loss']):.4f}\")\n",
    "        print(f\"Test Loss: {np.mean(all_results[model]['test_loss']):.4f}\")"
   ]
  },
  {
   "cell_type": "code",
   "execution_count": 29,
   "id": "40b6e804-0057-42c6-9f71-7dcc2bb0d619",
   "metadata": {},
   "outputs": [
    {
     "name": "stdout",
     "output_type": "stream",
     "text": [
      "\n",
      "==================================================\n",
      "Final Average Results\n",
      "==================================================\n",
      "\n",
      "CNN Model:\n",
      "Train Accuracy: 0.9223\n",
      "Val Accuracy: 0.9093\n",
      "Test Accuracy: 0.9066\n",
      "Train Loss: 0.2419\n",
      "Val Loss: 0.3076\n",
      "Test Loss: 0.3249\n",
      "\n",
      "ViT Model:\n",
      "Train Accuracy: 0.6815\n",
      "Val Accuracy: 0.6653\n",
      "Test Accuracy: 0.6721\n",
      "Train Loss: 1.2341\n",
      "Val Loss: 1.2798\n",
      "Test Loss: 1.2739\n",
      "\n",
      "GRU Model:\n",
      "Train Accuracy: 0.9049\n",
      "Val Accuracy: 0.8880\n",
      "Test Accuracy: 0.8892\n",
      "Train Loss: 0.3387\n",
      "Val Loss: 0.3882\n",
      "Test Loss: 0.3926\n"
     ]
    }
   ],
   "source": [
    "print_final_averages(all_results)"
   ]
  },
  {
   "cell_type": "raw",
   "id": "b9cf5a48-aed6-4d65-a6c5-cf8ded0b2bf0",
   "metadata": {},
   "source": []
  },
  {
   "cell_type": "code",
   "execution_count": null,
   "id": "5613e67b-7156-428a-8ea6-017a661565f2",
   "metadata": {},
   "outputs": [],
   "source": []
  }
 ],
 "metadata": {
  "kernelspec": {
   "display_name": "Python 3 (ipykernel)",
   "language": "python",
   "name": "python3"
  },
  "language_info": {
   "codemirror_mode": {
    "name": "ipython",
    "version": 3
   },
   "file_extension": ".py",
   "mimetype": "text/x-python",
   "name": "python",
   "nbconvert_exporter": "python",
   "pygments_lexer": "ipython3",
   "version": "3.11.0"
  }
 },
 "nbformat": 4,
 "nbformat_minor": 5
}

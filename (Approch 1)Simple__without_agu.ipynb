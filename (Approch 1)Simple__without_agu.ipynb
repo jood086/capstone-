{
 "cells": [
  {
   "cell_type": "markdown",
   "id": "0218c121-c0f5-4b06-aa1c-5a1636ca4785",
   "metadata": {},
   "source": [
    "## Imports"
   ]
  },
  {
   "cell_type": "code",
   "execution_count": 2,
   "id": "71f34ef6-75b0-477c-81c6-c676e0009472",
   "metadata": {},
   "outputs": [],
   "source": [
    "import os\n",
    "import numpy as np\n",
    "import pandas as pd\n",
    "from tqdm import tqdm\n",
    "import matplotlib.pyplot as plt\n",
    "from sklearn.model_selection import StratifiedKFold\n",
    "from tensorflow.keras.utils import to_categorical\n",
    "from tensorflow.keras.callbacks import ModelCheckpoint, EarlyStopping\n",
    "from tensorflow.keras.models import Model\n",
    "from tensorflow.keras.layers import (Input, Conv1D, MaxPooling1D, Flatten, Dense, Dropout, BatchNormalization,\n",
    "                                     Add, Activation, GlobalAveragePooling1D, LayerNormalization,\n",
    "                                     MultiHeadAttention, Dropout as KDropout,\n",
    "                                     GRU, Bidirectional)\n",
    "from tensorflow.keras.optimizers import Adam\n",
    "import tensorflow as tf"
   ]
  },
  {
   "cell_type": "markdown",
   "id": "e638ddea-adda-434a-9413-17fdf699689f",
   "metadata": {},
   "source": [
    "## Data Preparation : Load and Combine Data"
   ]
  },
  {
   "cell_type": "code",
   "execution_count": 4,
   "id": "9d992268-9e6d-4b93-b2d5-64cf8479c789",
   "metadata": {},
   "outputs": [],
   "source": [
    "DATA_PATH = 'G:/Capstone data/karsl-502'\n",
    "LABELS_PATH = 'G:/Capstone data/KARSL-502_Labels.xlsx'\n",
    "F_AVG = 30\n",
    "NUM_FOLDS = 5\n",
    "BATCH_SIZE = 32\n",
    "EPOCHS = 12"
   ]
  },
  {
   "cell_type": "code",
   "execution_count": 5,
   "id": "55b1e195-0e06-44e6-aadb-bd0e7895a5bc",
   "metadata": {},
   "outputs": [],
   "source": [
    "# Load labels\n",
    "df_labels = pd.read_excel(LABELS_PATH)\n",
    "w2id = dict(zip(df_labels['Sign-Arabic'], df_labels['SignID']))\n",
    "words = list(w2id.keys())\n",
    "label_map = {word: idx for idx, word in enumerate(words)}\n",
    "NUM_CLASSES = len(words)"
   ]
  },
  {
   "cell_type": "code",
   "execution_count": null,
   "id": "87fc215a-0f56-4545-aca4-9a57e1ceca09",
   "metadata": {},
   "outputs": [],
   "source": [
    "def preprocess_data(data_path, signers, split, f_avg):\n",
    "    sequences = []\n",
    "    labels = []\n",
    "    for word in tqdm(words, desc=f'Loading {split} data for signers {signers}'):\n",
    "        for signer in signers:\n",
    "            word_id = w2id[word]\n",
    "            keypoints_dir = os.path.join(data_path, signer, split, str(word_id).zfill(4))\n",
    "\n",
    "            required_dirs = ['lh_keypoints', 'rh_keypoints', 'pose_keypoints']\n",
    "            if not all(os.path.exists(os.path.join(keypoints_dir, d)) for d in required_dirs):\n",
    "                continue\n",
    "\n",
    "            lh_dir = os.path.join(keypoints_dir, 'lh_keypoints')\n",
    "            for sequence in os.listdir(lh_dir):\n",
    "                try:\n",
    "                    lh = np.load(os.path.join(lh_dir, sequence))\n",
    "                    rh = np.load(os.path.join(keypoints_dir, 'rh_keypoints', sequence))\n",
    "                    pose = np.load(os.path.join(keypoints_dir, 'pose_keypoints', sequence))\n",
    "\n",
    "                    def pad_sequence(seq):\n",
    "                        if len(seq) < f_avg:\n",
    "                            pad = np.tile(seq[-1], (f_avg - len(seq), 1))\n",
    "                            return np.concatenate([seq, pad])\n",
    "                        return seq[:f_avg]\n",
    "\n",
    "                    lh = pad_sequence(lh)\n",
    "                    rh = pad_sequence(rh)\n",
    "                    pose = pad_sequence(pose)\n",
    "\n",
    "                    # Combine pose, lh, rh on last axis (features)\n",
    "                    combined = np.concatenate([pose, lh, rh], axis=-1)  # shape (f_avg, features)\n",
    "                    sequences.append(combined)\n",
    "                    labels.append(label_map[word])\n",
    "                except Exception as e:\n",
    "                    print(f\"Error loading {sequence}: {e}\")\n",
    "\n",
    "    X = np.array(sequences)\n",
    "    y = to_categorical(labels, num_classes=NUM_CLASSES)\n",
    "\n",
    "    return X, y"
   ]
  },
  {
   "cell_type": "code",
   "execution_count": 7,
   "id": "79610831-2d76-4b76-97bf-7aa7a856087c",
   "metadata": {},
   "outputs": [
    {
     "name": "stderr",
     "output_type": "stream",
     "text": [
      "Loading train data for signers ['01', '02', '03']: 100%|█████████████████████████████| 502/502 [22:56<00:00,  2.74s/it]\n",
      "Loading test data for signers ['01', '02', '03']: 100%|██████████████████████████████| 502/502 [04:24<00:00,  1.90it/s]\n"
     ]
    },
    {
     "name": "stdout",
     "output_type": "stream",
     "text": [
      "Shapes:\n",
      "X_train: (58529, 30, 225) y_train: (58529, 502)\n",
      "X_test: (11110, 30, 225) y_test: (11110, 502)\n"
     ]
    }
   ],
   "source": [
    "# Load train and test data\n",
    "X_train, y_train = preprocess_data(DATA_PATH, ['01', '02','03'], 'train', F_AVG)\n",
    "X_test, y_test = preprocess_data(DATA_PATH, ['01', '02','03'], 'test', F_AVG)\n",
    "\n",
    "print(\"Shapes:\")\n",
    "print(\"X_train:\", X_train.shape, \"y_train:\", y_train.shape)\n",
    "print(\"X_test:\", X_test.shape, \"y_test:\", y_test.shape)"
   ]
  },
  {
   "cell_type": "markdown",
   "id": "f0ee0c24-aaa5-4686-b1ca-00de8d2860a7",
   "metadata": {},
   "source": [
    "## Models"
   ]
  },
  {
   "cell_type": "markdown",
   "id": "e7921305-090c-4b4e-bf5a-bad54c38fdfd",
   "metadata": {},
   "source": [
    "### CNN model"
   ]
  },
  {
   "cell_type": "code",
   "execution_count": 10,
   "id": "de3f8276-ed25-4782-a3b7-deba9b2fa841",
   "metadata": {},
   "outputs": [],
   "source": [
    "def build_cnn_model(input_shape, num_classes):\n",
    "    \"\"\"\n",
    "    CNN model for sequence classification:\n",
    "    - One Conv1D layer with BatchNorm and ReLU.\n",
    "    - MaxPooling and Flatten.\n",
    "    - Dense layer with dropout before classification.\n",
    "    \"\"\"\n",
    "    inputs = Input(shape=input_shape)\n",
    "    x = Conv1D(32, 3, padding='same')(inputs)\n",
    "    x = BatchNormalization()(x)\n",
    "    x = Activation('relu')(x)\n",
    "    x = MaxPooling1D(2)(x)\n",
    "    \n",
    "    x = Flatten()(x)\n",
    "    x = Dense(128)(x)\n",
    "    x = Dropout(0.3)(x)\n",
    "    outputs = Dense(num_classes, activation='softmax')(x)\n",
    "    model = Model(inputs, outputs, name='CNN')\n",
    "    model.compile(optimizer=Adam(learning_rate=1e-3), loss='categorical_crossentropy', metrics=['accuracy'])\n",
    "    return model"
   ]
  },
  {
   "cell_type": "markdown",
   "id": "91dd76eb-caab-4efd-989e-29665be31632",
   "metadata": {},
   "source": [
    "### ViT model"
   ]
  },
  {
   "cell_type": "code",
   "execution_count": 12,
   "id": "178fab10-ea0c-4cbc-b1dc-ed814c3fd1e2",
   "metadata": {},
   "outputs": [],
   "source": [
    "# (Patch embedding + transformer encoder)"
   ]
  },
  {
   "cell_type": "code",
   "execution_count": 13,
   "id": "b72486a6-abff-4627-be0a-c20941f892c3",
   "metadata": {},
   "outputs": [],
   "source": [
    "class TransformerBlock(tf.keras.layers.Layer):\n",
    "    def __init__(self, embed_dim, num_heads, ff_dim, rate=0.1):\n",
    "        super(TransformerBlock, self).__init__()\n",
    "        self.layernorm1 = LayerNormalization(epsilon=1e-6)\n",
    "        self.att = MultiHeadAttention(num_heads=num_heads, key_dim=embed_dim)\n",
    "        self.dropout1 = KDropout(rate)\n",
    "        \n",
    "        self.layernorm2 = LayerNormalization(epsilon=1e-6)\n",
    "        self.ffn = tf.keras.Sequential([\n",
    "            Dense(ff_dim, activation='relu'),\n",
    "            Dense(embed_dim),\n",
    "        ])\n",
    "        self.dropout2 = KDropout(rate)\n",
    "        \n",
    "    def call(self, inputs, training=False):\n",
    "        # PreNorm style\n",
    "        x_norm = self.layernorm1(inputs)\n",
    "        attn_output = self.att(x_norm, x_norm)\n",
    "        attn_output = self.dropout1(attn_output, training=training)\n",
    "        out1 = inputs + attn_output\n",
    "        \n",
    "        out_norm = self.layernorm2(out1)\n",
    "        ffn_output = self.ffn(out_norm)\n",
    "        ffn_output = self.dropout2(ffn_output, training=training)\n",
    "        return out1 + ffn_output\n",
    "\n",
    "class PatchEmbedding(tf.keras.layers.Layer):\n",
    "    def __init__(self, num_patches, embed_dim):\n",
    "        super(PatchEmbedding, self).__init__()\n",
    "        self.projection = Dense(embed_dim)\n",
    "        self.position_embedding = self.add_weight(name=\"pos_embed\", shape=(1, num_patches, embed_dim))\n",
    "    def call(self, patch):\n",
    "        x = self.projection(patch)\n",
    "        return x + self.position_embedding"
   ]
  },
  {
   "cell_type": "code",
   "execution_count": 14,
   "id": "4a2f2c19-3bc9-41b7-a297-38a1f6c11e5f",
   "metadata": {},
   "outputs": [],
   "source": [
    "\n",
    "def build_vit_model(input_shape, num_classes, embed_dim=32, num_heads=2, ff_dim=64, num_layers=1, dropout=0.1):\n",
    "    \"\"\"\n",
    "     ViT model for sequence classification:\n",
    "    - Patch embedding with smaller embedding size.\n",
    "    - Single Transformer block stating with few number of heads.\n",
    "    - Global average pooling and dropout before classification.\n",
    "    \"\"\"\n",
    "    inputs = Input(shape=input_shape)\n",
    "    x = PatchEmbedding(input_shape[0], embed_dim)(inputs)\n",
    "    for _ in range(num_layers):\n",
    "        x = TransformerBlock(embed_dim, num_heads, ff_dim, dropout)(x)\n",
    "    x = GlobalAveragePooling1D()(x)\n",
    "    x = KDropout(dropout)(x)\n",
    "    outputs = Dense(num_classes, activation='softmax')(x)\n",
    "    model = Model(inputs, outputs, name='ViT')\n",
    "    model.compile(optimizer=Adam(learning_rate=1e-4), loss='categorical_crossentropy', metrics=['accuracy'])\n",
    "    return model"
   ]
  },
  {
   "cell_type": "markdown",
   "id": "65113e35-29a6-413b-9652-e16339cffc4b",
   "metadata": {},
   "source": [
    "### GRU model"
   ]
  },
  {
   "cell_type": "code",
   "execution_count": 16,
   "id": "adf1160e-3ee8-4b24-a39c-91b1280980c9",
   "metadata": {},
   "outputs": [],
   "source": [
    "def build_gru_model(input_shape, num_classes):\n",
    "    \"\"\"\n",
    "    2-layer GRU model for sequence classification:\n",
    "    - Two GRU layers with dropout.\n",
    "    - Dense softmax output layer.\n",
    "    \"\"\"\n",
    "    inputs = Input(shape=input_shape)\n",
    "    x = GRU(64, return_sequences=True)(inputs)\n",
    "    x = Dropout(0.3)(x)\n",
    "    x = GRU(64)(x)\n",
    "    x = Dropout(0.3)(x)\n",
    "    outputs = Dense(num_classes, activation='softmax')(x)\n",
    "    model = Model(inputs, outputs, name='GRU')\n",
    "    model.compile(optimizer=Adam(learning_rate=1e-3), loss='categorical_crossentropy', metrics=['accuracy'])\n",
    "    return model"
   ]
  },
  {
   "cell_type": "markdown",
   "id": "26b820ff-5491-4ebf-b965-a0025cf1bc33",
   "metadata": {},
   "source": [
    "## Training and evaluation"
   ]
  },
  {
   "cell_type": "code",
   "execution_count": 18,
   "id": "8e48adcb-d60c-4015-8418-480d5323e4be",
   "metadata": {},
   "outputs": [],
   "source": [
    "def train_and_evaluate_model(model_name, X_train, y_train, X_test, y_test, NUM_FOLDS=5, EPOCHS=10, BATCH_SIZE=32):\n",
    "    builders = {\n",
    "        'CNN': build_cnn_model,\n",
    "        'ViT': build_vit_model,\n",
    "        'GRU': build_gru_model  # Replaced BiT with GRU here\n",
    "    }\n",
    "    build_fn = builders[model_name]\n",
    "\n",
    "    input_shape = X_train.shape[1:]\n",
    "    y_int = np.argmax(y_train, axis=1)\n",
    "\n",
    "    results = {k: [] for k in ['train_acc', 'val_acc', 'test_acc', 'train_loss', 'val_loss', 'test_loss']}\n",
    "    best_test_acc = 0\n",
    "    best_model_path = None\n",
    "\n",
    "    skf = StratifiedKFold(n_splits=NUM_FOLDS, shuffle=True, random_state=42)\n",
    "    fold_num = 1\n",
    "\n",
    "    for train_idx, val_idx in skf.split(X_train, y_int):\n",
    "        print(f\"\\nTraining fold {fold_num} / {NUM_FOLDS} for {model_name}\")\n",
    "        X_tr, X_val = X_train[train_idx], X_train[val_idx]\n",
    "        y_tr, y_val = y_train[train_idx], y_train[val_idx]\n",
    "\n",
    "        # ** No data augmentation here anymore **\n",
    "        # Just use original training data:\n",
    "        # X_tr_aug = X_tr  # you can omit this variable entirely and just pass X_tr below\n",
    "\n",
    "        model = build_fn(input_shape, y_train.shape[1])\n",
    "        if fold_num == 1:\n",
    "            model.summary()\n",
    "\n",
    "        checkpoint_path = f\"{model_name}_fold{fold_num}.h5\"\n",
    "        checkpoint = ModelCheckpoint(checkpoint_path, monitor='val_accuracy', save_best_only=True, verbose=1)\n",
    "        early_stop = EarlyStopping(monitor='val_accuracy', patience=3, restore_best_weights=True)\n",
    "\n",
    "        history = model.fit(\n",
    "            X_tr, y_tr,  # Pass original data, no augmentation\n",
    "            validation_data=(X_val, y_val),\n",
    "            epochs=EPOCHS,\n",
    "            batch_size=BATCH_SIZE,\n",
    "            callbacks=[checkpoint, early_stop],\n",
    "            verbose=2\n",
    "        )\n",
    "\n",
    "        train_loss, train_acc = model.evaluate(X_tr, y_tr, verbose=0)\n",
    "        val_loss, val_acc = model.evaluate(X_val, y_val, verbose=0)\n",
    "        test_loss, test_acc = model.evaluate(X_test, y_test, verbose=0)\n",
    "\n",
    "        print(f\"Fold {fold_num} results: train_acc={train_acc:.4f}, val_acc={val_acc:.4f}, test_acc={test_acc:.4f}\")\n",
    "\n",
    "        results['train_acc'].append(train_acc)\n",
    "        results['val_acc'].append(val_acc)\n",
    "        results['test_acc'].append(test_acc)\n",
    "        results['train_loss'].append(train_loss)\n",
    "        results['val_loss'].append(val_loss)\n",
    "        results['test_loss'].append(test_loss)\n",
    "\n",
    "        if val_acc > best_test_acc:\n",
    "            best_test_acc = test_acc\n",
    "            best_model_path = checkpoint_path\n",
    "\n",
    "        fold_num += 1\n",
    "\n",
    "    print(f\"\\nBest Test accuracy: {best_test_acc:.4f} from model: {best_model_path}\")\n",
    "\n",
    "    return results, best_model_path"
   ]
  },
  {
   "cell_type": "markdown",
   "id": "78fa1da5-e84b-4ff2-a9bf-bd7d6c7efd15",
   "metadata": {},
   "source": [
    "### Train CNN"
   ]
  },
  {
   "cell_type": "code",
   "execution_count": 19,
   "id": "5d471e7b-8573-426d-a556-8703cc239ac7",
   "metadata": {
    "scrolled": true
   },
   "outputs": [
    {
     "name": "stdout",
     "output_type": "stream",
     "text": [
      "\n",
      "Training fold 1 / 5 for CNN\n"
     ]
    },
    {
     "data": {
      "text/html": [
       "<pre style=\"white-space:pre;overflow-x:auto;line-height:normal;font-family:Menlo,'DejaVu Sans Mono',consolas,'Courier New',monospace\"><span style=\"font-weight: bold\">Model: \"CNN\"</span>\n",
       "</pre>\n"
      ],
      "text/plain": [
       "\u001b[1mModel: \"CNN\"\u001b[0m\n"
      ]
     },
     "metadata": {},
     "output_type": "display_data"
    },
    {
     "data": {
      "text/html": [
       "<pre style=\"white-space:pre;overflow-x:auto;line-height:normal;font-family:Menlo,'DejaVu Sans Mono',consolas,'Courier New',monospace\">┏━━━━━━━━━━━━━━━━━━━━━━━━━━━━━━━━━━━━━━┳━━━━━━━━━━━━━━━━━━━━━━━━━━━━━┳━━━━━━━━━━━━━━━━━┓\n",
       "┃<span style=\"font-weight: bold\"> Layer (type)                         </span>┃<span style=\"font-weight: bold\"> Output Shape                </span>┃<span style=\"font-weight: bold\">         Param # </span>┃\n",
       "┡━━━━━━━━━━━━━━━━━━━━━━━━━━━━━━━━━━━━━━╇━━━━━━━━━━━━━━━━━━━━━━━━━━━━━╇━━━━━━━━━━━━━━━━━┩\n",
       "│ input_layer (<span style=\"color: #0087ff; text-decoration-color: #0087ff\">InputLayer</span>)             │ (<span style=\"color: #00d7ff; text-decoration-color: #00d7ff\">None</span>, <span style=\"color: #00af00; text-decoration-color: #00af00\">30</span>, <span style=\"color: #00af00; text-decoration-color: #00af00\">225</span>)             │               <span style=\"color: #00af00; text-decoration-color: #00af00\">0</span> │\n",
       "├──────────────────────────────────────┼─────────────────────────────┼─────────────────┤\n",
       "│ conv1d (<span style=\"color: #0087ff; text-decoration-color: #0087ff\">Conv1D</span>)                      │ (<span style=\"color: #00d7ff; text-decoration-color: #00d7ff\">None</span>, <span style=\"color: #00af00; text-decoration-color: #00af00\">30</span>, <span style=\"color: #00af00; text-decoration-color: #00af00\">32</span>)              │          <span style=\"color: #00af00; text-decoration-color: #00af00\">21,632</span> │\n",
       "├──────────────────────────────────────┼─────────────────────────────┼─────────────────┤\n",
       "│ batch_normalization                  │ (<span style=\"color: #00d7ff; text-decoration-color: #00d7ff\">None</span>, <span style=\"color: #00af00; text-decoration-color: #00af00\">30</span>, <span style=\"color: #00af00; text-decoration-color: #00af00\">32</span>)              │             <span style=\"color: #00af00; text-decoration-color: #00af00\">128</span> │\n",
       "│ (<span style=\"color: #0087ff; text-decoration-color: #0087ff\">BatchNormalization</span>)                 │                             │                 │\n",
       "├──────────────────────────────────────┼─────────────────────────────┼─────────────────┤\n",
       "│ activation (<span style=\"color: #0087ff; text-decoration-color: #0087ff\">Activation</span>)              │ (<span style=\"color: #00d7ff; text-decoration-color: #00d7ff\">None</span>, <span style=\"color: #00af00; text-decoration-color: #00af00\">30</span>, <span style=\"color: #00af00; text-decoration-color: #00af00\">32</span>)              │               <span style=\"color: #00af00; text-decoration-color: #00af00\">0</span> │\n",
       "├──────────────────────────────────────┼─────────────────────────────┼─────────────────┤\n",
       "│ max_pooling1d (<span style=\"color: #0087ff; text-decoration-color: #0087ff\">MaxPooling1D</span>)         │ (<span style=\"color: #00d7ff; text-decoration-color: #00d7ff\">None</span>, <span style=\"color: #00af00; text-decoration-color: #00af00\">15</span>, <span style=\"color: #00af00; text-decoration-color: #00af00\">32</span>)              │               <span style=\"color: #00af00; text-decoration-color: #00af00\">0</span> │\n",
       "├──────────────────────────────────────┼─────────────────────────────┼─────────────────┤\n",
       "│ flatten (<span style=\"color: #0087ff; text-decoration-color: #0087ff\">Flatten</span>)                    │ (<span style=\"color: #00d7ff; text-decoration-color: #00d7ff\">None</span>, <span style=\"color: #00af00; text-decoration-color: #00af00\">480</span>)                 │               <span style=\"color: #00af00; text-decoration-color: #00af00\">0</span> │\n",
       "├──────────────────────────────────────┼─────────────────────────────┼─────────────────┤\n",
       "│ dense (<span style=\"color: #0087ff; text-decoration-color: #0087ff\">Dense</span>)                        │ (<span style=\"color: #00d7ff; text-decoration-color: #00d7ff\">None</span>, <span style=\"color: #00af00; text-decoration-color: #00af00\">128</span>)                 │          <span style=\"color: #00af00; text-decoration-color: #00af00\">61,568</span> │\n",
       "├──────────────────────────────────────┼─────────────────────────────┼─────────────────┤\n",
       "│ dropout (<span style=\"color: #0087ff; text-decoration-color: #0087ff\">Dropout</span>)                    │ (<span style=\"color: #00d7ff; text-decoration-color: #00d7ff\">None</span>, <span style=\"color: #00af00; text-decoration-color: #00af00\">128</span>)                 │               <span style=\"color: #00af00; text-decoration-color: #00af00\">0</span> │\n",
       "├──────────────────────────────────────┼─────────────────────────────┼─────────────────┤\n",
       "│ dense_1 (<span style=\"color: #0087ff; text-decoration-color: #0087ff\">Dense</span>)                      │ (<span style=\"color: #00d7ff; text-decoration-color: #00d7ff\">None</span>, <span style=\"color: #00af00; text-decoration-color: #00af00\">502</span>)                 │          <span style=\"color: #00af00; text-decoration-color: #00af00\">64,758</span> │\n",
       "└──────────────────────────────────────┴─────────────────────────────┴─────────────────┘\n",
       "</pre>\n"
      ],
      "text/plain": [
       "┏━━━━━━━━━━━━━━━━━━━━━━━━━━━━━━━━━━━━━━┳━━━━━━━━━━━━━━━━━━━━━━━━━━━━━┳━━━━━━━━━━━━━━━━━┓\n",
       "┃\u001b[1m \u001b[0m\u001b[1mLayer (type)                        \u001b[0m\u001b[1m \u001b[0m┃\u001b[1m \u001b[0m\u001b[1mOutput Shape               \u001b[0m\u001b[1m \u001b[0m┃\u001b[1m \u001b[0m\u001b[1m        Param #\u001b[0m\u001b[1m \u001b[0m┃\n",
       "┡━━━━━━━━━━━━━━━━━━━━━━━━━━━━━━━━━━━━━━╇━━━━━━━━━━━━━━━━━━━━━━━━━━━━━╇━━━━━━━━━━━━━━━━━┩\n",
       "│ input_layer (\u001b[38;5;33mInputLayer\u001b[0m)             │ (\u001b[38;5;45mNone\u001b[0m, \u001b[38;5;34m30\u001b[0m, \u001b[38;5;34m225\u001b[0m)             │               \u001b[38;5;34m0\u001b[0m │\n",
       "├──────────────────────────────────────┼─────────────────────────────┼─────────────────┤\n",
       "│ conv1d (\u001b[38;5;33mConv1D\u001b[0m)                      │ (\u001b[38;5;45mNone\u001b[0m, \u001b[38;5;34m30\u001b[0m, \u001b[38;5;34m32\u001b[0m)              │          \u001b[38;5;34m21,632\u001b[0m │\n",
       "├──────────────────────────────────────┼─────────────────────────────┼─────────────────┤\n",
       "│ batch_normalization                  │ (\u001b[38;5;45mNone\u001b[0m, \u001b[38;5;34m30\u001b[0m, \u001b[38;5;34m32\u001b[0m)              │             \u001b[38;5;34m128\u001b[0m │\n",
       "│ (\u001b[38;5;33mBatchNormalization\u001b[0m)                 │                             │                 │\n",
       "├──────────────────────────────────────┼─────────────────────────────┼─────────────────┤\n",
       "│ activation (\u001b[38;5;33mActivation\u001b[0m)              │ (\u001b[38;5;45mNone\u001b[0m, \u001b[38;5;34m30\u001b[0m, \u001b[38;5;34m32\u001b[0m)              │               \u001b[38;5;34m0\u001b[0m │\n",
       "├──────────────────────────────────────┼─────────────────────────────┼─────────────────┤\n",
       "│ max_pooling1d (\u001b[38;5;33mMaxPooling1D\u001b[0m)         │ (\u001b[38;5;45mNone\u001b[0m, \u001b[38;5;34m15\u001b[0m, \u001b[38;5;34m32\u001b[0m)              │               \u001b[38;5;34m0\u001b[0m │\n",
       "├──────────────────────────────────────┼─────────────────────────────┼─────────────────┤\n",
       "│ flatten (\u001b[38;5;33mFlatten\u001b[0m)                    │ (\u001b[38;5;45mNone\u001b[0m, \u001b[38;5;34m480\u001b[0m)                 │               \u001b[38;5;34m0\u001b[0m │\n",
       "├──────────────────────────────────────┼─────────────────────────────┼─────────────────┤\n",
       "│ dense (\u001b[38;5;33mDense\u001b[0m)                        │ (\u001b[38;5;45mNone\u001b[0m, \u001b[38;5;34m128\u001b[0m)                 │          \u001b[38;5;34m61,568\u001b[0m │\n",
       "├──────────────────────────────────────┼─────────────────────────────┼─────────────────┤\n",
       "│ dropout (\u001b[38;5;33mDropout\u001b[0m)                    │ (\u001b[38;5;45mNone\u001b[0m, \u001b[38;5;34m128\u001b[0m)                 │               \u001b[38;5;34m0\u001b[0m │\n",
       "├──────────────────────────────────────┼─────────────────────────────┼─────────────────┤\n",
       "│ dense_1 (\u001b[38;5;33mDense\u001b[0m)                      │ (\u001b[38;5;45mNone\u001b[0m, \u001b[38;5;34m502\u001b[0m)                 │          \u001b[38;5;34m64,758\u001b[0m │\n",
       "└──────────────────────────────────────┴─────────────────────────────┴─────────────────┘\n"
      ]
     },
     "metadata": {},
     "output_type": "display_data"
    },
    {
     "data": {
      "text/html": [
       "<pre style=\"white-space:pre;overflow-x:auto;line-height:normal;font-family:Menlo,'DejaVu Sans Mono',consolas,'Courier New',monospace\"><span style=\"font-weight: bold\"> Total params: </span><span style=\"color: #00af00; text-decoration-color: #00af00\">148,086</span> (578.46 KB)\n",
       "</pre>\n"
      ],
      "text/plain": [
       "\u001b[1m Total params: \u001b[0m\u001b[38;5;34m148,086\u001b[0m (578.46 KB)\n"
      ]
     },
     "metadata": {},
     "output_type": "display_data"
    },
    {
     "data": {
      "text/html": [
       "<pre style=\"white-space:pre;overflow-x:auto;line-height:normal;font-family:Menlo,'DejaVu Sans Mono',consolas,'Courier New',monospace\"><span style=\"font-weight: bold\"> Trainable params: </span><span style=\"color: #00af00; text-decoration-color: #00af00\">148,022</span> (578.21 KB)\n",
       "</pre>\n"
      ],
      "text/plain": [
       "\u001b[1m Trainable params: \u001b[0m\u001b[38;5;34m148,022\u001b[0m (578.21 KB)\n"
      ]
     },
     "metadata": {},
     "output_type": "display_data"
    },
    {
     "data": {
      "text/html": [
       "<pre style=\"white-space:pre;overflow-x:auto;line-height:normal;font-family:Menlo,'DejaVu Sans Mono',consolas,'Courier New',monospace\"><span style=\"font-weight: bold\"> Non-trainable params: </span><span style=\"color: #00af00; text-decoration-color: #00af00\">64</span> (256.00 B)\n",
       "</pre>\n"
      ],
      "text/plain": [
       "\u001b[1m Non-trainable params: \u001b[0m\u001b[38;5;34m64\u001b[0m (256.00 B)\n"
      ]
     },
     "metadata": {},
     "output_type": "display_data"
    },
    {
     "name": "stdout",
     "output_type": "stream",
     "text": [
      "Epoch 1/12\n",
      "\n",
      "Epoch 1: val_accuracy improved from -inf to 0.61140, saving model to CNN_fold1.h5\n"
     ]
    },
    {
     "name": "stderr",
     "output_type": "stream",
     "text": [
      "WARNING:absl:You are saving your model as an HDF5 file via `model.save()` or `keras.saving.save_model(model)`. This file format is considered legacy. We recommend using instead the native Keras format, e.g. `model.save('my_model.keras')` or `keras.saving.save_model(model, 'my_model.keras')`. \n"
     ]
    },
    {
     "name": "stdout",
     "output_type": "stream",
     "text": [
      "1464/1464 - 7s - 5ms/step - accuracy: 0.4857 - loss: 2.2267 - val_accuracy: 0.6114 - val_loss: 1.4491\n",
      "Epoch 2/12\n",
      "\n",
      "Epoch 2: val_accuracy improved from 0.61140 to 0.80617, saving model to CNN_fold1.h5\n"
     ]
    },
    {
     "name": "stderr",
     "output_type": "stream",
     "text": [
      "WARNING:absl:You are saving your model as an HDF5 file via `model.save()` or `keras.saving.save_model(model)`. This file format is considered legacy. We recommend using instead the native Keras format, e.g. `model.save('my_model.keras')` or `keras.saving.save_model(model, 'my_model.keras')`. \n"
     ]
    },
    {
     "name": "stdout",
     "output_type": "stream",
     "text": [
      "1464/1464 - 5s - 3ms/step - accuracy: 0.7978 - loss: 0.6873 - val_accuracy: 0.8062 - val_loss: 0.6558\n",
      "Epoch 3/12\n",
      "\n",
      "Epoch 3: val_accuracy did not improve from 0.80617\n",
      "1464/1464 - 5s - 3ms/step - accuracy: 0.8538 - loss: 0.4796 - val_accuracy: 0.7754 - val_loss: 0.7977\n",
      "Epoch 4/12\n",
      "\n",
      "Epoch 4: val_accuracy improved from 0.80617 to 0.81360, saving model to CNN_fold1.h5\n"
     ]
    },
    {
     "name": "stderr",
     "output_type": "stream",
     "text": [
      "WARNING:absl:You are saving your model as an HDF5 file via `model.save()` or `keras.saving.save_model(model)`. This file format is considered legacy. We recommend using instead the native Keras format, e.g. `model.save('my_model.keras')` or `keras.saving.save_model(model, 'my_model.keras')`. \n"
     ]
    },
    {
     "name": "stdout",
     "output_type": "stream",
     "text": [
      "1464/1464 - 5s - 3ms/step - accuracy: 0.8811 - loss: 0.3836 - val_accuracy: 0.8136 - val_loss: 0.6752\n",
      "Epoch 5/12\n",
      "\n",
      "Epoch 5: val_accuracy improved from 0.81360 to 0.82385, saving model to CNN_fold1.h5\n"
     ]
    },
    {
     "name": "stderr",
     "output_type": "stream",
     "text": [
      "WARNING:absl:You are saving your model as an HDF5 file via `model.save()` or `keras.saving.save_model(model)`. This file format is considered legacy. We recommend using instead the native Keras format, e.g. `model.save('my_model.keras')` or `keras.saving.save_model(model, 'my_model.keras')`. \n"
     ]
    },
    {
     "name": "stdout",
     "output_type": "stream",
     "text": [
      "1464/1464 - 5s - 3ms/step - accuracy: 0.8956 - loss: 0.3412 - val_accuracy: 0.8239 - val_loss: 0.6375\n",
      "Epoch 6/12\n",
      "\n",
      "Epoch 6: val_accuracy improved from 0.82385 to 0.87929, saving model to CNN_fold1.h5\n"
     ]
    },
    {
     "name": "stderr",
     "output_type": "stream",
     "text": [
      "WARNING:absl:You are saving your model as an HDF5 file via `model.save()` or `keras.saving.save_model(model)`. This file format is considered legacy. We recommend using instead the native Keras format, e.g. `model.save('my_model.keras')` or `keras.saving.save_model(model, 'my_model.keras')`. \n"
     ]
    },
    {
     "name": "stdout",
     "output_type": "stream",
     "text": [
      "1464/1464 - 5s - 3ms/step - accuracy: 0.9066 - loss: 0.3064 - val_accuracy: 0.8793 - val_loss: 0.4313\n",
      "Epoch 7/12\n",
      "\n",
      "Epoch 7: val_accuracy improved from 0.87929 to 0.92628, saving model to CNN_fold1.h5\n"
     ]
    },
    {
     "name": "stderr",
     "output_type": "stream",
     "text": [
      "WARNING:absl:You are saving your model as an HDF5 file via `model.save()` or `keras.saving.save_model(model)`. This file format is considered legacy. We recommend using instead the native Keras format, e.g. `model.save('my_model.keras')` or `keras.saving.save_model(model, 'my_model.keras')`. \n"
     ]
    },
    {
     "name": "stdout",
     "output_type": "stream",
     "text": [
      "1464/1464 - 5s - 3ms/step - accuracy: 0.9134 - loss: 0.2810 - val_accuracy: 0.9263 - val_loss: 0.2456\n",
      "Epoch 8/12\n",
      "\n",
      "Epoch 8: val_accuracy did not improve from 0.92628\n",
      "1464/1464 - 5s - 3ms/step - accuracy: 0.9172 - loss: 0.2683 - val_accuracy: 0.8983 - val_loss: 0.3560\n",
      "Epoch 9/12\n",
      "\n",
      "Epoch 9: val_accuracy did not improve from 0.92628\n",
      "1464/1464 - 5s - 3ms/step - accuracy: 0.9262 - loss: 0.2351 - val_accuracy: 0.7324 - val_loss: 1.3222\n",
      "Epoch 10/12\n",
      "\n",
      "Epoch 10: val_accuracy did not improve from 0.92628\n",
      "1464/1464 - 5s - 3ms/step - accuracy: 0.9278 - loss: 0.2322 - val_accuracy: 0.8926 - val_loss: 0.3839\n",
      "Fold 1 results: train_acc=0.9434, val_acc=0.9263, test_acc=0.9303\n",
      "\n",
      "Training fold 2 / 5 for CNN\n",
      "Epoch 1/12\n",
      "\n",
      "Epoch 1: val_accuracy improved from -inf to 0.67777, saving model to CNN_fold2.h5\n"
     ]
    },
    {
     "name": "stderr",
     "output_type": "stream",
     "text": [
      "WARNING:absl:You are saving your model as an HDF5 file via `model.save()` or `keras.saving.save_model(model)`. This file format is considered legacy. We recommend using instead the native Keras format, e.g. `model.save('my_model.keras')` or `keras.saving.save_model(model, 'my_model.keras')`. \n"
     ]
    },
    {
     "name": "stdout",
     "output_type": "stream",
     "text": [
      "1464/1464 - 6s - 4ms/step - accuracy: 0.4892 - loss: 2.2325 - val_accuracy: 0.6778 - val_loss: 1.1278\n",
      "Epoch 2/12\n",
      "\n",
      "Epoch 2: val_accuracy improved from 0.67777 to 0.73757, saving model to CNN_fold2.h5\n"
     ]
    },
    {
     "name": "stderr",
     "output_type": "stream",
     "text": [
      "WARNING:absl:You are saving your model as an HDF5 file via `model.save()` or `keras.saving.save_model(model)`. This file format is considered legacy. We recommend using instead the native Keras format, e.g. `model.save('my_model.keras')` or `keras.saving.save_model(model, 'my_model.keras')`. \n"
     ]
    },
    {
     "name": "stdout",
     "output_type": "stream",
     "text": [
      "1464/1464 - 4s - 3ms/step - accuracy: 0.7964 - loss: 0.6883 - val_accuracy: 0.7376 - val_loss: 0.9089\n",
      "Epoch 3/12\n",
      "\n",
      "Epoch 3: val_accuracy improved from 0.73757 to 0.80514, saving model to CNN_fold2.h5\n"
     ]
    },
    {
     "name": "stderr",
     "output_type": "stream",
     "text": [
      "WARNING:absl:You are saving your model as an HDF5 file via `model.save()` or `keras.saving.save_model(model)`. This file format is considered legacy. We recommend using instead the native Keras format, e.g. `model.save('my_model.keras')` or `keras.saving.save_model(model, 'my_model.keras')`. \n"
     ]
    },
    {
     "name": "stdout",
     "output_type": "stream",
     "text": [
      "1464/1464 - 5s - 3ms/step - accuracy: 0.8527 - loss: 0.4866 - val_accuracy: 0.8051 - val_loss: 0.6703\n",
      "Epoch 4/12\n",
      "\n",
      "Epoch 4: val_accuracy improved from 0.80514 to 0.85264, saving model to CNN_fold2.h5\n"
     ]
    },
    {
     "name": "stderr",
     "output_type": "stream",
     "text": [
      "WARNING:absl:You are saving your model as an HDF5 file via `model.save()` or `keras.saving.save_model(model)`. This file format is considered legacy. We recommend using instead the native Keras format, e.g. `model.save('my_model.keras')` or `keras.saving.save_model(model, 'my_model.keras')`. \n"
     ]
    },
    {
     "name": "stdout",
     "output_type": "stream",
     "text": [
      "1464/1464 - 4s - 3ms/step - accuracy: 0.8785 - loss: 0.3984 - val_accuracy: 0.8526 - val_loss: 0.4989\n",
      "Epoch 5/12\n",
      "\n",
      "Epoch 5: val_accuracy improved from 0.85264 to 0.88784, saving model to CNN_fold2.h5\n"
     ]
    },
    {
     "name": "stderr",
     "output_type": "stream",
     "text": [
      "WARNING:absl:You are saving your model as an HDF5 file via `model.save()` or `keras.saving.save_model(model)`. This file format is considered legacy. We recommend using instead the native Keras format, e.g. `model.save('my_model.keras')` or `keras.saving.save_model(model, 'my_model.keras')`. \n"
     ]
    },
    {
     "name": "stdout",
     "output_type": "stream",
     "text": [
      "1464/1464 - 5s - 3ms/step - accuracy: 0.8948 - loss: 0.3457 - val_accuracy: 0.8878 - val_loss: 0.3779\n",
      "Epoch 6/12\n",
      "\n",
      "Epoch 6: val_accuracy improved from 0.88784 to 0.90663, saving model to CNN_fold2.h5\n"
     ]
    },
    {
     "name": "stderr",
     "output_type": "stream",
     "text": [
      "WARNING:absl:You are saving your model as an HDF5 file via `model.save()` or `keras.saving.save_model(model)`. This file format is considered legacy. We recommend using instead the native Keras format, e.g. `model.save('my_model.keras')` or `keras.saving.save_model(model, 'my_model.keras')`. \n"
     ]
    },
    {
     "name": "stdout",
     "output_type": "stream",
     "text": [
      "1464/1464 - 4s - 3ms/step - accuracy: 0.9021 - loss: 0.3110 - val_accuracy: 0.9066 - val_loss: 0.2961\n",
      "Epoch 7/12\n",
      "\n",
      "Epoch 7: val_accuracy did not improve from 0.90663\n",
      "1464/1464 - 5s - 3ms/step - accuracy: 0.9110 - loss: 0.2856 - val_accuracy: 0.8736 - val_loss: 0.4174\n",
      "Epoch 8/12\n",
      "\n",
      "Epoch 8: val_accuracy did not improve from 0.90663\n",
      "1464/1464 - 4s - 3ms/step - accuracy: 0.9171 - loss: 0.2688 - val_accuracy: 0.8301 - val_loss: 0.6303\n",
      "Epoch 9/12\n",
      "\n",
      "Epoch 9: val_accuracy did not improve from 0.90663\n",
      "1464/1464 - 5s - 3ms/step - accuracy: 0.9206 - loss: 0.2517 - val_accuracy: 0.8285 - val_loss: 0.6460\n",
      "Fold 2 results: train_acc=0.9260, val_acc=0.9066, test_acc=0.9077\n",
      "\n",
      "Training fold 3 / 5 for CNN\n",
      "Epoch 1/12\n",
      "\n",
      "Epoch 1: val_accuracy improved from -inf to 0.64941, saving model to CNN_fold3.h5\n"
     ]
    },
    {
     "name": "stderr",
     "output_type": "stream",
     "text": [
      "WARNING:absl:You are saving your model as an HDF5 file via `model.save()` or `keras.saving.save_model(model)`. This file format is considered legacy. We recommend using instead the native Keras format, e.g. `model.save('my_model.keras')` or `keras.saving.save_model(model, 'my_model.keras')`. \n"
     ]
    },
    {
     "name": "stdout",
     "output_type": "stream",
     "text": [
      "1464/1464 - 6s - 4ms/step - accuracy: 0.4839 - loss: 2.2166 - val_accuracy: 0.6494 - val_loss: 1.2667\n",
      "Epoch 2/12\n",
      "\n",
      "Epoch 2: val_accuracy improved from 0.64941 to 0.77499, saving model to CNN_fold3.h5\n"
     ]
    },
    {
     "name": "stderr",
     "output_type": "stream",
     "text": [
      "WARNING:absl:You are saving your model as an HDF5 file via `model.save()` or `keras.saving.save_model(model)`. This file format is considered legacy. We recommend using instead the native Keras format, e.g. `model.save('my_model.keras')` or `keras.saving.save_model(model, 'my_model.keras')`. \n"
     ]
    },
    {
     "name": "stdout",
     "output_type": "stream",
     "text": [
      "1464/1464 - 5s - 3ms/step - accuracy: 0.7967 - loss: 0.6838 - val_accuracy: 0.7750 - val_loss: 0.7593\n",
      "Epoch 3/12\n",
      "\n",
      "Epoch 3: val_accuracy improved from 0.77499 to 0.78404, saving model to CNN_fold3.h5\n"
     ]
    },
    {
     "name": "stderr",
     "output_type": "stream",
     "text": [
      "WARNING:absl:You are saving your model as an HDF5 file via `model.save()` or `keras.saving.save_model(model)`. This file format is considered legacy. We recommend using instead the native Keras format, e.g. `model.save('my_model.keras')` or `keras.saving.save_model(model, 'my_model.keras')`. \n"
     ]
    },
    {
     "name": "stdout",
     "output_type": "stream",
     "text": [
      "1464/1464 - 5s - 3ms/step - accuracy: 0.8540 - loss: 0.4716 - val_accuracy: 0.7840 - val_loss: 0.7971\n",
      "Epoch 4/12\n",
      "\n",
      "Epoch 4: val_accuracy improved from 0.78404 to 0.89083, saving model to CNN_fold3.h5\n"
     ]
    },
    {
     "name": "stderr",
     "output_type": "stream",
     "text": [
      "WARNING:absl:You are saving your model as an HDF5 file via `model.save()` or `keras.saving.save_model(model)`. This file format is considered legacy. We recommend using instead the native Keras format, e.g. `model.save('my_model.keras')` or `keras.saving.save_model(model, 'my_model.keras')`. \n"
     ]
    },
    {
     "name": "stdout",
     "output_type": "stream",
     "text": [
      "1464/1464 - 5s - 3ms/step - accuracy: 0.8821 - loss: 0.3851 - val_accuracy: 0.8908 - val_loss: 0.3665\n",
      "Epoch 5/12\n",
      "\n",
      "Epoch 5: val_accuracy did not improve from 0.89083\n",
      "1464/1464 - 5s - 3ms/step - accuracy: 0.8955 - loss: 0.3367 - val_accuracy: 0.6598 - val_loss: 1.4505\n",
      "Epoch 6/12\n",
      "\n",
      "Epoch 6: val_accuracy did not improve from 0.89083\n",
      "1464/1464 - 5s - 3ms/step - accuracy: 0.9031 - loss: 0.3102 - val_accuracy: 0.8696 - val_loss: 0.4624\n",
      "Epoch 7/12\n",
      "\n",
      "Epoch 7: val_accuracy improved from 0.89083 to 0.90142, saving model to CNN_fold3.h5\n"
     ]
    },
    {
     "name": "stderr",
     "output_type": "stream",
     "text": [
      "WARNING:absl:You are saving your model as an HDF5 file via `model.save()` or `keras.saving.save_model(model)`. This file format is considered legacy. We recommend using instead the native Keras format, e.g. `model.save('my_model.keras')` or `keras.saving.save_model(model, 'my_model.keras')`. \n"
     ]
    },
    {
     "name": "stdout",
     "output_type": "stream",
     "text": [
      "1464/1464 - 5s - 3ms/step - accuracy: 0.9132 - loss: 0.2782 - val_accuracy: 0.9014 - val_loss: 0.3449\n",
      "Epoch 8/12\n",
      "\n",
      "Epoch 8: val_accuracy improved from 0.90142 to 0.91184, saving model to CNN_fold3.h5\n"
     ]
    },
    {
     "name": "stderr",
     "output_type": "stream",
     "text": [
      "WARNING:absl:You are saving your model as an HDF5 file via `model.save()` or `keras.saving.save_model(model)`. This file format is considered legacy. We recommend using instead the native Keras format, e.g. `model.save('my_model.keras')` or `keras.saving.save_model(model, 'my_model.keras')`. \n"
     ]
    },
    {
     "name": "stdout",
     "output_type": "stream",
     "text": [
      "1464/1464 - 5s - 3ms/step - accuracy: 0.9197 - loss: 0.2586 - val_accuracy: 0.9118 - val_loss: 0.3008\n",
      "Epoch 9/12\n",
      "\n",
      "Epoch 9: val_accuracy did not improve from 0.91184\n",
      "1464/1464 - 5s - 3ms/step - accuracy: 0.9251 - loss: 0.2403 - val_accuracy: 0.8880 - val_loss: 0.3979\n",
      "Epoch 10/12\n",
      "\n",
      "Epoch 10: val_accuracy did not improve from 0.91184\n",
      "1464/1464 - 5s - 3ms/step - accuracy: 0.9298 - loss: 0.2266 - val_accuracy: 0.7654 - val_loss: 0.9203\n",
      "Epoch 11/12\n",
      "\n",
      "Epoch 11: val_accuracy improved from 0.91184 to 0.91500, saving model to CNN_fold3.h5\n"
     ]
    },
    {
     "name": "stderr",
     "output_type": "stream",
     "text": [
      "WARNING:absl:You are saving your model as an HDF5 file via `model.save()` or `keras.saving.save_model(model)`. This file format is considered legacy. We recommend using instead the native Keras format, e.g. `model.save('my_model.keras')` or `keras.saving.save_model(model, 'my_model.keras')`. \n"
     ]
    },
    {
     "name": "stdout",
     "output_type": "stream",
     "text": [
      "1464/1464 - 5s - 3ms/step - accuracy: 0.9336 - loss: 0.2140 - val_accuracy: 0.9150 - val_loss: 0.3327\n",
      "Epoch 12/12\n",
      "\n",
      "Epoch 12: val_accuracy improved from 0.91500 to 0.91560, saving model to CNN_fold3.h5\n"
     ]
    },
    {
     "name": "stderr",
     "output_type": "stream",
     "text": [
      "WARNING:absl:You are saving your model as an HDF5 file via `model.save()` or `keras.saving.save_model(model)`. This file format is considered legacy. We recommend using instead the native Keras format, e.g. `model.save('my_model.keras')` or `keras.saving.save_model(model, 'my_model.keras')`. \n"
     ]
    },
    {
     "name": "stdout",
     "output_type": "stream",
     "text": [
      "1464/1464 - 5s - 3ms/step - accuracy: 0.9343 - loss: 0.2022 - val_accuracy: 0.9156 - val_loss: 0.2954\n",
      "Fold 3 results: train_acc=0.9327, val_acc=0.9156, test_acc=0.9133\n",
      "\n",
      "Training fold 4 / 5 for CNN\n",
      "Epoch 1/12\n",
      "\n",
      "Epoch 1: val_accuracy improved from -inf to 0.66709, saving model to CNN_fold4.h5\n"
     ]
    },
    {
     "name": "stderr",
     "output_type": "stream",
     "text": [
      "WARNING:absl:You are saving your model as an HDF5 file via `model.save()` or `keras.saving.save_model(model)`. This file format is considered legacy. We recommend using instead the native Keras format, e.g. `model.save('my_model.keras')` or `keras.saving.save_model(model, 'my_model.keras')`. \n"
     ]
    },
    {
     "name": "stdout",
     "output_type": "stream",
     "text": [
      "1464/1464 - 6s - 4ms/step - accuracy: 0.4836 - loss: 2.2318 - val_accuracy: 0.6671 - val_loss: 1.1466\n",
      "Epoch 2/12\n",
      "\n",
      "Epoch 2: val_accuracy improved from 0.66709 to 0.84717, saving model to CNN_fold4.h5\n"
     ]
    },
    {
     "name": "stderr",
     "output_type": "stream",
     "text": [
      "WARNING:absl:You are saving your model as an HDF5 file via `model.save()` or `keras.saving.save_model(model)`. This file format is considered legacy. We recommend using instead the native Keras format, e.g. `model.save('my_model.keras')` or `keras.saving.save_model(model, 'my_model.keras')`. \n"
     ]
    },
    {
     "name": "stdout",
     "output_type": "stream",
     "text": [
      "1464/1464 - 5s - 3ms/step - accuracy: 0.8008 - loss: 0.6707 - val_accuracy: 0.8472 - val_loss: 0.5165\n",
      "Epoch 3/12\n",
      "\n",
      "Epoch 3: val_accuracy did not improve from 0.84717\n",
      "1464/1464 - 5s - 3ms/step - accuracy: 0.8580 - loss: 0.4674 - val_accuracy: 0.7365 - val_loss: 0.9845\n",
      "Epoch 4/12\n",
      "\n",
      "Epoch 4: val_accuracy did not improve from 0.84717\n",
      "1464/1464 - 5s - 3ms/step - accuracy: 0.8822 - loss: 0.3828 - val_accuracy: 0.7336 - val_loss: 1.0568\n",
      "Epoch 5/12\n",
      "\n",
      "Epoch 5: val_accuracy improved from 0.84717 to 0.90825, saving model to CNN_fold4.h5\n"
     ]
    },
    {
     "name": "stderr",
     "output_type": "stream",
     "text": [
      "WARNING:absl:You are saving your model as an HDF5 file via `model.save()` or `keras.saving.save_model(model)`. This file format is considered legacy. We recommend using instead the native Keras format, e.g. `model.save('my_model.keras')` or `keras.saving.save_model(model, 'my_model.keras')`. \n"
     ]
    },
    {
     "name": "stdout",
     "output_type": "stream",
     "text": [
      "1464/1464 - 5s - 3ms/step - accuracy: 0.8971 - loss: 0.3332 - val_accuracy: 0.9083 - val_loss: 0.3027\n",
      "Epoch 6/12\n",
      "\n",
      "Epoch 6: val_accuracy did not improve from 0.90825\n",
      "1464/1464 - 5s - 3ms/step - accuracy: 0.9059 - loss: 0.3068 - val_accuracy: 0.8745 - val_loss: 0.4199\n",
      "Epoch 7/12\n",
      "\n",
      "Epoch 7: val_accuracy improved from 0.90825 to 0.91355, saving model to CNN_fold4.h5\n"
     ]
    },
    {
     "name": "stderr",
     "output_type": "stream",
     "text": [
      "WARNING:absl:You are saving your model as an HDF5 file via `model.save()` or `keras.saving.save_model(model)`. This file format is considered legacy. We recommend using instead the native Keras format, e.g. `model.save('my_model.keras')` or `keras.saving.save_model(model, 'my_model.keras')`. \n"
     ]
    },
    {
     "name": "stdout",
     "output_type": "stream",
     "text": [
      "1464/1464 - 5s - 3ms/step - accuracy: 0.9129 - loss: 0.2821 - val_accuracy: 0.9135 - val_loss: 0.2836\n",
      "Epoch 8/12\n",
      "\n",
      "Epoch 8: val_accuracy improved from 0.91355 to 0.91885, saving model to CNN_fold4.h5\n"
     ]
    },
    {
     "name": "stderr",
     "output_type": "stream",
     "text": [
      "WARNING:absl:You are saving your model as an HDF5 file via `model.save()` or `keras.saving.save_model(model)`. This file format is considered legacy. We recommend using instead the native Keras format, e.g. `model.save('my_model.keras')` or `keras.saving.save_model(model, 'my_model.keras')`. \n"
     ]
    },
    {
     "name": "stdout",
     "output_type": "stream",
     "text": [
      "1464/1464 - 5s - 3ms/step - accuracy: 0.9204 - loss: 0.2533 - val_accuracy: 0.9188 - val_loss: 0.2728\n",
      "Epoch 9/12\n",
      "\n",
      "Epoch 9: val_accuracy did not improve from 0.91885\n",
      "1464/1464 - 5s - 3ms/step - accuracy: 0.9232 - loss: 0.2445 - val_accuracy: 0.8314 - val_loss: 0.6707\n",
      "Epoch 10/12\n",
      "\n",
      "Epoch 10: val_accuracy did not improve from 0.91885\n",
      "1464/1464 - 5s - 3ms/step - accuracy: 0.9284 - loss: 0.2277 - val_accuracy: 0.8959 - val_loss: 0.3643\n",
      "Epoch 11/12\n",
      "\n",
      "Epoch 11: val_accuracy did not improve from 0.91885\n",
      "1464/1464 - 5s - 3ms/step - accuracy: 0.9327 - loss: 0.2169 - val_accuracy: 0.8944 - val_loss: 0.3950\n",
      "Fold 4 results: train_acc=0.9327, val_acc=0.9188, test_acc=0.9195\n",
      "\n",
      "Training fold 5 / 5 for CNN\n",
      "Epoch 1/12\n",
      "\n",
      "Epoch 1: val_accuracy improved from -inf to 0.73738, saving model to CNN_fold5.h5\n"
     ]
    },
    {
     "name": "stderr",
     "output_type": "stream",
     "text": [
      "WARNING:absl:You are saving your model as an HDF5 file via `model.save()` or `keras.saving.save_model(model)`. This file format is considered legacy. We recommend using instead the native Keras format, e.g. `model.save('my_model.keras')` or `keras.saving.save_model(model, 'my_model.keras')`. \n"
     ]
    },
    {
     "name": "stdout",
     "output_type": "stream",
     "text": [
      "1464/1464 - 7s - 5ms/step - accuracy: 0.4865 - loss: 2.2166 - val_accuracy: 0.7374 - val_loss: 0.9306\n",
      "Epoch 2/12\n",
      "\n",
      "Epoch 2: val_accuracy did not improve from 0.73738\n",
      "1464/1464 - 5s - 4ms/step - accuracy: 0.8019 - loss: 0.6720 - val_accuracy: 0.6718 - val_loss: 1.2098\n",
      "Epoch 3/12\n",
      "\n",
      "Epoch 3: val_accuracy improved from 0.73738 to 0.77710, saving model to CNN_fold5.h5\n"
     ]
    },
    {
     "name": "stderr",
     "output_type": "stream",
     "text": [
      "WARNING:absl:You are saving your model as an HDF5 file via `model.save()` or `keras.saving.save_model(model)`. This file format is considered legacy. We recommend using instead the native Keras format, e.g. `model.save('my_model.keras')` or `keras.saving.save_model(model, 'my_model.keras')`. \n"
     ]
    },
    {
     "name": "stdout",
     "output_type": "stream",
     "text": [
      "1464/1464 - 5s - 3ms/step - accuracy: 0.8568 - loss: 0.4764 - val_accuracy: 0.7771 - val_loss: 0.8121\n",
      "Epoch 4/12\n",
      "\n",
      "Epoch 4: val_accuracy improved from 0.77710 to 0.84870, saving model to CNN_fold5.h5\n"
     ]
    },
    {
     "name": "stderr",
     "output_type": "stream",
     "text": [
      "WARNING:absl:You are saving your model as an HDF5 file via `model.save()` or `keras.saving.save_model(model)`. This file format is considered legacy. We recommend using instead the native Keras format, e.g. `model.save('my_model.keras')` or `keras.saving.save_model(model, 'my_model.keras')`. \n"
     ]
    },
    {
     "name": "stdout",
     "output_type": "stream",
     "text": [
      "1464/1464 - 5s - 3ms/step - accuracy: 0.8794 - loss: 0.3894 - val_accuracy: 0.8487 - val_loss: 0.5154\n",
      "Epoch 5/12\n",
      "\n",
      "Epoch 5: val_accuracy did not improve from 0.84870\n",
      "1464/1464 - 5s - 3ms/step - accuracy: 0.8944 - loss: 0.3392 - val_accuracy: 0.8252 - val_loss: 0.6539\n",
      "Epoch 6/12\n",
      "\n",
      "Epoch 6: val_accuracy did not improve from 0.84870\n",
      "1464/1464 - 5s - 3ms/step - accuracy: 0.9037 - loss: 0.3140 - val_accuracy: 0.8242 - val_loss: 0.6137\n",
      "Epoch 7/12\n",
      "\n",
      "Epoch 7: val_accuracy improved from 0.84870 to 0.88791, saving model to CNN_fold5.h5\n"
     ]
    },
    {
     "name": "stderr",
     "output_type": "stream",
     "text": [
      "WARNING:absl:You are saving your model as an HDF5 file via `model.save()` or `keras.saving.save_model(model)`. This file format is considered legacy. We recommend using instead the native Keras format, e.g. `model.save('my_model.keras')` or `keras.saving.save_model(model, 'my_model.keras')`. \n"
     ]
    },
    {
     "name": "stdout",
     "output_type": "stream",
     "text": [
      "1464/1464 - 5s - 3ms/step - accuracy: 0.9141 - loss: 0.2756 - val_accuracy: 0.8879 - val_loss: 0.3972\n",
      "Epoch 8/12\n",
      "\n",
      "Epoch 8: val_accuracy improved from 0.88791 to 0.91132, saving model to CNN_fold5.h5\n"
     ]
    },
    {
     "name": "stderr",
     "output_type": "stream",
     "text": [
      "WARNING:absl:You are saving your model as an HDF5 file via `model.save()` or `keras.saving.save_model(model)`. This file format is considered legacy. We recommend using instead the native Keras format, e.g. `model.save('my_model.keras')` or `keras.saving.save_model(model, 'my_model.keras')`. \n"
     ]
    },
    {
     "name": "stdout",
     "output_type": "stream",
     "text": [
      "1464/1464 - 5s - 3ms/step - accuracy: 0.9192 - loss: 0.2603 - val_accuracy: 0.9113 - val_loss: 0.3069\n",
      "Epoch 9/12\n",
      "\n",
      "Epoch 9: val_accuracy did not improve from 0.91132\n",
      "1464/1464 - 5s - 3ms/step - accuracy: 0.9248 - loss: 0.2402 - val_accuracy: 0.8666 - val_loss: 0.4901\n",
      "Epoch 10/12\n",
      "\n",
      "Epoch 10: val_accuracy improved from 0.91132 to 0.91320, saving model to CNN_fold5.h5\n"
     ]
    },
    {
     "name": "stderr",
     "output_type": "stream",
     "text": [
      "WARNING:absl:You are saving your model as an HDF5 file via `model.save()` or `keras.saving.save_model(model)`. This file format is considered legacy. We recommend using instead the native Keras format, e.g. `model.save('my_model.keras')` or `keras.saving.save_model(model, 'my_model.keras')`. \n"
     ]
    },
    {
     "name": "stdout",
     "output_type": "stream",
     "text": [
      "1464/1464 - 5s - 3ms/step - accuracy: 0.9280 - loss: 0.2290 - val_accuracy: 0.9132 - val_loss: 0.3069\n",
      "Epoch 11/12\n",
      "\n",
      "Epoch 11: val_accuracy did not improve from 0.91320\n",
      "1464/1464 - 5s - 3ms/step - accuracy: 0.9313 - loss: 0.2186 - val_accuracy: 0.9096 - val_loss: 0.3544\n",
      "Epoch 12/12\n",
      "\n",
      "Epoch 12: val_accuracy improved from 0.91320 to 0.92738, saving model to CNN_fold5.h5\n"
     ]
    },
    {
     "name": "stderr",
     "output_type": "stream",
     "text": [
      "WARNING:absl:You are saving your model as an HDF5 file via `model.save()` or `keras.saving.save_model(model)`. This file format is considered legacy. We recommend using instead the native Keras format, e.g. `model.save('my_model.keras')` or `keras.saving.save_model(model, 'my_model.keras')`. \n"
     ]
    },
    {
     "name": "stdout",
     "output_type": "stream",
     "text": [
      "1464/1464 - 5s - 3ms/step - accuracy: 0.9357 - loss: 0.2051 - val_accuracy: 0.9274 - val_loss: 0.2712\n",
      "Fold 5 results: train_acc=0.9397, val_acc=0.9274, test_acc=0.9219\n",
      "\n",
      "Best Test accuracy: 0.9303 from model: CNN_fold1.h5\n"
     ]
    }
   ],
   "source": [
    "cnn_results, cnn_best_model = train_and_evaluate_model('CNN', X_train, y_train, X_test, y_test, NUM_FOLDS, EPOCHS, BATCH_SIZE)"
   ]
  },
  {
   "cell_type": "markdown",
   "id": "c6163f9e-7f4e-4943-809f-2ab18d693c0f",
   "metadata": {},
   "source": [
    "### Train GRU"
   ]
  },
  {
   "cell_type": "code",
   "execution_count": 20,
   "id": "c1d8a461-867d-44f6-95cd-991b765f86c4",
   "metadata": {
    "scrolled": true
   },
   "outputs": [
    {
     "name": "stdout",
     "output_type": "stream",
     "text": [
      "\n",
      "Training fold 1 / 5 for GRU\n"
     ]
    },
    {
     "data": {
      "text/html": [
       "<pre style=\"white-space:pre;overflow-x:auto;line-height:normal;font-family:Menlo,'DejaVu Sans Mono',consolas,'Courier New',monospace\"><span style=\"font-weight: bold\">Model: \"GRU\"</span>\n",
       "</pre>\n"
      ],
      "text/plain": [
       "\u001b[1mModel: \"GRU\"\u001b[0m\n"
      ]
     },
     "metadata": {},
     "output_type": "display_data"
    },
    {
     "data": {
      "text/html": [
       "<pre style=\"white-space:pre;overflow-x:auto;line-height:normal;font-family:Menlo,'DejaVu Sans Mono',consolas,'Courier New',monospace\">┏━━━━━━━━━━━━━━━━━━━━━━━━━━━━━━━━━━━━━━┳━━━━━━━━━━━━━━━━━━━━━━━━━━━━━┳━━━━━━━━━━━━━━━━━┓\n",
       "┃<span style=\"font-weight: bold\"> Layer (type)                         </span>┃<span style=\"font-weight: bold\"> Output Shape                </span>┃<span style=\"font-weight: bold\">         Param # </span>┃\n",
       "┡━━━━━━━━━━━━━━━━━━━━━━━━━━━━━━━━━━━━━━╇━━━━━━━━━━━━━━━━━━━━━━━━━━━━━╇━━━━━━━━━━━━━━━━━┩\n",
       "│ input_layer_5 (<span style=\"color: #0087ff; text-decoration-color: #0087ff\">InputLayer</span>)           │ (<span style=\"color: #00d7ff; text-decoration-color: #00d7ff\">None</span>, <span style=\"color: #00af00; text-decoration-color: #00af00\">30</span>, <span style=\"color: #00af00; text-decoration-color: #00af00\">225</span>)             │               <span style=\"color: #00af00; text-decoration-color: #00af00\">0</span> │\n",
       "├──────────────────────────────────────┼─────────────────────────────┼─────────────────┤\n",
       "│ gru (<span style=\"color: #0087ff; text-decoration-color: #0087ff\">GRU</span>)                            │ (<span style=\"color: #00d7ff; text-decoration-color: #00d7ff\">None</span>, <span style=\"color: #00af00; text-decoration-color: #00af00\">30</span>, <span style=\"color: #00af00; text-decoration-color: #00af00\">64</span>)              │          <span style=\"color: #00af00; text-decoration-color: #00af00\">55,872</span> │\n",
       "├──────────────────────────────────────┼─────────────────────────────┼─────────────────┤\n",
       "│ dropout_5 (<span style=\"color: #0087ff; text-decoration-color: #0087ff\">Dropout</span>)                  │ (<span style=\"color: #00d7ff; text-decoration-color: #00d7ff\">None</span>, <span style=\"color: #00af00; text-decoration-color: #00af00\">30</span>, <span style=\"color: #00af00; text-decoration-color: #00af00\">64</span>)              │               <span style=\"color: #00af00; text-decoration-color: #00af00\">0</span> │\n",
       "├──────────────────────────────────────┼─────────────────────────────┼─────────────────┤\n",
       "│ gru_1 (<span style=\"color: #0087ff; text-decoration-color: #0087ff\">GRU</span>)                          │ (<span style=\"color: #00d7ff; text-decoration-color: #00d7ff\">None</span>, <span style=\"color: #00af00; text-decoration-color: #00af00\">64</span>)                  │          <span style=\"color: #00af00; text-decoration-color: #00af00\">24,960</span> │\n",
       "├──────────────────────────────────────┼─────────────────────────────┼─────────────────┤\n",
       "│ dropout_6 (<span style=\"color: #0087ff; text-decoration-color: #0087ff\">Dropout</span>)                  │ (<span style=\"color: #00d7ff; text-decoration-color: #00d7ff\">None</span>, <span style=\"color: #00af00; text-decoration-color: #00af00\">64</span>)                  │               <span style=\"color: #00af00; text-decoration-color: #00af00\">0</span> │\n",
       "├──────────────────────────────────────┼─────────────────────────────┼─────────────────┤\n",
       "│ dense_10 (<span style=\"color: #0087ff; text-decoration-color: #0087ff\">Dense</span>)                     │ (<span style=\"color: #00d7ff; text-decoration-color: #00d7ff\">None</span>, <span style=\"color: #00af00; text-decoration-color: #00af00\">502</span>)                 │          <span style=\"color: #00af00; text-decoration-color: #00af00\">32,630</span> │\n",
       "└──────────────────────────────────────┴─────────────────────────────┴─────────────────┘\n",
       "</pre>\n"
      ],
      "text/plain": [
       "┏━━━━━━━━━━━━━━━━━━━━━━━━━━━━━━━━━━━━━━┳━━━━━━━━━━━━━━━━━━━━━━━━━━━━━┳━━━━━━━━━━━━━━━━━┓\n",
       "┃\u001b[1m \u001b[0m\u001b[1mLayer (type)                        \u001b[0m\u001b[1m \u001b[0m┃\u001b[1m \u001b[0m\u001b[1mOutput Shape               \u001b[0m\u001b[1m \u001b[0m┃\u001b[1m \u001b[0m\u001b[1m        Param #\u001b[0m\u001b[1m \u001b[0m┃\n",
       "┡━━━━━━━━━━━━━━━━━━━━━━━━━━━━━━━━━━━━━━╇━━━━━━━━━━━━━━━━━━━━━━━━━━━━━╇━━━━━━━━━━━━━━━━━┩\n",
       "│ input_layer_5 (\u001b[38;5;33mInputLayer\u001b[0m)           │ (\u001b[38;5;45mNone\u001b[0m, \u001b[38;5;34m30\u001b[0m, \u001b[38;5;34m225\u001b[0m)             │               \u001b[38;5;34m0\u001b[0m │\n",
       "├──────────────────────────────────────┼─────────────────────────────┼─────────────────┤\n",
       "│ gru (\u001b[38;5;33mGRU\u001b[0m)                            │ (\u001b[38;5;45mNone\u001b[0m, \u001b[38;5;34m30\u001b[0m, \u001b[38;5;34m64\u001b[0m)              │          \u001b[38;5;34m55,872\u001b[0m │\n",
       "├──────────────────────────────────────┼─────────────────────────────┼─────────────────┤\n",
       "│ dropout_5 (\u001b[38;5;33mDropout\u001b[0m)                  │ (\u001b[38;5;45mNone\u001b[0m, \u001b[38;5;34m30\u001b[0m, \u001b[38;5;34m64\u001b[0m)              │               \u001b[38;5;34m0\u001b[0m │\n",
       "├──────────────────────────────────────┼─────────────────────────────┼─────────────────┤\n",
       "│ gru_1 (\u001b[38;5;33mGRU\u001b[0m)                          │ (\u001b[38;5;45mNone\u001b[0m, \u001b[38;5;34m64\u001b[0m)                  │          \u001b[38;5;34m24,960\u001b[0m │\n",
       "├──────────────────────────────────────┼─────────────────────────────┼─────────────────┤\n",
       "│ dropout_6 (\u001b[38;5;33mDropout\u001b[0m)                  │ (\u001b[38;5;45mNone\u001b[0m, \u001b[38;5;34m64\u001b[0m)                  │               \u001b[38;5;34m0\u001b[0m │\n",
       "├──────────────────────────────────────┼─────────────────────────────┼─────────────────┤\n",
       "│ dense_10 (\u001b[38;5;33mDense\u001b[0m)                     │ (\u001b[38;5;45mNone\u001b[0m, \u001b[38;5;34m502\u001b[0m)                 │          \u001b[38;5;34m32,630\u001b[0m │\n",
       "└──────────────────────────────────────┴─────────────────────────────┴─────────────────┘\n"
      ]
     },
     "metadata": {},
     "output_type": "display_data"
    },
    {
     "data": {
      "text/html": [
       "<pre style=\"white-space:pre;overflow-x:auto;line-height:normal;font-family:Menlo,'DejaVu Sans Mono',consolas,'Courier New',monospace\"><span style=\"font-weight: bold\"> Total params: </span><span style=\"color: #00af00; text-decoration-color: #00af00\">113,462</span> (443.21 KB)\n",
       "</pre>\n"
      ],
      "text/plain": [
       "\u001b[1m Total params: \u001b[0m\u001b[38;5;34m113,462\u001b[0m (443.21 KB)\n"
      ]
     },
     "metadata": {},
     "output_type": "display_data"
    },
    {
     "data": {
      "text/html": [
       "<pre style=\"white-space:pre;overflow-x:auto;line-height:normal;font-family:Menlo,'DejaVu Sans Mono',consolas,'Courier New',monospace\"><span style=\"font-weight: bold\"> Trainable params: </span><span style=\"color: #00af00; text-decoration-color: #00af00\">113,462</span> (443.21 KB)\n",
       "</pre>\n"
      ],
      "text/plain": [
       "\u001b[1m Trainable params: \u001b[0m\u001b[38;5;34m113,462\u001b[0m (443.21 KB)\n"
      ]
     },
     "metadata": {},
     "output_type": "display_data"
    },
    {
     "data": {
      "text/html": [
       "<pre style=\"white-space:pre;overflow-x:auto;line-height:normal;font-family:Menlo,'DejaVu Sans Mono',consolas,'Courier New',monospace\"><span style=\"font-weight: bold\"> Non-trainable params: </span><span style=\"color: #00af00; text-decoration-color: #00af00\">0</span> (0.00 B)\n",
       "</pre>\n"
      ],
      "text/plain": [
       "\u001b[1m Non-trainable params: \u001b[0m\u001b[38;5;34m0\u001b[0m (0.00 B)\n"
      ]
     },
     "metadata": {},
     "output_type": "display_data"
    },
    {
     "name": "stdout",
     "output_type": "stream",
     "text": [
      "Epoch 1/12\n",
      "\n",
      "Epoch 1: val_accuracy improved from -inf to 0.29711, saving model to GRU_fold1.h5\n"
     ]
    },
    {
     "name": "stderr",
     "output_type": "stream",
     "text": [
      "WARNING:absl:You are saving your model as an HDF5 file via `model.save()` or `keras.saving.save_model(model)`. This file format is considered legacy. We recommend using instead the native Keras format, e.g. `model.save('my_model.keras')` or `keras.saving.save_model(model, 'my_model.keras')`. \n"
     ]
    },
    {
     "name": "stdout",
     "output_type": "stream",
     "text": [
      "1464/1464 - 23s - 16ms/step - accuracy: 0.1092 - loss: 4.4544 - val_accuracy: 0.2971 - val_loss: 3.1741\n",
      "Epoch 2/12\n",
      "\n",
      "Epoch 2: val_accuracy improved from 0.29711 to 0.52101, saving model to GRU_fold1.h5\n"
     ]
    },
    {
     "name": "stderr",
     "output_type": "stream",
     "text": [
      "WARNING:absl:You are saving your model as an HDF5 file via `model.save()` or `keras.saving.save_model(model)`. This file format is considered legacy. We recommend using instead the native Keras format, e.g. `model.save('my_model.keras')` or `keras.saving.save_model(model, 'my_model.keras')`. \n"
     ]
    },
    {
     "name": "stdout",
     "output_type": "stream",
     "text": [
      "1464/1464 - 20s - 14ms/step - accuracy: 0.3576 - loss: 2.7165 - val_accuracy: 0.5210 - val_loss: 2.0357\n",
      "Epoch 3/12\n",
      "\n",
      "Epoch 3: val_accuracy improved from 0.52101 to 0.62831, saving model to GRU_fold1.h5\n"
     ]
    },
    {
     "name": "stderr",
     "output_type": "stream",
     "text": [
      "WARNING:absl:You are saving your model as an HDF5 file via `model.save()` or `keras.saving.save_model(model)`. This file format is considered legacy. We recommend using instead the native Keras format, e.g. `model.save('my_model.keras')` or `keras.saving.save_model(model, 'my_model.keras')`. \n"
     ]
    },
    {
     "name": "stdout",
     "output_type": "stream",
     "text": [
      "1464/1464 - 20s - 14ms/step - accuracy: 0.5155 - loss: 1.9396 - val_accuracy: 0.6283 - val_loss: 1.4929\n",
      "Epoch 4/12\n",
      "\n",
      "Epoch 4: val_accuracy improved from 0.62831 to 0.72211, saving model to GRU_fold1.h5\n"
     ]
    },
    {
     "name": "stderr",
     "output_type": "stream",
     "text": [
      "WARNING:absl:You are saving your model as an HDF5 file via `model.save()` or `keras.saving.save_model(model)`. This file format is considered legacy. We recommend using instead the native Keras format, e.g. `model.save('my_model.keras')` or `keras.saving.save_model(model, 'my_model.keras')`. \n"
     ]
    },
    {
     "name": "stdout",
     "output_type": "stream",
     "text": [
      "1464/1464 - 20s - 14ms/step - accuracy: 0.6010 - loss: 1.5259 - val_accuracy: 0.7221 - val_loss: 1.0950\n",
      "Epoch 5/12\n",
      "\n",
      "Epoch 5: val_accuracy improved from 0.72211 to 0.77550, saving model to GRU_fold1.h5\n"
     ]
    },
    {
     "name": "stderr",
     "output_type": "stream",
     "text": [
      "WARNING:absl:You are saving your model as an HDF5 file via `model.save()` or `keras.saving.save_model(model)`. This file format is considered legacy. We recommend using instead the native Keras format, e.g. `model.save('my_model.keras')` or `keras.saving.save_model(model, 'my_model.keras')`. \n"
     ]
    },
    {
     "name": "stdout",
     "output_type": "stream",
     "text": [
      "1464/1464 - 20s - 14ms/step - accuracy: 0.6607 - loss: 1.2649 - val_accuracy: 0.7755 - val_loss: 0.8851\n",
      "Epoch 6/12\n",
      "\n",
      "Epoch 6: val_accuracy improved from 0.77550 to 0.81420, saving model to GRU_fold1.h5\n"
     ]
    },
    {
     "name": "stderr",
     "output_type": "stream",
     "text": [
      "WARNING:absl:You are saving your model as an HDF5 file via `model.save()` or `keras.saving.save_model(model)`. This file format is considered legacy. We recommend using instead the native Keras format, e.g. `model.save('my_model.keras')` or `keras.saving.save_model(model, 'my_model.keras')`. \n"
     ]
    },
    {
     "name": "stdout",
     "output_type": "stream",
     "text": [
      "1464/1464 - 20s - 14ms/step - accuracy: 0.7031 - loss: 1.0808 - val_accuracy: 0.8142 - val_loss: 0.7250\n",
      "Epoch 7/12\n",
      "\n",
      "Epoch 7: val_accuracy improved from 0.81420 to 0.82855, saving model to GRU_fold1.h5\n"
     ]
    },
    {
     "name": "stderr",
     "output_type": "stream",
     "text": [
      "WARNING:absl:You are saving your model as an HDF5 file via `model.save()` or `keras.saving.save_model(model)`. This file format is considered legacy. We recommend using instead the native Keras format, e.g. `model.save('my_model.keras')` or `keras.saving.save_model(model, 'my_model.keras')`. \n"
     ]
    },
    {
     "name": "stdout",
     "output_type": "stream",
     "text": [
      "1464/1464 - 21s - 14ms/step - accuracy: 0.7331 - loss: 0.9590 - val_accuracy: 0.8285 - val_loss: 0.6516\n",
      "Epoch 8/12\n",
      "\n",
      "Epoch 8: val_accuracy improved from 0.82855 to 0.83461, saving model to GRU_fold1.h5\n"
     ]
    },
    {
     "name": "stderr",
     "output_type": "stream",
     "text": [
      "WARNING:absl:You are saving your model as an HDF5 file via `model.save()` or `keras.saving.save_model(model)`. This file format is considered legacy. We recommend using instead the native Keras format, e.g. `model.save('my_model.keras')` or `keras.saving.save_model(model, 'my_model.keras')`. \n"
     ]
    },
    {
     "name": "stdout",
     "output_type": "stream",
     "text": [
      "1464/1464 - 21s - 14ms/step - accuracy: 0.7584 - loss: 0.8529 - val_accuracy: 0.8346 - val_loss: 0.6040\n",
      "Epoch 9/12\n",
      "\n",
      "Epoch 9: val_accuracy improved from 0.83461 to 0.85204, saving model to GRU_fold1.h5\n"
     ]
    },
    {
     "name": "stderr",
     "output_type": "stream",
     "text": [
      "WARNING:absl:You are saving your model as an HDF5 file via `model.save()` or `keras.saving.save_model(model)`. This file format is considered legacy. We recommend using instead the native Keras format, e.g. `model.save('my_model.keras')` or `keras.saving.save_model(model, 'my_model.keras')`. \n"
     ]
    },
    {
     "name": "stdout",
     "output_type": "stream",
     "text": [
      "1464/1464 - 21s - 14ms/step - accuracy: 0.7767 - loss: 0.7725 - val_accuracy: 0.8520 - val_loss: 0.5280\n",
      "Epoch 10/12\n",
      "\n",
      "Epoch 10: val_accuracy improved from 0.85204 to 0.86298, saving model to GRU_fold1.h5\n"
     ]
    },
    {
     "name": "stderr",
     "output_type": "stream",
     "text": [
      "WARNING:absl:You are saving your model as an HDF5 file via `model.save()` or `keras.saving.save_model(model)`. This file format is considered legacy. We recommend using instead the native Keras format, e.g. `model.save('my_model.keras')` or `keras.saving.save_model(model, 'my_model.keras')`. \n"
     ]
    },
    {
     "name": "stdout",
     "output_type": "stream",
     "text": [
      "1464/1464 - 21s - 14ms/step - accuracy: 0.7978 - loss: 0.6986 - val_accuracy: 0.8630 - val_loss: 0.4812\n",
      "Epoch 11/12\n",
      "\n",
      "Epoch 11: val_accuracy improved from 0.86298 to 0.87981, saving model to GRU_fold1.h5\n"
     ]
    },
    {
     "name": "stderr",
     "output_type": "stream",
     "text": [
      "WARNING:absl:You are saving your model as an HDF5 file via `model.save()` or `keras.saving.save_model(model)`. This file format is considered legacy. We recommend using instead the native Keras format, e.g. `model.save('my_model.keras')` or `keras.saving.save_model(model, 'my_model.keras')`. \n"
     ]
    },
    {
     "name": "stdout",
     "output_type": "stream",
     "text": [
      "1464/1464 - 21s - 14ms/step - accuracy: 0.8072 - loss: 0.6606 - val_accuracy: 0.8798 - val_loss: 0.4252\n",
      "Epoch 12/12\n",
      "\n",
      "Epoch 12: val_accuracy improved from 0.87981 to 0.89159, saving model to GRU_fold1.h5\n"
     ]
    },
    {
     "name": "stderr",
     "output_type": "stream",
     "text": [
      "WARNING:absl:You are saving your model as an HDF5 file via `model.save()` or `keras.saving.save_model(model)`. This file format is considered legacy. We recommend using instead the native Keras format, e.g. `model.save('my_model.keras')` or `keras.saving.save_model(model, 'my_model.keras')`. \n"
     ]
    },
    {
     "name": "stdout",
     "output_type": "stream",
     "text": [
      "1464/1464 - 21s - 14ms/step - accuracy: 0.8202 - loss: 0.6136 - val_accuracy: 0.8916 - val_loss: 0.3772\n",
      "Fold 1 results: train_acc=0.9081, val_acc=0.8916, test_acc=0.8905\n",
      "\n",
      "Training fold 2 / 5 for GRU\n",
      "Epoch 1/12\n",
      "\n",
      "Epoch 1: val_accuracy improved from -inf to 0.25184, saving model to GRU_fold2.h5\n"
     ]
    },
    {
     "name": "stderr",
     "output_type": "stream",
     "text": [
      "WARNING:absl:You are saving your model as an HDF5 file via `model.save()` or `keras.saving.save_model(model)`. This file format is considered legacy. We recommend using instead the native Keras format, e.g. `model.save('my_model.keras')` or `keras.saving.save_model(model, 'my_model.keras')`. \n"
     ]
    },
    {
     "name": "stdout",
     "output_type": "stream",
     "text": [
      "1464/1464 - 23s - 16ms/step - accuracy: 0.0806 - loss: 4.6329 - val_accuracy: 0.2518 - val_loss: 3.3722\n",
      "Epoch 2/12\n",
      "\n",
      "Epoch 2: val_accuracy improved from 0.25184 to 0.50965, saving model to GRU_fold2.h5\n"
     ]
    },
    {
     "name": "stderr",
     "output_type": "stream",
     "text": [
      "WARNING:absl:You are saving your model as an HDF5 file via `model.save()` or `keras.saving.save_model(model)`. This file format is considered legacy. We recommend using instead the native Keras format, e.g. `model.save('my_model.keras')` or `keras.saving.save_model(model, 'my_model.keras')`. \n"
     ]
    },
    {
     "name": "stdout",
     "output_type": "stream",
     "text": [
      "1464/1464 - 20s - 14ms/step - accuracy: 0.3241 - loss: 2.8739 - val_accuracy: 0.5097 - val_loss: 2.1343\n",
      "Epoch 3/12\n",
      "\n",
      "Epoch 3: val_accuracy improved from 0.50965 to 0.62088, saving model to GRU_fold2.h5\n"
     ]
    },
    {
     "name": "stderr",
     "output_type": "stream",
     "text": [
      "WARNING:absl:You are saving your model as an HDF5 file via `model.save()` or `keras.saving.save_model(model)`. This file format is considered legacy. We recommend using instead the native Keras format, e.g. `model.save('my_model.keras')` or `keras.saving.save_model(model, 'my_model.keras')`. \n"
     ]
    },
    {
     "name": "stdout",
     "output_type": "stream",
     "text": [
      "1464/1464 - 20s - 14ms/step - accuracy: 0.4976 - loss: 2.0209 - val_accuracy: 0.6209 - val_loss: 1.5269\n",
      "Epoch 4/12\n",
      "\n",
      "Epoch 4: val_accuracy improved from 0.62088 to 0.70417, saving model to GRU_fold2.h5\n"
     ]
    },
    {
     "name": "stderr",
     "output_type": "stream",
     "text": [
      "WARNING:absl:You are saving your model as an HDF5 file via `model.save()` or `keras.saving.save_model(model)`. This file format is considered legacy. We recommend using instead the native Keras format, e.g. `model.save('my_model.keras')` or `keras.saving.save_model(model, 'my_model.keras')`. \n"
     ]
    },
    {
     "name": "stdout",
     "output_type": "stream",
     "text": [
      "1464/1464 - 21s - 14ms/step - accuracy: 0.5967 - loss: 1.5558 - val_accuracy: 0.7042 - val_loss: 1.1430\n",
      "Epoch 5/12\n",
      "\n",
      "Epoch 5: val_accuracy improved from 0.70417 to 0.74996, saving model to GRU_fold2.h5\n"
     ]
    },
    {
     "name": "stderr",
     "output_type": "stream",
     "text": [
      "WARNING:absl:You are saving your model as an HDF5 file via `model.save()` or `keras.saving.save_model(model)`. This file format is considered legacy. We recommend using instead the native Keras format, e.g. `model.save('my_model.keras')` or `keras.saving.save_model(model, 'my_model.keras')`. \n"
     ]
    },
    {
     "name": "stdout",
     "output_type": "stream",
     "text": [
      "1464/1464 - 20s - 14ms/step - accuracy: 0.6573 - loss: 1.2674 - val_accuracy: 0.7500 - val_loss: 0.9161\n",
      "Epoch 6/12\n",
      "\n",
      "Epoch 6: val_accuracy improved from 0.74996 to 0.78421, saving model to GRU_fold2.h5\n"
     ]
    },
    {
     "name": "stderr",
     "output_type": "stream",
     "text": [
      "WARNING:absl:You are saving your model as an HDF5 file via `model.save()` or `keras.saving.save_model(model)`. This file format is considered legacy. We recommend using instead the native Keras format, e.g. `model.save('my_model.keras')` or `keras.saving.save_model(model, 'my_model.keras')`. \n"
     ]
    },
    {
     "name": "stdout",
     "output_type": "stream",
     "text": [
      "1464/1464 - 20s - 14ms/step - accuracy: 0.7040 - loss: 1.0759 - val_accuracy: 0.7842 - val_loss: 0.7729\n",
      "Epoch 7/12\n",
      "\n",
      "Epoch 7: val_accuracy improved from 0.78421 to 0.80771, saving model to GRU_fold2.h5\n"
     ]
    },
    {
     "name": "stderr",
     "output_type": "stream",
     "text": [
      "WARNING:absl:You are saving your model as an HDF5 file via `model.save()` or `keras.saving.save_model(model)`. This file format is considered legacy. We recommend using instead the native Keras format, e.g. `model.save('my_model.keras')` or `keras.saving.save_model(model, 'my_model.keras')`. \n"
     ]
    },
    {
     "name": "stdout",
     "output_type": "stream",
     "text": [
      "1464/1464 - 21s - 14ms/step - accuracy: 0.7312 - loss: 0.9460 - val_accuracy: 0.8077 - val_loss: 0.6973\n",
      "Epoch 8/12\n",
      "\n",
      "Epoch 8: val_accuracy improved from 0.80771 to 0.84102, saving model to GRU_fold2.h5\n"
     ]
    },
    {
     "name": "stderr",
     "output_type": "stream",
     "text": [
      "WARNING:absl:You are saving your model as an HDF5 file via `model.save()` or `keras.saving.save_model(model)`. This file format is considered legacy. We recommend using instead the native Keras format, e.g. `model.save('my_model.keras')` or `keras.saving.save_model(model, 'my_model.keras')`. \n"
     ]
    },
    {
     "name": "stdout",
     "output_type": "stream",
     "text": [
      "1464/1464 - 20s - 14ms/step - accuracy: 0.7571 - loss: 0.8429 - val_accuracy: 0.8410 - val_loss: 0.5607\n",
      "Epoch 9/12\n",
      "\n",
      "Epoch 9: val_accuracy improved from 0.84102 to 0.86614, saving model to GRU_fold2.h5\n"
     ]
    },
    {
     "name": "stderr",
     "output_type": "stream",
     "text": [
      "WARNING:absl:You are saving your model as an HDF5 file via `model.save()` or `keras.saving.save_model(model)`. This file format is considered legacy. We recommend using instead the native Keras format, e.g. `model.save('my_model.keras')` or `keras.saving.save_model(model, 'my_model.keras')`. \n"
     ]
    },
    {
     "name": "stdout",
     "output_type": "stream",
     "text": [
      "1464/1464 - 21s - 14ms/step - accuracy: 0.7784 - loss: 0.7591 - val_accuracy: 0.8661 - val_loss: 0.4815\n",
      "Epoch 10/12\n",
      "\n",
      "Epoch 10: val_accuracy improved from 0.86614 to 0.88168, saving model to GRU_fold2.h5\n"
     ]
    },
    {
     "name": "stderr",
     "output_type": "stream",
     "text": [
      "WARNING:absl:You are saving your model as an HDF5 file via `model.save()` or `keras.saving.save_model(model)`. This file format is considered legacy. We recommend using instead the native Keras format, e.g. `model.save('my_model.keras')` or `keras.saving.save_model(model, 'my_model.keras')`. \n"
     ]
    },
    {
     "name": "stdout",
     "output_type": "stream",
     "text": [
      "1464/1464 - 21s - 14ms/step - accuracy: 0.7943 - loss: 0.7075 - val_accuracy: 0.8817 - val_loss: 0.4161\n",
      "Epoch 11/12\n",
      "\n",
      "Epoch 11: val_accuracy did not improve from 0.88168\n",
      "1464/1464 - 20s - 14ms/step - accuracy: 0.8069 - loss: 0.6523 - val_accuracy: 0.8777 - val_loss: 0.4169\n",
      "Epoch 12/12\n",
      "\n",
      "Epoch 12: val_accuracy improved from 0.88168 to 0.88561, saving model to GRU_fold2.h5\n"
     ]
    },
    {
     "name": "stderr",
     "output_type": "stream",
     "text": [
      "WARNING:absl:You are saving your model as an HDF5 file via `model.save()` or `keras.saving.save_model(model)`. This file format is considered legacy. We recommend using instead the native Keras format, e.g. `model.save('my_model.keras')` or `keras.saving.save_model(model, 'my_model.keras')`. \n"
     ]
    },
    {
     "name": "stdout",
     "output_type": "stream",
     "text": [
      "1464/1464 - 21s - 14ms/step - accuracy: 0.8226 - loss: 0.5931 - val_accuracy: 0.8856 - val_loss: 0.3842\n",
      "Fold 2 results: train_acc=0.9021, val_acc=0.8856, test_acc=0.8867\n",
      "\n",
      "Training fold 3 / 5 for GRU\n",
      "Epoch 1/12\n",
      "\n",
      "Epoch 1: val_accuracy improved from -inf to 0.25073, saving model to GRU_fold3.h5\n"
     ]
    },
    {
     "name": "stderr",
     "output_type": "stream",
     "text": [
      "WARNING:absl:You are saving your model as an HDF5 file via `model.save()` or `keras.saving.save_model(model)`. This file format is considered legacy. We recommend using instead the native Keras format, e.g. `model.save('my_model.keras')` or `keras.saving.save_model(model, 'my_model.keras')`. \n"
     ]
    },
    {
     "name": "stdout",
     "output_type": "stream",
     "text": [
      "1464/1464 - 23s - 16ms/step - accuracy: 0.0925 - loss: 4.5347 - val_accuracy: 0.2507 - val_loss: 3.3464\n",
      "Epoch 2/12\n",
      "\n",
      "Epoch 2: val_accuracy improved from 0.25073 to 0.49829, saving model to GRU_fold3.h5\n"
     ]
    },
    {
     "name": "stderr",
     "output_type": "stream",
     "text": [
      "WARNING:absl:You are saving your model as an HDF5 file via `model.save()` or `keras.saving.save_model(model)`. This file format is considered legacy. We recommend using instead the native Keras format, e.g. `model.save('my_model.keras')` or `keras.saving.save_model(model, 'my_model.keras')`. \n"
     ]
    },
    {
     "name": "stdout",
     "output_type": "stream",
     "text": [
      "1464/1464 - 20s - 14ms/step - accuracy: 0.3239 - loss: 2.8346 - val_accuracy: 0.4983 - val_loss: 2.1446\n",
      "Epoch 3/12\n",
      "\n",
      "Epoch 3: val_accuracy improved from 0.49829 to 0.63087, saving model to GRU_fold3.h5\n"
     ]
    },
    {
     "name": "stderr",
     "output_type": "stream",
     "text": [
      "WARNING:absl:You are saving your model as an HDF5 file via `model.save()` or `keras.saving.save_model(model)`. This file format is considered legacy. We recommend using instead the native Keras format, e.g. `model.save('my_model.keras')` or `keras.saving.save_model(model, 'my_model.keras')`. \n"
     ]
    },
    {
     "name": "stdout",
     "output_type": "stream",
     "text": [
      "1464/1464 - 21s - 14ms/step - accuracy: 0.4960 - loss: 2.0407 - val_accuracy: 0.6309 - val_loss: 1.5107\n",
      "Epoch 4/12\n",
      "\n",
      "Epoch 4: val_accuracy improved from 0.63087 to 0.69170, saving model to GRU_fold3.h5\n"
     ]
    },
    {
     "name": "stderr",
     "output_type": "stream",
     "text": [
      "WARNING:absl:You are saving your model as an HDF5 file via `model.save()` or `keras.saving.save_model(model)`. This file format is considered legacy. We recommend using instead the native Keras format, e.g. `model.save('my_model.keras')` or `keras.saving.save_model(model, 'my_model.keras')`. \n"
     ]
    },
    {
     "name": "stdout",
     "output_type": "stream",
     "text": [
      "1464/1464 - 20s - 14ms/step - accuracy: 0.5841 - loss: 1.6046 - val_accuracy: 0.6917 - val_loss: 1.1958\n",
      "Epoch 5/12\n",
      "\n",
      "Epoch 5: val_accuracy improved from 0.69170 to 0.75252, saving model to GRU_fold3.h5\n"
     ]
    },
    {
     "name": "stderr",
     "output_type": "stream",
     "text": [
      "WARNING:absl:You are saving your model as an HDF5 file via `model.save()` or `keras.saving.save_model(model)`. This file format is considered legacy. We recommend using instead the native Keras format, e.g. `model.save('my_model.keras')` or `keras.saving.save_model(model, 'my_model.keras')`. \n"
     ]
    },
    {
     "name": "stdout",
     "output_type": "stream",
     "text": [
      "1464/1464 - 20s - 14ms/step - accuracy: 0.6533 - loss: 1.2966 - val_accuracy: 0.7525 - val_loss: 0.9355\n",
      "Epoch 6/12\n",
      "\n",
      "Epoch 6: val_accuracy improved from 0.75252 to 0.80335, saving model to GRU_fold3.h5\n"
     ]
    },
    {
     "name": "stderr",
     "output_type": "stream",
     "text": [
      "WARNING:absl:You are saving your model as an HDF5 file via `model.save()` or `keras.saving.save_model(model)`. This file format is considered legacy. We recommend using instead the native Keras format, e.g. `model.save('my_model.keras')` or `keras.saving.save_model(model, 'my_model.keras')`. \n"
     ]
    },
    {
     "name": "stdout",
     "output_type": "stream",
     "text": [
      "1464/1464 - 21s - 14ms/step - accuracy: 0.6919 - loss: 1.1157 - val_accuracy: 0.8033 - val_loss: 0.7649\n",
      "Epoch 7/12\n",
      "\n",
      "Epoch 7: val_accuracy improved from 0.80335 to 0.80882, saving model to GRU_fold3.h5\n"
     ]
    },
    {
     "name": "stderr",
     "output_type": "stream",
     "text": [
      "WARNING:absl:You are saving your model as an HDF5 file via `model.save()` or `keras.saving.save_model(model)`. This file format is considered legacy. We recommend using instead the native Keras format, e.g. `model.save('my_model.keras')` or `keras.saving.save_model(model, 'my_model.keras')`. \n"
     ]
    },
    {
     "name": "stdout",
     "output_type": "stream",
     "text": [
      "1464/1464 - 21s - 14ms/step - accuracy: 0.7287 - loss: 0.9702 - val_accuracy: 0.8088 - val_loss: 0.7025\n",
      "Epoch 8/12\n",
      "\n",
      "Epoch 8: val_accuracy improved from 0.80882 to 0.84000, saving model to GRU_fold3.h5\n"
     ]
    },
    {
     "name": "stderr",
     "output_type": "stream",
     "text": [
      "WARNING:absl:You are saving your model as an HDF5 file via `model.save()` or `keras.saving.save_model(model)`. This file format is considered legacy. We recommend using instead the native Keras format, e.g. `model.save('my_model.keras')` or `keras.saving.save_model(model, 'my_model.keras')`. \n"
     ]
    },
    {
     "name": "stdout",
     "output_type": "stream",
     "text": [
      "1464/1464 - 21s - 14ms/step - accuracy: 0.7572 - loss: 0.8605 - val_accuracy: 0.8400 - val_loss: 0.5783\n",
      "Epoch 9/12\n",
      "\n",
      "Epoch 9: val_accuracy improved from 0.84000 to 0.85836, saving model to GRU_fold3.h5\n"
     ]
    },
    {
     "name": "stderr",
     "output_type": "stream",
     "text": [
      "WARNING:absl:You are saving your model as an HDF5 file via `model.save()` or `keras.saving.save_model(model)`. This file format is considered legacy. We recommend using instead the native Keras format, e.g. `model.save('my_model.keras')` or `keras.saving.save_model(model, 'my_model.keras')`. \n"
     ]
    },
    {
     "name": "stdout",
     "output_type": "stream",
     "text": [
      "1464/1464 - 21s - 14ms/step - accuracy: 0.7689 - loss: 0.8061 - val_accuracy: 0.8584 - val_loss: 0.5087\n",
      "Epoch 10/12\n",
      "\n",
      "Epoch 10: val_accuracy improved from 0.85836 to 0.87827, saving model to GRU_fold3.h5\n"
     ]
    },
    {
     "name": "stderr",
     "output_type": "stream",
     "text": [
      "WARNING:absl:You are saving your model as an HDF5 file via `model.save()` or `keras.saving.save_model(model)`. This file format is considered legacy. We recommend using instead the native Keras format, e.g. `model.save('my_model.keras')` or `keras.saving.save_model(model, 'my_model.keras')`. \n"
     ]
    },
    {
     "name": "stdout",
     "output_type": "stream",
     "text": [
      "1464/1464 - 21s - 14ms/step - accuracy: 0.7961 - loss: 0.7030 - val_accuracy: 0.8783 - val_loss: 0.4360\n",
      "Epoch 11/12\n",
      "\n",
      "Epoch 11: val_accuracy improved from 0.87827 to 0.88177, saving model to GRU_fold3.h5\n"
     ]
    },
    {
     "name": "stderr",
     "output_type": "stream",
     "text": [
      "WARNING:absl:You are saving your model as an HDF5 file via `model.save()` or `keras.saving.save_model(model)`. This file format is considered legacy. We recommend using instead the native Keras format, e.g. `model.save('my_model.keras')` or `keras.saving.save_model(model, 'my_model.keras')`. \n"
     ]
    },
    {
     "name": "stdout",
     "output_type": "stream",
     "text": [
      "1464/1464 - 21s - 14ms/step - accuracy: 0.8108 - loss: 0.6531 - val_accuracy: 0.8818 - val_loss: 0.4170\n",
      "Epoch 12/12\n",
      "\n",
      "Epoch 12: val_accuracy did not improve from 0.88177\n",
      "1464/1464 - 23s - 15ms/step - accuracy: 0.8121 - loss: 0.6397 - val_accuracy: 0.8567 - val_loss: 0.4839\n",
      "Fold 3 results: train_acc=0.8997, val_acc=0.8818, test_acc=0.8836\n",
      "\n",
      "Training fold 4 / 5 for GRU\n",
      "Epoch 1/12\n",
      "\n",
      "Epoch 1: val_accuracy improved from -inf to 0.29788, saving model to GRU_fold4.h5\n"
     ]
    },
    {
     "name": "stderr",
     "output_type": "stream",
     "text": [
      "WARNING:absl:You are saving your model as an HDF5 file via `model.save()` or `keras.saving.save_model(model)`. This file format is considered legacy. We recommend using instead the native Keras format, e.g. `model.save('my_model.keras')` or `keras.saving.save_model(model, 'my_model.keras')`. \n"
     ]
    },
    {
     "name": "stdout",
     "output_type": "stream",
     "text": [
      "1464/1464 - 26s - 18ms/step - accuracy: 0.0914 - loss: 4.5839 - val_accuracy: 0.2979 - val_loss: 3.3063\n",
      "Epoch 2/12\n",
      "\n",
      "Epoch 2: val_accuracy improved from 0.29788 to 0.54323, saving model to GRU_fold4.h5\n"
     ]
    },
    {
     "name": "stderr",
     "output_type": "stream",
     "text": [
      "WARNING:absl:You are saving your model as an HDF5 file via `model.save()` or `keras.saving.save_model(model)`. This file format is considered legacy. We recommend using instead the native Keras format, e.g. `model.save('my_model.keras')` or `keras.saving.save_model(model, 'my_model.keras')`. \n"
     ]
    },
    {
     "name": "stdout",
     "output_type": "stream",
     "text": [
      "1464/1464 - 22s - 15ms/step - accuracy: 0.3439 - loss: 2.8131 - val_accuracy: 0.5432 - val_loss: 2.0590\n",
      "Epoch 3/12\n",
      "\n",
      "Epoch 3: val_accuracy improved from 0.54323 to 0.65283, saving model to GRU_fold4.h5\n"
     ]
    },
    {
     "name": "stderr",
     "output_type": "stream",
     "text": [
      "WARNING:absl:You are saving your model as an HDF5 file via `model.save()` or `keras.saving.save_model(model)`. This file format is considered legacy. We recommend using instead the native Keras format, e.g. `model.save('my_model.keras')` or `keras.saving.save_model(model, 'my_model.keras')`. \n"
     ]
    },
    {
     "name": "stdout",
     "output_type": "stream",
     "text": [
      "1464/1464 - 23s - 15ms/step - accuracy: 0.5092 - loss: 1.9855 - val_accuracy: 0.6528 - val_loss: 1.4654\n",
      "Epoch 4/12\n",
      "\n",
      "Epoch 4: val_accuracy improved from 0.65283 to 0.71664, saving model to GRU_fold4.h5\n"
     ]
    },
    {
     "name": "stderr",
     "output_type": "stream",
     "text": [
      "WARNING:absl:You are saving your model as an HDF5 file via `model.save()` or `keras.saving.save_model(model)`. This file format is considered legacy. We recommend using instead the native Keras format, e.g. `model.save('my_model.keras')` or `keras.saving.save_model(model, 'my_model.keras')`. \n"
     ]
    },
    {
     "name": "stdout",
     "output_type": "stream",
     "text": [
      "1464/1464 - 23s - 16ms/step - accuracy: 0.5931 - loss: 1.5539 - val_accuracy: 0.7166 - val_loss: 1.1643\n",
      "Epoch 5/12\n",
      "\n",
      "Epoch 5: val_accuracy improved from 0.71664 to 0.76662, saving model to GRU_fold4.h5\n"
     ]
    },
    {
     "name": "stderr",
     "output_type": "stream",
     "text": [
      "WARNING:absl:You are saving your model as an HDF5 file via `model.save()` or `keras.saving.save_model(model)`. This file format is considered legacy. We recommend using instead the native Keras format, e.g. `model.save('my_model.keras')` or `keras.saving.save_model(model, 'my_model.keras')`. \n"
     ]
    },
    {
     "name": "stdout",
     "output_type": "stream",
     "text": [
      "1464/1464 - 22s - 15ms/step - accuracy: 0.6598 - loss: 1.2816 - val_accuracy: 0.7666 - val_loss: 0.9213\n",
      "Epoch 6/12\n",
      "\n",
      "Epoch 6: val_accuracy improved from 0.76662 to 0.79053, saving model to GRU_fold4.h5\n"
     ]
    },
    {
     "name": "stderr",
     "output_type": "stream",
     "text": [
      "WARNING:absl:You are saving your model as an HDF5 file via `model.save()` or `keras.saving.save_model(model)`. This file format is considered legacy. We recommend using instead the native Keras format, e.g. `model.save('my_model.keras')` or `keras.saving.save_model(model, 'my_model.keras')`. \n"
     ]
    },
    {
     "name": "stdout",
     "output_type": "stream",
     "text": [
      "1464/1464 - 21s - 14ms/step - accuracy: 0.6973 - loss: 1.1035 - val_accuracy: 0.7905 - val_loss: 0.7869\n",
      "Epoch 7/12\n",
      "\n",
      "Epoch 7: val_accuracy improved from 0.79053 to 0.81710, saving model to GRU_fold4.h5\n"
     ]
    },
    {
     "name": "stderr",
     "output_type": "stream",
     "text": [
      "WARNING:absl:You are saving your model as an HDF5 file via `model.save()` or `keras.saving.save_model(model)`. This file format is considered legacy. We recommend using instead the native Keras format, e.g. `model.save('my_model.keras')` or `keras.saving.save_model(model, 'my_model.keras')`. \n"
     ]
    },
    {
     "name": "stdout",
     "output_type": "stream",
     "text": [
      "1464/1464 - 21s - 14ms/step - accuracy: 0.7267 - loss: 0.9827 - val_accuracy: 0.8171 - val_loss: 0.6803\n",
      "Epoch 8/12\n",
      "\n",
      "Epoch 8: val_accuracy improved from 0.81710 to 0.83256, saving model to GRU_fold4.h5\n"
     ]
    },
    {
     "name": "stderr",
     "output_type": "stream",
     "text": [
      "WARNING:absl:You are saving your model as an HDF5 file via `model.save()` or `keras.saving.save_model(model)`. This file format is considered legacy. We recommend using instead the native Keras format, e.g. `model.save('my_model.keras')` or `keras.saving.save_model(model, 'my_model.keras')`. \n"
     ]
    },
    {
     "name": "stdout",
     "output_type": "stream",
     "text": [
      "1464/1464 - 21s - 14ms/step - accuracy: 0.7526 - loss: 0.8671 - val_accuracy: 0.8326 - val_loss: 0.6086\n",
      "Epoch 9/12\n",
      "\n",
      "Epoch 9: val_accuracy improved from 0.83256 to 0.85964, saving model to GRU_fold4.h5\n"
     ]
    },
    {
     "name": "stderr",
     "output_type": "stream",
     "text": [
      "WARNING:absl:You are saving your model as an HDF5 file via `model.save()` or `keras.saving.save_model(model)`. This file format is considered legacy. We recommend using instead the native Keras format, e.g. `model.save('my_model.keras')` or `keras.saving.save_model(model, 'my_model.keras')`. \n"
     ]
    },
    {
     "name": "stdout",
     "output_type": "stream",
     "text": [
      "1464/1464 - 21s - 14ms/step - accuracy: 0.7710 - loss: 0.7983 - val_accuracy: 0.8596 - val_loss: 0.5110\n",
      "Epoch 10/12\n",
      "\n",
      "Epoch 10: val_accuracy did not improve from 0.85964\n",
      "1464/1464 - 21s - 14ms/step - accuracy: 0.7823 - loss: 0.7560 - val_accuracy: 0.8448 - val_loss: 0.5671\n",
      "Epoch 11/12\n",
      "\n",
      "Epoch 11: val_accuracy improved from 0.85964 to 0.88254, saving model to GRU_fold4.h5\n"
     ]
    },
    {
     "name": "stderr",
     "output_type": "stream",
     "text": [
      "WARNING:absl:You are saving your model as an HDF5 file via `model.save()` or `keras.saving.save_model(model)`. This file format is considered legacy. We recommend using instead the native Keras format, e.g. `model.save('my_model.keras')` or `keras.saving.save_model(model, 'my_model.keras')`. \n"
     ]
    },
    {
     "name": "stdout",
     "output_type": "stream",
     "text": [
      "1464/1464 - 21s - 14ms/step - accuracy: 0.7924 - loss: 0.7063 - val_accuracy: 0.8825 - val_loss: 0.4257\n",
      "Epoch 12/12\n",
      "\n",
      "Epoch 12: val_accuracy improved from 0.88254 to 0.88467, saving model to GRU_fold4.h5\n"
     ]
    },
    {
     "name": "stderr",
     "output_type": "stream",
     "text": [
      "WARNING:absl:You are saving your model as an HDF5 file via `model.save()` or `keras.saving.save_model(model)`. This file format is considered legacy. We recommend using instead the native Keras format, e.g. `model.save('my_model.keras')` or `keras.saving.save_model(model, 'my_model.keras')`. \n"
     ]
    },
    {
     "name": "stdout",
     "output_type": "stream",
     "text": [
      "1464/1464 - 21s - 14ms/step - accuracy: 0.8026 - loss: 0.6775 - val_accuracy: 0.8847 - val_loss: 0.4053\n",
      "Fold 4 results: train_acc=0.8988, val_acc=0.8847, test_acc=0.8810\n",
      "\n",
      "Training fold 5 / 5 for GRU\n",
      "Epoch 1/12\n",
      "\n",
      "Epoch 1: val_accuracy improved from -inf to 0.27911, saving model to GRU_fold5.h5\n"
     ]
    },
    {
     "name": "stderr",
     "output_type": "stream",
     "text": [
      "WARNING:absl:You are saving your model as an HDF5 file via `model.save()` or `keras.saving.save_model(model)`. This file format is considered legacy. We recommend using instead the native Keras format, e.g. `model.save('my_model.keras')` or `keras.saving.save_model(model, 'my_model.keras')`. \n"
     ]
    },
    {
     "name": "stdout",
     "output_type": "stream",
     "text": [
      "1464/1464 - 24s - 16ms/step - accuracy: 0.0933 - loss: 4.5372 - val_accuracy: 0.2791 - val_loss: 3.2777\n",
      "Epoch 2/12\n",
      "\n",
      "Epoch 2: val_accuracy improved from 0.27911 to 0.49902, saving model to GRU_fold5.h5\n"
     ]
    },
    {
     "name": "stderr",
     "output_type": "stream",
     "text": [
      "WARNING:absl:You are saving your model as an HDF5 file via `model.save()` or `keras.saving.save_model(model)`. This file format is considered legacy. We recommend using instead the native Keras format, e.g. `model.save('my_model.keras')` or `keras.saving.save_model(model, 'my_model.keras')`. \n"
     ]
    },
    {
     "name": "stdout",
     "output_type": "stream",
     "text": [
      "1464/1464 - 21s - 14ms/step - accuracy: 0.3290 - loss: 2.8251 - val_accuracy: 0.4990 - val_loss: 2.1470\n",
      "Epoch 3/12\n",
      "\n",
      "Epoch 3: val_accuracy improved from 0.49902 to 0.61025, saving model to GRU_fold5.h5\n"
     ]
    },
    {
     "name": "stderr",
     "output_type": "stream",
     "text": [
      "WARNING:absl:You are saving your model as an HDF5 file via `model.save()` or `keras.saving.save_model(model)`. This file format is considered legacy. We recommend using instead the native Keras format, e.g. `model.save('my_model.keras')` or `keras.saving.save_model(model, 'my_model.keras')`. \n"
     ]
    },
    {
     "name": "stdout",
     "output_type": "stream",
     "text": [
      "1464/1464 - 21s - 14ms/step - accuracy: 0.4864 - loss: 2.0464 - val_accuracy: 0.6103 - val_loss: 1.5636\n",
      "Epoch 4/12\n",
      "\n",
      "Epoch 4: val_accuracy improved from 0.61025 to 0.69381, saving model to GRU_fold5.h5\n"
     ]
    },
    {
     "name": "stderr",
     "output_type": "stream",
     "text": [
      "WARNING:absl:You are saving your model as an HDF5 file via `model.save()` or `keras.saving.save_model(model)`. This file format is considered legacy. We recommend using instead the native Keras format, e.g. `model.save('my_model.keras')` or `keras.saving.save_model(model, 'my_model.keras')`. \n"
     ]
    },
    {
     "name": "stdout",
     "output_type": "stream",
     "text": [
      "1464/1464 - 21s - 14ms/step - accuracy: 0.5778 - loss: 1.6179 - val_accuracy: 0.6938 - val_loss: 1.2207\n",
      "Epoch 5/12\n",
      "\n",
      "Epoch 5: val_accuracy improved from 0.69381 to 0.75318, saving model to GRU_fold5.h5\n"
     ]
    },
    {
     "name": "stderr",
     "output_type": "stream",
     "text": [
      "WARNING:absl:You are saving your model as an HDF5 file via `model.save()` or `keras.saving.save_model(model)`. This file format is considered legacy. We recommend using instead the native Keras format, e.g. `model.save('my_model.keras')` or `keras.saving.save_model(model, 'my_model.keras')`. \n"
     ]
    },
    {
     "name": "stdout",
     "output_type": "stream",
     "text": [
      "1464/1464 - 21s - 14ms/step - accuracy: 0.6435 - loss: 1.3234 - val_accuracy: 0.7532 - val_loss: 0.9519\n",
      "Epoch 6/12\n",
      "\n",
      "Epoch 6: val_accuracy improved from 0.75318 to 0.79035, saving model to GRU_fold5.h5\n"
     ]
    },
    {
     "name": "stderr",
     "output_type": "stream",
     "text": [
      "WARNING:absl:You are saving your model as an HDF5 file via `model.save()` or `keras.saving.save_model(model)`. This file format is considered legacy. We recommend using instead the native Keras format, e.g. `model.save('my_model.keras')` or `keras.saving.save_model(model, 'my_model.keras')`. \n"
     ]
    },
    {
     "name": "stdout",
     "output_type": "stream",
     "text": [
      "1464/1464 - 21s - 14ms/step - accuracy: 0.6898 - loss: 1.1307 - val_accuracy: 0.7903 - val_loss: 0.7961\n",
      "Epoch 7/12\n",
      "\n",
      "Epoch 7: val_accuracy improved from 0.79035 to 0.81094, saving model to GRU_fold5.h5\n"
     ]
    },
    {
     "name": "stderr",
     "output_type": "stream",
     "text": [
      "WARNING:absl:You are saving your model as an HDF5 file via `model.save()` or `keras.saving.save_model(model)`. This file format is considered legacy. We recommend using instead the native Keras format, e.g. `model.save('my_model.keras')` or `keras.saving.save_model(model, 'my_model.keras')`. \n"
     ]
    },
    {
     "name": "stdout",
     "output_type": "stream",
     "text": [
      "1464/1464 - 21s - 15ms/step - accuracy: 0.7220 - loss: 0.9939 - val_accuracy: 0.8109 - val_loss: 0.7010\n",
      "Epoch 8/12\n",
      "\n",
      "Epoch 8: val_accuracy improved from 0.81094 to 0.83785, saving model to GRU_fold5.h5\n"
     ]
    },
    {
     "name": "stderr",
     "output_type": "stream",
     "text": [
      "WARNING:absl:You are saving your model as an HDF5 file via `model.save()` or `keras.saving.save_model(model)`. This file format is considered legacy. We recommend using instead the native Keras format, e.g. `model.save('my_model.keras')` or `keras.saving.save_model(model, 'my_model.keras')`. \n"
     ]
    },
    {
     "name": "stdout",
     "output_type": "stream",
     "text": [
      "1464/1464 - 21s - 14ms/step - accuracy: 0.7488 - loss: 0.8855 - val_accuracy: 0.8378 - val_loss: 0.5917\n",
      "Epoch 9/12\n",
      "\n",
      "Epoch 9: val_accuracy improved from 0.83785 to 0.86288, saving model to GRU_fold5.h5\n"
     ]
    },
    {
     "name": "stderr",
     "output_type": "stream",
     "text": [
      "WARNING:absl:You are saving your model as an HDF5 file via `model.save()` or `keras.saving.save_model(model)`. This file format is considered legacy. We recommend using instead the native Keras format, e.g. `model.save('my_model.keras')` or `keras.saving.save_model(model, 'my_model.keras')`. \n"
     ]
    },
    {
     "name": "stdout",
     "output_type": "stream",
     "text": [
      "1464/1464 - 21s - 14ms/step - accuracy: 0.7703 - loss: 0.7946 - val_accuracy: 0.8629 - val_loss: 0.5116\n",
      "Epoch 10/12\n",
      "\n",
      "Epoch 10: val_accuracy did not improve from 0.86288\n",
      "1464/1464 - 21s - 14ms/step - accuracy: 0.7905 - loss: 0.7261 - val_accuracy: 0.7675 - val_loss: 0.8024\n",
      "Epoch 11/12\n",
      "\n",
      "Epoch 11: val_accuracy improved from 0.86288 to 0.87894, saving model to GRU_fold5.h5\n"
     ]
    },
    {
     "name": "stderr",
     "output_type": "stream",
     "text": [
      "WARNING:absl:You are saving your model as an HDF5 file via `model.save()` or `keras.saving.save_model(model)`. This file format is considered legacy. We recommend using instead the native Keras format, e.g. `model.save('my_model.keras')` or `keras.saving.save_model(model, 'my_model.keras')`. \n"
     ]
    },
    {
     "name": "stdout",
     "output_type": "stream",
     "text": [
      "1464/1464 - 21s - 14ms/step - accuracy: 0.8106 - loss: 0.6569 - val_accuracy: 0.8789 - val_loss: 0.4454\n",
      "Epoch 12/12\n",
      "\n",
      "Epoch 12: val_accuracy improved from 0.87894 to 0.88945, saving model to GRU_fold5.h5\n"
     ]
    },
    {
     "name": "stderr",
     "output_type": "stream",
     "text": [
      "WARNING:absl:You are saving your model as an HDF5 file via `model.save()` or `keras.saving.save_model(model)`. This file format is considered legacy. We recommend using instead the native Keras format, e.g. `model.save('my_model.keras')` or `keras.saving.save_model(model, 'my_model.keras')`. \n"
     ]
    },
    {
     "name": "stdout",
     "output_type": "stream",
     "text": [
      "1464/1464 - 21s - 14ms/step - accuracy: 0.8085 - loss: 0.6525 - val_accuracy: 0.8894 - val_loss: 0.3906\n",
      "Fold 5 results: train_acc=0.9086, val_acc=0.8894, test_acc=0.8913\n",
      "\n",
      "Best Test accuracy: 0.8905 from model: GRU_fold1.h5\n"
     ]
    }
   ],
   "source": [
    "gru_results, gru_best_model = train_and_evaluate_model('GRU', X_train, y_train, X_test, y_test, NUM_FOLDS, EPOCHS, BATCH_SIZE)"
   ]
  },
  {
   "cell_type": "markdown",
   "id": "29684767-ea91-4f07-addc-4444f4c9be58",
   "metadata": {},
   "source": [
    "### Train ViT"
   ]
  },
  {
   "cell_type": "code",
   "execution_count": 21,
   "id": "12b53f75-3888-4257-b8bc-4cbcaca04428",
   "metadata": {
    "scrolled": true
   },
   "outputs": [
    {
     "name": "stdout",
     "output_type": "stream",
     "text": [
      "\n",
      "Training fold 1 / 5 for ViT\n",
      "WARNING:tensorflow:From C:\\Users\\UNKN0VVlV\\AppData\\Local\\Programs\\Python\\Python311\\Lib\\site-packages\\keras\\src\\backend\\tensorflow\\core.py:219: The name tf.placeholder is deprecated. Please use tf.compat.v1.placeholder instead.\n",
      "\n"
     ]
    },
    {
     "name": "stderr",
     "output_type": "stream",
     "text": [
      "WARNING:tensorflow:From C:\\Users\\UNKN0VVlV\\AppData\\Local\\Programs\\Python\\Python311\\Lib\\site-packages\\keras\\src\\backend\\tensorflow\\core.py:219: The name tf.placeholder is deprecated. Please use tf.compat.v1.placeholder instead.\n",
      "\n"
     ]
    },
    {
     "data": {
      "text/html": [
       "<pre style=\"white-space:pre;overflow-x:auto;line-height:normal;font-family:Menlo,'DejaVu Sans Mono',consolas,'Courier New',monospace\"><span style=\"font-weight: bold\">Model: \"ViT\"</span>\n",
       "</pre>\n"
      ],
      "text/plain": [
       "\u001b[1mModel: \"ViT\"\u001b[0m\n"
      ]
     },
     "metadata": {},
     "output_type": "display_data"
    },
    {
     "data": {
      "text/html": [
       "<pre style=\"white-space:pre;overflow-x:auto;line-height:normal;font-family:Menlo,'DejaVu Sans Mono',consolas,'Courier New',monospace\">┏━━━━━━━━━━━━━━━━━━━━━━━━━━━━━━━━━━━━━━┳━━━━━━━━━━━━━━━━━━━━━━━━━━━━━┳━━━━━━━━━━━━━━━━━┓\n",
       "┃<span style=\"font-weight: bold\"> Layer (type)                         </span>┃<span style=\"font-weight: bold\"> Output Shape                </span>┃<span style=\"font-weight: bold\">         Param # </span>┃\n",
       "┡━━━━━━━━━━━━━━━━━━━━━━━━━━━━━━━━━━━━━━╇━━━━━━━━━━━━━━━━━━━━━━━━━━━━━╇━━━━━━━━━━━━━━━━━┩\n",
       "│ input_layer_10 (<span style=\"color: #0087ff; text-decoration-color: #0087ff\">InputLayer</span>)          │ (<span style=\"color: #00d7ff; text-decoration-color: #00d7ff\">None</span>, <span style=\"color: #00af00; text-decoration-color: #00af00\">30</span>, <span style=\"color: #00af00; text-decoration-color: #00af00\">225</span>)             │               <span style=\"color: #00af00; text-decoration-color: #00af00\">0</span> │\n",
       "├──────────────────────────────────────┼─────────────────────────────┼─────────────────┤\n",
       "│ patch_embedding (<span style=\"color: #0087ff; text-decoration-color: #0087ff\">PatchEmbedding</span>)     │ (<span style=\"color: #00d7ff; text-decoration-color: #00d7ff\">None</span>, <span style=\"color: #00af00; text-decoration-color: #00af00\">30</span>, <span style=\"color: #00af00; text-decoration-color: #00af00\">32</span>)              │           <span style=\"color: #00af00; text-decoration-color: #00af00\">8,192</span> │\n",
       "├──────────────────────────────────────┼─────────────────────────────┼─────────────────┤\n",
       "│ transformer_block (<span style=\"color: #0087ff; text-decoration-color: #0087ff\">TransformerBlock</span>) │ (<span style=\"color: #00d7ff; text-decoration-color: #00d7ff\">None</span>, <span style=\"color: #00af00; text-decoration-color: #00af00\">30</span>, <span style=\"color: #00af00; text-decoration-color: #00af00\">32</span>)              │          <span style=\"color: #00af00; text-decoration-color: #00af00\">12,736</span> │\n",
       "├──────────────────────────────────────┼─────────────────────────────┼─────────────────┤\n",
       "│ global_average_pooling1d             │ (<span style=\"color: #00d7ff; text-decoration-color: #00d7ff\">None</span>, <span style=\"color: #00af00; text-decoration-color: #00af00\">32</span>)                  │               <span style=\"color: #00af00; text-decoration-color: #00af00\">0</span> │\n",
       "│ (<span style=\"color: #0087ff; text-decoration-color: #0087ff\">GlobalAveragePooling1D</span>)             │                             │                 │\n",
       "├──────────────────────────────────────┼─────────────────────────────┼─────────────────┤\n",
       "│ dropout_18 (<span style=\"color: #0087ff; text-decoration-color: #0087ff\">Dropout</span>)                 │ (<span style=\"color: #00d7ff; text-decoration-color: #00d7ff\">None</span>, <span style=\"color: #00af00; text-decoration-color: #00af00\">32</span>)                  │               <span style=\"color: #00af00; text-decoration-color: #00af00\">0</span> │\n",
       "├──────────────────────────────────────┼─────────────────────────────┼─────────────────┤\n",
       "│ dense_18 (<span style=\"color: #0087ff; text-decoration-color: #0087ff\">Dense</span>)                     │ (<span style=\"color: #00d7ff; text-decoration-color: #00d7ff\">None</span>, <span style=\"color: #00af00; text-decoration-color: #00af00\">502</span>)                 │          <span style=\"color: #00af00; text-decoration-color: #00af00\">16,566</span> │\n",
       "└──────────────────────────────────────┴─────────────────────────────┴─────────────────┘\n",
       "</pre>\n"
      ],
      "text/plain": [
       "┏━━━━━━━━━━━━━━━━━━━━━━━━━━━━━━━━━━━━━━┳━━━━━━━━━━━━━━━━━━━━━━━━━━━━━┳━━━━━━━━━━━━━━━━━┓\n",
       "┃\u001b[1m \u001b[0m\u001b[1mLayer (type)                        \u001b[0m\u001b[1m \u001b[0m┃\u001b[1m \u001b[0m\u001b[1mOutput Shape               \u001b[0m\u001b[1m \u001b[0m┃\u001b[1m \u001b[0m\u001b[1m        Param #\u001b[0m\u001b[1m \u001b[0m┃\n",
       "┡━━━━━━━━━━━━━━━━━━━━━━━━━━━━━━━━━━━━━━╇━━━━━━━━━━━━━━━━━━━━━━━━━━━━━╇━━━━━━━━━━━━━━━━━┩\n",
       "│ input_layer_10 (\u001b[38;5;33mInputLayer\u001b[0m)          │ (\u001b[38;5;45mNone\u001b[0m, \u001b[38;5;34m30\u001b[0m, \u001b[38;5;34m225\u001b[0m)             │               \u001b[38;5;34m0\u001b[0m │\n",
       "├──────────────────────────────────────┼─────────────────────────────┼─────────────────┤\n",
       "│ patch_embedding (\u001b[38;5;33mPatchEmbedding\u001b[0m)     │ (\u001b[38;5;45mNone\u001b[0m, \u001b[38;5;34m30\u001b[0m, \u001b[38;5;34m32\u001b[0m)              │           \u001b[38;5;34m8,192\u001b[0m │\n",
       "├──────────────────────────────────────┼─────────────────────────────┼─────────────────┤\n",
       "│ transformer_block (\u001b[38;5;33mTransformerBlock\u001b[0m) │ (\u001b[38;5;45mNone\u001b[0m, \u001b[38;5;34m30\u001b[0m, \u001b[38;5;34m32\u001b[0m)              │          \u001b[38;5;34m12,736\u001b[0m │\n",
       "├──────────────────────────────────────┼─────────────────────────────┼─────────────────┤\n",
       "│ global_average_pooling1d             │ (\u001b[38;5;45mNone\u001b[0m, \u001b[38;5;34m32\u001b[0m)                  │               \u001b[38;5;34m0\u001b[0m │\n",
       "│ (\u001b[38;5;33mGlobalAveragePooling1D\u001b[0m)             │                             │                 │\n",
       "├──────────────────────────────────────┼─────────────────────────────┼─────────────────┤\n",
       "│ dropout_18 (\u001b[38;5;33mDropout\u001b[0m)                 │ (\u001b[38;5;45mNone\u001b[0m, \u001b[38;5;34m32\u001b[0m)                  │               \u001b[38;5;34m0\u001b[0m │\n",
       "├──────────────────────────────────────┼─────────────────────────────┼─────────────────┤\n",
       "│ dense_18 (\u001b[38;5;33mDense\u001b[0m)                     │ (\u001b[38;5;45mNone\u001b[0m, \u001b[38;5;34m502\u001b[0m)                 │          \u001b[38;5;34m16,566\u001b[0m │\n",
       "└──────────────────────────────────────┴─────────────────────────────┴─────────────────┘\n"
      ]
     },
     "metadata": {},
     "output_type": "display_data"
    },
    {
     "data": {
      "text/html": [
       "<pre style=\"white-space:pre;overflow-x:auto;line-height:normal;font-family:Menlo,'DejaVu Sans Mono',consolas,'Courier New',monospace\"><span style=\"font-weight: bold\"> Total params: </span><span style=\"color: #00af00; text-decoration-color: #00af00\">37,494</span> (146.46 KB)\n",
       "</pre>\n"
      ],
      "text/plain": [
       "\u001b[1m Total params: \u001b[0m\u001b[38;5;34m37,494\u001b[0m (146.46 KB)\n"
      ]
     },
     "metadata": {},
     "output_type": "display_data"
    },
    {
     "data": {
      "text/html": [
       "<pre style=\"white-space:pre;overflow-x:auto;line-height:normal;font-family:Menlo,'DejaVu Sans Mono',consolas,'Courier New',monospace\"><span style=\"font-weight: bold\"> Trainable params: </span><span style=\"color: #00af00; text-decoration-color: #00af00\">37,494</span> (146.46 KB)\n",
       "</pre>\n"
      ],
      "text/plain": [
       "\u001b[1m Trainable params: \u001b[0m\u001b[38;5;34m37,494\u001b[0m (146.46 KB)\n"
      ]
     },
     "metadata": {},
     "output_type": "display_data"
    },
    {
     "data": {
      "text/html": [
       "<pre style=\"white-space:pre;overflow-x:auto;line-height:normal;font-family:Menlo,'DejaVu Sans Mono',consolas,'Courier New',monospace\"><span style=\"font-weight: bold\"> Non-trainable params: </span><span style=\"color: #00af00; text-decoration-color: #00af00\">0</span> (0.00 B)\n",
       "</pre>\n"
      ],
      "text/plain": [
       "\u001b[1m Non-trainable params: \u001b[0m\u001b[38;5;34m0\u001b[0m (0.00 B)\n"
      ]
     },
     "metadata": {},
     "output_type": "display_data"
    },
    {
     "name": "stdout",
     "output_type": "stream",
     "text": [
      "Epoch 1/12\n",
      "\n",
      "Epoch 1: val_accuracy improved from -inf to 0.03203, saving model to ViT_fold1.h5\n"
     ]
    },
    {
     "name": "stderr",
     "output_type": "stream",
     "text": [
      "WARNING:absl:You are saving your model as an HDF5 file via `model.save()` or `keras.saving.save_model(model)`. This file format is considered legacy. We recommend using instead the native Keras format, e.g. `model.save('my_model.keras')` or `keras.saving.save_model(model, 'my_model.keras')`. \n"
     ]
    },
    {
     "name": "stdout",
     "output_type": "stream",
     "text": [
      "1464/1464 - 11s - 7ms/step - accuracy: 0.0110 - loss: 5.8647 - val_accuracy: 0.0320 - val_loss: 5.2246\n",
      "Epoch 2/12\n",
      "\n",
      "Epoch 2: val_accuracy improved from 0.03203 to 0.10465, saving model to ViT_fold1.h5\n"
     ]
    },
    {
     "name": "stderr",
     "output_type": "stream",
     "text": [
      "WARNING:absl:You are saving your model as an HDF5 file via `model.save()` or `keras.saving.save_model(model)`. This file format is considered legacy. We recommend using instead the native Keras format, e.g. `model.save('my_model.keras')` or `keras.saving.save_model(model, 'my_model.keras')`. \n"
     ]
    },
    {
     "name": "stdout",
     "output_type": "stream",
     "text": [
      "1464/1464 - 8s - 5ms/step - accuracy: 0.0479 - loss: 4.8136 - val_accuracy: 0.1046 - val_loss: 4.2623\n",
      "Epoch 3/12\n",
      "\n",
      "Epoch 3: val_accuracy improved from 0.10465 to 0.20195, saving model to ViT_fold1.h5\n"
     ]
    },
    {
     "name": "stderr",
     "output_type": "stream",
     "text": [
      "WARNING:absl:You are saving your model as an HDF5 file via `model.save()` or `keras.saving.save_model(model)`. This file format is considered legacy. We recommend using instead the native Keras format, e.g. `model.save('my_model.keras')` or `keras.saving.save_model(model, 'my_model.keras')`. \n"
     ]
    },
    {
     "name": "stdout",
     "output_type": "stream",
     "text": [
      "1464/1464 - 8s - 5ms/step - accuracy: 0.0996 - loss: 4.0987 - val_accuracy: 0.2019 - val_loss: 3.5884\n",
      "Epoch 4/12\n",
      "\n",
      "Epoch 4: val_accuracy improved from 0.20195 to 0.31838, saving model to ViT_fold1.h5\n"
     ]
    },
    {
     "name": "stderr",
     "output_type": "stream",
     "text": [
      "WARNING:absl:You are saving your model as an HDF5 file via `model.save()` or `keras.saving.save_model(model)`. This file format is considered legacy. We recommend using instead the native Keras format, e.g. `model.save('my_model.keras')` or `keras.saving.save_model(model, 'my_model.keras')`. \n"
     ]
    },
    {
     "name": "stdout",
     "output_type": "stream",
     "text": [
      "1464/1464 - 8s - 5ms/step - accuracy: 0.1668 - loss: 3.5423 - val_accuracy: 0.3184 - val_loss: 3.0258\n",
      "Epoch 5/12\n",
      "\n",
      "Epoch 5: val_accuracy improved from 0.31838 to 0.38946, saving model to ViT_fold1.h5\n"
     ]
    },
    {
     "name": "stderr",
     "output_type": "stream",
     "text": [
      "WARNING:absl:You are saving your model as an HDF5 file via `model.save()` or `keras.saving.save_model(model)`. This file format is considered legacy. We recommend using instead the native Keras format, e.g. `model.save('my_model.keras')` or `keras.saving.save_model(model, 'my_model.keras')`. \n"
     ]
    },
    {
     "name": "stdout",
     "output_type": "stream",
     "text": [
      "1464/1464 - 7s - 5ms/step - accuracy: 0.2371 - loss: 3.0859 - val_accuracy: 0.3895 - val_loss: 2.5771\n",
      "Epoch 6/12\n",
      "\n",
      "Epoch 6: val_accuracy improved from 0.38946 to 0.46019, saving model to ViT_fold1.h5\n"
     ]
    },
    {
     "name": "stderr",
     "output_type": "stream",
     "text": [
      "WARNING:absl:You are saving your model as an HDF5 file via `model.save()` or `keras.saving.save_model(model)`. This file format is considered legacy. We recommend using instead the native Keras format, e.g. `model.save('my_model.keras')` or `keras.saving.save_model(model, 'my_model.keras')`. \n"
     ]
    },
    {
     "name": "stdout",
     "output_type": "stream",
     "text": [
      "1464/1464 - 8s - 5ms/step - accuracy: 0.3013 - loss: 2.7248 - val_accuracy: 0.4602 - val_loss: 2.2407\n",
      "Epoch 7/12\n",
      "\n",
      "Epoch 7: val_accuracy improved from 0.46019 to 0.51059, saving model to ViT_fold1.h5\n"
     ]
    },
    {
     "name": "stderr",
     "output_type": "stream",
     "text": [
      "WARNING:absl:You are saving your model as an HDF5 file via `model.save()` or `keras.saving.save_model(model)`. This file format is considered legacy. We recommend using instead the native Keras format, e.g. `model.save('my_model.keras')` or `keras.saving.save_model(model, 'my_model.keras')`. \n"
     ]
    },
    {
     "name": "stdout",
     "output_type": "stream",
     "text": [
      "1464/1464 - 8s - 5ms/step - accuracy: 0.3600 - loss: 2.4324 - val_accuracy: 0.5106 - val_loss: 1.9799\n",
      "Epoch 8/12\n",
      "\n",
      "Epoch 8: val_accuracy improved from 0.51059 to 0.55630, saving model to ViT_fold1.h5\n"
     ]
    },
    {
     "name": "stderr",
     "output_type": "stream",
     "text": [
      "WARNING:absl:You are saving your model as an HDF5 file via `model.save()` or `keras.saving.save_model(model)`. This file format is considered legacy. We recommend using instead the native Keras format, e.g. `model.save('my_model.keras')` or `keras.saving.save_model(model, 'my_model.keras')`. \n"
     ]
    },
    {
     "name": "stdout",
     "output_type": "stream",
     "text": [
      "1464/1464 - 8s - 5ms/step - accuracy: 0.4047 - loss: 2.2164 - val_accuracy: 0.5563 - val_loss: 1.7832\n",
      "Epoch 9/12\n",
      "\n",
      "Epoch 9: val_accuracy improved from 0.55630 to 0.59158, saving model to ViT_fold1.h5\n"
     ]
    },
    {
     "name": "stderr",
     "output_type": "stream",
     "text": [
      "WARNING:absl:You are saving your model as an HDF5 file via `model.save()` or `keras.saving.save_model(model)`. This file format is considered legacy. We recommend using instead the native Keras format, e.g. `model.save('my_model.keras')` or `keras.saving.save_model(model, 'my_model.keras')`. \n"
     ]
    },
    {
     "name": "stdout",
     "output_type": "stream",
     "text": [
      "1464/1464 - 8s - 5ms/step - accuracy: 0.4490 - loss: 2.0198 - val_accuracy: 0.5916 - val_loss: 1.6057\n",
      "Epoch 10/12\n",
      "\n",
      "Epoch 10: val_accuracy improved from 0.59158 to 0.62686, saving model to ViT_fold1.h5\n"
     ]
    },
    {
     "name": "stderr",
     "output_type": "stream",
     "text": [
      "WARNING:absl:You are saving your model as an HDF5 file via `model.save()` or `keras.saving.save_model(model)`. This file format is considered legacy. We recommend using instead the native Keras format, e.g. `model.save('my_model.keras')` or `keras.saving.save_model(model, 'my_model.keras')`. \n"
     ]
    },
    {
     "name": "stdout",
     "output_type": "stream",
     "text": [
      "1464/1464 - 8s - 5ms/step - accuracy: 0.4922 - loss: 1.8485 - val_accuracy: 0.6269 - val_loss: 1.4584\n",
      "Epoch 11/12\n",
      "\n",
      "Epoch 11: val_accuracy improved from 0.62686 to 0.66052, saving model to ViT_fold1.h5\n"
     ]
    },
    {
     "name": "stderr",
     "output_type": "stream",
     "text": [
      "WARNING:absl:You are saving your model as an HDF5 file via `model.save()` or `keras.saving.save_model(model)`. This file format is considered legacy. We recommend using instead the native Keras format, e.g. `model.save('my_model.keras')` or `keras.saving.save_model(model, 'my_model.keras')`. \n"
     ]
    },
    {
     "name": "stdout",
     "output_type": "stream",
     "text": [
      "1464/1464 - 9s - 6ms/step - accuracy: 0.5273 - loss: 1.7003 - val_accuracy: 0.6605 - val_loss: 1.3309\n",
      "Epoch 12/12\n",
      "\n",
      "Epoch 12: val_accuracy improved from 0.66052 to 0.67734, saving model to ViT_fold1.h5\n"
     ]
    },
    {
     "name": "stderr",
     "output_type": "stream",
     "text": [
      "WARNING:absl:You are saving your model as an HDF5 file via `model.save()` or `keras.saving.save_model(model)`. This file format is considered legacy. We recommend using instead the native Keras format, e.g. `model.save('my_model.keras')` or `keras.saving.save_model(model, 'my_model.keras')`. \n"
     ]
    },
    {
     "name": "stdout",
     "output_type": "stream",
     "text": [
      "1464/1464 - 9s - 6ms/step - accuracy: 0.5617 - loss: 1.5674 - val_accuracy: 0.6773 - val_loss: 1.2335\n",
      "Fold 1 results: train_acc=0.6879, val_acc=0.6773, test_acc=0.6814\n",
      "\n",
      "Training fold 2 / 5 for ViT\n",
      "Epoch 1/12\n",
      "\n",
      "Epoch 1: val_accuracy improved from -inf to 0.03067, saving model to ViT_fold2.h5\n"
     ]
    },
    {
     "name": "stderr",
     "output_type": "stream",
     "text": [
      "WARNING:absl:You are saving your model as an HDF5 file via `model.save()` or `keras.saving.save_model(model)`. This file format is considered legacy. We recommend using instead the native Keras format, e.g. `model.save('my_model.keras')` or `keras.saving.save_model(model, 'my_model.keras')`. \n"
     ]
    },
    {
     "name": "stdout",
     "output_type": "stream",
     "text": [
      "1464/1464 - 14s - 9ms/step - accuracy: 0.0086 - loss: 5.8749 - val_accuracy: 0.0307 - val_loss: 5.2608\n",
      "Epoch 2/12\n",
      "\n",
      "Epoch 2: val_accuracy improved from 0.03067 to 0.11003, saving model to ViT_fold2.h5\n"
     ]
    },
    {
     "name": "stderr",
     "output_type": "stream",
     "text": [
      "WARNING:absl:You are saving your model as an HDF5 file via `model.save()` or `keras.saving.save_model(model)`. This file format is considered legacy. We recommend using instead the native Keras format, e.g. `model.save('my_model.keras')` or `keras.saving.save_model(model, 'my_model.keras')`. \n"
     ]
    },
    {
     "name": "stdout",
     "output_type": "stream",
     "text": [
      "1464/1464 - 9s - 6ms/step - accuracy: 0.0478 - loss: 4.7743 - val_accuracy: 0.1100 - val_loss: 4.1882\n",
      "Epoch 3/12\n",
      "\n",
      "Epoch 3: val_accuracy improved from 0.11003 to 0.21297, saving model to ViT_fold2.h5\n"
     ]
    },
    {
     "name": "stderr",
     "output_type": "stream",
     "text": [
      "WARNING:absl:You are saving your model as an HDF5 file via `model.save()` or `keras.saving.save_model(model)`. This file format is considered legacy. We recommend using instead the native Keras format, e.g. `model.save('my_model.keras')` or `keras.saving.save_model(model, 'my_model.keras')`. \n"
     ]
    },
    {
     "name": "stdout",
     "output_type": "stream",
     "text": [
      "1464/1464 - 9s - 6ms/step - accuracy: 0.1080 - loss: 4.0087 - val_accuracy: 0.2130 - val_loss: 3.4957\n",
      "Epoch 4/12\n",
      "\n",
      "Epoch 4: val_accuracy improved from 0.21297 to 0.29703, saving model to ViT_fold2.h5\n"
     ]
    },
    {
     "name": "stderr",
     "output_type": "stream",
     "text": [
      "WARNING:absl:You are saving your model as an HDF5 file via `model.save()` or `keras.saving.save_model(model)`. This file format is considered legacy. We recommend using instead the native Keras format, e.g. `model.save('my_model.keras')` or `keras.saving.save_model(model, 'my_model.keras')`. \n"
     ]
    },
    {
     "name": "stdout",
     "output_type": "stream",
     "text": [
      "1464/1464 - 10s - 7ms/step - accuracy: 0.1732 - loss: 3.4753 - val_accuracy: 0.2970 - val_loss: 2.9881\n",
      "Epoch 5/12\n",
      "\n",
      "Epoch 5: val_accuracy improved from 0.29703 to 0.38117, saving model to ViT_fold2.h5\n"
     ]
    },
    {
     "name": "stderr",
     "output_type": "stream",
     "text": [
      "WARNING:absl:You are saving your model as an HDF5 file via `model.save()` or `keras.saving.save_model(model)`. This file format is considered legacy. We recommend using instead the native Keras format, e.g. `model.save('my_model.keras')` or `keras.saving.save_model(model, 'my_model.keras')`. \n"
     ]
    },
    {
     "name": "stdout",
     "output_type": "stream",
     "text": [
      "1464/1464 - 10s - 7ms/step - accuracy: 0.2397 - loss: 3.0603 - val_accuracy: 0.3812 - val_loss: 2.5965\n",
      "Epoch 6/12\n",
      "\n",
      "Epoch 6: val_accuracy improved from 0.38117 to 0.44883, saving model to ViT_fold2.h5\n"
     ]
    },
    {
     "name": "stderr",
     "output_type": "stream",
     "text": [
      "WARNING:absl:You are saving your model as an HDF5 file via `model.save()` or `keras.saving.save_model(model)`. This file format is considered legacy. We recommend using instead the native Keras format, e.g. `model.save('my_model.keras')` or `keras.saving.save_model(model, 'my_model.keras')`. \n"
     ]
    },
    {
     "name": "stdout",
     "output_type": "stream",
     "text": [
      "1464/1464 - 8s - 6ms/step - accuracy: 0.2980 - loss: 2.7374 - val_accuracy: 0.4488 - val_loss: 2.2831\n",
      "Epoch 7/12\n",
      "\n",
      "Epoch 7: val_accuracy improved from 0.44883 to 0.49556, saving model to ViT_fold2.h5\n"
     ]
    },
    {
     "name": "stderr",
     "output_type": "stream",
     "text": [
      "WARNING:absl:You are saving your model as an HDF5 file via `model.save()` or `keras.saving.save_model(model)`. This file format is considered legacy. We recommend using instead the native Keras format, e.g. `model.save('my_model.keras')` or `keras.saving.save_model(model, 'my_model.keras')`. \n"
     ]
    },
    {
     "name": "stdout",
     "output_type": "stream",
     "text": [
      "1464/1464 - 10s - 7ms/step - accuracy: 0.3472 - loss: 2.4894 - val_accuracy: 0.4956 - val_loss: 2.0692\n",
      "Epoch 8/12\n",
      "\n",
      "Epoch 8: val_accuracy improved from 0.49556 to 0.53058, saving model to ViT_fold2.h5\n"
     ]
    },
    {
     "name": "stderr",
     "output_type": "stream",
     "text": [
      "WARNING:absl:You are saving your model as an HDF5 file via `model.save()` or `keras.saving.save_model(model)`. This file format is considered legacy. We recommend using instead the native Keras format, e.g. `model.save('my_model.keras')` or `keras.saving.save_model(model, 'my_model.keras')`. \n"
     ]
    },
    {
     "name": "stdout",
     "output_type": "stream",
     "text": [
      "1464/1464 - 9s - 6ms/step - accuracy: 0.3907 - loss: 2.2805 - val_accuracy: 0.5306 - val_loss: 1.8785\n",
      "Epoch 9/12\n",
      "\n",
      "Epoch 9: val_accuracy improved from 0.53058 to 0.56099, saving model to ViT_fold2.h5\n"
     ]
    },
    {
     "name": "stderr",
     "output_type": "stream",
     "text": [
      "WARNING:absl:You are saving your model as an HDF5 file via `model.save()` or `keras.saving.save_model(model)`. This file format is considered legacy. We recommend using instead the native Keras format, e.g. `model.save('my_model.keras')` or `keras.saving.save_model(model, 'my_model.keras')`. \n"
     ]
    },
    {
     "name": "stdout",
     "output_type": "stream",
     "text": [
      "1464/1464 - 8s - 6ms/step - accuracy: 0.4271 - loss: 2.1063 - val_accuracy: 0.5610 - val_loss: 1.7301\n",
      "Epoch 10/12\n",
      "\n",
      "Epoch 10: val_accuracy improved from 0.56099 to 0.59226, saving model to ViT_fold2.h5\n"
     ]
    },
    {
     "name": "stderr",
     "output_type": "stream",
     "text": [
      "WARNING:absl:You are saving your model as an HDF5 file via `model.save()` or `keras.saving.save_model(model)`. This file format is considered legacy. We recommend using instead the native Keras format, e.g. `model.save('my_model.keras')` or `keras.saving.save_model(model, 'my_model.keras')`. \n"
     ]
    },
    {
     "name": "stdout",
     "output_type": "stream",
     "text": [
      "1464/1464 - 11s - 7ms/step - accuracy: 0.4642 - loss: 1.9519 - val_accuracy: 0.5923 - val_loss: 1.5901\n",
      "Epoch 11/12\n",
      "\n",
      "Epoch 11: val_accuracy improved from 0.59226 to 0.62498, saving model to ViT_fold2.h5\n"
     ]
    },
    {
     "name": "stderr",
     "output_type": "stream",
     "text": [
      "WARNING:absl:You are saving your model as an HDF5 file via `model.save()` or `keras.saving.save_model(model)`. This file format is considered legacy. We recommend using instead the native Keras format, e.g. `model.save('my_model.keras')` or `keras.saving.save_model(model, 'my_model.keras')`. \n"
     ]
    },
    {
     "name": "stdout",
     "output_type": "stream",
     "text": [
      "1464/1464 - 8s - 6ms/step - accuracy: 0.4960 - loss: 1.8155 - val_accuracy: 0.6250 - val_loss: 1.4694\n",
      "Epoch 12/12\n",
      "\n",
      "Epoch 12: val_accuracy improved from 0.62498 to 0.65240, saving model to ViT_fold2.h5\n"
     ]
    },
    {
     "name": "stderr",
     "output_type": "stream",
     "text": [
      "WARNING:absl:You are saving your model as an HDF5 file via `model.save()` or `keras.saving.save_model(model)`. This file format is considered legacy. We recommend using instead the native Keras format, e.g. `model.save('my_model.keras')` or `keras.saving.save_model(model, 'my_model.keras')`. \n"
     ]
    },
    {
     "name": "stdout",
     "output_type": "stream",
     "text": [
      "1464/1464 - 9s - 6ms/step - accuracy: 0.5291 - loss: 1.6835 - val_accuracy: 0.6524 - val_loss: 1.3555\n",
      "Fold 2 results: train_acc=0.6731, val_acc=0.6524, test_acc=0.6637\n",
      "\n",
      "Training fold 3 / 5 for ViT\n",
      "Epoch 1/12\n",
      "\n",
      "Epoch 1: val_accuracy improved from -inf to 0.02862, saving model to ViT_fold3.h5\n"
     ]
    },
    {
     "name": "stderr",
     "output_type": "stream",
     "text": [
      "WARNING:absl:You are saving your model as an HDF5 file via `model.save()` or `keras.saving.save_model(model)`. This file format is considered legacy. We recommend using instead the native Keras format, e.g. `model.save('my_model.keras')` or `keras.saving.save_model(model, 'my_model.keras')`. \n"
     ]
    },
    {
     "name": "stdout",
     "output_type": "stream",
     "text": [
      "1464/1464 - 11s - 8ms/step - accuracy: 0.0092 - loss: 5.8492 - val_accuracy: 0.0286 - val_loss: 5.2002\n",
      "Epoch 2/12\n",
      "\n",
      "Epoch 2: val_accuracy improved from 0.02862 to 0.09192, saving model to ViT_fold3.h5\n"
     ]
    },
    {
     "name": "stderr",
     "output_type": "stream",
     "text": [
      "WARNING:absl:You are saving your model as an HDF5 file via `model.save()` or `keras.saving.save_model(model)`. This file format is considered legacy. We recommend using instead the native Keras format, e.g. `model.save('my_model.keras')` or `keras.saving.save_model(model, 'my_model.keras')`. \n"
     ]
    },
    {
     "name": "stdout",
     "output_type": "stream",
     "text": [
      "1464/1464 - 8s - 5ms/step - accuracy: 0.0407 - loss: 4.8593 - val_accuracy: 0.0919 - val_loss: 4.3627\n",
      "Epoch 3/12\n",
      "\n",
      "Epoch 3: val_accuracy improved from 0.09192 to 0.18802, saving model to ViT_fold3.h5\n"
     ]
    },
    {
     "name": "stderr",
     "output_type": "stream",
     "text": [
      "WARNING:absl:You are saving your model as an HDF5 file via `model.save()` or `keras.saving.save_model(model)`. This file format is considered legacy. We recommend using instead the native Keras format, e.g. `model.save('my_model.keras')` or `keras.saving.save_model(model, 'my_model.keras')`. \n"
     ]
    },
    {
     "name": "stdout",
     "output_type": "stream",
     "text": [
      "1464/1464 - 8s - 5ms/step - accuracy: 0.0917 - loss: 4.2039 - val_accuracy: 0.1880 - val_loss: 3.6968\n",
      "Epoch 4/12\n",
      "\n",
      "Epoch 4: val_accuracy improved from 0.18802 to 0.28942, saving model to ViT_fold3.h5\n"
     ]
    },
    {
     "name": "stderr",
     "output_type": "stream",
     "text": [
      "WARNING:absl:You are saving your model as an HDF5 file via `model.save()` or `keras.saving.save_model(model)`. This file format is considered legacy. We recommend using instead the native Keras format, e.g. `model.save('my_model.keras')` or `keras.saving.save_model(model, 'my_model.keras')`. \n"
     ]
    },
    {
     "name": "stdout",
     "output_type": "stream",
     "text": [
      "1464/1464 - 8s - 5ms/step - accuracy: 0.1623 - loss: 3.6178 - val_accuracy: 0.2894 - val_loss: 3.0765\n",
      "Epoch 5/12\n",
      "\n",
      "Epoch 5: val_accuracy improved from 0.28942 to 0.39006, saving model to ViT_fold3.h5\n"
     ]
    },
    {
     "name": "stderr",
     "output_type": "stream",
     "text": [
      "WARNING:absl:You are saving your model as an HDF5 file via `model.save()` or `keras.saving.save_model(model)`. This file format is considered legacy. We recommend using instead the native Keras format, e.g. `model.save('my_model.keras')` or `keras.saving.save_model(model, 'my_model.keras')`. \n"
     ]
    },
    {
     "name": "stdout",
     "output_type": "stream",
     "text": [
      "1464/1464 - 8s - 5ms/step - accuracy: 0.2404 - loss: 3.1015 - val_accuracy: 0.3901 - val_loss: 2.5852\n",
      "Epoch 6/12\n",
      "\n",
      "Epoch 6: val_accuracy improved from 0.39006 to 0.45105, saving model to ViT_fold3.h5\n"
     ]
    },
    {
     "name": "stderr",
     "output_type": "stream",
     "text": [
      "WARNING:absl:You are saving your model as an HDF5 file via `model.save()` or `keras.saving.save_model(model)`. This file format is considered legacy. We recommend using instead the native Keras format, e.g. `model.save('my_model.keras')` or `keras.saving.save_model(model, 'my_model.keras')`. \n"
     ]
    },
    {
     "name": "stdout",
     "output_type": "stream",
     "text": [
      "1464/1464 - 9s - 6ms/step - accuracy: 0.3051 - loss: 2.7159 - val_accuracy: 0.4511 - val_loss: 2.2405\n",
      "Epoch 7/12\n",
      "\n",
      "Epoch 7: val_accuracy improved from 0.45105 to 0.50589, saving model to ViT_fold3.h5\n"
     ]
    },
    {
     "name": "stderr",
     "output_type": "stream",
     "text": [
      "WARNING:absl:You are saving your model as an HDF5 file via `model.save()` or `keras.saving.save_model(model)`. This file format is considered legacy. We recommend using instead the native Keras format, e.g. `model.save('my_model.keras')` or `keras.saving.save_model(model, 'my_model.keras')`. \n"
     ]
    },
    {
     "name": "stdout",
     "output_type": "stream",
     "text": [
      "1464/1464 - 8s - 6ms/step - accuracy: 0.3623 - loss: 2.4275 - val_accuracy: 0.5059 - val_loss: 1.9800\n",
      "Epoch 8/12\n",
      "\n",
      "Epoch 8: val_accuracy improved from 0.50589 to 0.56296, saving model to ViT_fold3.h5\n"
     ]
    },
    {
     "name": "stderr",
     "output_type": "stream",
     "text": [
      "WARNING:absl:You are saving your model as an HDF5 file via `model.save()` or `keras.saving.save_model(model)`. This file format is considered legacy. We recommend using instead the native Keras format, e.g. `model.save('my_model.keras')` or `keras.saving.save_model(model, 'my_model.keras')`. \n"
     ]
    },
    {
     "name": "stdout",
     "output_type": "stream",
     "text": [
      "1464/1464 - 10s - 7ms/step - accuracy: 0.4093 - loss: 2.1997 - val_accuracy: 0.5630 - val_loss: 1.7694\n",
      "Epoch 9/12\n",
      "\n",
      "Epoch 9: val_accuracy improved from 0.56296 to 0.59790, saving model to ViT_fold3.h5\n"
     ]
    },
    {
     "name": "stderr",
     "output_type": "stream",
     "text": [
      "WARNING:absl:You are saving your model as an HDF5 file via `model.save()` or `keras.saving.save_model(model)`. This file format is considered legacy. We recommend using instead the native Keras format, e.g. `model.save('my_model.keras')` or `keras.saving.save_model(model, 'my_model.keras')`. \n"
     ]
    },
    {
     "name": "stdout",
     "output_type": "stream",
     "text": [
      "1464/1464 - 8s - 6ms/step - accuracy: 0.4521 - loss: 2.0061 - val_accuracy: 0.5979 - val_loss: 1.5972\n",
      "Epoch 10/12\n",
      "\n",
      "Epoch 10: val_accuracy improved from 0.59790 to 0.63284, saving model to ViT_fold3.h5\n"
     ]
    },
    {
     "name": "stderr",
     "output_type": "stream",
     "text": [
      "WARNING:absl:You are saving your model as an HDF5 file via `model.save()` or `keras.saving.save_model(model)`. This file format is considered legacy. We recommend using instead the native Keras format, e.g. `model.save('my_model.keras')` or `keras.saving.save_model(model, 'my_model.keras')`. \n"
     ]
    },
    {
     "name": "stdout",
     "output_type": "stream",
     "text": [
      "1464/1464 - 8s - 6ms/step - accuracy: 0.4939 - loss: 1.8384 - val_accuracy: 0.6328 - val_loss: 1.4534\n",
      "Epoch 11/12\n",
      "\n",
      "Epoch 11: val_accuracy improved from 0.63284 to 0.65718, saving model to ViT_fold3.h5\n"
     ]
    },
    {
     "name": "stderr",
     "output_type": "stream",
     "text": [
      "WARNING:absl:You are saving your model as an HDF5 file via `model.save()` or `keras.saving.save_model(model)`. This file format is considered legacy. We recommend using instead the native Keras format, e.g. `model.save('my_model.keras')` or `keras.saving.save_model(model, 'my_model.keras')`. \n"
     ]
    },
    {
     "name": "stdout",
     "output_type": "stream",
     "text": [
      "1464/1464 - 9s - 6ms/step - accuracy: 0.5319 - loss: 1.6900 - val_accuracy: 0.6572 - val_loss: 1.3319\n",
      "Epoch 12/12\n",
      "\n",
      "Epoch 12: val_accuracy improved from 0.65718 to 0.68760, saving model to ViT_fold3.h5\n"
     ]
    },
    {
     "name": "stderr",
     "output_type": "stream",
     "text": [
      "WARNING:absl:You are saving your model as an HDF5 file via `model.save()` or `keras.saving.save_model(model)`. This file format is considered legacy. We recommend using instead the native Keras format, e.g. `model.save('my_model.keras')` or `keras.saving.save_model(model, 'my_model.keras')`. \n"
     ]
    },
    {
     "name": "stdout",
     "output_type": "stream",
     "text": [
      "1464/1464 - 10s - 7ms/step - accuracy: 0.5657 - loss: 1.5566 - val_accuracy: 0.6876 - val_loss: 1.2118\n",
      "Fold 3 results: train_acc=0.7039, val_acc=0.6876, test_acc=0.6917\n",
      "\n",
      "Training fold 4 / 5 for ViT\n",
      "Epoch 1/12\n",
      "\n",
      "Epoch 1: val_accuracy improved from -inf to 0.03349, saving model to ViT_fold4.h5\n"
     ]
    },
    {
     "name": "stderr",
     "output_type": "stream",
     "text": [
      "WARNING:absl:You are saving your model as an HDF5 file via `model.save()` or `keras.saving.save_model(model)`. This file format is considered legacy. We recommend using instead the native Keras format, e.g. `model.save('my_model.keras')` or `keras.saving.save_model(model, 'my_model.keras')`. \n"
     ]
    },
    {
     "name": "stdout",
     "output_type": "stream",
     "text": [
      "1464/1464 - 14s - 9ms/step - accuracy: 0.0107 - loss: 5.8560 - val_accuracy: 0.0335 - val_loss: 5.2874\n",
      "Epoch 2/12\n",
      "\n",
      "Epoch 2: val_accuracy improved from 0.03349 to 0.09551, saving model to ViT_fold4.h5\n"
     ]
    },
    {
     "name": "stderr",
     "output_type": "stream",
     "text": [
      "WARNING:absl:You are saving your model as an HDF5 file via `model.save()` or `keras.saving.save_model(model)`. This file format is considered legacy. We recommend using instead the native Keras format, e.g. `model.save('my_model.keras')` or `keras.saving.save_model(model, 'my_model.keras')`. \n"
     ]
    },
    {
     "name": "stdout",
     "output_type": "stream",
     "text": [
      "1464/1464 - 10s - 7ms/step - accuracy: 0.0446 - loss: 4.8303 - val_accuracy: 0.0955 - val_loss: 4.2791\n",
      "Epoch 3/12\n",
      "\n",
      "Epoch 3: val_accuracy improved from 0.09551 to 0.17769, saving model to ViT_fold4.h5\n"
     ]
    },
    {
     "name": "stderr",
     "output_type": "stream",
     "text": [
      "WARNING:absl:You are saving your model as an HDF5 file via `model.save()` or `keras.saving.save_model(model)`. This file format is considered legacy. We recommend using instead the native Keras format, e.g. `model.save('my_model.keras')` or `keras.saving.save_model(model, 'my_model.keras')`. \n"
     ]
    },
    {
     "name": "stdout",
     "output_type": "stream",
     "text": [
      "1464/1464 - 11s - 7ms/step - accuracy: 0.0872 - loss: 4.1500 - val_accuracy: 0.1777 - val_loss: 3.6869\n",
      "Epoch 4/12\n",
      "\n",
      "Epoch 4: val_accuracy improved from 0.17769 to 0.25671, saving model to ViT_fold4.h5\n"
     ]
    },
    {
     "name": "stderr",
     "output_type": "stream",
     "text": [
      "WARNING:absl:You are saving your model as an HDF5 file via `model.save()` or `keras.saving.save_model(model)`. This file format is considered legacy. We recommend using instead the native Keras format, e.g. `model.save('my_model.keras')` or `keras.saving.save_model(model, 'my_model.keras')`. \n"
     ]
    },
    {
     "name": "stdout",
     "output_type": "stream",
     "text": [
      "1464/1464 - 8s - 6ms/step - accuracy: 0.1463 - loss: 3.6556 - val_accuracy: 0.2567 - val_loss: 3.1733\n",
      "Epoch 5/12\n",
      "\n",
      "Epoch 5: val_accuracy improved from 0.25671 to 0.35127, saving model to ViT_fold4.h5\n"
     ]
    },
    {
     "name": "stderr",
     "output_type": "stream",
     "text": [
      "WARNING:absl:You are saving your model as an HDF5 file via `model.save()` or `keras.saving.save_model(model)`. This file format is considered legacy. We recommend using instead the native Keras format, e.g. `model.save('my_model.keras')` or `keras.saving.save_model(model, 'my_model.keras')`. \n"
     ]
    },
    {
     "name": "stdout",
     "output_type": "stream",
     "text": [
      "1464/1464 - 9s - 6ms/step - accuracy: 0.2135 - loss: 3.2134 - val_accuracy: 0.3513 - val_loss: 2.7322\n",
      "Epoch 6/12\n",
      "\n",
      "Epoch 6: val_accuracy improved from 0.35127 to 0.42072, saving model to ViT_fold4.h5\n"
     ]
    },
    {
     "name": "stderr",
     "output_type": "stream",
     "text": [
      "WARNING:absl:You are saving your model as an HDF5 file via `model.save()` or `keras.saving.save_model(model)`. This file format is considered legacy. We recommend using instead the native Keras format, e.g. `model.save('my_model.keras')` or `keras.saving.save_model(model, 'my_model.keras')`. \n"
     ]
    },
    {
     "name": "stdout",
     "output_type": "stream",
     "text": [
      "1464/1464 - 9s - 6ms/step - accuracy: 0.2745 - loss: 2.8584 - val_accuracy: 0.4207 - val_loss: 2.3948\n",
      "Epoch 7/12\n",
      "\n",
      "Epoch 7: val_accuracy improved from 0.42072 to 0.47138, saving model to ViT_fold4.h5\n"
     ]
    },
    {
     "name": "stderr",
     "output_type": "stream",
     "text": [
      "WARNING:absl:You are saving your model as an HDF5 file via `model.save()` or `keras.saving.save_model(model)`. This file format is considered legacy. We recommend using instead the native Keras format, e.g. `model.save('my_model.keras')` or `keras.saving.save_model(model, 'my_model.keras')`. \n"
     ]
    },
    {
     "name": "stdout",
     "output_type": "stream",
     "text": [
      "1464/1464 - 9s - 6ms/step - accuracy: 0.3295 - loss: 2.5681 - val_accuracy: 0.4714 - val_loss: 2.1226\n",
      "Epoch 8/12\n",
      "\n",
      "Epoch 8: val_accuracy improved from 0.47138 to 0.51726, saving model to ViT_fold4.h5\n"
     ]
    },
    {
     "name": "stderr",
     "output_type": "stream",
     "text": [
      "WARNING:absl:You are saving your model as an HDF5 file via `model.save()` or `keras.saving.save_model(model)`. This file format is considered legacy. We recommend using instead the native Keras format, e.g. `model.save('my_model.keras')` or `keras.saving.save_model(model, 'my_model.keras')`. \n"
     ]
    },
    {
     "name": "stdout",
     "output_type": "stream",
     "text": [
      "1464/1464 - 8s - 6ms/step - accuracy: 0.3747 - loss: 2.3451 - val_accuracy: 0.5173 - val_loss: 1.9128\n",
      "Epoch 9/12\n",
      "\n",
      "Epoch 9: val_accuracy improved from 0.51726 to 0.55006, saving model to ViT_fold4.h5\n"
     ]
    },
    {
     "name": "stderr",
     "output_type": "stream",
     "text": [
      "WARNING:absl:You are saving your model as an HDF5 file via `model.save()` or `keras.saving.save_model(model)`. This file format is considered legacy. We recommend using instead the native Keras format, e.g. `model.save('my_model.keras')` or `keras.saving.save_model(model, 'my_model.keras')`. \n"
     ]
    },
    {
     "name": "stdout",
     "output_type": "stream",
     "text": [
      "1464/1464 - 8s - 5ms/step - accuracy: 0.4152 - loss: 2.1467 - val_accuracy: 0.5501 - val_loss: 1.7423\n",
      "Epoch 10/12\n",
      "\n",
      "Epoch 10: val_accuracy improved from 0.55006 to 0.58654, saving model to ViT_fold4.h5\n"
     ]
    },
    {
     "name": "stderr",
     "output_type": "stream",
     "text": [
      "WARNING:absl:You are saving your model as an HDF5 file via `model.save()` or `keras.saving.save_model(model)`. This file format is considered legacy. We recommend using instead the native Keras format, e.g. `model.save('my_model.keras')` or `keras.saving.save_model(model, 'my_model.keras')`. \n"
     ]
    },
    {
     "name": "stdout",
     "output_type": "stream",
     "text": [
      "1464/1464 - 8s - 5ms/step - accuracy: 0.4494 - loss: 1.9918 - val_accuracy: 0.5865 - val_loss: 1.6006\n",
      "Epoch 11/12\n",
      "\n",
      "Epoch 11: val_accuracy improved from 0.58654 to 0.62558, saving model to ViT_fold4.h5\n"
     ]
    },
    {
     "name": "stderr",
     "output_type": "stream",
     "text": [
      "WARNING:absl:You are saving your model as an HDF5 file via `model.save()` or `keras.saving.save_model(model)`. This file format is considered legacy. We recommend using instead the native Keras format, e.g. `model.save('my_model.keras')` or `keras.saving.save_model(model, 'my_model.keras')`. \n"
     ]
    },
    {
     "name": "stdout",
     "output_type": "stream",
     "text": [
      "1464/1464 - 8s - 5ms/step - accuracy: 0.4880 - loss: 1.8467 - val_accuracy: 0.6256 - val_loss: 1.4576\n",
      "Epoch 12/12\n",
      "\n",
      "Epoch 12: val_accuracy improved from 0.62558 to 0.64522, saving model to ViT_fold4.h5\n"
     ]
    },
    {
     "name": "stderr",
     "output_type": "stream",
     "text": [
      "WARNING:absl:You are saving your model as an HDF5 file via `model.save()` or `keras.saving.save_model(model)`. This file format is considered legacy. We recommend using instead the native Keras format, e.g. `model.save('my_model.keras')` or `keras.saving.save_model(model, 'my_model.keras')`. \n"
     ]
    },
    {
     "name": "stdout",
     "output_type": "stream",
     "text": [
      "1464/1464 - 8s - 5ms/step - accuracy: 0.5163 - loss: 1.7169 - val_accuracy: 0.6452 - val_loss: 1.3591\n",
      "Fold 4 results: train_acc=0.6549, val_acc=0.6452, test_acc=0.6415\n",
      "\n",
      "Training fold 5 / 5 for ViT\n",
      "Epoch 1/12\n",
      "\n",
      "Epoch 1: val_accuracy improved from -inf to 0.02614, saving model to ViT_fold5.h5\n"
     ]
    },
    {
     "name": "stderr",
     "output_type": "stream",
     "text": [
      "WARNING:absl:You are saving your model as an HDF5 file via `model.save()` or `keras.saving.save_model(model)`. This file format is considered legacy. We recommend using instead the native Keras format, e.g. `model.save('my_model.keras')` or `keras.saving.save_model(model, 'my_model.keras')`. \n"
     ]
    },
    {
     "name": "stdout",
     "output_type": "stream",
     "text": [
      "1464/1464 - 11s - 7ms/step - accuracy: 0.0099 - loss: 5.8555 - val_accuracy: 0.0261 - val_loss: 5.2416\n",
      "Epoch 2/12\n",
      "\n",
      "Epoch 2: val_accuracy improved from 0.02614 to 0.10944, saving model to ViT_fold5.h5\n"
     ]
    },
    {
     "name": "stderr",
     "output_type": "stream",
     "text": [
      "WARNING:absl:You are saving your model as an HDF5 file via `model.save()` or `keras.saving.save_model(model)`. This file format is considered legacy. We recommend using instead the native Keras format, e.g. `model.save('my_model.keras')` or `keras.saving.save_model(model, 'my_model.keras')`. \n"
     ]
    },
    {
     "name": "stdout",
     "output_type": "stream",
     "text": [
      "1464/1464 - 8s - 5ms/step - accuracy: 0.0482 - loss: 4.7703 - val_accuracy: 0.1094 - val_loss: 4.1615\n",
      "Epoch 3/12\n",
      "\n",
      "Epoch 3: val_accuracy improved from 0.10944 to 0.22016, saving model to ViT_fold5.h5\n"
     ]
    },
    {
     "name": "stderr",
     "output_type": "stream",
     "text": [
      "WARNING:absl:You are saving your model as an HDF5 file via `model.save()` or `keras.saving.save_model(model)`. This file format is considered legacy. We recommend using instead the native Keras format, e.g. `model.save('my_model.keras')` or `keras.saving.save_model(model, 'my_model.keras')`. \n"
     ]
    },
    {
     "name": "stdout",
     "output_type": "stream",
     "text": [
      "1464/1464 - 8s - 5ms/step - accuracy: 0.1139 - loss: 3.9503 - val_accuracy: 0.2202 - val_loss: 3.4314\n",
      "Epoch 4/12\n",
      "\n",
      "Epoch 4: val_accuracy improved from 0.22016 to 0.30782, saving model to ViT_fold5.h5\n"
     ]
    },
    {
     "name": "stderr",
     "output_type": "stream",
     "text": [
      "WARNING:absl:You are saving your model as an HDF5 file via `model.save()` or `keras.saving.save_model(model)`. This file format is considered legacy. We recommend using instead the native Keras format, e.g. `model.save('my_model.keras')` or `keras.saving.save_model(model, 'my_model.keras')`. \n"
     ]
    },
    {
     "name": "stdout",
     "output_type": "stream",
     "text": [
      "1464/1464 - 8s - 5ms/step - accuracy: 0.1776 - loss: 3.4283 - val_accuracy: 0.3078 - val_loss: 2.9588\n",
      "Epoch 5/12\n",
      "\n",
      "Epoch 5: val_accuracy improved from 0.30782 to 0.37454, saving model to ViT_fold5.h5\n"
     ]
    },
    {
     "name": "stderr",
     "output_type": "stream",
     "text": [
      "WARNING:absl:You are saving your model as an HDF5 file via `model.save()` or `keras.saving.save_model(model)`. This file format is considered legacy. We recommend using instead the native Keras format, e.g. `model.save('my_model.keras')` or `keras.saving.save_model(model, 'my_model.keras')`. \n"
     ]
    },
    {
     "name": "stdout",
     "output_type": "stream",
     "text": [
      "1464/1464 - 8s - 5ms/step - accuracy: 0.2300 - loss: 3.0774 - val_accuracy: 0.3745 - val_loss: 2.6355\n",
      "Epoch 6/12\n",
      "\n",
      "Epoch 6: val_accuracy improved from 0.37454 to 0.43588, saving model to ViT_fold5.h5\n"
     ]
    },
    {
     "name": "stderr",
     "output_type": "stream",
     "text": [
      "WARNING:absl:You are saving your model as an HDF5 file via `model.save()` or `keras.saving.save_model(model)`. This file format is considered legacy. We recommend using instead the native Keras format, e.g. `model.save('my_model.keras')` or `keras.saving.save_model(model, 'my_model.keras')`. \n"
     ]
    },
    {
     "name": "stdout",
     "output_type": "stream",
     "text": [
      "1464/1464 - 8s - 5ms/step - accuracy: 0.2770 - loss: 2.7942 - val_accuracy: 0.4359 - val_loss: 2.3720\n",
      "Epoch 7/12\n",
      "\n",
      "Epoch 7: val_accuracy improved from 0.43588 to 0.47749, saving model to ViT_fold5.h5\n"
     ]
    },
    {
     "name": "stderr",
     "output_type": "stream",
     "text": [
      "WARNING:absl:You are saving your model as an HDF5 file via `model.save()` or `keras.saving.save_model(model)`. This file format is considered legacy. We recommend using instead the native Keras format, e.g. `model.save('my_model.keras')` or `keras.saving.save_model(model, 'my_model.keras')`. \n"
     ]
    },
    {
     "name": "stdout",
     "output_type": "stream",
     "text": [
      "1464/1464 - 8s - 5ms/step - accuracy: 0.3278 - loss: 2.5527 - val_accuracy: 0.4775 - val_loss: 2.1409\n",
      "Epoch 8/12\n",
      "\n",
      "Epoch 8: val_accuracy improved from 0.47749 to 0.51773, saving model to ViT_fold5.h5\n"
     ]
    },
    {
     "name": "stderr",
     "output_type": "stream",
     "text": [
      "WARNING:absl:You are saving your model as an HDF5 file via `model.save()` or `keras.saving.save_model(model)`. This file format is considered legacy. We recommend using instead the native Keras format, e.g. `model.save('my_model.keras')` or `keras.saving.save_model(model, 'my_model.keras')`. \n"
     ]
    },
    {
     "name": "stdout",
     "output_type": "stream",
     "text": [
      "1464/1464 - 8s - 5ms/step - accuracy: 0.3729 - loss: 2.3414 - val_accuracy: 0.5177 - val_loss: 1.9406\n",
      "Epoch 9/12\n",
      "\n",
      "Epoch 9: val_accuracy improved from 0.51773 to 0.56933, saving model to ViT_fold5.h5\n"
     ]
    },
    {
     "name": "stderr",
     "output_type": "stream",
     "text": [
      "WARNING:absl:You are saving your model as an HDF5 file via `model.save()` or `keras.saving.save_model(model)`. This file format is considered legacy. We recommend using instead the native Keras format, e.g. `model.save('my_model.keras')` or `keras.saving.save_model(model, 'my_model.keras')`. \n"
     ]
    },
    {
     "name": "stdout",
     "output_type": "stream",
     "text": [
      "1464/1464 - 8s - 5ms/step - accuracy: 0.4216 - loss: 2.1377 - val_accuracy: 0.5693 - val_loss: 1.7503\n",
      "Epoch 10/12\n",
      "\n",
      "Epoch 10: val_accuracy improved from 0.56933 to 0.59223, saving model to ViT_fold5.h5\n"
     ]
    },
    {
     "name": "stderr",
     "output_type": "stream",
     "text": [
      "WARNING:absl:You are saving your model as an HDF5 file via `model.save()` or `keras.saving.save_model(model)`. This file format is considered legacy. We recommend using instead the native Keras format, e.g. `model.save('my_model.keras')` or `keras.saving.save_model(model, 'my_model.keras')`. \n"
     ]
    },
    {
     "name": "stdout",
     "output_type": "stream",
     "text": [
      "1464/1464 - 8s - 5ms/step - accuracy: 0.4571 - loss: 1.9734 - val_accuracy: 0.5922 - val_loss: 1.6131\n",
      "Epoch 11/12\n",
      "\n",
      "Epoch 11: val_accuracy improved from 0.59223 to 0.63212, saving model to ViT_fold5.h5\n"
     ]
    },
    {
     "name": "stderr",
     "output_type": "stream",
     "text": [
      "WARNING:absl:You are saving your model as an HDF5 file via `model.save()` or `keras.saving.save_model(model)`. This file format is considered legacy. We recommend using instead the native Keras format, e.g. `model.save('my_model.keras')` or `keras.saving.save_model(model, 'my_model.keras')`. \n"
     ]
    },
    {
     "name": "stdout",
     "output_type": "stream",
     "text": [
      "1464/1464 - 8s - 5ms/step - accuracy: 0.4987 - loss: 1.8169 - val_accuracy: 0.6321 - val_loss: 1.4533\n",
      "Epoch 12/12\n",
      "\n",
      "Epoch 12: val_accuracy improved from 0.63212 to 0.65750, saving model to ViT_fold5.h5\n"
     ]
    },
    {
     "name": "stderr",
     "output_type": "stream",
     "text": [
      "WARNING:absl:You are saving your model as an HDF5 file via `model.save()` or `keras.saving.save_model(model)`. This file format is considered legacy. We recommend using instead the native Keras format, e.g. `model.save('my_model.keras')` or `keras.saving.save_model(model, 'my_model.keras')`. \n"
     ]
    },
    {
     "name": "stdout",
     "output_type": "stream",
     "text": [
      "1464/1464 - 8s - 5ms/step - accuracy: 0.5303 - loss: 1.6755 - val_accuracy: 0.6575 - val_loss: 1.3391\n",
      "Fold 5 results: train_acc=0.6750, val_acc=0.6575, test_acc=0.6613\n",
      "\n",
      "Best Test accuracy: 0.6917 from model: ViT_fold3.h5\n"
     ]
    }
   ],
   "source": [
    "vit_results, vit_best_model = train_and_evaluate_model('ViT', X_train, y_train, X_test, y_test, NUM_FOLDS, EPOCHS, BATCH_SIZE)"
   ]
  },
  {
   "cell_type": "code",
   "execution_count": null,
   "id": "169eb706-964c-4008-ab1b-0dd0a7cf10d6",
   "metadata": {},
   "outputs": [],
   "source": []
  },
  {
   "cell_type": "markdown",
   "id": "2eecabad-150a-4b47-a25c-f8ab2f2a7397",
   "metadata": {},
   "source": [
    "## Plotting Results"
   ]
  },
  {
   "cell_type": "code",
   "execution_count": 22,
   "id": "4232a9dd-d4e5-4d8c-aac0-ec2d7558f9d8",
   "metadata": {},
   "outputs": [],
   "source": [
    "all_results = {'CNN': cnn_results, 'ViT': vit_results, 'GRU': gru_results}"
   ]
  },
  {
   "cell_type": "code",
   "execution_count": 23,
   "id": "3c428822-f038-4132-928a-ff84203686db",
   "metadata": {},
   "outputs": [],
   "source": [
    "# Plotting function for results (multiple models)\n",
    "def plot_results(all_results):\n",
    "    metrics = ['acc', 'loss']\n",
    "    sets = ['train', 'val', 'test']\n",
    "    models_list = list(all_results.keys())\n",
    "    model_colors = {'ViT': 'green', 'CNN': 'orange', 'BiT': 'blue'}\n",
    "\n",
    "    fig, axes = plt.subplots(2, 3, figsize=(20, 12))\n",
    "\n",
    "    for i, metric in enumerate(metrics):\n",
    "        for j, set_name in enumerate(sets):\n",
    "            key = f'{set_name}_{metric}'\n",
    "            means = []\n",
    "            stds = []\n",
    "            colors = []\n",
    "\n",
    "            for model in models_list:\n",
    "                means.append(np.mean(all_results[model][key]))\n",
    "                stds.append(np.std(all_results[model][key]))\n",
    "                colors.append(model_colors.get(model, 'black'))\n",
    "\n",
    "            bars = axes[i, j].bar(models_list, means, width=0.3, color=colors)\n",
    "            title_map = {\n",
    "                'train_acc': 'Train Accuracy',\n",
    "                'val_acc': 'Val Accuracy',\n",
    "                'test_acc': 'Test Accuracy',\n",
    "                'train_loss': 'Train Loss',\n",
    "                'val_loss': 'Val Loss',\n",
    "                'test_loss': 'Test Loss'\n",
    "            }\n",
    "            axes[i, j].set_title(title_map[f'{set_name}_{metric}'])\n",
    "            if metric == 'acc':\n",
    "                axes[i, j].set_ylim(0, 1.1)\n",
    "            else:\n",
    "                max_loss = max(means) + max(stds)\n",
    "                axes[i, j].set_ylim(0, max_loss * 1.1)\n",
    "\n",
    "            for k, bar in enumerate(bars):\n",
    "                height = bar.get_height()\n",
    "                offset = 0.02 if height > 0.9 else 0.01\n",
    "                axes[i, j].text(bar.get_x() + bar.get_width() / 2, height + offset, f'{height:.2f}',\n",
    "                                ha='center', va='bottom', fontsize=10)\n",
    "\n",
    "    handles = [plt.Rectangle((0, 0), 1, 1, color=model_colors.get(m, 'black')) for m in models_list]\n",
    "    fig.legend(handles, models_list, loc='upper right', bbox_to_anchor=(1.1, 1), title='Models', fontsize=12)\n",
    "\n",
    "    plt.tight_layout(pad=3.0)\n",
    "    plt.show()"
   ]
  },
  {
   "cell_type": "code",
   "execution_count": 24,
   "id": "0719f492-bea8-4367-a0ca-109adca76b76",
   "metadata": {},
   "outputs": [
    {
     "data": {
      "image/png": "[encoded data removed]",
      "text/plain": [
       "<Figure size 2000x1200 with 6 Axes>"
      ]
     },
     "metadata": {},
     "output_type": "display_data"
    }
   ],
   "source": [
    "plot_results(all_results)"
   ]
  },
  {
   "cell_type": "markdown",
   "id": "1ba19674-0208-4f7d-9fe8-9388c409d47a",
   "metadata": {},
   "source": [
    "## Final Average of Results"
   ]
  },
  {
   "cell_type": "code",
   "execution_count": 42,
   "id": "91fb5f8e-7f7b-42e1-b8c4-43f9b89b42c5",
   "metadata": {},
   "outputs": [],
   "source": [
    "# Print final average results\n",
    "def print_final_averages(all_results):\n",
    "    print(\"\\n\" + \"=\"*50)\n",
    "    print(\"Final Average Results\")\n",
    "    print(\"=\"*50)\n",
    "    for model in all_results:\n",
    "        print(f\"\\n{model} Model:\")\n",
    "        print(f\"Train Accuracy: {np.mean(all_results[model]['train_acc']):.4f}\")\n",
    "        print(f\"Val Accuracy: {np.mean(all_results[model]['val_acc']):.4f}\")\n",
    "        print(f\"Test Accuracy: {np.mean(all_results[model]['test_acc']):.4f}\")\n",
    "        print(f\"Train Loss: {np.mean(all_results[model]['train_loss']):.4f}\")\n",
    "        print(f\"Val Loss: {np.mean(all_results[model]['val_loss']):.4f}\")\n",
    "        print(f\"Test Loss: {np.mean(all_results[model]['test_loss']):.4f}\")"
   ]
  },
  {
   "cell_type": "code",
   "execution_count": 43,
   "id": "40b6e804-0057-42c6-9f71-7dcc2bb0d619",
   "metadata": {},
   "outputs": [
    {
     "name": "stdout",
     "output_type": "stream",
     "text": [
      "\n",
      "==================================================\n",
      "Final Average Results\n",
      "==================================================\n",
      "\n",
      "CNN Model:\n",
      "Train Accuracy: 0.9278\n",
      "Val Accuracy: 0.9117\n",
      "Test Accuracy: 0.9119\n",
      "Train Loss: 0.2318\n",
      "Val Loss: 0.3085\n",
      "Test Loss: 0.3178\n",
      "\n",
      "ViT Model:\n",
      "Train Accuracy: 0.6794\n",
      "Val Accuracy: 0.6656\n",
      "Test Accuracy: 0.6658\n",
      "Train Loss: 1.2585\n",
      "Val Loss: 1.3009\n",
      "Test Loss: 1.2969\n",
      "\n",
      "GRU Model:\n",
      "Train Accuracy: 0.9032\n",
      "Val Accuracy: 0.8864\n",
      "Test Accuracy: 0.8866\n",
      "Train Loss: 0.3418\n",
      "Val Loss: 0.3917\n",
      "Test Loss: 0.3983\n"
     ]
    }
   ],
   "source": [
    "print_final_averages(all_results)"
   ]
  }
 ],
 "metadata": {
  "kernelspec": {
   "display_name": "Python 3 (ipykernel)",
   "language": "python",
   "name": "python3"
  },
  "language_info": {
   "codemirror_mode": {
    "name": "ipython",
    "version": 3
   },
   "file_extension": ".py",
   "mimetype": "text/x-python",
   "name": "python",
   "nbconvert_exporter": "python",
   "pygments_lexer": "ipython3",
   "version": "3.11.0"
  }
 },
 "nbformat": 4,
 "nbformat_minor": 5
}
